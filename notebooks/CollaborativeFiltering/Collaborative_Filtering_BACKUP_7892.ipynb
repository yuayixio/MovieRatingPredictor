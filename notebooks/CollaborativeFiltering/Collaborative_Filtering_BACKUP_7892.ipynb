{
 "cells": [
  {
   "cell_type": "code",
<<<<<<< HEAD
   "execution_count": 1,
   "metadata": {},
=======
   "execution_count": 8,
   "metadata": {
    "collapsed": false,
    "jupyter": {
     "outputs_hidden": false
    },
    "pycharm": {
     "name": "#%%\n"
    }
   },
>>>>>>> 62982dbb83908ed7aa3912c692c82cc1e627448e
   "outputs": [],
   "source": [
    "import pandas as pd\n",
    "\n",
    "from surprise import NormalPredictor\n",
    "from surprise import SVD\n",
    "from surprise import SlopeOne\n",
    "from surprise import Dataset\n",
    "from surprise import Reader\n",
    "from surprise.model_selection import cross_validate, GridSearchCV, RandomizedSearchCV\n",
    "from surprise import KNNBasic, KNNWithMeans, KNNWithZScore, KNNBaseline, BaselineOnly, CoClustering, SVDpp\n",
    "from surprise.accuracy import rmse\n",
    "from surprise.model_selection import train_test_split as surprise_train_test_split\n",
    "\n",
    "from sklearn import pipeline\n",
    "\n",
    "# set random state for reproducibility\n",
    "kwargs = dict(random_state=42)"
   ]
  },
  {
<<<<<<< HEAD
   "cell_type": "code",
   "execution_count": 2,
=======
   "cell_type": "markdown",
>>>>>>> 62982dbb83908ed7aa3912c692c82cc1e627448e
   "metadata": {},
   "source": [
    "Documentary of scikit-suprise can be found under https://surprise.readthedocs.io/en/stable/"
   ]
  },
  {
   "cell_type": "code",
   "execution_count": 3,
<<<<<<< HEAD
   "metadata": {},
=======
   "metadata": {
    "collapsed": false,
    "jupyter": {
     "outputs_hidden": false
    },
    "pycharm": {
     "name": "#%%\n"
    }
   },
>>>>>>> 62982dbb83908ed7aa3912c692c82cc1e627448e
   "outputs": [],
   "source": [
    "ratings = pd.read_csv('../../data/preprocessed/ratings_clean_std_0.csv', sep=',').drop(columns={'Unnamed: 0'})"
   ]
  },
  {
   "cell_type": "code",
   "execution_count": 4,
<<<<<<< HEAD
   "metadata": {},
=======
   "metadata": {
    "collapsed": false,
    "jupyter": {
     "outputs_hidden": false
    },
    "pycharm": {
     "name": "#%%\n"
    }
   },
>>>>>>> 62982dbb83908ed7aa3912c692c82cc1e627448e
   "outputs": [
    {
     "data": {
      "text/html": [
       "<div>\n",
       "<style scoped>\n",
       "    .dataframe tbody tr th:only-of-type {\n",
       "        vertical-align: middle;\n",
       "    }\n",
       "\n",
       "    .dataframe tbody tr th {\n",
       "        vertical-align: top;\n",
       "    }\n",
       "\n",
       "    .dataframe thead th {\n",
       "        text-align: right;\n",
       "    }\n",
       "</style>\n",
       "<table border=\"1\" class=\"dataframe\">\n",
       "  <thead>\n",
       "    <tr style=\"text-align: right;\">\n",
       "      <th></th>\n",
       "      <th>user_id</th>\n",
       "      <th>imdbID</th>\n",
       "      <th>rating</th>\n",
       "    </tr>\n",
       "  </thead>\n",
       "  <tbody>\n",
       "    <tr>\n",
       "      <th>0</th>\n",
       "      <td>1264</td>\n",
       "      <td>tt0047034</td>\n",
       "      <td>3.5</td>\n",
       "    </tr>\n",
       "    <tr>\n",
       "      <th>1</th>\n",
       "      <td>213</td>\n",
       "      <td>tt0304141</td>\n",
       "      <td>2.5</td>\n",
       "    </tr>\n",
       "    <tr>\n",
       "      <th>2</th>\n",
       "      <td>593</td>\n",
       "      <td>tt0369436</td>\n",
       "      <td>3.0</td>\n",
       "    </tr>\n",
       "    <tr>\n",
       "      <th>3</th>\n",
       "      <td>609</td>\n",
       "      <td>tt1077258</td>\n",
       "      <td>4.0</td>\n",
       "    </tr>\n",
       "    <tr>\n",
       "      <th>4</th>\n",
       "      <td>1590</td>\n",
       "      <td>tt0052182</td>\n",
       "      <td>4.0</td>\n",
       "    </tr>\n",
       "    <tr>\n",
       "      <th>...</th>\n",
       "      <td>...</td>\n",
       "      <td>...</td>\n",
       "      <td>...</td>\n",
       "    </tr>\n",
       "    <tr>\n",
       "      <th>787536</th>\n",
       "      <td>1032</td>\n",
       "      <td>tt0083530</td>\n",
       "      <td>3.0</td>\n",
       "    </tr>\n",
       "    <tr>\n",
       "      <th>787537</th>\n",
       "      <td>99</td>\n",
       "      <td>tt0107798</td>\n",
       "      <td>3.0</td>\n",
       "    </tr>\n",
       "    <tr>\n",
       "      <th>787538</th>\n",
       "      <td>333</td>\n",
       "      <td>tt0093857</td>\n",
       "      <td>3.0</td>\n",
       "    </tr>\n",
       "    <tr>\n",
       "      <th>787539</th>\n",
       "      <td>49</td>\n",
       "      <td>tt0144168</td>\n",
       "      <td>3.0</td>\n",
       "    </tr>\n",
       "    <tr>\n",
       "      <th>787540</th>\n",
       "      <td>1402</td>\n",
       "      <td>tt0405422</td>\n",
       "      <td>3.5</td>\n",
       "    </tr>\n",
       "  </tbody>\n",
       "</table>\n",
       "<p>787541 rows × 3 columns</p>\n",
       "</div>"
      ],
      "text/plain": [
       "        user_id     imdbID  rating\n",
       "0          1264  tt0047034     3.5\n",
       "1           213  tt0304141     2.5\n",
       "2           593  tt0369436     3.0\n",
       "3           609  tt1077258     4.0\n",
       "4          1590  tt0052182     4.0\n",
       "...         ...        ...     ...\n",
       "787536     1032  tt0083530     3.0\n",
       "787537       99  tt0107798     3.0\n",
       "787538      333  tt0093857     3.0\n",
       "787539       49  tt0144168     3.0\n",
       "787540     1402  tt0405422     3.5\n",
       "\n",
       "[787541 rows x 3 columns]"
      ]
     },
     "execution_count": 4,
     "metadata": {},
     "output_type": "execute_result"
    }
   ],
   "source": [
    "ratings.drop(columns=['Unnamed: 0'])"
   ]
  },
  {
   "cell_type": "code",
   "execution_count": 5,
<<<<<<< HEAD
   "metadata": {},
   "outputs": [],
   "source": [
    "reader = Reader(rating_scale=(0.5,5))\n",
=======
   "metadata": {
    "collapsed": false,
    "jupyter": {
     "outputs_hidden": false
    },
    "pycharm": {
     "name": "#%%\n"
    }
   },
   "outputs": [],
   "source": [
    "# build a reader, define the rating scale (minimum and maximum value)\n",
    "reader = Reader(rating_scale=(0.5, 5))\n",
    "\n",
    "# The columns must be in the order of user id, item id and ratings \n",
>>>>>>> 62982dbb83908ed7aa3912c692c82cc1e627448e
    "data = Dataset.load_from_df(ratings[['user_id', 'imdbID', 'rating']], reader)"
   ]
  },
  {
   "cell_type": "markdown",
   "metadata": {},
   "source": [
    "# KNN"
   ]
  },
  {
   "cell_type": "code",
   "execution_count": null,
<<<<<<< HEAD
   "metadata": {},
=======
   "metadata": {
    "collapsed": false,
    "jupyter": {
     "outputs_hidden": false
    },
    "pycharm": {
     "name": "#%%\n"
    }
   },
>>>>>>> 62982dbb83908ed7aa3912c692c82cc1e627448e
   "outputs": [],
   "source": [
    "# KNN-basic Grid Search\n",
    "try:\n",
    "    grid_search = pd.read_csv('gridsearch_knn_basic.csv')\n",
    "    param_grid = {'k': [10, 100], 'min_k': [1,5], 'sim_options': {'name': ['msd', 'cosine', 'pearson'], 'user_based': [True, False]}}\n",
    "    \n",
    "    print(\"Starting GridSearch\")\n",
    "    gs = GridSearchCV(KNNBasic, param_grid, measures=['rmse','mae'], cv=5)\n",
    "    gs.fit(data)\n",
    "\n",
    "    # Print best param combination\n",
    "    print(gs.best_score['rmse'])\n",
    "    print(gs.best_params['rmse'])\n",
    "    knn_basic = pd.DataFrame(gs.cv_results)\n",
    "    grid_search = grid_search.append(knn_basic)\n",
    "    grid_search.to_csv('gridsearch_knn_basic.csv')\n",
    "\n",
<<<<<<< HEAD
    "#Print best param combination\n",
    "print(gs.best_score['rmse'])\n",
    "print(gs.best_params['rmse'])"
   ]
  },
  {
   "cell_type": "code",
   "execution_count": null,
   "metadata": {},
   "outputs": [],
   "source": [
    "svd = gs.best_estimator['rmse']"
   ]
  },
  {
   "cell_type": "code",
   "execution_count": null,
   "metadata": {},
   "outputs": [],
   "source": [
    "trainset, testset = surprise_train_test_split(data, test_size=0.2, shuffle=True, **kwargs)"
=======
    "except FileNotFoundError:\n",
    "    # if no previous grid search run available\n",
    "    param_grid = {'k': [10, 100], 'min_k': [1,5], 'sim_options': {'name': ['msd', 'cosine', 'pearson'], 'user_based': [True, False]}}\n",
    "    \n",
    "    print(\"Starting GridSearch\")\n",
    "    gs = GridSearchCV(KNNBasic, param_grid, measures=['rmse','mae'], cv=5)\n",
    "    gs.fit(data)\n",
    "\n",
    "    # Print best param combination\n",
    "    print(gs.best_score['rmse'])\n",
    "    print(gs.best_params['rmse'])\n",
    "    knn_basic = pd.DataFrame(gs.cv_results)\n",
    "    knn_basic.to_csv('gridsearch_knn_basic.csv')  "
>>>>>>> 62982dbb83908ed7aa3912c692c82cc1e627448e
   ]
  },
  {
   "cell_type": "code",
   "execution_count": null,
<<<<<<< HEAD
   "metadata": {},
   "outputs": [],
   "source": [
    "svd.fit(trainset)"
   ]
  },
  {
   "cell_type": "code",
   "execution_count": null,
   "metadata": {},
   "outputs": [],
   "source": [
    "preds = svd.test(testset)"
   ]
  },
  {
   "cell_type": "code",
   "execution_count": null,
   "metadata": {},
   "outputs": [],
   "source": [
    "# Printing first 50 predicitons for overview\n",
    "for i in range (0,50):\n",
    "    print(preds[i])"
=======
   "metadata": {
    "collapsed": false,
    "jupyter": {
     "outputs_hidden": false
    },
    "pycharm": {
     "name": "#%%\n"
    }
   },
   "outputs": [],
   "source": [
    "# KNN with Means\n",
    "param_grid = {'k': [10, 100], 'min_k': [1,5], 'sim_options': {'name': ['msd', 'cosine', 'pearson'], 'user_based': [True, False]}}\n",
    "print(\"Starting GridSearch\")\n",
    "gs = GridSearchCV(KNNWithMeans, param_grid, measures=['rmse','mae'], cv=5)\n",
    "gs.fit(data)\n",
    "\n",
    "# Print best param combination\n",
    "print(gs.best_score['rmse'])\n",
    "print(gs.best_params['rmse'])\n",
    "knn_means = pd.DataFrame(gs.cv_results)"
>>>>>>> 62982dbb83908ed7aa3912c692c82cc1e627448e
   ]
  },
  {
   "cell_type": "code",
   "execution_count": null,
<<<<<<< HEAD
   "metadata": {},
   "outputs": [],
   "source": [
    "rmse(preds)"
   ]
  },
  {
   "cell_type": "code",
   "execution_count": null,
   "metadata": {},
   "outputs": [],
   "source": [
    "# Lets try again\n",
    "# Using GridSearch to find optimal Params\n",
    "\n",
    "param_grid = {'lr_all' : [.005, .04], 'reg_all' : [.01,.1], 'n_epochs' : [15,25]}\n",
    "print(\"Starting GridSearch\")\n",
    "gs = GridSearchCV(SVD, param_grid, measures=['rmse','mae'], cv=5)\n",
    "gs.fit(data)\n",
    "\n",
    "# Print best param combination\n",
    "print(gs.best_score['rmse'])\n",
    "print(gs.best_params['rmse'])"
   ]
  },
  {
   "cell_type": "code",
   "execution_count": null,
   "metadata": {},
   "outputs": [],
   "source": [
    "# Lets try again\n",
    "# Using GridSearch to find optimal Params\n",
    "\n",
    "param_grid = {'lr_all' : [.001, .02], 'reg_all' : [.005,.1], 'n_epochs' : [10,20]}\n",
    "print(\"Starting GridSearch\")\n",
    "gs = GridSearchCV(SVD, param_grid, measures=['rmse','mae'], cv=5)\n",
    "gs.fit(data)\n",
    "\n",
    "# Print best param combination\n",
    "print(gs.best_score['rmse'])\n",
    "print(gs.best_params['rmse'])"
   ]
  },
  {
   "cell_type": "markdown",
   "metadata": {},
   "source": [
    "# Best Params currently for cv=5:\n",
    "rmse = 0.7613563832864235\n",
    "\n",
    "{'lr_all': 0.02, 'reg_all': 0.05, 'n_epochs': 18}\n"
   ]
  },
  {
   "cell_type": "markdown",
   "metadata": {},
   "source": [
    "# Matrix Factorization.SVD"
   ]
  },
  {
   "cell_type": "code",
   "execution_count": null,
   "metadata": {},
   "outputs": [],
   "source": [
    "# SVD based GridSearch to find optimal Params\n",
    "# adjusting the intervalls if the optimal parameter was at the intervall border\n",
    "\n",
    "param_grid = {'lr_all' : [.001, 0.005, .02], 'reg_all' : [.02, .05,.2], 'n_epochs' : [10,20,25]}\n",
    "print(\"Starting GridSearch\")\n",
    "gs = GridSearchCV(SVD, param_grid, measures=['rmse','mae'], cv=5)\n",
    "gs.fit(data)\n",
    "\n",
    "#Print best param combination\n",
    "print(gs.best_score['rmse'])\n",
    "print(gs.best_params['rmse'])"
   ]
  },
  {
   "cell_type": "code",
   "execution_count": null,
   "metadata": {},
   "outputs": [],
   "source": [
    "pd.DataFrame(gs.cv_results).to_csv('SVD_hyperparameters_1.csv')"
   ]
  },
  {
   "cell_type": "code",
   "execution_count": 6,
   "metadata": {},
   "outputs": [
    {
     "name": "stdout",
     "output_type": "stream",
     "text": [
      "Starting GridSearch\n",
      "0.7631045735270001\n",
      "{'lr_all': 0.01, 'reg_all': 0.05, 'n_epochs': 22}\n"
     ]
=======
   "metadata": {
    "collapsed": false,
    "jupyter": {
     "outputs_hidden": false
    },
    "pycharm": {
     "name": "#%%\n"
>>>>>>> 62982dbb83908ed7aa3912c692c82cc1e627448e
    }
   },
   "outputs": [],
   "source": [
<<<<<<< HEAD
    "# SVD based GridSearch to find optimal Params\n",
    "# adjusting the intervalls if the optimal parameter was at the intervall border\n",
    "\n",
    "param_grid = {'lr_all' : [.01, .025, .03], 'reg_all' : [.05, .07, .1], 'n_epochs' : [20, 21, 22]}\n",
    "print(\"Starting GridSearch\")\n",
    "gs = GridSearchCV(SVD, param_grid, measures=['rmse','mae'], cv=5)\n",
    "gs.fit(data)\n",
    "\n",
    "#Print best param combination\n",
    "print(gs.best_score['rmse'])\n",
    "print(gs.best_params['rmse'])\n",
    "\n",
    "pd.DataFrame(gs.cv_results).to_csv('SVD_hyperparameters_2.csv')"
=======
    "# KNN with Z-Score  \n",
    "param_grid = {'k': [10, 100], 'min_k': [1,5], 'sim_options': {'name': ['msd', 'cosine', 'pearson'], 'user_based': [True, False]}}\n",
    "print(\"Starting GridSearch\")\n",
    "gs = GridSearchCV(KNNWithZScore, param_grid, measures=['rmse','mae'], cv=5)\n",
    "gs.fit(data)\n",
    "\n",
    "# Print best param combination\n",
    "print(gs.best_score['rmse'])\n",
    "print(gs.best_params['rmse'])\n",
    "knn_z_score = pd.DataFrame(gs.cv_results)"
>>>>>>> 62982dbb83908ed7aa3912c692c82cc1e627448e
   ]
  },
  {
   "cell_type": "code",
<<<<<<< HEAD
   "execution_count": 7,
=======
   "execution_count": null,
>>>>>>> 62982dbb83908ed7aa3912c692c82cc1e627448e
   "metadata": {},
   "outputs": [
    {
     "name": "stdout",
     "output_type": "stream",
     "text": [
      "No File found: Creating new file...\n",
      "Starting GridSearch\n",
<<<<<<< HEAD
      "0.7629197090959767\n",
      "{'lr_all': 0.01, 'reg_all': 0.05, 'n_epochs': 23}\n"
=======
      "Computing the msd similarity matrix...\n",
      "Done computing similarity matrix.\n",
      "Computing the msd similarity matrix...\n",
      "Done computing similarity matrix.\n",
      "Computing the msd similarity matrix...\n",
      "Done computing similarity matrix.\n",
      "Computing the msd similarity matrix...\n",
      "Done computing similarity matrix.\n",
      "Computing the msd similarity matrix...\n",
      "Done computing similarity matrix.\n",
      "Computing the msd similarity matrix...\n",
      "Done computing similarity matrix.\n",
      "Computing the msd similarity matrix...\n",
      "Done computing similarity matrix.\n",
      "Computing the msd similarity matrix...\n",
      "Done computing similarity matrix.\n",
      "Computing the msd similarity matrix...\n",
      "Done computing similarity matrix.\n"
>>>>>>> 62982dbb83908ed7aa3912c692c82cc1e627448e
     ]
    }
   ],
   "source": [
<<<<<<< HEAD
    "# SVDpp based GridSearch to find optimal Params\n",
    "# adjusting the intervalls if the optimal parameter was at the intervall border\n",
    "\n",
    "param_grid = {'lr_all' : [.07, .01,], 'reg_all' : [.02, .05], 'n_epochs' : [20, 22, 23]}\n",
    "print(\"Starting GridSearch\")\n",
    "gs = GridSearchCV(SVD, param_grid, measures=['rmse','mae'], cv=5)\n",
    "gs.fit(data)\n",
    "\n",
    "#Print best param combination\n",
    "print(gs.best_score['rmse'])\n",
    "print(gs.best_params['rmse'])\n",
    "\n",
    "pd.DataFrame(gs.cv_results).to_csv('SVDpp_hyperparameters_2.csv')"
=======
    "# KNN with Z-Score Grid Search\n",
    "try:\n",
    "    grid_search = pd.read_csv('gridsearch_knn_Z.csv')\n",
    "    param_grid = {'k': [10, 50, 100, 200], 'min_k': [1,5, 10], 'sim_options': {'name': ['msd', 'cosine'], 'user_based': [True, False]}}\n",
    "    \n",
    "    print(\"Starting GridSearch\")\n",
    "    gs = GridSearchCV(KNNWithZScore, param_grid, measures=['rmse','mae'], cv=5)\n",
    "    gs.fit(data)\n",
    "\n",
    "    # Print best param combination\n",
    "    print(gs.best_score['rmse'])\n",
    "    print(gs.best_params['rmse'])\n",
    "    knn_Z = pd.DataFrame(gs.cv_results)\n",
    "    grid_search = grid_search.append(knn_Z)\n",
    "    grid_search.to_csv('gridsearch_knn_Z.csv')\n",
    "\n",
    "except FileNotFoundError:\n",
    "    print('No File found: Creating new file...')\n",
    "    # if no previous grid search run available\n",
    "    param_grid = {'k': [50, 200], 'min_k': [5], 'sim_options': {'name': ['msd'], 'user_based': [True, False]}}\n",
    "    \n",
    "    print(\"Starting GridSearch\")\n",
    "    gs = GridSearchCV(KNNWithZScore, param_grid, measures=['rmse','mae'], cv=5)\n",
    "    gs.fit(data)\n",
    "\n",
    "    # Print best param combination\n",
    "    print(gs.best_score['rmse'])\n",
    "    print(gs.best_params['rmse'])\n",
    "    knn_Z = pd.DataFrame(gs.cv_results)\n",
    "    knn_Z.to_csv('gridsearch_knn_Z.csv')  "
>>>>>>> 62982dbb83908ed7aa3912c692c82cc1e627448e
   ]
  },
  {
   "cell_type": "code",
<<<<<<< HEAD
   "execution_count": 9,
   "metadata": {},
   "outputs": [
    {
     "name": "stdout",
     "output_type": "stream",
     "text": [
      "Starting GridSearch\n",
      "0.7626500003659359\n",
      "{'lr_all': 0.015, 'reg_all': 0.055, 'n_epochs': 24}\n"
     ]
    }
   ],
   "source": [
    "# SVDpp based GridSearch to find optimal Params\n",
    "# adjusting the intervalls if the optimal parameter was at the intervall border\n",
    "\n",
    "param_grid = {'lr_all' : [.02, .015,], 'reg_all' : [.06, .055], 'n_epochs' : [24, 23]}\n",
    "print(\"Starting GridSearch\")\n",
    "gs = GridSearchCV(SVD, param_grid, measures=['rmse','mae'], cv=5)\n",
    "gs.fit(data)\n",
    "\n",
    "#Print best param combination\n",
    "print(gs.best_score['rmse'])\n",
    "print(gs.best_params['rmse'])\n",
    "\n",
    "pd.DataFrame(gs.cv_results).to_csv('SVDpp_hyperparameters_3.csv')"
=======
   "execution_count": null,
   "metadata": {},
   "outputs": [],
   "source": [
    "gs.cv_results"
>>>>>>> 62982dbb83908ed7aa3912c692c82cc1e627448e
   ]
  },
  {
   "cell_type": "code",
   "execution_count": null,
   "metadata": {},
   "outputs": [],
<<<<<<< HEAD
   "source": []
=======
   "source": [
    "# KNN with Z-Score Grid Search\n",
    "try:\n",
    "    grid_search = pd.read_csv('gridsearch_knn_Z.csv')\n",
    "    param_grid = {'k': [10, 100], 'min_k': [1,5], 'sim_options': {'name': ['msd', 'cosine', 'pearson'], 'user_based': [True, False]}}\n",
    "    \n",
    "    print(\"Starting GridSearch\")\n",
    "    gs = RandomizedSearchCV(KNNWithZScore, param_grid, measures=['rmse','mae'], cv=5)\n",
    "    gs.fit(data)\n",
    "\n",
    "    # Print best param combination\n",
    "    print(gs.best_score['rmse'])\n",
    "    print(gs.best_params['rmse'])\n",
    "    knn_Z = pd.DataFrame(gs.cv_results)\n",
    "    grid_search = grid_search.append(knn_Z)\n",
    "    grid_search.to_csv('gridsearch_knn_Z.csv')\n",
    "\n",
    "except FileNotFoundError:\n",
    "    # if no previous grid search run available\n",
    "    param_grid = {'k': [10, 100], 'min_k': [1,5], 'sim_options': {'name': ['msd', 'cosine', 'pearson'], 'user_based': [True, False]}}\n",
    "    \n",
    "    print(\"Starting GridSearch\")\n",
    "    gs = RandomizedSearchCV(KNNWithZScore, param_grid, measures=['rmse','mae'], cv=5)\n",
    "    gs.fit(data)\n",
    "\n",
    "    # Print best param combination\n",
    "    print(gs.best_score['rmse'])\n",
    "    print(gs.best_params['rmse'])\n",
    "    knn_Z = pd.DataFrame(gs.cv_results)\n",
    "    knn_Z.to_csv('gridsearch_knn_Z.csv')  "
   ]
>>>>>>> 62982dbb83908ed7aa3912c692c82cc1e627448e
  }
 ],
 "metadata": {
  "kernelspec": {
   "display_name": "Python (myenv)",
   "language": "python",
   "name": "myenv"
  },
  "language_info": {
   "codemirror_mode": {
    "name": "ipython",
    "version": 3
   },
   "file_extension": ".py",
   "mimetype": "text/x-python",
   "name": "python",
   "nbconvert_exporter": "python",
   "pygments_lexer": "ipython3",
<<<<<<< HEAD
   "version": "3.8.2"
=======
   "version": "3.8.3"
  },
  "pycharm": {
   "stem_cell": {
    "cell_type": "raw",
    "metadata": {
     "collapsed": false
    },
    "source": []
   }
>>>>>>> 62982dbb83908ed7aa3912c692c82cc1e627448e
  }
 },
 "nbformat": 4,
 "nbformat_minor": 4
}
