{
 "cells": [
  {
   "cell_type": "code",
   "execution_count": 1,
   "metadata": {
    "collapsed": false,
    "jupyter": {
     "outputs_hidden": false
    },
    "pycharm": {
     "name": "#%%\n"
    }
   },
   "outputs": [],
   "source": [
    "import pandas as pd\n",
    "\n",
    "from surprise import NormalPredictor\n",
    "from surprise import SVD\n",
    "from surprise import SlopeOne\n",
    "from surprise import Dataset\n",
    "from surprise import Reader\n",
    "from surprise.model_selection import cross_validate, GridSearchCV, RandomizedSearchCV\n",
    "from surprise import KNNBasic, KNNWithMeans, KNNWithZScore, KNNBaseline, BaselineOnly, CoClustering, SVDpp\n",
    "from surprise.accuracy import rmse\n",
    "from surprise.model_selection import train_test_split as surprise_train_test_split\n",
    "\n",
    "from sklearn import pipeline\n",
    "\n",
    "# set random state for reproducibility\n",
    "kwargs = dict(random_state=42)"
   ]
  },
  {
   "cell_type": "markdown",
   "metadata": {},
   "source": [
    "Documentary of scikit-suprise can be found under https://surprise.readthedocs.io/en/stable/"
   ]
  },
  {
   "cell_type": "code",
   "execution_count": 2,
   "metadata": {
    "collapsed": false,
    "jupyter": {
     "outputs_hidden": false
    },
    "pycharm": {
     "name": "#%%\n"
    }
   },
   "outputs": [],
   "source": [
    "ratings = pd.read_csv('../../data/preprocessed/ratings_clean_std_0.csv', sep=',').drop(columns={'Unnamed: 0'})"
   ]
  },
  {
   "cell_type": "code",
   "execution_count": 3,
   "metadata": {
    "collapsed": false,
    "jupyter": {
     "outputs_hidden": false
    },
    "pycharm": {
     "name": "#%%\n"
    }
   },
   "outputs": [
    {
     "data": {
      "text/html": [
       "<div>\n",
       "<style scoped>\n",
       "    .dataframe tbody tr th:only-of-type {\n",
       "        vertical-align: middle;\n",
       "    }\n",
       "\n",
       "    .dataframe tbody tr th {\n",
       "        vertical-align: top;\n",
       "    }\n",
       "\n",
       "    .dataframe thead th {\n",
       "        text-align: right;\n",
       "    }\n",
       "</style>\n",
       "<table border=\"1\" class=\"dataframe\">\n",
       "  <thead>\n",
       "    <tr style=\"text-align: right;\">\n",
       "      <th></th>\n",
       "      <th>user_id</th>\n",
       "      <th>imdbID</th>\n",
       "      <th>rating</th>\n",
       "    </tr>\n",
       "  </thead>\n",
       "  <tbody>\n",
       "    <tr>\n",
       "      <th>0</th>\n",
       "      <td>1264</td>\n",
       "      <td>tt0047034</td>\n",
       "      <td>3.5</td>\n",
       "    </tr>\n",
       "    <tr>\n",
       "      <th>1</th>\n",
       "      <td>213</td>\n",
       "      <td>tt0304141</td>\n",
       "      <td>2.5</td>\n",
       "    </tr>\n",
       "    <tr>\n",
       "      <th>2</th>\n",
       "      <td>593</td>\n",
       "      <td>tt0369436</td>\n",
       "      <td>3.0</td>\n",
       "    </tr>\n",
       "    <tr>\n",
       "      <th>3</th>\n",
       "      <td>609</td>\n",
       "      <td>tt1077258</td>\n",
       "      <td>4.0</td>\n",
       "    </tr>\n",
       "    <tr>\n",
       "      <th>4</th>\n",
       "      <td>1590</td>\n",
       "      <td>tt0052182</td>\n",
       "      <td>4.0</td>\n",
       "    </tr>\n",
       "    <tr>\n",
       "      <th>...</th>\n",
       "      <td>...</td>\n",
       "      <td>...</td>\n",
       "      <td>...</td>\n",
       "    </tr>\n",
       "    <tr>\n",
       "      <th>787536</th>\n",
       "      <td>1032</td>\n",
       "      <td>tt0083530</td>\n",
       "      <td>3.0</td>\n",
       "    </tr>\n",
       "    <tr>\n",
       "      <th>787537</th>\n",
       "      <td>99</td>\n",
       "      <td>tt0107798</td>\n",
       "      <td>3.0</td>\n",
       "    </tr>\n",
       "    <tr>\n",
       "      <th>787538</th>\n",
       "      <td>333</td>\n",
       "      <td>tt0093857</td>\n",
       "      <td>3.0</td>\n",
       "    </tr>\n",
       "    <tr>\n",
       "      <th>787539</th>\n",
       "      <td>49</td>\n",
       "      <td>tt0144168</td>\n",
       "      <td>3.0</td>\n",
       "    </tr>\n",
       "    <tr>\n",
       "      <th>787540</th>\n",
       "      <td>1402</td>\n",
       "      <td>tt0405422</td>\n",
       "      <td>3.5</td>\n",
       "    </tr>\n",
       "  </tbody>\n",
       "</table>\n",
       "<p>787541 rows × 3 columns</p>\n",
       "</div>"
      ],
      "text/plain": [
       "        user_id     imdbID  rating\n",
       "0          1264  tt0047034     3.5\n",
       "1           213  tt0304141     2.5\n",
       "2           593  tt0369436     3.0\n",
       "3           609  tt1077258     4.0\n",
       "4          1590  tt0052182     4.0\n",
       "...         ...        ...     ...\n",
       "787536     1032  tt0083530     3.0\n",
       "787537       99  tt0107798     3.0\n",
       "787538      333  tt0093857     3.0\n",
       "787539       49  tt0144168     3.0\n",
       "787540     1402  tt0405422     3.5\n",
       "\n",
       "[787541 rows x 3 columns]"
      ]
     },
     "execution_count": 3,
     "metadata": {},
     "output_type": "execute_result"
    }
   ],
   "source": [
    "ratings"
   ]
  },
  {
   "cell_type": "code",
   "execution_count": 4,
   "metadata": {
    "collapsed": false,
    "jupyter": {
     "outputs_hidden": false
    },
    "pycharm": {
     "name": "#%%\n"
    }
   },
   "outputs": [],
   "source": [
    "# build a reader, define the rating scale (minimum and maximum value)\n",
    "reader = Reader(rating_scale=(0.5, 5))\n",
    "\n",
    "# The columns must be in the order of user id, item id and ratings \n",
    "data = Dataset.load_from_df(ratings[['user_id', 'imdbID', 'rating']], reader)"
   ]
  },
  {
   "cell_type": "markdown",
   "metadata": {},
   "source": [
    "# KNN"
   ]
  },
  {
   "cell_type": "code",
   "execution_count": 6,
   "metadata": {
    "collapsed": false,
    "jupyter": {
     "outputs_hidden": false
    },
    "pycharm": {
     "name": "#%%\n"
    }
   },
   "outputs": [
    {
     "name": "stdout",
     "output_type": "stream",
     "text": [
      "No File found: Creating new file...\n",
      "Starting GridSearch\n",
      "0.827407567975069\n",
      "{'k': 100, 'min_k': 1, 'sim_options': {'name': 'msd', 'user_based': False}}\n"
     ]
    }
   ],
   "source": [
    "# KNN-basic Grid Search\n",
    "try:\n",
    "    grid_search = pd.read_csv('gridsearch_knn_basic.csv')\n",
    "    param_grid = {'k': [5, 10, 50, 100, 200], 'min_k': [1,5, 10], 'sim_options': {'name': ['msd'], 'user_based': [False]}}\n",
    "    \n",
    "    print(\"Starting GridSearch\")\n",
    "    gs = GridSearchCV(KNNBasic, param_grid, measures=['rmse','mae'], cv=5, n_jobs=-3)\n",
    "    gs.fit(data)\n",
    "\n",
    "    # Print best param combination\n",
    "    print(gs.best_score['rmse'])\n",
    "    print(gs.best_params['rmse'])\n",
    "    knn_basic = pd.DataFrame(gs.cv_results)\n",
    "    grid_search = grid_search.append(knn_basic)\n",
    "    grid_search.to_csv('gridsearch_knn_basic.csv')\n",
    "\n",
    "except FileNotFoundError:\n",
    "    # if no previous grid search run available\n",
    "    print('No File found: Creating new file...')\n",
    "    param_grid = {'k': [5, 10, 50, 100, 200], 'min_k': [1, 5, 10], 'sim_options': {'name': ['msd'], 'user_based': [False]}}\n",
    "    \n",
    "    print(\"Starting GridSearch\")\n",
    "    gs = GridSearchCV(KNNBasic, param_grid, measures=['rmse','mae'], cv=5, n_jobs=-3)\n",
    "    gs.fit(data)\n",
    "\n",
    "    # Print best param combination\n",
    "    print(gs.best_score['rmse'])\n",
    "    print(gs.best_params['rmse'])\n",
    "    knn_basic = pd.DataFrame(gs.cv_results)\n",
    "    knn_basic.to_csv('gridsearch_knn_basic.csv')  "
   ]
  },
  {
   "cell_type": "code",
   "execution_count": 7,
   "metadata": {},
   "outputs": [
    {
     "name": "stdout",
     "output_type": "stream",
     "text": [
      "Starting GridSearch\n",
      "0.7940151034427301\n",
      "{'k': 115, 'min_k': 10, 'sim_options': {'name': 'msd', 'user_based': False}}\n"
     ]
    }
   ],
   "source": [
    "# KNN with Means\n",
    "try:\n",
    "    grid_search = pd.read_csv('gridsearch_knn_means.csv')\n",
    "    param_grid = {'k': [75, 80, 85, 90, 95, 105, 110, 115, 120, 125], 'min_k': [1,5, 10], 'sim_options': {'name': ['msd', 'cosine'], 'user_based': [False]}}\n",
    "    \n",
    "    print(\"Starting GridSearch\")\n",
    "    gs = GridSearchCV(KNNWithMeans, param_grid, measures=['rmse','mae'], cv=5, n_jobs=-3)\n",
    "    gs.fit(data)\n",
    "\n",
    "    # Print best param combination\n",
    "    print(gs.best_score['rmse'])\n",
    "    print(gs.best_params['rmse'])\n",
    "    knn_means = pd.DataFrame(gs.cv_results)\n",
    "    grid_search = grid_search.append(knn_means)\n",
    "    grid_search.to_csv('gridsearch_knn_means.csv')\n",
    "\n",
    "except FileNotFoundError:\n",
    "    # if no previous grid search run available\n",
    "    print('No File found: Creating new file...')\n",
    "    param_grid = {'k': [5, 10, 50, 100, 200], 'min_k': [1, 5, 10], 'sim_options': {'name': ['msd'], 'user_based': [False]}}\n",
    "    \n",
    "    print(\"Starting GridSearch\")\n",
    "    gs = GridSearchCV(KNNWithMeans, param_grid, measures=['rmse','mae'], cv=5, n_jobs=-3)\n",
    "    gs.fit(data)\n",
    "\n",
    "    # Print best param combination\n",
    "    print(gs.best_score['rmse'])\n",
    "    print(gs.best_params['rmse'])\n",
    "    knn_means = pd.DataFrame(gs.cv_results)\n",
    "    knn_means.to_csv('gridsearch_knn_means.csv')  "
   ]
  },
  {
   "cell_type": "code",
   "execution_count": null,
   "metadata": {},
   "outputs": [
    {
     "name": "stdout",
     "output_type": "stream",
     "text": [
      "No File found: Creating new file...\n",
      "Starting GridSearch\n",
      "Computing the msd similarity matrix...\n",
      "Done computing similarity matrix.\n",
      "Computing the msd similarity matrix...\n",
      "Done computing similarity matrix.\n",
      "Computing the msd similarity matrix...\n",
      "Done computing similarity matrix.\n",
      "Computing the msd similarity matrix...\n",
      "Done computing similarity matrix.\n",
      "Computing the msd similarity matrix...\n",
      "Done computing similarity matrix.\n",
      "Computing the msd similarity matrix...\n",
      "Done computing similarity matrix.\n",
      "Computing the msd similarity matrix...\n",
      "Done computing similarity matrix.\n",
      "Computing the msd similarity matrix...\n",
      "Done computing similarity matrix.\n",
      "Computing the msd similarity matrix...\n",
      "Done computing similarity matrix.\n"
     ]
    }
   ],
   "source": [
    "# KNN with Z-Score Grid Search\n",
    "try:\n",
    "    grid_search = pd.read_csv('gridsearch_knn_Z.csv')\n",
    "    param_grid = {'k': [10, 50, 100, 200], 'min_k': [1,5, 10], 'sim_options': {'name': ['msd', 'cosine'], 'user_based': [True, False]}}\n",
    "    \n",
    "    print(\"Starting GridSearch\")\n",
    "    gs = GridSearchCV(KNNWithZScore, param_grid, measures=['rmse','mae'], cv=5)\n",
    "    gs.fit(data)\n",
    "\n",
    "    # Print best param combination\n",
    "    print(gs.best_score['rmse'])\n",
    "    print(gs.best_params['rmse'])\n",
    "    knn_Z = pd.DataFrame(gs.cv_results)\n",
    "    grid_search = grid_search.append(knn_Z)\n",
    "    grid_search.to_csv('gridsearch_knn_Z.csv')\n",
    "\n",
    "except FileNotFoundError:\n",
    "    print('No File found: Creating new file...')\n",
    "    # if no previous grid search run available\n",
    "    param_grid = {'k': [50, 200], 'min_k': [5], 'sim_options': {'name': ['msd'], 'user_based': [True, False]}}\n",
    "    \n",
    "    print(\"Starting GridSearch\")\n",
    "    gs = GridSearchCV(KNNWithZScore, param_grid, measures=['rmse','mae'], cv=5)\n",
    "    gs.fit(data)\n",
    "\n",
    "    # Print best param combination\n",
    "    print(gs.best_score['rmse'])\n",
    "    print(gs.best_params['rmse'])\n",
    "    knn_Z = pd.DataFrame(gs.cv_results)\n",
    "    knn_Z.to_csv('gridsearch_knn_Z.csv')  "
   ]
  }
 ],
 "metadata": {
  "kernelspec": {
   "display_name": "Python 3",
   "language": "python",
   "name": "python3"
  },
  "language_info": {
   "codemirror_mode": {
    "name": "ipython",
    "version": 3
   },
   "file_extension": ".py",
   "mimetype": "text/x-python",
   "name": "python",
   "nbconvert_exporter": "python",
   "pygments_lexer": "ipython3",
   "version": "3.8.3"
  },
  "pycharm": {
   "stem_cell": {
    "cell_type": "raw",
    "metadata": {
     "collapsed": false
    },
    "source": []
   }
  }
 },
 "nbformat": 4,
 "nbformat_minor": 4
}
