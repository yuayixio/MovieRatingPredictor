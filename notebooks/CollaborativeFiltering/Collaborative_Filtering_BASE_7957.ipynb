{
 "cells": [
  {
   "cell_type": "code",
   "execution_count": 10,
   "metadata": {},
   "outputs": [],
   "source": [
    "import pandas as pd\n",
    "\n",
    "from surprise import NormalPredictor\n",
    "from surprise import SVD\n",
    "from surprise import SlopeOne\n",
    "from surprise import Dataset\n",
    "from surprise import Reader\n",
    "from surprise.model_selection import cross_validate, GridSearchCV\n",
    "from surprise import KNNBasic, KNNWithMeans, KNNWithZScore, KNNBaseline, BaselineOnly, CoClustering, SVDpp\n",
    "from surprise.accuracy import rmse\n",
    "from surprise.model_selection import train_test_split as surprise_train_test_split\n",
    "\n",
    "from sklearn import pipeline\n",
    "\n",
    "# set random state for reproducibility\n",
    "kwargs = dict(random_state=42)"
   ]
  },
  {
   "cell_type": "code",
   "execution_count": 3,
   "metadata": {},
   "outputs": [],
   "source": [
    "ratings = pd.read_csv('../../data/preprocessed/ratings_clean_std_0.csv', sep=',')"
   ]
  },
  {
   "cell_type": "code",
   "execution_count": 4,
   "metadata": {},
   "outputs": [],
   "source": [
    "mappings = pd.read_csv('../../data/preprocessed/movies_id_updated.csv', sep=',')[['id', 'imdbID']].rename(columns={'id': 'movieID'})"
   ]
  },
  {
   "cell_type": "code",
   "execution_count": 8,
   "metadata": {},
   "outputs": [
    {
     "data": {
      "text/html": [
       "<div>\n",
       "<style scoped>\n",
       "    .dataframe tbody tr th:only-of-type {\n",
       "        vertical-align: middle;\n",
       "    }\n",
       "\n",
       "    .dataframe tbody tr th {\n",
       "        vertical-align: top;\n",
       "    }\n",
       "\n",
       "    .dataframe thead th {\n",
       "        text-align: right;\n",
       "    }\n",
       "</style>\n",
       "<table border=\"1\" class=\"dataframe\">\n",
       "  <thead>\n",
       "    <tr style=\"text-align: right;\">\n",
       "      <th></th>\n",
       "      <th>Unnamed: 0</th>\n",
       "      <th>user_id</th>\n",
       "      <th>imdbID</th>\n",
       "      <th>rating</th>\n",
       "    </tr>\n",
       "  </thead>\n",
       "  <tbody>\n",
       "    <tr>\n",
       "      <th>0</th>\n",
       "      <td>0</td>\n",
       "      <td>1264</td>\n",
       "      <td>tt0047034</td>\n",
       "      <td>3.5</td>\n",
       "    </tr>\n",
       "    <tr>\n",
       "      <th>1</th>\n",
       "      <td>1</td>\n",
       "      <td>213</td>\n",
       "      <td>tt0304141</td>\n",
       "      <td>2.5</td>\n",
       "    </tr>\n",
       "    <tr>\n",
       "      <th>2</th>\n",
       "      <td>2</td>\n",
       "      <td>593</td>\n",
       "      <td>tt0369436</td>\n",
       "      <td>3.0</td>\n",
       "    </tr>\n",
       "    <tr>\n",
       "      <th>3</th>\n",
       "      <td>3</td>\n",
       "      <td>609</td>\n",
       "      <td>tt1077258</td>\n",
       "      <td>4.0</td>\n",
       "    </tr>\n",
       "    <tr>\n",
       "      <th>4</th>\n",
       "      <td>4</td>\n",
       "      <td>1590</td>\n",
       "      <td>tt0052182</td>\n",
       "      <td>4.0</td>\n",
       "    </tr>\n",
       "    <tr>\n",
       "      <th>...</th>\n",
       "      <td>...</td>\n",
       "      <td>...</td>\n",
       "      <td>...</td>\n",
       "      <td>...</td>\n",
       "    </tr>\n",
       "    <tr>\n",
       "      <th>787536</th>\n",
       "      <td>812812</td>\n",
       "      <td>1032</td>\n",
       "      <td>tt0083530</td>\n",
       "      <td>3.0</td>\n",
       "    </tr>\n",
       "    <tr>\n",
       "      <th>787537</th>\n",
       "      <td>812813</td>\n",
       "      <td>99</td>\n",
       "      <td>tt0107798</td>\n",
       "      <td>3.0</td>\n",
       "    </tr>\n",
       "    <tr>\n",
       "      <th>787538</th>\n",
       "      <td>812814</td>\n",
       "      <td>333</td>\n",
       "      <td>tt0093857</td>\n",
       "      <td>3.0</td>\n",
       "    </tr>\n",
       "    <tr>\n",
       "      <th>787539</th>\n",
       "      <td>812815</td>\n",
       "      <td>49</td>\n",
       "      <td>tt0144168</td>\n",
       "      <td>3.0</td>\n",
       "    </tr>\n",
       "    <tr>\n",
       "      <th>787540</th>\n",
       "      <td>812817</td>\n",
       "      <td>1402</td>\n",
       "      <td>tt0405422</td>\n",
       "      <td>3.5</td>\n",
       "    </tr>\n",
       "  </tbody>\n",
       "</table>\n",
       "<p>787541 rows × 4 columns</p>\n",
       "</div>"
      ],
      "text/plain": [
       "        Unnamed: 0  user_id     imdbID  rating\n",
       "0                0     1264  tt0047034     3.5\n",
       "1                1      213  tt0304141     2.5\n",
       "2                2      593  tt0369436     3.0\n",
       "3                3      609  tt1077258     4.0\n",
       "4                4     1590  tt0052182     4.0\n",
       "...            ...      ...        ...     ...\n",
       "787536      812812     1032  tt0083530     3.0\n",
       "787537      812813       99  tt0107798     3.0\n",
       "787538      812814      333  tt0093857     3.0\n",
       "787539      812815       49  tt0144168     3.0\n",
       "787540      812817     1402  tt0405422     3.5\n",
       "\n",
       "[787541 rows x 4 columns]"
      ]
     },
     "execution_count": 8,
     "metadata": {},
     "output_type": "execute_result"
    }
   ],
   "source": [
    "ratings"
   ]
  },
  {
   "cell_type": "code",
   "execution_count": 9,
   "metadata": {},
   "outputs": [],
   "source": [
    "# TODO write function to map from imdbID to movieID and back"
   ]
  },
  {
   "cell_type": "code",
   "execution_count": null,
   "metadata": {},
   "outputs": [],
   "source": []
  },
  {
   "cell_type": "markdown",
   "metadata": {},
   "source": [
    "## Finding optimal Parameters for Collaborative Filtering Approach"
   ]
  },
  {
   "cell_type": "code",
   "execution_count": 88,
   "metadata": {},
   "outputs": [
    {
     "name": "stdout",
     "output_type": "stream",
     "text": [
      "Starting GridSearch\n",
      "0.7613563832864235\n",
      "{'lr_all': 0.02, 'reg_all': 0.05, 'n_epochs': 18}\n"
     ]
    }
   ],
   "source": [
    "# Using GridSearch to find optimal Params\n",
    "# I ran this cell multiple times trying different intervalls\n",
    "# adjusting the intervalls if the optimal parameter was at the intervall border\n",
    "\n",
    "param_grid = {'lr_all' : [.001, .02], 'reg_all' : [.05,.2], 'n_epochs' : [18,25]}\n",
    "print(\"Starting GridSearch\")\n",
    "gs = GridSearchCV(SVD, param_grid, measures=['rmse','mae'], cv=5)\n",
    "gs.fit(data)\n",
    "\n",
    "#Print best param combination\n",
    "print(gs.best_score['rmse'])\n",
    "print(gs.best_params['rmse'])"
   ]
  },
  {
   "cell_type": "code",
   "execution_count": 89,
   "metadata": {},
   "outputs": [],
   "source": [
    "svd = gs.best_estimator['rmse']"
   ]
  },
  {
   "cell_type": "code",
   "execution_count": 90,
   "metadata": {},
   "outputs": [],
   "source": [
    "trainset, testset = surprise_train_test_split(data, test_size=0.2, shuffle=True, **kwargs)"
   ]
  },
  {
   "cell_type": "code",
   "execution_count": 91,
   "metadata": {},
   "outputs": [
    {
     "data": {
      "text/plain": [
       "<surprise.prediction_algorithms.matrix_factorization.SVD at 0x11021a520>"
      ]
     },
     "execution_count": 91,
     "metadata": {},
     "output_type": "execute_result"
    }
   ],
   "source": [
    "svd.fit(trainset)"
   ]
  },
  {
   "cell_type": "code",
   "execution_count": 92,
   "metadata": {},
   "outputs": [],
   "source": [
    "preds = svd.test(testset)"
   ]
  },
  {
   "cell_type": "code",
   "execution_count": 93,
   "metadata": {},
   "outputs": [
    {
     "name": "stdout",
     "output_type": "stream",
     "text": [
      "user: 364        item: 2542       r_ui = 3.00   est = 3.75   {'was_impossible': False}\n",
      "user: 204        item: 49822      r_ui = 3.50   est = 3.45   {'was_impossible': False}\n",
      "user: 692        item: 1407       r_ui = 2.50   est = 2.06   {'was_impossible': False}\n",
      "user: 387        item: 34         r_ui = 4.00   est = 3.32   {'was_impossible': False}\n",
      "user: 1254       item: 550        r_ui = 3.50   est = 3.32   {'was_impossible': False}\n",
      "user: 227        item: 7154       r_ui = 3.50   est = 2.85   {'was_impossible': False}\n",
      "user: 515        item: 527        r_ui = 4.00   est = 4.06   {'was_impossible': False}\n",
      "user: 433        item: 923        r_ui = 4.00   est = 3.82   {'was_impossible': False}\n",
      "user: 656        item: 6264       r_ui = 2.00   est = 1.81   {'was_impossible': False}\n",
      "user: 1465       item: 367        r_ui = 4.50   est = 3.36   {'was_impossible': False}\n",
      "user: 975        item: 6662       r_ui = 3.50   est = 3.73   {'was_impossible': False}\n",
      "user: 1057       item: 33493      r_ui = 4.50   est = 3.96   {'was_impossible': False}\n",
      "user: 726        item: 1587       r_ui = 3.00   est = 3.20   {'was_impossible': False}\n",
      "user: 44         item: 6881       r_ui = 3.00   est = 3.39   {'was_impossible': False}\n",
      "user: 904        item: 2142       r_ui = 3.50   est = 2.94   {'was_impossible': False}\n",
      "user: 1026       item: 6565       r_ui = 3.50   est = 3.22   {'was_impossible': False}\n",
      "user: 789        item: 3538       r_ui = 4.50   est = 4.56   {'was_impossible': False}\n",
      "user: 2031       item: 1101       r_ui = 3.00   est = 3.14   {'was_impossible': False}\n",
      "user: 300        item: 2763       r_ui = 3.00   est = 3.32   {'was_impossible': False}\n",
      "user: 194        item: 44         r_ui = 3.00   est = 2.50   {'was_impossible': False}\n",
      "user: 1489       item: 47         r_ui = 4.50   est = 3.86   {'was_impossible': False}\n",
      "user: 1509       item: 2716       r_ui = 4.00   est = 3.74   {'was_impossible': False}\n",
      "user: 605        item: 595        r_ui = 3.00   est = 3.14   {'was_impossible': False}\n",
      "user: 443        item: 4973       r_ui = 5.00   est = 4.19   {'was_impossible': False}\n",
      "user: 1059       item: 745        r_ui = 5.00   est = 4.20   {'was_impossible': False}\n",
      "user: 541        item: 342        r_ui = 4.00   est = 2.97   {'was_impossible': False}\n",
      "user: 78         item: 5055       r_ui = 3.50   est = 3.46   {'was_impossible': False}\n",
      "user: 1417       item: 2687       r_ui = 3.50   est = 2.55   {'was_impossible': False}\n",
      "user: 1078       item: 46965      r_ui = 3.00   est = 2.71   {'was_impossible': False}\n",
      "user: 316        item: 6953       r_ui = 3.50   est = 2.78   {'was_impossible': False}\n",
      "user: 720        item: 2607       r_ui = 5.00   est = 4.58   {'was_impossible': False}\n",
      "user: 1414       item: 2048       r_ui = 4.00   est = 2.77   {'was_impossible': False}\n",
      "user: 264        item: 1975       r_ui = 3.00   est = 2.01   {'was_impossible': False}\n",
      "user: 1397       item: 5022       r_ui = 3.50   est = 3.77   {'was_impossible': False}\n",
      "user: 360        item: 33880      r_ui = 3.50   est = 3.14   {'was_impossible': False}\n",
      "user: 562        item: 922        r_ui = 4.00   est = 3.67   {'was_impossible': False}\n",
      "user: 729        item: 8464       r_ui = 3.50   est = 3.46   {'was_impossible': False}\n",
      "user: 827        item: 5377       r_ui = 3.00   est = 3.16   {'was_impossible': False}\n",
      "user: 394        item: 6774       r_ui = 3.50   est = 3.71   {'was_impossible': False}\n",
      "user: 1284       item: 4638       r_ui = 4.00   est = 3.27   {'was_impossible': False}\n",
      "user: 878        item: 8494       r_ui = 3.50   est = 3.73   {'was_impossible': False}\n",
      "user: 151        item: 5785       r_ui = 5.00   est = 4.13   {'was_impossible': False}\n",
      "user: 178        item: 8961       r_ui = 4.00   est = 3.56   {'was_impossible': False}\n",
      "user: 1677       item: 6          r_ui = 4.00   est = 4.11   {'was_impossible': False}\n",
      "user: 767        item: 45722      r_ui = 3.00   est = 2.58   {'was_impossible': False}\n",
      "user: 580        item: 5879       r_ui = 2.50   est = 2.33   {'was_impossible': False}\n",
      "user: 81         item: 5071       r_ui = 3.00   est = 3.84   {'was_impossible': False}\n",
      "user: 320        item: 34319      r_ui = 4.00   est = 2.77   {'was_impossible': False}\n",
      "user: 186        item: 5732       r_ui = 3.50   est = 3.74   {'was_impossible': False}\n",
      "user: 94         item: 6979       r_ui = 3.50   est = 3.78   {'was_impossible': False}\n"
     ]
    }
   ],
   "source": [
    "# Printing first 50 predicitons for overview\n",
    "for i in range (0,50):\n",
    "    print(preds[i])"
   ]
  },
  {
   "cell_type": "code",
   "execution_count": 94,
   "metadata": {},
   "outputs": [
    {
     "name": "stdout",
     "output_type": "stream",
     "text": [
      "RMSE: 0.7613\n"
     ]
    },
    {
     "data": {
      "text/plain": [
       "0.7612923234718605"
      ]
     },
     "execution_count": 94,
     "metadata": {},
     "output_type": "execute_result"
    }
   ],
   "source": [
    "rmse(preds)"
   ]
  },
  {
   "cell_type": "code",
   "execution_count": 95,
   "metadata": {},
   "outputs": [
    {
     "name": "stdout",
     "output_type": "stream",
     "text": [
      "Starting GridSearch\n",
      "0.7847288683576945\n",
      "{'lr_all': 0.005, 'reg_all': 0.01, 'n_epochs': 15}\n"
     ]
    }
   ],
   "source": [
    "# Lets try again\n",
    "# Using GridSearch to find optimal Params\n",
    "\n",
    "param_grid = {'lr_all' : [.005, .04], 'reg_all' : [.01,.1], 'n_epochs' : [15,25]}\n",
    "print(\"Starting GridSearch\")\n",
    "gs = GridSearchCV(SVD, param_grid, measures=['rmse','mae'], cv=5)\n",
    "gs.fit(data)\n",
    "\n",
    "# Print best param combination\n",
    "print(gs.best_score['rmse'])\n",
    "print(gs.best_params['rmse'])"
   ]
  },
  {
   "cell_type": "code",
   "execution_count": 96,
   "metadata": {},
   "outputs": [
    {
     "name": "stdout",
     "output_type": "stream",
     "text": [
      "Starting GridSearch\n",
      "0.7844650185645639\n",
      "{'lr_all': 0.02, 'reg_all': 0.1, 'n_epochs': 20}\n"
     ]
    }
   ],
   "source": [
    "# Lets try again\n",
    "# Using GridSearch to find optimal Params\n",
    "\n",
    "param_grid = {'lr_all' : [.001, .02], 'reg_all' : [.005,.1], 'n_epochs' : [10,20]}\n",
    "print(\"Starting GridSearch\")\n",
    "gs = GridSearchCV(SVD, param_grid, measures=['rmse','mae'], cv=5)\n",
    "gs.fit(data)\n",
    "\n",
    "# Print best param combination\n",
    "print(gs.best_score['rmse'])\n",
    "print(gs.best_params['rmse'])"
   ]
  },
  {
   "cell_type": "markdown",
   "metadata": {},
   "source": [
    "# Best Params currently for cv=5:\n",
    "rmse = 0.7613563832864235\n",
    "\n",
    "{'lr_all': 0.02, 'reg_all': 0.05, 'n_epochs': 18}\n"
   ]
  }
 ],
 "metadata": {
  "kernelspec": {
   "display_name": "Python 3",
   "language": "python",
   "name": "python3"
  },
  "language_info": {
   "codemirror_mode": {
    "name": "ipython",
    "version": 3
   },
   "file_extension": ".py",
   "mimetype": "text/x-python",
   "name": "python",
   "nbconvert_exporter": "python",
   "pygments_lexer": "ipython3",
   "version": "3.8.3"
  }
 },
 "nbformat": 4,
 "nbformat_minor": 4
}
