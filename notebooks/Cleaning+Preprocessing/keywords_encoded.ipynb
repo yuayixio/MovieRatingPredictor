{
 "cells": [
  {
   "cell_type": "code",
   "execution_count": 1,
   "metadata": {},
   "outputs": [],
   "source": [
    "import pandas as pd\n",
    "import numpy as np\n",
    "from sklearn.model_selection import train_test_split\n",
    "from sklearn.preprocessing import OneHotEncoder\n",
    "from sklearn.preprocessing import MultiLabelBinarizer\n",
    "from sklearn.preprocessing import LabelEncoder\n",
    "from sklearn.metrics import accuracy_score\n",
    "from sklearn.metrics import mean_squared_error\n",
    "import matplotlib.pyplot as plt\n",
    "from sklearn.decomposition import PCA"
   ]
  },
  {
   "cell_type": "code",
   "execution_count": 2,
   "metadata": {},
   "outputs": [],
   "source": [
    "omdb = pd.read_csv('../../data/preprocessed/omdb_cleaned.csv')\n",
    "movies = pd.read_csv('../../data/preprocessed/movies_id_updated.csv')\n",
    "mapping = movies[['id', 'imdbID']].rename(columns={'id':'movieID'})\n",
    "keywords = pd.read_csv('keywordDict.csv', header=None, sep=';')"
   ]
  },
  {
   "cell_type": "code",
   "execution_count": 3,
   "metadata": {},
   "outputs": [],
   "source": [
    "keywords = keywords.dropna()"
   ]
  },
  {
   "cell_type": "code",
   "execution_count": 4,
   "metadata": {
    "scrolled": true
   },
   "outputs": [],
   "source": [
    "keywords[1] = keywords[1].apply(lambda x: x[1:-1]) "
   ]
  },
  {
   "cell_type": "code",
   "execution_count": 5,
   "metadata": {},
   "outputs": [],
   "source": [
    "keywords[1] = keywords[1].apply(lambda x: x.split(','))"
   ]
  },
  {
   "cell_type": "code",
   "execution_count": 6,
   "metadata": {},
   "outputs": [
    {
     "data": {
      "text/html": [
       "<div>\n",
       "<style scoped>\n",
       "    .dataframe tbody tr th:only-of-type {\n",
       "        vertical-align: middle;\n",
       "    }\n",
       "\n",
       "    .dataframe tbody tr th {\n",
       "        vertical-align: top;\n",
       "    }\n",
       "\n",
       "    .dataframe thead th {\n",
       "        text-align: right;\n",
       "    }\n",
       "</style>\n",
       "<table border=\"1\" class=\"dataframe\">\n",
       "  <thead>\n",
       "    <tr style=\"text-align: right;\">\n",
       "      <th></th>\n",
       "      <th>0</th>\n",
       "      <th>1</th>\n",
       "    </tr>\n",
       "  </thead>\n",
       "  <tbody>\n",
       "    <tr>\n",
       "      <th>0</th>\n",
       "      <td>tt0114709</td>\n",
       "      <td>[ 'toy',  'rivalry',  'cowboy',  'cgi-animatio...</td>\n",
       "    </tr>\n",
       "    <tr>\n",
       "      <th>1</th>\n",
       "      <td>tt0113497</td>\n",
       "      <td>[ 'board-game',  'adventurer',  'fight',  'gam...</td>\n",
       "    </tr>\n",
       "    <tr>\n",
       "      <th>2</th>\n",
       "      <td>tt0107050</td>\n",
       "      <td>[ 'original-story',  'neighbor',  'minnesota',...</td>\n",
       "    </tr>\n",
       "    <tr>\n",
       "      <th>3</th>\n",
       "      <td>tt0114885</td>\n",
       "      <td>[ 'black-american',  'husband-wife-relationshi...</td>\n",
       "    </tr>\n",
       "    <tr>\n",
       "      <th>4</th>\n",
       "      <td>tt0113041</td>\n",
       "      <td>[ 'fatherhood',  'doberman',  'dog',  'mansion...</td>\n",
       "    </tr>\n",
       "    <tr>\n",
       "      <th>...</th>\n",
       "      <td>...</td>\n",
       "      <td>...</td>\n",
       "    </tr>\n",
       "    <tr>\n",
       "      <th>9418</th>\n",
       "      <td>tt0953318</td>\n",
       "      <td>[ 'faked-death',  'bullying',  'imaginary-frie...</td>\n",
       "    </tr>\n",
       "    <tr>\n",
       "      <th>9419</th>\n",
       "      <td>tt0960731</td>\n",
       "      <td>[ 'surrealism',  '2000s',  'year-1974',  '1970...</td>\n",
       "    </tr>\n",
       "    <tr>\n",
       "      <th>9420</th>\n",
       "      <td>tt0025464</td>\n",
       "      <td>[ 'governor',  'gambling',  'electric-chair', ...</td>\n",
       "    </tr>\n",
       "    <tr>\n",
       "      <th>9421</th>\n",
       "      <td>tt1024715</td>\n",
       "      <td>[ 'sex-addict',  'sex-in-airplane',  'falling-...</td>\n",
       "    </tr>\n",
       "    <tr>\n",
       "      <th>9422</th>\n",
       "      <td>tt0212579</td>\n",
       "      <td>[ 'time-machine',  'black-adder',  'time-trave...</td>\n",
       "    </tr>\n",
       "  </tbody>\n",
       "</table>\n",
       "<p>9348 rows × 2 columns</p>\n",
       "</div>"
      ],
      "text/plain": [
       "              0                                                  1\n",
       "0     tt0114709  [ 'toy',  'rivalry',  'cowboy',  'cgi-animatio...\n",
       "1     tt0113497  [ 'board-game',  'adventurer',  'fight',  'gam...\n",
       "2     tt0107050  [ 'original-story',  'neighbor',  'minnesota',...\n",
       "3     tt0114885  [ 'black-american',  'husband-wife-relationshi...\n",
       "4     tt0113041  [ 'fatherhood',  'doberman',  'dog',  'mansion...\n",
       "...         ...                                                ...\n",
       "9418  tt0953318  [ 'faked-death',  'bullying',  'imaginary-frie...\n",
       "9419  tt0960731  [ 'surrealism',  '2000s',  'year-1974',  '1970...\n",
       "9420  tt0025464  [ 'governor',  'gambling',  'electric-chair', ...\n",
       "9421  tt1024715  [ 'sex-addict',  'sex-in-airplane',  'falling-...\n",
       "9422  tt0212579  [ 'time-machine',  'black-adder',  'time-trave...\n",
       "\n",
       "[9348 rows x 2 columns]"
      ]
     },
     "execution_count": 6,
     "metadata": {},
     "output_type": "execute_result"
    }
   ],
   "source": [
    "keywords"
   ]
  },
  {
   "cell_type": "code",
   "execution_count": null,
   "metadata": {},
   "outputs": [],
   "source": []
  },
  {
   "cell_type": "code",
   "execution_count": 7,
   "metadata": {},
   "outputs": [
    {
     "data": {
      "text/plain": [
       "\" 'toy'\""
      ]
     },
     "execution_count": 7,
     "metadata": {},
     "output_type": "execute_result"
    }
   ],
   "source": [
    "keywords.iloc[0,1][0]"
   ]
  },
  {
   "cell_type": "code",
   "execution_count": 8,
   "metadata": {},
   "outputs": [
    {
     "data": {
      "text/plain": [
       "0       [ 'toy',  'rivalry',  'cowboy',  'cgi-animatio...\n",
       "1       [ 'board-game',  'adventurer',  'fight',  'gam...\n",
       "2       [ 'original-story',  'neighbor',  'minnesota',...\n",
       "3       [ 'black-american',  'husband-wife-relationshi...\n",
       "4       [ 'fatherhood',  'doberman',  'dog',  'mansion...\n",
       "                              ...                        \n",
       "9418    [ 'faked-death',  'bullying',  'imaginary-frie...\n",
       "9419    [ 'surrealism',  '2000s',  'year-1974',  '1970...\n",
       "9420    [ 'governor',  'gambling',  'electric-chair', ...\n",
       "9421    [ 'sex-addict',  'sex-in-airplane',  'falling-...\n",
       "9422    [ 'time-machine',  'black-adder',  'time-trave...\n",
       "Name: 1, Length: 9348, dtype: object"
      ]
     },
     "execution_count": 8,
     "metadata": {},
     "output_type": "execute_result"
    }
   ],
   "source": [
    "keywords[1]"
   ]
  },
  {
   "cell_type": "code",
   "execution_count": 9,
   "metadata": {
    "scrolled": true
   },
   "outputs": [
    {
     "data": {
      "text/html": [
       "<div>\n",
       "<style scoped>\n",
       "    .dataframe tbody tr th:only-of-type {\n",
       "        vertical-align: middle;\n",
       "    }\n",
       "\n",
       "    .dataframe tbody tr th {\n",
       "        vertical-align: top;\n",
       "    }\n",
       "\n",
       "    .dataframe thead th {\n",
       "        text-align: right;\n",
       "    }\n",
       "</style>\n",
       "<table border=\"1\" class=\"dataframe\">\n",
       "  <thead>\n",
       "    <tr style=\"text-align: right;\">\n",
       "      <th></th>\n",
       "      <th>1</th>\n",
       "    </tr>\n",
       "  </thead>\n",
       "  <tbody>\n",
       "    <tr>\n",
       "      <th>[ 'independent-film']</th>\n",
       "      <td>3</td>\n",
       "    </tr>\n",
       "    <tr>\n",
       "      <th>[ 'f-rated']</th>\n",
       "      <td>2</td>\n",
       "    </tr>\n",
       "    <tr>\n",
       "      <th>[ 'based-on-novel']</th>\n",
       "      <td>2</td>\n",
       "    </tr>\n",
       "    <tr>\n",
       "      <th>[ 'female-frontal-nudity',  'woman-in-a-bathtub',  'sorority-house',  'told-in-flashback',  'strip-club',  'woman-in-jeopardy',  'bathtub',  'blood-splatter',  'flashback-within-a-flashback',  'basement',  'voyeur',  'police-detective',  'ouija-board',  'serial-killer',  'bear-trap',  'stabbed-to-death',  'murder-suspect',  'shot-to-death',  'woman-in-shower',  'massacre',  'police',  'bra-and-panties',  'slasher',  'possessed-woman',  'demonic-possession',  'sequel',  'seance',  'cult-film',  'second-part',  'murdered-with-a-hook',  'stabbed-in-the-stomach',  'murderess',  'breasts',  'blood',  'neighbor',  'telephone',  'key',  'rain',  'female-police-detective',  'fireplace',  'black-bra',  'white-panties',  'flashlight',  'attic',  'corpse',  'fear',  'screaming',  'breaking-down-a-door',  'stabbed-in-the-neck',  'bathroom',  'violence',  'sorority',  'in-joke',  'rainstorm',  'stripper',  'police-investigation',  'evil-spirit',  'gore',  'head-in-toilet',  'shotgun',  'question-mark-at-the-end',  'ambiguous-ending',  'power-drill',  'murder-of-family',  'meat-hook',  'knife',  'drill',  'blonde',  'murder',  'ghost',  'possession',  'independent-film']</th>\n",
       "      <td>1</td>\n",
       "    </tr>\n",
       "    <tr>\n",
       "      <th>[ 'cat',  'ufo',  'human-alien-relationship',  'talking-cat',  'alien',  'night',  'cat-movie',  'collar',  'military',  'scientist',  'spaceship',  'gold',  'spy',  'alien-cat',  'alien-visitation',  'visit',  'opening-a-door',  'scene-during-opening-credits',  'scene-before-opening-credits',  'double-barreled-shotgun',  'telekinesis',  'pledge-of-allegiance',  'u.s.-citizenship',  'citizenship',  'courtroom',  'parachute-caught-in-a-tree',  'helicopter-crash',  'parachute',  'flare-gun',  'farm',  'tractor',  'flying-upside-down',  'hanging-from-a-helicopter',  'pet-cat',  'kidnapping',  'airport',  'military-base',  'dog',  'disguise',  'jeep',  'hangar',  'military-uniform',  'limousine',  'film-projector',  'video-surveillance',  'time-freeze',  'shrinking',  'freeze-frame',  'pistol',  'held-at-gunpoint',  'gold-bar',  'alien-race',  'alien-contact',  'alien-creature',  'human-alien-team',  'female-scientist',  'tuna',  'general',  'pool-ball',  'pool-hustler',  'shotgun',  'farmhouse',  'playing-pool',  'pool-hall',  'sedative',  'doctor',  'football-game',  'animal-in-title',  'beer-can',  'fingerprint',  'bookie',  'fingers-in-ears',  'drink-thrown-into-someone's-face',  'surveillance',  'beer-drinking',  'apartment',  'film-camera',  'army-officer',  'soldier',  'supernatural-power',  'u.s.-army',  'laboratory',  'bet',  'garbage-truck',  'dumpster',  'armored-car',  'psychokinesis',  'neighbor',  'talking-animal',  'date',  'baseball-game',  'watching-sports-on-tv',  'army-base',  'flying',  'motorcycle',  'five-word-title',  'outer-space',  'kerchief',  'betting-shop',  'blindfold', ...]</th>\n",
       "      <td>1</td>\n",
       "    </tr>\n",
       "    <tr>\n",
       "      <th>...</th>\n",
       "      <td>...</td>\n",
       "    </tr>\n",
       "    <tr>\n",
       "      <th>[ 'strip-search',  'jewish',  'nazi',  'trial',  'war-crime',  'genocide',  'shoah',  'courtroom',  'x-rayed-skeleton',  'jew',  'holocaust',  'mossad',  'based-on-play',  'independent-film']</th>\n",
       "      <td>1</td>\n",
       "    </tr>\n",
       "    <tr>\n",
       "      <th>[ 'sex',  'hollywood',  'party',  'birthday',  'friend',  'birthday-party',  'film-within-a-film',  'volkswagen-passat',  'volkswagen',  'automobile',  'car',  'reference-to-cuba-gooding-jr',  'satire',  'film-executive',  'adult-filmmaking',  'oven',  'slobbering',  'sighing',  'grunting',  'moaning',  'refrigerator',  'beer',  'coin-purse',  'pager',  'crawling-on-the-floor',  'anxiety',  'tucson-arizona',  'gangster',  'reference-to-santa-claus',  'africa',  'kitchen',  'play-rehearsal',  'rehearsal',  'drinking-blood',  'dead-wolf',  'sister-sister-relationship',  'rendezvous',  'post-it',  'food',  'reference-to-george-bernard-shaw',  'university-of-toronto',  'desert',  'holiday-inn',  'southwest-airlines',  'men's-bathroom',  'urination',  'reference-to-kirk-douglas',  'parking-garage',  'jew',  'faith-the-magazine',  'apple-computer',  'reference-to-joseph-goebbels',  'brownie',  'dream',  'job-interview',  'erection',  'adult-bookstore',  'robbery',  'flatiron-building-manhattan-new-york-city',  'magazine-writer',  'writer',  'veterinarian',  'hashish',  'tuxedo',  'plastic-bag-over-head',  'videotaping-sex',  'film-set',  'falling-off-a-chair',  'backstage',  'berkshire-massachusetts',  'food-court',  'restaurant',  'cafe',  'death',  'hand-job',  'theatre-production',  'theatre-audience',  'reference-to-harold-pinter',  'reference-to-the-duchess-of-malfi-the-stage-play',  'pilates',  'drunkenness',  'drinking',  'drink',  'pajamas',  'hunger',  'milk-and-cookies',  'republican',  'democrat',  'manhattan-new-york-city',  'new-york-city',  'reference-to-harvey-weinstein',  'money',  'dating',  'interracial-sex',  'exhibitionism',  'reference-to-al-pacino',  'painting',  'painter',  'artist',  'screenwriter', ...]</th>\n",
       "      <td>1</td>\n",
       "    </tr>\n",
       "    <tr>\n",
       "      <th>[ 'catholic',  'adolescence',  'toilet-stall',  'pubic-hair',  'penis',  'underwater-scene',  'female-nudity',  'bare-butt',  'mutual-masturbation',  'erection',  'sex',  'first-gay-sexual-experience',  'reference-to-devil',  'written-by-director',  'crotch-grab',  '13-year-old-boy',  'male-objectification',  'social-masturbation',  'taking-a-shower',  'sexual-awakening',  'taking-off-pants',  'teenage-sexuality',  'erotic-dream',  'shower-room',  'shared-shower',  'group-shower',  'showering-in-underwear',  'showering-together',  'erotic-fantasy',  'teenager',  'barefoot-male',  'taking-off-clothes',  'taking-off-shirt',  'cmnm',  'cmnm-scene',  'clothed-male-naked-male',  'female-objectification',  'man-wears-underwear',  'man-in-a-shower',  'man-wears-a-swimsuit',  'male-full-frontal-nudity',  'male-pubic-hair',  'hate',  'chess',  'hit-with-a-hockey-stick',  'student-athlete',  'perfectionist',  'award',  'directorial-debut',  'farmer',  'silent-retreat',  'cupcake',  'jumping-into-water',  'falling-into-water',  'saved',  'hell',  'imitating-someone',  'river',  'bonfire',  'picnic',  'brutality',  'writing-on-a-toilet-stall-wall',  'bathroom',  'loss-of-best-friend',  'body-versus-mind',  'catholic-guilt',  'holy-communion',  'fantasy-sequence',  'washing-pajamas',  'washing-bedsheets',  'school-expulsion',  'ale',  'beer',  'factory-worker',  'reference-to-don-camillo',  'reading-aloud',  'reflection-in-a-car-window',  'son-kisses-mother-goodbye',  'autobiographical',  'diving',  'boat',  'beach',  'cruelty',  'hit-on-the-leg',  'guest-house',  'knitting',  'reference-to-rousseau',  'ground-hockey',  'hockey',  'wellington-boots',  'tackling-someone',  'wrestling',  'peer-pressure',  'self-abuse',  'absolution',  'false-accusation-of-lying',  'false-accusation',  'reading-from-the-bible',  'worrying',  'virgin-mary-statue', ...]</th>\n",
       "      <td>1</td>\n",
       "    </tr>\n",
       "    <tr>\n",
       "      <th>[ 'soviet-propaganda',  'russian-civil-war',  'russian-revolution',  'red-army',  'bolshevik',  'war-hero',  'character-name-as-title',  'surname-as-title',  'equestrian',  'warrior',  'military',  'siberia',  'communist-propaganda',  'uniform',  'one-word-title',  'cult-film',  'year-1918',  'russian-soldier',  'czech-legion',  'based-on-novel',  'chapaev-character']</th>\n",
       "      <td>1</td>\n",
       "    </tr>\n",
       "    <tr>\n",
       "      <th>[ 'child-abuse',  'sibling',  'emotional-abuse',  'change-of-heart',  'on-the-road',  'stolen-car',  'driving',  'police-helicopter',  'motorboat',  'boat',  'cave',  'pistol',  'ferry',  'criminal',  'hiding-in-a-car-trunk',  'cross-country',  'road-trip',  'father-daughter-reunion',  'father-son-reunion',  'child-custody',  'female-judge',  'courtroom',  'highway',  'on-the-run',  'on-the-lam',  'car-chase',  'police-car',  'newspaper-headline',  'convertible',  'las-vegas-nevada',  'mother-son-relationship',  'grandmother-granddaughter-relationship',  'grandmother-grandson-relationship',  'brother-sister-relationship',  'father-daughter-relationship',  'father-son-relationship',  'reporter',  'foster-care',  'female-reporter',  'child-kidnapping',  'child-driving-car',  'two-word-title',  'ex-convict',  'release-from-prison',  'pursuit',  'fugue',  'convict']</th>\n",
       "      <td>1</td>\n",
       "    </tr>\n",
       "  </tbody>\n",
       "</table>\n",
       "<p>9344 rows × 1 columns</p>\n",
       "</div>"
      ],
      "text/plain": [
       "                                                    1\n",
       "[ 'independent-film']                               3\n",
       "[ 'f-rated']                                        2\n",
       "[ 'based-on-novel']                                 2\n",
       "[ 'female-frontal-nudity',  'woman-in-a-bathtub...  1\n",
       "[ 'cat',  'ufo',  'human-alien-relationship',  ...  1\n",
       "...                                                ..\n",
       "[ 'strip-search',  'jewish',  'nazi',  'trial',...  1\n",
       "[ 'sex',  'hollywood',  'party',  'birthday',  ...  1\n",
       "[ 'catholic',  'adolescence',  'toilet-stall', ...  1\n",
       "[ 'soviet-propaganda',  'russian-civil-war',  '...  1\n",
       "[ 'child-abuse',  'sibling',  'emotional-abuse'...  1\n",
       "\n",
       "[9344 rows x 1 columns]"
      ]
     },
     "execution_count": 9,
     "metadata": {},
     "output_type": "execute_result"
    }
   ],
   "source": [
    "pd.DataFrame(keywords[1].value_counts())"
   ]
  },
  {
   "cell_type": "code",
   "execution_count": 13,
   "metadata": {},
   "outputs": [],
   "source": [
    "mlb = MultiLabelBinarizer()"
   ]
  },
  {
   "cell_type": "code",
   "execution_count": 14,
   "metadata": {},
   "outputs": [],
   "source": [
    "keywords_enc = mlb.fit_transform(keywords[1])"
   ]
  },
  {
   "cell_type": "code",
   "execution_count": 15,
   "metadata": {},
   "outputs": [
    {
     "data": {
      "text/plain": [
       "9348"
      ]
     },
     "execution_count": 15,
     "metadata": {},
     "output_type": "execute_result"
    }
   ],
   "source": [
    "len(keywords_enc)"
   ]
  },
  {
   "cell_type": "code",
   "execution_count": 17,
   "metadata": {},
   "outputs": [
    {
     "data": {
      "text/plain": [
       "(9348, 94431)"
      ]
     },
     "execution_count": 17,
     "metadata": {},
     "output_type": "execute_result"
    }
   ],
   "source": [
    "keywords_enc.shape"
   ]
  },
  {
   "cell_type": "code",
   "execution_count": 18,
   "metadata": {},
   "outputs": [
    {
     "data": {
      "text/plain": [
       "998110"
      ]
     },
     "execution_count": 18,
     "metadata": {},
     "output_type": "execute_result"
    }
   ],
   "source": [
    "keywords_enc.sum()"
   ]
  },
  {
   "cell_type": "code",
   "execution_count": null,
   "metadata": {},
   "outputs": [],
   "source": []
  }
 ],
 "metadata": {
  "kernelspec": {
   "display_name": "Python 3",
   "language": "python",
   "name": "python3"
  },
  "language_info": {
   "codemirror_mode": {
    "name": "ipython",
    "version": 3
   },
   "file_extension": ".py",
   "mimetype": "text/x-python",
   "name": "python",
   "nbconvert_exporter": "python",
   "pygments_lexer": "ipython3",
   "version": "3.8.3"
  }
 },
 "nbformat": 4,
 "nbformat_minor": 4
}
