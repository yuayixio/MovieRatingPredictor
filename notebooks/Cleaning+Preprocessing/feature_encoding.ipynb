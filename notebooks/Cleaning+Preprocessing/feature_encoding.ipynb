{
 "cells": [
  {
   "cell_type": "code",
   "execution_count": 2,
   "metadata": {},
   "outputs": [],
   "source": [
    "import pandas as pd\n",
    "import numpy as np\n",
    "from sklearn.model_selection import train_test_split\n",
    "from sklearn.preprocessing import OneHotEncoder\n",
    "from sklearn.preprocessing import MultiLabelBinarizer\n",
    "from sklearn.preprocessing import LabelEncoder\n",
    "from sklearn.metrics import accuracy_score\n",
    "from sklearn.metrics import mean_squared_error\n",
    "import matplotlib.pyplot as plt\n",
    "from sklearn.decomposition import PCA\n",
    "import unicodedata\n",
    "import sys\n",
    "from nltk.tokenize import word_tokenize\n",
    "from nltk.corpus import stopwords\n",
    "from nltk.stem.porter import PorterStemmer"
   ]
  },
  {
   "cell_type": "code",
   "execution_count": 20,
   "metadata": {},
   "outputs": [],
   "source": [
    "# Genres\n",
    "def get_genres():\n",
    "    genres = pd.read_csv('../../data/raw/genres.csv', sep=',')\n",
    "    movies = pd.read_csv('../../data/preprocessed/movies_id_updated.csv')\n",
    "    mapping = movies[['id', 'imdbID']].rename(columns={'id':'movieID'})\n",
    "    genres_grouped = genres.merge(mapping, on='movieID').groupby('imdbID')['genre'].apply(list).reset_index(name='genres')\n",
    "    mlb = MultiLabelBinarizer()\n",
    "    genres_encoded = mlb.fit_transform(genres_grouped['genres'])\n",
    "    genres_grouped = genres_grouped.join(pd.DataFrame(genres_encoded))\n",
    "    genres_grouped = genres_grouped.sort_values('imdbID').drop(columns={'genres'})\n",
    "    return genres"
   ]
  },
  {
   "cell_type": "code",
   "execution_count": 21,
   "metadata": {},
   "outputs": [],
   "source": [
    "# Languages\n",
    "# how often should a selected language appear at least:\n",
    "ts_lang = 10\n",
    "# get_language\n",
    "mlb = MultiLabelBinarizer()\n",
    "lg = pd.DataFrame(mlb.fit_transform(omdb['Language']))\n",
    "lg_index = pd.DataFrame(lg.sum()>ts_lang)\n",
    "language = omdb[['0']].join(lg[lg_index[lg_index[0]].index])"
   ]
  },
  {
   "cell_type": "code",
   "execution_count": 22,
   "metadata": {},
   "outputs": [],
   "source": [
    "def get_actors(threshold=20):\n",
    "    actors = pd.read_csv('../../data/raw/actors.csv', sep=',')\n",
    "    movies = pd.read_csv('../../data/preprocessed/movies_id_updated.csv')\n",
    "    mapping = movies[['id', 'imdbID']].rename(columns={'id':'movieID'})\n",
    "    actor_counts = pd.DataFrame(actors['actorID'].value_counts())\n",
    "    actors_selected = actor_counts[actor_counts['actorID']>threshold]\n",
    "    print(actors_selected)\n",
    "    actors_selected = actors.set_index('actorID').loc[actors_selected.index].reset_index()\n",
    "    # merge with imdbID, groupby imdbID and write the x most prominent actors as one entry per movie\n",
    "    actors_grouped = actors_selected.merge(mapping, on='movieID').groupby('imdbID')['actorID'].apply(list).reset_index(name='actors')\n",
    "    mlb = MultiLabelBinarizer()\n",
    "    actors_enc = pd.DataFrame(mlb.fit_transform(actors_grouped['actors']))\n",
    "    actors_grouped = actors_grouped.join(actors_enc).drop(columns={'actors'})\n",
    "    return actors_grouped"
   ]
  },
  {
   "cell_type": "code",
   "execution_count": 23,
   "metadata": {},
   "outputs": [],
   "source": [
    "def actors(threshold=14):    \n",
    "    actor_counts = pd.DataFrame(actors['actorID'].value_counts())\n",
    "    actors_selected = actor_counts[actor_counts['actorID']>threshold]\n",
    "    actors_selected = actors.set_index('actorID').loc[actors_selected.index].reset_index()\n",
    "    # merge with imdbID, groupby imdbID and write the x most prominent actors as one entry per movie\n",
    "    actors_grouped = actors_selected.merge(mapping, on='movieID').groupby('imdbID')['actorID'].apply(list).reset_index(name='actors')\n",
    "    mlb = MultiLabelBinarizer()\n",
    "    actors_enc = pd.DataFrame(mlb.fit_transform(actors_grouped['actors']))\n",
    "    actors_grouped = actors_grouped.join(actors_enc)\n",
    "    return actors_grouped"
   ]
  },
  {
   "cell_type": "code",
   "execution_count": 24,
   "metadata": {},
   "outputs": [],
   "source": [
    "# get the threshold first keywords per movie\n",
    "def get_keywords(threshold=10):\n",
    "    omdb = pd.read_csv('../../data/preprocessed/omdb_cleaned.csv')\n",
    "    keywords = pd.read_csv('keywordDict.csv', header=None, sep=';')\n",
    "    keywords = keywords.dropna()\n",
    "    keywords[1] = keywords[1].apply(lambda x: x[1:-1])\n",
    "    keywords[1] = keywords[1].apply(lambda x: x.split(','))\n",
    "    keywords[1] = keywords[1].apply(lambda x: x[0:threshold])\n",
    "    keywords = keywords.explode(1)\n",
    "    keywords_grouped = keywords.groupby(0)[1].apply(list).reset_index(name='keywords')\n",
    "    keywords_grouped = keywords_grouped.rename(columns={0: 'imdbID'})\n",
    "    mlb = MultiLabelBinarizer()\n",
    "    keywords_enc = pd.DataFrame(mlb.fit_transform(keywords_grouped['keywords']))\n",
    "    keywords_grouped = keywords_grouped.join(keywords_enc).drop(columns={'keywords'})\n",
    "    return keywords_grouped"
   ]
  },
  {
   "cell_type": "code",
   "execution_count": 19,
   "metadata": {},
   "outputs": [],
   "source": [
    "def get_newkeywords(threshold=200):\n",
    "    omdb = pd.read_csv('../../data/preprocessed/omdb_cleaned.csv')\n",
    "    newkeywords = pd.read_csv('../ContentbasedFiltering/keywordDict.csv', header=None, sep=';')\n",
    "    newkeywords = newkeywords.dropna()\n",
    "    newkeywords[1] = newkeywords[1].apply(lambda x: x[1:-1])\n",
    "    newkeywords[1] = newkeywords[1].apply(lambda x: x.split(','))\n",
    "    newkeywords = newkeywords.explode(1)\n",
    "    newkeywords_counts = pd.DataFrame(newkeywords[1].value_counts())\n",
    "    newkeywords_selected = newkeywords_counts[newkeywords_counts[1]>threshold]\n",
    "    newkeywords_selected = newkeywords.set_index(1).loc[newkeywords_selected.index].reset_index()\n",
    "    print(newkeywords)\n",
    "    newkeywords_selected = newkeywords_selected.rename(columns= {0: 'imdbID'})\n",
    "    newkeywords_grouped = newkeywords_selected.groupby('imdbID')[1].apply(list).reset_index(name='newkeywords')\n",
    "    mlb = MultiLabelBinarizer()\n",
    "    newkeywords_enc = pd.DataFrame(mlb.fit_transform(newkeywords_grouped['newkeywords']))\n",
    "    newkeywords_grouped = newkeywords_grouped.join(newkeywords_enc).drop(columns={'newkeywords'})\n",
    "    return newkeywords_grouped"
   ]
  },
  {
   "cell_type": "code",
   "execution_count": 25,
   "metadata": {},
   "outputs": [],
   "source": [
    "# get the information which of the threshold most frequent words are contained in a plot\n",
    "def get_plots(threshold=100):\n",
    "    omdb = pd.read_csv('../../data/preprocessed/omdb_cleaned.csv')\n",
    "    plots = pd.read_csv('../../data/preprocessed/plot.csv')\n",
    "    plots = plots.dropna()\n",
    "    punctuation = dict.fromkeys(i for i in range(sys.maxunicode)\n",
    "    if unicodedata.category(chr(i)).startswith('P'))\n",
    "    plots['Plot'] = [string.translate(punctuation) for string in plots['Plot']]\n",
    "    plots['Plot'] = plots['Plot'].apply(word_tokenize)\n",
    "    plots['Plot'] = plots['Plot'].apply(lambda x: [item.lower() for item in x])\n",
    "    stop_words = stopwords.words('english') + ['find', 'one', 'two', 'three', 'four','set', 'film','come', 'get', 'take', 'must', 'film', 'make', 'go', 'high', 'former', 'look','movie', 'make', 'go', 'high', 'us', 'use', 'whose', 'stop', 'sent', 'series', 'another', 'arrive', 'ii', 'bring', 'see', 'big', 'keep', 'cause', 'because', 'he', 'leave']\n",
    "    plots['Plot'] = plots['Plot'].apply(lambda x: [item for item in x if item not in stop_words])\n",
    "    porter = PorterStemmer()\n",
    "    plots['Plot'] = plots['Plot'].apply(lambda x: [porter.stem(word) for word in x])\n",
    "    plots = plots.explode('Plot')\n",
    "    plots_counts = pd.DataFrame(plots['Plot'].value_counts())\n",
    "    plots_selected = plots_counts[plots_counts['Plot']>threshold]\n",
    "    plots_selected = plots.set_index('Plot').loc[plots_selected.index].reset_index()\n",
    "    plots_grouped = plots_selected.groupby('imdbID')['Plot'].apply(list).reset_index(name='plots')\n",
    "    mlb = MultiLabelBinarizer()\n",
    "    plots_enc = pd.DataFrame(mlb.fit_transform(plots_grouped['plots']))\n",
    "    plots_grouped = plots_grouped.join(plots_enc).drop(columns={'plots'})\n",
    "    return plots_grouped"
   ]
  },
  {
   "cell_type": "code",
   "execution_count": 26,
   "metadata": {},
   "outputs": [],
   "source": [
    "# get the information which of the threshold most frequent directors are the directors of a certain movie\n",
    "def get_directors(threshold=5):\n",
    "    directors = pd.read_csv('../../data/raw/directors.csv', sep=',')\n",
    "    movies = pd.read_csv('../../data/preprocessed/movies_id_updated.csv')\n",
    "    mapping = movies[['id', 'imdbID']].rename(columns={'id':'movieID'})\n",
    "    director_counts = pd.DataFrame(directors['directorID'].value_counts())\n",
    "    directors_selected = director_counts[director_counts['directorID']>threshold]\n",
    "    directors_selected = directors.set_index('directorID').loc[directors_selected.index].reset_index()\n",
    "    # merge with imdbID, groupby imdbID and write the x most prominent directors as one entry per movie\n",
    "    directors_grouped = directors_selected.merge(mapping, on='movieID').groupby('imdbID')['directorID'].apply(list).reset_index(name='directors')\n",
    "    mlb = MultiLabelBinarizer()\n",
    "    directors_enc = pd.DataFrame(mlb.fit_transform(directors_grouped['directors']))\n",
    "    directors_grouped = directors_grouped.join(directors_enc).drop(columns={'directors'})\n",
    "    return directors_grouped"
   ]
  }
 ],
 "metadata": {
  "kernelspec": {
   "display_name": "Python 3",
   "language": "python",
   "name": "python3"
  },
  "language_info": {
   "codemirror_mode": {
    "name": "ipython",
    "version": 3
   },
   "file_extension": ".py",
   "mimetype": "text/x-python",
   "name": "python",
   "nbconvert_exporter": "python",
   "pygments_lexer": "ipython3",
   "version": "3.8.3"
  }
 },
 "nbformat": 4,
 "nbformat_minor": 4
}
