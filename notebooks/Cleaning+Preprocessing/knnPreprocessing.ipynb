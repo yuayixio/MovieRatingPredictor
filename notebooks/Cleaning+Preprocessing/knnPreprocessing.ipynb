{
 "cells": [
  {
   "cell_type": "markdown",
   "metadata": {},
   "source": [
    "### kNN Preprocessing"
   ]
  },
  {
   "cell_type": "code",
   "execution_count": 1,
   "metadata": {},
   "outputs": [],
   "source": [
    "import pandas as pd\n",
    "import numpy as np\n",
    "import string\n",
    "import math\n",
    "from sklearn.neighbors import NearestNeighbors\n",
    "from scipy.sparse import csr_matrix\n",
    "from sklearn import preprocessing\n",
    "from sklearn.metrics import accuracy_score\n",
    "from sklearn.metrics import mean_squared_error\n",
    "from sklearn.preprocessing import MultiLabelBinarizer\n",
    "from sklearn.decomposition import PCA\n",
    "kwargs = dict(random_state=42)"
   ]
  },
  {
   "cell_type": "code",
   "execution_count": 2,
   "metadata": {},
   "outputs": [],
   "source": [
    "movies = pd.read_csv('../../data/preprocessed/movies_id_updated.csv')\n",
    "average_ratings = pd.read_csv('../../data/preprocessed/average_ratings.csv')\n",
    "omdb = pd.read_csv('../../data/preprocessed/omdb_cleaned.csv')\n",
    "ratings = pd.read_csv('../../data/preprocessed/ratings_clean_std_0.csv')"
   ]
  },
  {
   "cell_type": "code",
   "execution_count": 6,
   "metadata": {},
   "outputs": [
    {
     "data": {
      "text/plain": [
       "Index(['Title', 'Year', 'Rated', 'Runtime', 'Writer', 'Plot', 'Language',\n",
       "       'imdbRating', 'imdbVotes', 'imdbID', 'Rotten Tomatoes', 'Metacritic',\n",
       "       'Series', 'Released_season', 'Released_month', 'Released_day',\n",
       "       'PG_Rating', 'Available_languages', 'Oscars_won', 'Oscars_nominated',\n",
       "       'Golden_globe_won', 'Golden_globe_nominated'],\n",
       "      dtype='object')"
      ]
     },
     "execution_count": 6,
     "metadata": {},
     "output_type": "execute_result"
    }
   ],
   "source": [
    "omdb.columns"
   ]
  },
  {
   "cell_type": "code",
   "execution_count": 7,
   "metadata": {},
   "outputs": [],
   "source": [
    "# Select relevant columns\n",
    "omdb = omdb[['imdbID', 'Year', 'Runtime', 'Language', 'imdbRating', 'imdbVotes', 'Rotten Tomatoes', 'Metacritic',\n",
    "       'Series', 'PG_Rating', 'Oscars_won', 'Oscars_nominated',\n",
    "       'Golden_globe_won', 'Golden_globe_nominated']]"
   ]
  },
  {
   "cell_type": "code",
   "execution_count": 8,
   "metadata": {},
   "outputs": [
    {
     "data": {
      "text/plain": [
       "imdbID                       0\n",
       "Year                         0\n",
       "Runtime                      9\n",
       "Language                     0\n",
       "imdbRating                   4\n",
       "imdbVotes                    5\n",
       "Rotten Tomatoes           1237\n",
       "Metacritic                4019\n",
       "Series                       0\n",
       "PG_Rating                 2314\n",
       "Oscars_won                   0\n",
       "Oscars_nominated             0\n",
       "Golden_globe_won             0\n",
       "Golden_globe_nominated       0\n",
       "dtype: int64"
      ]
     },
     "execution_count": 8,
     "metadata": {},
     "output_type": "execute_result"
    }
   ],
   "source": [
    "omdb.isna().sum()"
   ]
  },
  {
   "cell_type": "code",
   "execution_count": 9,
   "metadata": {},
   "outputs": [],
   "source": [
    "# Add movies which could not be retrieved by omdb\n",
    "imdb_ids = pd.DataFrame(movies['imdbID'].unique()).rename(columns={0:'imdbID'})\n",
    "omdb = imdb_ids.merge(omdb, how='left', on='imdbID')"
   ]
  },
  {
   "cell_type": "code",
   "execution_count": 14,
   "metadata": {},
   "outputs": [],
   "source": [
    "# Dropping the 10 almost empty movies\n",
    "indices = omdb[omdb['imdbRating'].isna()]['imdbID'].index\n",
    "for i in indices:\n",
    "    omdb = omdb.drop([i],axis=0,)"
   ]
  },
  {
   "cell_type": "code",
   "execution_count": 15,
   "metadata": {},
   "outputs": [
    {
     "data": {
      "text/plain": [
       "imdbID                       0\n",
       "Year                         0\n",
       "Runtime                      5\n",
       "Language                     0\n",
       "imdbRating                   0\n",
       "imdbVotes                    1\n",
       "Rotten Tomatoes           1236\n",
       "Metacritic                4015\n",
       "Series                       0\n",
       "PG_Rating                 2310\n",
       "Oscars_won                   0\n",
       "Oscars_nominated             0\n",
       "Golden_globe_won             0\n",
       "Golden_globe_nominated       0\n",
       "dtype: int64"
      ]
     },
     "execution_count": 15,
     "metadata": {},
     "output_type": "execute_result"
    }
   ],
   "source": [
    "omdb.isna().sum()"
   ]
  },
  {
   "cell_type": "code",
   "execution_count": 16,
   "metadata": {},
   "outputs": [],
   "source": [
    "# Replace for Series, PG and awards NaN with 0 and handle accordingly \n",
    "for i in range (9,14):\n",
    "    omdb.iloc[:,i] = omdb.iloc[:,i].fillna(0)"
   ]
  },
  {
   "cell_type": "code",
   "execution_count": 17,
   "metadata": {},
   "outputs": [
    {
     "data": {
      "text/plain": [
       "imdbID                       0\n",
       "Year                         0\n",
       "Runtime                      5\n",
       "Language                     0\n",
       "imdbRating                   0\n",
       "imdbVotes                    1\n",
       "Rotten Tomatoes           1236\n",
       "Metacritic                4015\n",
       "Series                       0\n",
       "PG_Rating                    0\n",
       "Oscars_won                   0\n",
       "Oscars_nominated             0\n",
       "Golden_globe_won             0\n",
       "Golden_globe_nominated       0\n",
       "dtype: int64"
      ]
     },
     "execution_count": 17,
     "metadata": {},
     "output_type": "execute_result"
    }
   ],
   "source": [
    "omdb.isna().sum()"
   ]
  },
  {
   "cell_type": "code",
   "execution_count": 18,
   "metadata": {},
   "outputs": [],
   "source": [
    "# Comment Max: Vorschlag - Stattdessen Median/Modalwert benutzen benutzen\n",
    "# Fill NaN Series\n",
    "omdb.loc[:,'Series'] = omdb.loc[:,'Series'].fillna(0)\n",
    "# Fill NaN Runtime\n",
    "omdb.loc[:,'Runtime'] = omdb.loc[:,'Runtime'].fillna(omdb.loc[:,'Runtime'].median())\n",
    "# Fill NaN for imdbVotes\n",
    "omdb.loc[:,'imdbVotes'] = omdb.loc[:,'imdbVotes'].fillna(omdb.loc[:,'imdbVotes'].median())\n",
    "#for i in range (4,16):\n",
    "    #omdb.iloc[:,i] = omdb.iloc[:,i].fillna(omdb.iloc[:,i].median())"
   ]
  },
  {
   "cell_type": "code",
   "execution_count": 19,
   "metadata": {},
   "outputs": [
    {
     "data": {
      "text/plain": [
       "count    8177.000000\n",
       "mean        6.223138\n",
       "std         2.812948\n",
       "min         0.000000\n",
       "25%         4.000000\n",
       "50%         6.800000\n",
       "75%         8.600000\n",
       "max        10.000000\n",
       "Name: Rotten Tomatoes, dtype: float64"
      ]
     },
     "execution_count": 19,
     "metadata": {},
     "output_type": "execute_result"
    }
   ],
   "source": [
    "omdb['Rotten Tomatoes'].describe()"
   ]
  },
  {
   "cell_type": "code",
   "execution_count": 20,
   "metadata": {},
   "outputs": [
    {
     "data": {
      "text/plain": [
       "count    5398.000000\n",
       "mean        5.779918\n",
       "std         1.842826\n",
       "min         0.100000\n",
       "25%         4.500000\n",
       "50%         5.900000\n",
       "75%         7.100000\n",
       "max        10.000000\n",
       "Name: Metacritic, dtype: float64"
      ]
     },
     "execution_count": 20,
     "metadata": {},
     "output_type": "execute_result"
    }
   ],
   "source": [
    "omdb['Metacritic'].describe()"
   ]
  },
  {
   "cell_type": "code",
   "execution_count": 21,
   "metadata": {},
   "outputs": [
    {
     "data": {
      "text/plain": [
       "0       False\n",
       "1       False\n",
       "2       False\n",
       "3       False\n",
       "4       False\n",
       "        ...  \n",
       "9418    False\n",
       "9419    False\n",
       "9420    False\n",
       "9421    False\n",
       "9422     True\n",
       "Name: Rotten Tomatoes, Length: 9413, dtype: bool"
      ]
     },
     "execution_count": 21,
     "metadata": {},
     "output_type": "execute_result"
    }
   ],
   "source": [
    "omdb['Rotten Tomatoes'].isna()"
   ]
  },
  {
   "cell_type": "code",
   "execution_count": 22,
   "metadata": {},
   "outputs": [],
   "source": [
    "omdb = omdb.rename(columns={\"Rotten Tomatoes\": \"RottenTomatoes\"})"
   ]
  },
  {
   "cell_type": "code",
   "execution_count": 23,
   "metadata": {},
   "outputs": [
    {
     "data": {
      "text/plain": [
       "nan"
      ]
     },
     "execution_count": 23,
     "metadata": {},
     "output_type": "execute_result"
    }
   ],
   "source": [
    "omdb.loc[9422, 'RottenTomatoes']"
   ]
  },
  {
   "cell_type": "code",
   "execution_count": 24,
   "metadata": {},
   "outputs": [
    {
     "data": {
      "text/plain": [
       "5.5"
      ]
     },
     "execution_count": 24,
     "metadata": {},
     "output_type": "execute_result"
    }
   ],
   "source": [
    "omdb.loc[9421, 'RottenTomatoes']"
   ]
  },
  {
   "cell_type": "code",
   "execution_count": 25,
   "metadata": {},
   "outputs": [
    {
     "data": {
      "text/plain": [
       "count    8177.000000\n",
       "mean        6.223138\n",
       "std         2.812948\n",
       "min         0.000000\n",
       "25%         4.000000\n",
       "50%         6.800000\n",
       "75%         8.600000\n",
       "max        10.000000\n",
       "Name: RottenTomatoes, dtype: float64"
      ]
     },
     "execution_count": 25,
     "metadata": {},
     "output_type": "execute_result"
    }
   ],
   "source": [
    "omdb['RottenTomatoes'].describe()"
   ]
  },
  {
   "cell_type": "code",
   "execution_count": 26,
   "metadata": {},
   "outputs": [
    {
     "data": {
      "text/plain": [
       "10.0"
      ]
     },
     "execution_count": 26,
     "metadata": {},
     "output_type": "execute_result"
    }
   ],
   "source": [
    "omdb.loc[0, 'RottenTomatoes']"
   ]
  },
  {
   "cell_type": "code",
   "execution_count": 27,
   "metadata": {},
   "outputs": [],
   "source": [
    "# Replace RT Score with Metacritic if NaN\n",
    "# where Replace values where the condition is False.\n",
    "omdb['RottenTomatoes'] = omdb['RottenTomatoes'].where(~omdb['RottenTomatoes'].isna(),omdb['Metacritic'])"
   ]
  },
  {
   "cell_type": "code",
   "execution_count": 32,
   "metadata": {},
   "outputs": [
    {
     "data": {
      "text/plain": [
       "0       9.5\n",
       "1       3.9\n",
       "2       5.3\n",
       "3       5.6\n",
       "4       4.9\n",
       "       ... \n",
       "9418    6.8\n",
       "9419    3.3\n",
       "9420    8.0\n",
       "9421    4.7\n",
       "9422    NaN\n",
       "Name: Metacritic, Length: 9413, dtype: float64"
      ]
     },
     "execution_count": 32,
     "metadata": {},
     "output_type": "execute_result"
    }
   ],
   "source": [
    "# Replace Metacritic with RT Scroe if NaN\n",
    "omdb['Metacritic'].where(~omdb['Metacritic'].isna(),omdb['RottenTomatoes'])"
   ]
  },
  {
   "cell_type": "code",
   "execution_count": 35,
   "metadata": {},
   "outputs": [],
   "source": [
    "# Fill remaining with mean()\n",
    "omdb['RottenTomatoes']=omdb['RottenTomatoes'].where(~omdb['RottenTomatoes'].isna(),omdb['RottenTomatoes'].mean())\n",
    "omdb['Metacritic']=omdb['Metacritic'].where(~omdb['Metacritic'].isna(),omdb['Metacritic'].mean())"
   ]
  },
  {
   "cell_type": "code",
   "execution_count": 36,
   "metadata": {},
   "outputs": [
    {
     "data": {
      "text/plain": [
       "0"
      ]
     },
     "execution_count": 36,
     "metadata": {},
     "output_type": "execute_result"
    }
   ],
   "source": [
    "omdb['Metacritic'].isna().sum()"
   ]
  },
  {
   "cell_type": "code",
   "execution_count": 37,
   "metadata": {},
   "outputs": [
    {
     "data": {
      "text/plain": [
       "0"
      ]
     },
     "execution_count": 37,
     "metadata": {},
     "output_type": "execute_result"
    }
   ],
   "source": [
    "omdb['RottenTomatoes'].isna().sum()"
   ]
  },
  {
   "cell_type": "code",
   "execution_count": 38,
   "metadata": {},
   "outputs": [],
   "source": [
    "merged_data = ratings.merge(omdb, how='left', on='imdbID')"
   ]
  },
  {
   "cell_type": "code",
   "execution_count": 39,
   "metadata": {},
   "outputs": [
    {
     "data": {
      "text/html": [
       "<div>\n",
       "<style scoped>\n",
       "    .dataframe tbody tr th:only-of-type {\n",
       "        vertical-align: middle;\n",
       "    }\n",
       "\n",
       "    .dataframe tbody tr th {\n",
       "        vertical-align: top;\n",
       "    }\n",
       "\n",
       "    .dataframe thead th {\n",
       "        text-align: right;\n",
       "    }\n",
       "</style>\n",
       "<table border=\"1\" class=\"dataframe\">\n",
       "  <thead>\n",
       "    <tr style=\"text-align: right;\">\n",
       "      <th></th>\n",
       "      <th>Unnamed: 0</th>\n",
       "      <th>user_id</th>\n",
       "      <th>imdbID</th>\n",
       "      <th>rating</th>\n",
       "      <th>Year</th>\n",
       "      <th>Runtime</th>\n",
       "      <th>Language</th>\n",
       "      <th>imdbRating</th>\n",
       "      <th>imdbVotes</th>\n",
       "      <th>RottenTomatoes</th>\n",
       "      <th>Metacritic</th>\n",
       "      <th>Series</th>\n",
       "      <th>PG_Rating</th>\n",
       "      <th>Oscars_won</th>\n",
       "      <th>Oscars_nominated</th>\n",
       "      <th>Golden_globe_won</th>\n",
       "      <th>Golden_globe_nominated</th>\n",
       "    </tr>\n",
       "  </thead>\n",
       "  <tbody>\n",
       "    <tr>\n",
       "      <th>0</th>\n",
       "      <td>0</td>\n",
       "      <td>1264</td>\n",
       "      <td>tt0047034</td>\n",
       "      <td>3.5</td>\n",
       "      <td>1954.0</td>\n",
       "      <td>96.0</td>\n",
       "      <td>['Japanese']</td>\n",
       "      <td>7.6</td>\n",
       "      <td>27485.0</td>\n",
       "      <td>9.3</td>\n",
       "      <td>7.800000</td>\n",
       "      <td>0.0</td>\n",
       "      <td>0.0</td>\n",
       "      <td>0.0</td>\n",
       "      <td>0.0</td>\n",
       "      <td>0.0</td>\n",
       "      <td>0.0</td>\n",
       "    </tr>\n",
       "    <tr>\n",
       "      <th>1</th>\n",
       "      <td>1</td>\n",
       "      <td>213</td>\n",
       "      <td>tt0304141</td>\n",
       "      <td>2.5</td>\n",
       "      <td>2004.0</td>\n",
       "      <td>142.0</td>\n",
       "      <td>['English']</td>\n",
       "      <td>7.9</td>\n",
       "      <td>524511.0</td>\n",
       "      <td>9.0</td>\n",
       "      <td>8.200000</td>\n",
       "      <td>0.0</td>\n",
       "      <td>1.0</td>\n",
       "      <td>0.0</td>\n",
       "      <td>2.0</td>\n",
       "      <td>0.0</td>\n",
       "      <td>0.0</td>\n",
       "    </tr>\n",
       "    <tr>\n",
       "      <th>2</th>\n",
       "      <td>2</td>\n",
       "      <td>593</td>\n",
       "      <td>tt0369436</td>\n",
       "      <td>3.0</td>\n",
       "      <td>2008.0</td>\n",
       "      <td>88.0</td>\n",
       "      <td>['English']</td>\n",
       "      <td>5.7</td>\n",
       "      <td>61335.0</td>\n",
       "      <td>2.4</td>\n",
       "      <td>4.100000</td>\n",
       "      <td>0.0</td>\n",
       "      <td>2.0</td>\n",
       "      <td>0.0</td>\n",
       "      <td>0.0</td>\n",
       "      <td>0.0</td>\n",
       "      <td>0.0</td>\n",
       "    </tr>\n",
       "    <tr>\n",
       "      <th>3</th>\n",
       "      <td>3</td>\n",
       "      <td>609</td>\n",
       "      <td>tt1077258</td>\n",
       "      <td>4.0</td>\n",
       "      <td>2007.0</td>\n",
       "      <td>105.0</td>\n",
       "      <td>['English']</td>\n",
       "      <td>7.1</td>\n",
       "      <td>196149.0</td>\n",
       "      <td>7.4</td>\n",
       "      <td>5.779918</td>\n",
       "      <td>0.0</td>\n",
       "      <td>0.0</td>\n",
       "      <td>0.0</td>\n",
       "      <td>0.0</td>\n",
       "      <td>0.0</td>\n",
       "      <td>0.0</td>\n",
       "    </tr>\n",
       "    <tr>\n",
       "      <th>4</th>\n",
       "      <td>4</td>\n",
       "      <td>1590</td>\n",
       "      <td>tt0052182</td>\n",
       "      <td>4.0</td>\n",
       "      <td>1958.0</td>\n",
       "      <td>100.0</td>\n",
       "      <td>['English']</td>\n",
       "      <td>7.4</td>\n",
       "      <td>6337.0</td>\n",
       "      <td>6.9</td>\n",
       "      <td>5.779918</td>\n",
       "      <td>0.0</td>\n",
       "      <td>0.0</td>\n",
       "      <td>2.0</td>\n",
       "      <td>0.0</td>\n",
       "      <td>0.0</td>\n",
       "      <td>0.0</td>\n",
       "    </tr>\n",
       "  </tbody>\n",
       "</table>\n",
       "</div>"
      ],
      "text/plain": [
       "   Unnamed: 0  user_id     imdbID  rating    Year  Runtime      Language  \\\n",
       "0           0     1264  tt0047034     3.5  1954.0     96.0  ['Japanese']   \n",
       "1           1      213  tt0304141     2.5  2004.0    142.0   ['English']   \n",
       "2           2      593  tt0369436     3.0  2008.0     88.0   ['English']   \n",
       "3           3      609  tt1077258     4.0  2007.0    105.0   ['English']   \n",
       "4           4     1590  tt0052182     4.0  1958.0    100.0   ['English']   \n",
       "\n",
       "   imdbRating  imdbVotes  RottenTomatoes  Metacritic  Series  PG_Rating  \\\n",
       "0         7.6    27485.0             9.3    7.800000     0.0        0.0   \n",
       "1         7.9   524511.0             9.0    8.200000     0.0        1.0   \n",
       "2         5.7    61335.0             2.4    4.100000     0.0        2.0   \n",
       "3         7.1   196149.0             7.4    5.779918     0.0        0.0   \n",
       "4         7.4     6337.0             6.9    5.779918     0.0        0.0   \n",
       "\n",
       "   Oscars_won  Oscars_nominated  Golden_globe_won  Golden_globe_nominated  \n",
       "0         0.0               0.0               0.0                     0.0  \n",
       "1         0.0               2.0               0.0                     0.0  \n",
       "2         0.0               0.0               0.0                     0.0  \n",
       "3         0.0               0.0               0.0                     0.0  \n",
       "4         2.0               0.0               0.0                     0.0  "
      ]
     },
     "execution_count": 39,
     "metadata": {},
     "output_type": "execute_result"
    }
   ],
   "source": [
    "merged_data.head()"
   ]
  },
  {
   "cell_type": "code",
   "execution_count": 40,
   "metadata": {},
   "outputs": [],
   "source": [
    "merged_data = merged_data.drop(columns={'Unnamed: 0','Language'})"
   ]
  },
  {
   "cell_type": "code",
   "execution_count": 41,
   "metadata": {},
   "outputs": [
    {
     "data": {
      "text/plain": [
       "user_id                     0\n",
       "imdbID                      0\n",
       "rating                      0\n",
       "Year                      269\n",
       "Runtime                   269\n",
       "imdbRating                269\n",
       "imdbVotes                 269\n",
       "RottenTomatoes            269\n",
       "Metacritic                269\n",
       "Series                    269\n",
       "PG_Rating                 269\n",
       "Oscars_won                269\n",
       "Oscars_nominated          269\n",
       "Golden_globe_won          269\n",
       "Golden_globe_nominated    269\n",
       "dtype: int64"
      ]
     },
     "execution_count": 41,
     "metadata": {},
     "output_type": "execute_result"
    }
   ],
   "source": [
    "# Comment Max: No NaN rows anymore - except for language for the missing movies\n",
    "merged_data.isna().sum()"
   ]
  },
  {
   "cell_type": "code",
   "execution_count": 42,
   "metadata": {},
   "outputs": [
    {
     "data": {
      "text/plain": [
       "array([ 47034., 304141., 369436., ...,  81433., 295480., 298072.])"
      ]
     },
     "execution_count": 42,
     "metadata": {},
     "output_type": "execute_result"
    }
   ],
   "source": [
    "# convert imdbID from string to float\n",
    "merged_data['imdbID'] = merged_data['imdbID'].str.replace(r'tt','')\n",
    "merged_data['imdbID'] = merged_data['imdbID'].astype(float)\n",
    "merged_data['imdbID'].unique()"
   ]
  },
  {
   "cell_type": "code",
   "execution_count": 45,
   "metadata": {},
   "outputs": [],
   "source": [
    "#Statt    \n",
    "    #Drop NaN rows - check later if it makes large difference!\n",
    "#merged_data = merged_data.dropna()\n",
    "\n",
    "# Jetzt einfach ma5 mean() eingefüllt\n",
    "for i in range (3,15):\n",
    "    merged_data.iloc[:,i] = merged_data.iloc[:,i].fillna(merged_data.iloc[:,i].median())"
   ]
  }
 ],
 "metadata": {
  "kernelspec": {
   "display_name": "Python 3",
   "language": "python",
   "name": "python3"
  },
  "language_info": {
   "codemirror_mode": {
    "name": "ipython",
    "version": 3
   },
   "file_extension": ".py",
   "mimetype": "text/x-python",
   "name": "python",
   "nbconvert_exporter": "python",
   "pygments_lexer": "ipython3",
   "version": "3.7.4"
  }
 },
 "nbformat": 4,
 "nbformat_minor": 4
}
