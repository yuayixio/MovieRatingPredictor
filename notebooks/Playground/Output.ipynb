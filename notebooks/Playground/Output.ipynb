{
 "cells": [
  {
   "cell_type": "markdown",
   "metadata": {},
   "source": [
    "<h2>EXPECTED OUTPUT</h2>"
   ]
  },
  {
   "cell_type": "code",
   "execution_count": 1,
   "metadata": {},
   "outputs": [],
   "source": [
    "import pandas as pd\n",
    "import numpy as np\n"
   ]
  },
  {
   "cell_type": "code",
   "execution_count": 28,
   "metadata": {},
   "outputs": [],
   "source": [
    "def putRatingsIntoFormat (userID, movieID, rating, output_df = pd.DataFrame(columns=[\"userID\",\"movieID\",\"rating\"])):\n",
    "    ratingList = pd.Series([userID, movieID, rating])\n",
    "    ratingList = {'userID':userID, \"movieID\":movieID, \"rating\":rating}\n",
    "    output_df = output_df.append(ratingList, ignore_index=True)\n",
    "    return output_df"
   ]
  }
 ],
 "metadata": {
  "kernelspec": {
   "display_name": "bda-analytics-challenge-ss2020",
   "language": "python",
   "name": "bda-analytics-challenge-ss2020"
  },
  "language_info": {
   "codemirror_mode": {
    "name": "ipython",
    "version": 3
   },
   "file_extension": ".py",
   "mimetype": "text/x-python",
   "name": "python",
   "nbconvert_exporter": "python",
   "pygments_lexer": "ipython3",
   "version": "3.8.0"
  }
 },
 "nbformat": 4,
 "nbformat_minor": 4
}
