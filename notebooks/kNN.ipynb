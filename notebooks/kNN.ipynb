{
 "cells": [
  {
   "cell_type": "markdown",
   "metadata": {},
   "source": [
    "# KNN Model"
   ]
  },
  {
   "cell_type": "code",
   "execution_count": 80,
   "metadata": {},
   "outputs": [],
   "source": [
    "import pandas as pd\n",
    "import numpy as np\n",
    "from sklearn.model_selection import train_test_split\n",
    "from sklearn.neighbors import KNeighborsClassifier\n",
    "from sklearn import preprocessing\n",
    "from sklearn.metrics import accuracy_score\n",
    "from sklearn.metrics import mean_squared_error\n",
    "\n",
    "# set random state for reproducibility\n",
    "kwargs = dict(random_state=42)"
   ]
  },
  {
   "cell_type": "code",
   "execution_count": 67,
   "metadata": {},
   "outputs": [],
   "source": [
    "# Load Datasets\n",
    "movies = pd.read_csv('../data/raw/movies.csv', sep=',')\n",
    "actors = pd.read_csv('../data/raw/actors.csv', sep=',')\n",
    "countries = pd.read_csv('../data/raw/countries.csv', sep=',')\n",
    "directors = pd.read_csv('../data/raw/directors.csv', sep=',')\n",
    "genres = pd.read_csv('../data/raw/genres.csv', sep=',')\n",
    "locations = pd.read_csv('../data/raw/locations.csv', sep=',')\n",
    "movie_tags = pd.read_csv('../data/raw/movie_tags.csv', sep=',')\n",
    "ratings = pd.read_csv('../data/raw/ratings.csv', sep=',')\n",
    "tags =  pd.read_csv('../data/raw/tags.csv', sep=',')"
   ]
  },
  {
   "cell_type": "code",
   "execution_count": 68,
   "metadata": {},
   "outputs": [],
   "source": [
    "#Merging data like Christin -> created csv was 1,11GB \n",
    "tags = tags.rename(columns = {'id':'tagID'})\n",
    "tags_movies_merged = pd.merge(movie_tags, tags, how = 'outer', on = 'tagID')\n",
    "tags_new = tags_movies_merged.dropna()\n",
    "movies = movies[['id', 'title', 'year']]\n",
    "movies = movies.rename(columns = {'id':'movieID'})\n",
    "merged_movies = pd.merge(movies, tags_new, how = 'outer', on='movieID')\n",
    "merged_movies = pd.merge(merged_movies, ratings, how='outer', on='movieID')\n",
    "merged_movies = merged_movies.dropna()"
   ]
  },
  {
   "cell_type": "code",
   "execution_count": 69,
   "metadata": {},
   "outputs": [
    {
     "data": {
      "text/html": [
       "<div>\n",
       "<style scoped>\n",
       "    .dataframe tbody tr th:only-of-type {\n",
       "        vertical-align: middle;\n",
       "    }\n",
       "\n",
       "    .dataframe tbody tr th {\n",
       "        vertical-align: top;\n",
       "    }\n",
       "\n",
       "    .dataframe thead th {\n",
       "        text-align: right;\n",
       "    }\n",
       "</style>\n",
       "<table border=\"1\" class=\"dataframe\">\n",
       "  <thead>\n",
       "    <tr style=\"text-align: right;\">\n",
       "      <th></th>\n",
       "      <th>movieID</th>\n",
       "      <th>title</th>\n",
       "      <th>year</th>\n",
       "      <th>tagID</th>\n",
       "      <th>tagWeight</th>\n",
       "      <th>value</th>\n",
       "      <th>user_id</th>\n",
       "      <th>rating</th>\n",
       "    </tr>\n",
       "  </thead>\n",
       "  <tbody>\n",
       "    <tr>\n",
       "      <th>0</th>\n",
       "      <td>1</td>\n",
       "      <td>Toy story</td>\n",
       "      <td>1995.0</td>\n",
       "      <td>7.0</td>\n",
       "      <td>1.0</td>\n",
       "      <td>funny</td>\n",
       "      <td>1339.0</td>\n",
       "      <td>5.0</td>\n",
       "    </tr>\n",
       "    <tr>\n",
       "      <th>1</th>\n",
       "      <td>1</td>\n",
       "      <td>Toy story</td>\n",
       "      <td>1995.0</td>\n",
       "      <td>7.0</td>\n",
       "      <td>1.0</td>\n",
       "      <td>funny</td>\n",
       "      <td>551.0</td>\n",
       "      <td>3.5</td>\n",
       "    </tr>\n",
       "    <tr>\n",
       "      <th>2</th>\n",
       "      <td>1</td>\n",
       "      <td>Toy story</td>\n",
       "      <td>1995.0</td>\n",
       "      <td>7.0</td>\n",
       "      <td>1.0</td>\n",
       "      <td>funny</td>\n",
       "      <td>336.0</td>\n",
       "      <td>4.5</td>\n",
       "    </tr>\n",
       "    <tr>\n",
       "      <th>3</th>\n",
       "      <td>1</td>\n",
       "      <td>Toy story</td>\n",
       "      <td>1995.0</td>\n",
       "      <td>7.0</td>\n",
       "      <td>1.0</td>\n",
       "      <td>funny</td>\n",
       "      <td>1087.0</td>\n",
       "      <td>3.5</td>\n",
       "    </tr>\n",
       "    <tr>\n",
       "      <th>4</th>\n",
       "      <td>1</td>\n",
       "      <td>Toy story</td>\n",
       "      <td>1995.0</td>\n",
       "      <td>7.0</td>\n",
       "      <td>1.0</td>\n",
       "      <td>funny</td>\n",
       "      <td>1598.0</td>\n",
       "      <td>4.0</td>\n",
       "    </tr>\n",
       "    <tr>\n",
       "      <th>...</th>\n",
       "      <td>...</td>\n",
       "      <td>...</td>\n",
       "      <td>...</td>\n",
       "      <td>...</td>\n",
       "      <td>...</td>\n",
       "      <td>...</td>\n",
       "      <td>...</td>\n",
       "      <td>...</td>\n",
       "    </tr>\n",
       "    <tr>\n",
       "      <th>15663059</th>\n",
       "      <td>65126</td>\n",
       "      <td>Choke</td>\n",
       "      <td>2008.0</td>\n",
       "      <td>5281.0</td>\n",
       "      <td>1.0</td>\n",
       "      <td>based on book</td>\n",
       "      <td>1273.0</td>\n",
       "      <td>3.0</td>\n",
       "    </tr>\n",
       "    <tr>\n",
       "      <th>15663060</th>\n",
       "      <td>65126</td>\n",
       "      <td>Choke</td>\n",
       "      <td>2008.0</td>\n",
       "      <td>5281.0</td>\n",
       "      <td>1.0</td>\n",
       "      <td>based on book</td>\n",
       "      <td>599.0</td>\n",
       "      <td>3.5</td>\n",
       "    </tr>\n",
       "    <tr>\n",
       "      <th>15663061</th>\n",
       "      <td>65126</td>\n",
       "      <td>Choke</td>\n",
       "      <td>2008.0</td>\n",
       "      <td>13168.0</td>\n",
       "      <td>1.0</td>\n",
       "      <td>chuck palahniuk</td>\n",
       "      <td>1273.0</td>\n",
       "      <td>3.0</td>\n",
       "    </tr>\n",
       "    <tr>\n",
       "      <th>15663062</th>\n",
       "      <td>65126</td>\n",
       "      <td>Choke</td>\n",
       "      <td>2008.0</td>\n",
       "      <td>13168.0</td>\n",
       "      <td>1.0</td>\n",
       "      <td>chuck palahniuk</td>\n",
       "      <td>599.0</td>\n",
       "      <td>3.5</td>\n",
       "    </tr>\n",
       "    <tr>\n",
       "      <th>15663063</th>\n",
       "      <td>65130</td>\n",
       "      <td>Revolutionary Road</td>\n",
       "      <td>2008.0</td>\n",
       "      <td>2924.0</td>\n",
       "      <td>1.0</td>\n",
       "      <td>toplist08</td>\n",
       "      <td>817.0</td>\n",
       "      <td>2.5</td>\n",
       "    </tr>\n",
       "  </tbody>\n",
       "</table>\n",
       "<p>15630145 rows × 8 columns</p>\n",
       "</div>"
      ],
      "text/plain": [
       "          movieID               title    year    tagID  tagWeight  \\\n",
       "0               1           Toy story  1995.0      7.0        1.0   \n",
       "1               1           Toy story  1995.0      7.0        1.0   \n",
       "2               1           Toy story  1995.0      7.0        1.0   \n",
       "3               1           Toy story  1995.0      7.0        1.0   \n",
       "4               1           Toy story  1995.0      7.0        1.0   \n",
       "...           ...                 ...     ...      ...        ...   \n",
       "15663059    65126               Choke  2008.0   5281.0        1.0   \n",
       "15663060    65126               Choke  2008.0   5281.0        1.0   \n",
       "15663061    65126               Choke  2008.0  13168.0        1.0   \n",
       "15663062    65126               Choke  2008.0  13168.0        1.0   \n",
       "15663063    65130  Revolutionary Road  2008.0   2924.0        1.0   \n",
       "\n",
       "                    value  user_id  rating  \n",
       "0                   funny   1339.0     5.0  \n",
       "1                   funny    551.0     3.5  \n",
       "2                   funny    336.0     4.5  \n",
       "3                   funny   1087.0     3.5  \n",
       "4                   funny   1598.0     4.0  \n",
       "...                   ...      ...     ...  \n",
       "15663059    based on book   1273.0     3.0  \n",
       "15663060    based on book    599.0     3.5  \n",
       "15663061  chuck palahniuk   1273.0     3.0  \n",
       "15663062  chuck palahniuk    599.0     3.5  \n",
       "15663063        toplist08    817.0     2.5  \n",
       "\n",
       "[15630145 rows x 8 columns]"
      ]
     },
     "execution_count": 69,
     "metadata": {},
     "output_type": "execute_result"
    }
   ],
   "source": [
    "merged_movies"
   ]
  },
  {
   "cell_type": "code",
   "execution_count": 71,
   "metadata": {},
   "outputs": [],
   "source": [
    "merged_movies = merged_movies.drop(['tagID', 'tagWeight'], axis=1)"
   ]
  },
  {
   "cell_type": "code",
   "execution_count": 72,
   "metadata": {},
   "outputs": [
    {
     "data": {
      "text/html": [
       "<div>\n",
       "<style scoped>\n",
       "    .dataframe tbody tr th:only-of-type {\n",
       "        vertical-align: middle;\n",
       "    }\n",
       "\n",
       "    .dataframe tbody tr th {\n",
       "        vertical-align: top;\n",
       "    }\n",
       "\n",
       "    .dataframe thead th {\n",
       "        text-align: right;\n",
       "    }\n",
       "</style>\n",
       "<table border=\"1\" class=\"dataframe\">\n",
       "  <thead>\n",
       "    <tr style=\"text-align: right;\">\n",
       "      <th></th>\n",
       "      <th>movieID</th>\n",
       "      <th>title</th>\n",
       "      <th>year</th>\n",
       "      <th>value</th>\n",
       "      <th>user_id</th>\n",
       "      <th>rating</th>\n",
       "    </tr>\n",
       "  </thead>\n",
       "  <tbody>\n",
       "    <tr>\n",
       "      <th>0</th>\n",
       "      <td>1</td>\n",
       "      <td>Toy story</td>\n",
       "      <td>1995.0</td>\n",
       "      <td>funny</td>\n",
       "      <td>1339.0</td>\n",
       "      <td>5.0</td>\n",
       "    </tr>\n",
       "    <tr>\n",
       "      <th>1</th>\n",
       "      <td>1</td>\n",
       "      <td>Toy story</td>\n",
       "      <td>1995.0</td>\n",
       "      <td>funny</td>\n",
       "      <td>551.0</td>\n",
       "      <td>3.5</td>\n",
       "    </tr>\n",
       "    <tr>\n",
       "      <th>2</th>\n",
       "      <td>1</td>\n",
       "      <td>Toy story</td>\n",
       "      <td>1995.0</td>\n",
       "      <td>funny</td>\n",
       "      <td>336.0</td>\n",
       "      <td>4.5</td>\n",
       "    </tr>\n",
       "    <tr>\n",
       "      <th>3</th>\n",
       "      <td>1</td>\n",
       "      <td>Toy story</td>\n",
       "      <td>1995.0</td>\n",
       "      <td>funny</td>\n",
       "      <td>1087.0</td>\n",
       "      <td>3.5</td>\n",
       "    </tr>\n",
       "    <tr>\n",
       "      <th>4</th>\n",
       "      <td>1</td>\n",
       "      <td>Toy story</td>\n",
       "      <td>1995.0</td>\n",
       "      <td>funny</td>\n",
       "      <td>1598.0</td>\n",
       "      <td>4.0</td>\n",
       "    </tr>\n",
       "    <tr>\n",
       "      <th>...</th>\n",
       "      <td>...</td>\n",
       "      <td>...</td>\n",
       "      <td>...</td>\n",
       "      <td>...</td>\n",
       "      <td>...</td>\n",
       "      <td>...</td>\n",
       "    </tr>\n",
       "    <tr>\n",
       "      <th>15663059</th>\n",
       "      <td>65126</td>\n",
       "      <td>Choke</td>\n",
       "      <td>2008.0</td>\n",
       "      <td>based on book</td>\n",
       "      <td>1273.0</td>\n",
       "      <td>3.0</td>\n",
       "    </tr>\n",
       "    <tr>\n",
       "      <th>15663060</th>\n",
       "      <td>65126</td>\n",
       "      <td>Choke</td>\n",
       "      <td>2008.0</td>\n",
       "      <td>based on book</td>\n",
       "      <td>599.0</td>\n",
       "      <td>3.5</td>\n",
       "    </tr>\n",
       "    <tr>\n",
       "      <th>15663061</th>\n",
       "      <td>65126</td>\n",
       "      <td>Choke</td>\n",
       "      <td>2008.0</td>\n",
       "      <td>chuck palahniuk</td>\n",
       "      <td>1273.0</td>\n",
       "      <td>3.0</td>\n",
       "    </tr>\n",
       "    <tr>\n",
       "      <th>15663062</th>\n",
       "      <td>65126</td>\n",
       "      <td>Choke</td>\n",
       "      <td>2008.0</td>\n",
       "      <td>chuck palahniuk</td>\n",
       "      <td>599.0</td>\n",
       "      <td>3.5</td>\n",
       "    </tr>\n",
       "    <tr>\n",
       "      <th>15663063</th>\n",
       "      <td>65130</td>\n",
       "      <td>Revolutionary Road</td>\n",
       "      <td>2008.0</td>\n",
       "      <td>toplist08</td>\n",
       "      <td>817.0</td>\n",
       "      <td>2.5</td>\n",
       "    </tr>\n",
       "  </tbody>\n",
       "</table>\n",
       "<p>15630145 rows × 6 columns</p>\n",
       "</div>"
      ],
      "text/plain": [
       "          movieID               title    year            value  user_id  \\\n",
       "0               1           Toy story  1995.0            funny   1339.0   \n",
       "1               1           Toy story  1995.0            funny    551.0   \n",
       "2               1           Toy story  1995.0            funny    336.0   \n",
       "3               1           Toy story  1995.0            funny   1087.0   \n",
       "4               1           Toy story  1995.0            funny   1598.0   \n",
       "...           ...                 ...     ...              ...      ...   \n",
       "15663059    65126               Choke  2008.0    based on book   1273.0   \n",
       "15663060    65126               Choke  2008.0    based on book    599.0   \n",
       "15663061    65126               Choke  2008.0  chuck palahniuk   1273.0   \n",
       "15663062    65126               Choke  2008.0  chuck palahniuk    599.0   \n",
       "15663063    65130  Revolutionary Road  2008.0        toplist08    817.0   \n",
       "\n",
       "          rating  \n",
       "0            5.0  \n",
       "1            3.5  \n",
       "2            4.5  \n",
       "3            3.5  \n",
       "4            4.0  \n",
       "...          ...  \n",
       "15663059     3.0  \n",
       "15663060     3.5  \n",
       "15663061     3.0  \n",
       "15663062     3.5  \n",
       "15663063     2.5  \n",
       "\n",
       "[15630145 rows x 6 columns]"
      ]
     },
     "execution_count": 72,
     "metadata": {},
     "output_type": "execute_result"
    }
   ],
   "source": [
    "merged_movies"
   ]
  },
  {
   "cell_type": "code",
   "execution_count": 73,
   "metadata": {},
   "outputs": [],
   "source": [
    "attributes = ['movieID','title','year', 'value','user_id','rating']"
   ]
  },
  {
   "cell_type": "code",
   "execution_count": 105,
   "metadata": {},
   "outputs": [],
   "source": [
    "X = np.array(merged_movies.iloc[:,0:5])\n",
    "\n",
    "y = np.array(merged_movies['rating'])"
   ]
  },
  {
   "cell_type": "code",
   "execution_count": 106,
   "metadata": {},
   "outputs": [
    {
     "name": "stdout",
     "output_type": "stream",
     "text": [
      "(15630145, 5)\n",
      "(15630145,)\n"
     ]
    }
   ],
   "source": [
    "# Checking Array dimensions\n",
    "print(X.shape)\n",
    "print(y.shape)"
   ]
  },
  {
   "cell_type": "code",
   "execution_count": 107,
   "metadata": {},
   "outputs": [],
   "source": [
    "# Preprocess Data: Remove all Strings\n",
    "le = preprocessing.LabelEncoder()\n",
    "for i in range(0,5):\n",
    "    X[:,i] = le.fit_transform(X[:,i])"
   ]
  },
  {
   "cell_type": "code",
   "execution_count": 108,
   "metadata": {},
   "outputs": [],
   "source": [
    "y = le.fit_transform(y)"
   ]
  },
  {
   "cell_type": "code",
   "execution_count": 114,
   "metadata": {},
   "outputs": [],
   "source": [
    "# split into training and test set\n",
    "#TODO Split Data in Three and optimize for validation set to compare rmse and accuracy for Validation and Test Set!\n",
    "\n",
    "X_train, X_test, y_train, y_test = train_test_split(X, y, test_size=1/5, **kwargs)\n"
   ]
  },
  {
   "cell_type": "code",
   "execution_count": 115,
   "metadata": {},
   "outputs": [],
   "source": [
    "# Define Classifier\n",
    "knn = KNeighborsClassifier(n_neighbors=100,n_jobs=-1)"
   ]
  },
  {
   "cell_type": "code",
   "execution_count": 116,
   "metadata": {},
   "outputs": [
    {
     "name": "stdout",
     "output_type": "stream",
     "text": [
      "Training\n"
     ]
    },
    {
     "data": {
      "text/plain": [
       "KNeighborsClassifier(n_jobs=-1, n_neighbors=100)"
      ]
     },
     "execution_count": 116,
     "metadata": {},
     "output_type": "execute_result"
    }
   ],
   "source": [
    "#training Classifier\n",
    "print(\"Training\")\n",
    "knn.fit(X_train, y_train)"
   ]
  },
  {
   "cell_type": "code",
   "execution_count": 117,
   "metadata": {},
   "outputs": [
    {
     "name": "stdout",
     "output_type": "stream",
     "text": [
      "Do Prediction\n"
     ]
    }
   ],
   "source": [
    "# Do predictions\n",
    "print(\"Do Prediction\")\n",
    "pred = knn.predict(X_test)"
   ]
  },
  {
   "cell_type": "code",
   "execution_count": 118,
   "metadata": {},
   "outputs": [
    {
     "name": "stdout",
     "output_type": "stream",
     "text": [
      "Accuracy : 0.2935027154258646\n",
      "RMSE : 1.9612536346100242\n"
     ]
    }
   ],
   "source": [
    "# Check Accuracy\n",
    "print(\"Accuracy : {}\".format(accuracy_score(y_test, pred)))\n",
    "#RMSE for ratings [0,5]\n",
    "print(\"RMSE : {}\".format(mean_squared_error(y_test, pred, squared=False)))"
   ]
  },
  {
   "cell_type": "code",
   "execution_count": null,
   "metadata": {},
   "outputs": [
    {
     "name": "stdout",
     "output_type": "stream",
     "text": [
      "Testing Classifier for k=50\n"
     ]
    }
   ],
   "source": [
    "#Improve Algorithm and find out good k to choose\n",
    "#Limit data set to 10000 rows for finding optimal k\n",
    "#!Only execute this cell with time and computational power!\n",
    "\n",
    "limited_movies = merged_movies.iloc[:10000]\n",
    "\n",
    "X = np.array(limited_movies.iloc[:,0:5])\n",
    "\n",
    "y = np.array(limited_movies['rating'])\n",
    "\n",
    "k_acc_scores = []\n",
    "#start = timeit.default_timer()\n",
    "\n",
    "for k in range(50, 60):\n",
    "\n",
    "    print(\"Testing Classifier for k=\"+str(k))   \n",
    "    knn = KNeighborsClassifier(n_neighbors=k,n_jobs=-1)\n",
    "    knn.fit(X_train, y_train)\n",
    "    pred = knn.predict(X_test)\n",
    "    k_acc_scores.append(\"k({}) = Accuracy: {} RMSE: {} \".format(k, accuracy_score(y_test, pred), mean_squared_error(y_test, pred, squared=False)))\n",
    "    \n",
    "print(k_acc_scores)\n",
    "\n",
    "#stop = timeit.default_timer()\n",
    "\n",
    "#print('Computing Time: ', stop - start) "
   ]
  },
  {
   "cell_type": "code",
   "execution_count": null,
   "metadata": {},
   "outputs": [],
   "source": []
  }
 ],
 "metadata": {
  "kernelspec": {
   "display_name": "bda-analytics-challenge-ss2020",
   "language": "python",
   "name": "bda-analytics-challenge-ss2020"
  },
  "language_info": {
   "codemirror_mode": {
    "name": "ipython",
    "version": 3
   },
   "file_extension": ".py",
   "mimetype": "text/x-python",
   "name": "python",
   "nbconvert_exporter": "python",
   "pygments_lexer": "ipython3",
   "version": "3.8.2"
  }
 },
 "nbformat": 4,
 "nbformat_minor": 4
}
