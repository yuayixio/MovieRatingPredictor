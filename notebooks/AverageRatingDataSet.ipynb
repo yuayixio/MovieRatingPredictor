{
 "cells": [
  {
   "cell_type": "markdown",
   "metadata": {},
   "source": [
    "# Buiding Average Rating Dataset"
   ]
  },
  {
   "cell_type": "code",
   "execution_count": null,
   "metadata": {},
   "outputs": [],
   "source": [
    "import pandas as pd\n",
    "import numpy as np"
   ]
  },
  {
   "cell_type": "code",
   "execution_count": null,
   "metadata": {},
   "outputs": [],
   "source": [
    "movies = pd.read_csv('../data/preprocessed/movies_id_updated.csv', sep=',')\n",
    "ratings = pd.read_csv('../data/raw/ratings.csv', sep=',')\n",
    "omdb = pd.read_csv('../data/raw/omdb_total.csv')"
   ]
  },
  {
   "cell_type": "code",
   "execution_count": null,
   "metadata": {},
   "outputs": [],
   "source": []
  },
  {
   "cell_type": "code",
   "execution_count": null,
   "metadata": {},
   "outputs": [],
   "source": [
    "omdb = omdb.drop(['Production','Website','totalSeasons','Season','Episode','seriesID','Type','BoxOffice','DVD','Response','Poster'],axis=1)"
   ]
  },
  {
   "cell_type": "code",
   "execution_count": null,
   "metadata": {},
   "outputs": [],
   "source": [
    "movie_data = pd.merge(rated_movies, omdb, how = 'outer', on = 'imdbID')"
   ]
  },
  {
   "cell_type": "code",
   "execution_count": null,
   "metadata": {},
   "outputs": [],
   "source": []
  },
  {
   "cell_type": "code",
   "execution_count": null,
   "metadata": {},
   "outputs": [],
   "source": [
    "average_ratings = movie_data"
   ]
  },
  {
   "cell_type": "code",
   "execution_count": null,
   "metadata": {},
   "outputs": [],
   "source": [
    "average_ratings = average_ratings.drop(['spanishTitle','imdbPictureURL','Year','year','Rated','Released','Runtime','Genre','Title','Director','Writer','Actors','rtID','rtPictureURL','Plot','Language','Country','Awards','imdbVotes'],axis=1)"
   ]
  },
  {
   "cell_type": "code",
   "execution_count": null,
   "metadata": {},
   "outputs": [],
   "source": [
    "average_ratings.describe()"
   ]
  },
  {
   "cell_type": "code",
   "execution_count": null,
   "metadata": {},
   "outputs": [],
   "source": [
    "average_ratings = average_ratings.sort_values(by=['imdbID'])"
   ]
  },
  {
   "cell_type": "code",
   "execution_count": null,
   "metadata": {},
   "outputs": [],
   "source": [
    "avg = average_ratings.groupby('imdbID') ['rating'].mean()\n",
    "average_ratings = average_ratings.join(avg, on='imdbID', rsuffix='Avg')\n",
    "\n",
    "imdb_avg = average_ratings.groupby('imdbID')['imdbRating'].mean()\n",
    "average_ratings = average_ratings.join(imdb_avg, on='imdbID', rsuffix=' Avg')\n",
    "\n",
    "rt_avg = average_ratings.groupby('imdbID')['Rotten Tomatoes'].mean()\n",
    "average_ratings = average_ratings.join(rt_avg, on='imdbID', rsuffix='Avg')\n",
    "\n",
    "iMB_avg = average_ratings.groupby('imdbID')['Internet Movie Database'].mean()\n",
    "average_ratings = average_ratings.join(iMB_avg, on='imdbID', rsuffix=' Avg')\n",
    "\n",
    "metascore_avg = average_ratings.groupby('imdbID')['Metascore'].mean()\n",
    "average_ratings = average_ratings.join(metascore_avg, on='imdbID', rsuffix=' Avg')\n",
    "\n",
    "metacritic_avg = average_ratings.groupby('imdbID')['Metacritic'].mean()\n",
    "average_ratings = average_ratings.join(metacritic_avg, on='imdbID', rsuffix=' Avg')"
   ]
  },
  {
   "cell_type": "code",
   "execution_count": null,
   "metadata": {},
   "outputs": [],
   "source": [
    "average_ratings.describe()"
   ]
  },
  {
   "cell_type": "code",
   "execution_count": null,
   "metadata": {},
   "outputs": [],
   "source": [
    "average_ratings = average_ratings.drop(['user_id','rating','rating','Metascore','imdbRating','Internet Movie Database', 'Rotten Tomatoes', 'Metacritic'],axis=1)"
   ]
  },
  {
   "cell_type": "code",
   "execution_count": null,
   "metadata": {},
   "outputs": [],
   "source": [
    "average_ratings = average_ratings.drop_duplicates(subset=\"imdbID\")"
   ]
  },
  {
   "cell_type": "code",
   "execution_count": null,
   "metadata": {},
   "outputs": [],
   "source": [
    "# Export\n",
    "average_ratings.to_csv('../data/preprocessed/average_ratings.csv')"
   ]
  }
 ],
 "metadata": {
  "kernelspec": {
   "display_name": "bda-analytics-challenge-ss2020",
   "language": "python",
   "name": "bda-analytics-challenge-ss2020"
  },
  "language_info": {
   "codemirror_mode": {
    "name": "ipython",
    "version": 3
   },
   "file_extension": ".py",
   "mimetype": "text/x-python",
   "name": "python",
   "nbconvert_exporter": "python",
   "pygments_lexer": "ipython3",
   "version": "3.8.2"
  }
 },
 "nbformat": 4,
 "nbformat_minor": 4
}
