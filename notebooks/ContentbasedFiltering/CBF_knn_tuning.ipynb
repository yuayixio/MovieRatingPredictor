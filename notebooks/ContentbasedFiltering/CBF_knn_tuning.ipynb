{
 "cells": [
  {
   "cell_type": "markdown",
   "metadata": {},
   "source": [
    "# Content-based Filtering\n",
    "\n",
    "Aproach:\n",
    "- Table mit Features und Ratings erstellen, ohne User - auf Basis des OMDB Datasets\n",
    "\n",
    "- sklearn-kNN mit cosine-similarity darauf anwenden\n",
    "\n",
    "- Funktion schreiben, die auf basis des ratings der neighbours das rating eines Filmes vorhersagt.\n"
   ]
  },
  {
   "cell_type": "code",
   "execution_count": 1,
   "metadata": {
    "collapsed": false,
    "jupyter": {
     "outputs_hidden": false
    },
    "pycharm": {
     "name": "#%%\n"
    }
   },
   "outputs": [],
   "source": [
    "import pandas as pd\n",
    "import numpy as np\n",
    "import time\n",
    "import getpass \n",
    "\n",
    "from itertools import product\n",
    "import knn_Carmen\n",
    "import nltk\n",
    "\n",
    "from sklearn.neighbors import NearestNeighbors\n",
    "from sklearn.metrics import mean_squared_error\n",
    "\n",
    "kwargs = dict(random_state=42)"
   ]
  },
  {
   "cell_type": "code",
   "execution_count": null,
   "metadata": {
    "collapsed": false,
    "jupyter": {
     "outputs_hidden": false
    },
    "pycharm": {
     "name": "#%%\n"
    }
   },
   "outputs": [],
   "source": [
    "# function that computes a rating based on the neighbors\n",
    "def compute_rating(neighbors, distances, mean):\n",
    "    if mean:\n",
    "        # Mittelwert der k-nächsten Nachbarn\n",
    "\n",
    "        pred = neighbors.mean()\n",
    "    else:\n",
    "        # Gewichtung der Bewertung der Nachbarn je nach Distanz\n",
    "        pred = sum(neighbors*((1/(distances[0]+0.000001)**1)/(sum((1/(distances[0]+0.000001)**1)))))\n",
    "\n",
    "    return float(pred)"
   ]
  },
  {
   "cell_type": "code",
   "execution_count": 3,
   "metadata": {
    "collapsed": false,
    "jupyter": {
     "outputs_hidden": false
    },
    "pycharm": {
     "name": "#%%\n"
    }
   },
   "outputs": [],
   "source": [
    "## function that predicts the rating of a movie from its imdbID and its nearest neighbors\n",
    "\n",
    "def predict_movie_rating(imdbID, ratings, feature_data, mean, knn_metric, set_k, k_neighbors=10):\n",
    "    \n",
    "    #If no explicit number of neighbors is passed -> use variable neighbors function\n",
    "    if set_k:\n",
    "        k_neighbors = k_neighbors\n",
    "    else:    \n",
    "        k_neighbors = adjust_k(ratings)\n",
    "\n",
    "  \n",
    "    # Get real rating -> remove this in the end -> currently done for validation\n",
    "    real_ratings = ratings.loc[(ratings['imdbID'] == imdbID)]\n",
    "    real_idx = ratings.loc[(ratings['imdbID'] == imdbID)].index\n",
    "    \n",
    "    #remove real rating for training\n",
    "    ratings = ratings[ratings['imdbID'] != imdbID] \n",
    "    \n",
    "    # Set algorithm and params\n",
    "    knn = NearestNeighbors(metric=knn_metric, algorithm='brute', n_neighbors=k_neighbors, n_jobs=-1)\n",
    "    \n",
    "    #Select features rated by user for training\n",
    "    feat = feature_data[ratings['imdbID'].index]\n",
    "\n",
    "    ratings.reset_index(inplace=True, drop=False)\n",
    "    \n",
    "    #train algorithm\n",
    "    knn.fit(feat)\n",
    "\n",
    "    #generate input data\n",
    "    input_data = feature_data[real_idx]\n",
    "    input_data = input_data.reshape(1, -1)\n",
    "\n",
    "    #Prediction -> get x nearest neighbors of imdbID\n",
    "    distances, indices = knn.kneighbors(input_data, n_neighbors=k_neighbors)\n",
    "\n",
    "    # Zieht indices und ratings der neighbors\n",
    "    neighbor_ratings = ratings['rating'].loc[indices[0]]\n",
    "\n",
    "    #Calculate rating\n",
    "    pred = compute_rating(neighbor_ratings, distances, mean)\n",
    "\n",
    "    return pred, real_ratings['rating'].values[0]"
   ]
  },
  {
   "cell_type": "code",
   "execution_count": null,
   "metadata": {},
   "outputs": [],
   "source": [
    "#Use optimal k based on # rated movies\n",
    "def adjust_k(ratings_k):\n",
    "    adjusted_k = 10\n",
    "    r_size = len(ratings_k)\n",
    "  \n",
    "    if 40 < r_size < 100:\n",
    "        adjusted_k = 15\n",
    "    elif 100 < r_size < 500:\n",
    "        adjusted_k = 20\n",
    "    elif 500 < r_size < 1500:\n",
    "        adjusted_k = 25\n",
    "    elif r_size  > 1500:\n",
    "        adjusted_k = 30\n",
    "\n",
    "    return adjusted_k"
   ]
  },
  {
   "cell_type": "code",
   "execution_count": null,
   "metadata": {},
   "outputs": [],
   "source": [
    "#Load data\n",
    "ratings = pd.read_csv('../../data/preprocessed/ratings_clean_std_0.csv').drop(columns={'Unnamed: 0'})\n",
    "omdb = pd.read_csv('../../data/preprocessed/omdb_cleaned.csv')\n",
    "\n",
    "#delete ratings of movie \"nomads\"\n",
    "ratings = ratings[ratings['imdbID']!='tt0720339']\n",
    "#get username\n",
    "username = getpass.getuser()"
   ]
  },
  {
   "cell_type": "code",
   "execution_count": null,
   "metadata": {
    "collapsed": false,
    "jupyter": {
     "outputs_hidden": false
    },
    "pycharm": {
     "name": "#%%\n"
    }
   },
   "outputs": [],
   "source": [
    "def hypersearch(n_samples, params_features, params_knn):\n",
    "    #import features for test\n",
    "    features, names = knn_Carmen.features(**params_features)\n",
    "    print('Used features: '+str(names))\n",
    "    \n",
    "    #Sample testset\n",
    "    test_set = ratings.sample(n_samples)\n",
    "\n",
    "    predictions = pd.DataFrame(columns=['Prediction'])\n",
    "    reals = pd.DataFrame(columns=['Real_Rating'])\n",
    "    \n",
    "    # add imdbID and set as index\n",
    "    features = omdb[['imdbID']].join(pd.DataFrame(features)).set_index('imdbID')\n",
    "    start = time.time()\n",
    "\n",
    "    for row in test_set.itertuples():\n",
    "        # select user and movie\n",
    "        imdbID = row.imdbID\n",
    "        userID = row.user_id\n",
    "        # select ratings of the user\n",
    "        ratings_user = ratings.loc[ratings['user_id'] == userID]\n",
    "        ratings_user.reset_index(inplace=True, drop=True)\n",
    "     \n",
    "        # select features of corresponding movies and convert to array\n",
    "        features_user = np.array(features.loc[ratings_user['imdbID']])\n",
    "       \n",
    "        # compute predictions\n",
    "        pred , real = predict_movie_rating(imdbID, ratings_user, features_user, **params_knn)\n",
    "        # store predictions and real ratings\n",
    "        predictions.loc[row[0]] = pred\n",
    "        reals.loc[row[0]] = real\n",
    "\n",
    "    rmse = mean_squared_error(reals['Real_Rating'], predictions['Prediction'], squared=False)\n",
    "    stop = time.time()\n",
    "    runtime = stop-start\n",
    "    #log and save results\n",
    "    results = pd.DataFrame()\n",
    "    results['Features'] = [names]\n",
    "    results['Parameters_knn'] = [list(params_knn.items())]\n",
    "    results['Sample_size'] = n_samples\n",
    "    results['RMSE'] = rmse\n",
    "    results['Runtime'] = runtime\n",
    "\n",
    "\n",
    "    try:\n",
    "        results_total = pd.read_csv('Hypersearch_Content_'+str(username)+'.csv')\n",
    "        results_total = results_total.append(results)\n",
    "   \n",
    "    except FileNotFoundError:\n",
    "        results_total = results\n",
    "    results_total=results_total.sort_values('RMSE')\n",
    "    results_total[['Features', 'Parameters_knn', 'RMSE','Sample_size', 'Runtime']].to_csv('Hypersearch_Content_'+str(username)+'.csv')\n",
    "    \n",
    "    print(rmse)"
   ]
  },
  {
   "cell_type": "code",
   "execution_count": null,
   "metadata": {},
   "outputs": [],
   "source": [
    "# set the combination of features you want to test\n",
    "params_f = {'threshold_actors': [20,50], 'ts_languages': [20] , 'year': [True, False], 'runtime': [True, False], 'imdbVotes': [True, False], 'series': [True,False], 'awards': [True,False], 'genres': [True,False], 'imdb_rating':[True,False], 'roto_rating':[True], 'pg_rating':[True], 'threshold_keywords':[10], 'threshold_plots':[100], 'threshold_directors':[5]}"
   ]
  },
  {
   "cell_type": "code",
   "execution_count": null,
   "metadata": {},
   "outputs": [],
   "source": [
    "# set the possible parameters for the kNN\n",
    "params_k = {'mean':[False, True], 'knn_metric':['cosine','minkowski'], 'set_k':[False]}"
   ]
  },
  {
   "cell_type": "code",
   "execution_count": null,
   "metadata": {},
   "outputs": [],
   "source": [
    "# find permutations over given hyperparameter space\n",
    "permutations_f = [dict(zip(params_f, v))for v in product(*params_f.values())]\n",
    "permutations_k = [dict(zip(params_k, v))for v in product(*params_k.values())]"
   ]
  },
  {
   "cell_type": "code",
   "execution_count": 29,
   "metadata": {},
   "outputs": [
    {
     "name": "stderr",
     "output_type": "stream",
     "text": [
      "[nltk_data] Downloading package punkt to\n",
      "[nltk_data]     /Users/FlorianGrabe/nltk_data...\n",
      "[nltk_data]   Package punkt is already up-to-date!\n"
     ]
    },
    {
     "data": {
      "text/plain": [
       "True"
      ]
     },
     "execution_count": 29,
     "metadata": {},
     "output_type": "execute_result"
    }
   ],
   "source": [
    "nltk.download('punkt')"
   ]
  },
  {
   "cell_type": "code",
   "execution_count": 22,
   "metadata": {},
   "outputs": [
    {
     "name": "stderr",
     "output_type": "stream",
     "text": [
      "[nltk_data] Downloading package stopwords to\n",
      "[nltk_data]     /Users/FlorianGrabe/nltk_data...\n",
      "[nltk_data]   Package stopwords is already up-to-date!\n"
     ]
    },
    {
     "data": {
      "text/plain": [
       "True"
      ]
     },
     "execution_count": 22,
     "metadata": {},
     "output_type": "execute_result"
    }
   ],
   "source": [
    "nltk.download('stopwords')"
   ]
  },
  {
   "cell_type": "code",
   "execution_count": 34,
   "metadata": {},
   "outputs": [
    {
     "data": {
      "text/plain": [
       "{'mean': False, 'knn_metric': 'cosine', 'set_k': False}"
      ]
     },
     "execution_count": 34,
     "metadata": {},
     "output_type": "execute_result"
    }
   ],
   "source": [
    "permutations_k[0]"
   ]
  },
  {
   "cell_type": "code",
   "execution_count": 35,
   "metadata": {},
   "outputs": [
    {
     "name": "stdout",
     "output_type": "stream",
     "text": [
      "Used features: ['Year', 'Runtime', 'imdbVotes', 'Series', 'Awards', 'Actors: 20', 'Genres', 'Language: 20', 'imdb_ratings', 'RottenTomatoes_Rating', 'PG_Rating', 'Keywords: 10', 'Plots: 100', 'Directors: 5']\n",
      "0.9134095486114944\n",
      "Used features: ['Year', 'Runtime', 'imdbVotes', 'Series', 'Awards', 'Actors: 20', 'Genres', 'Language: 20', 'imdb_ratings', 'RottenTomatoes_Rating', 'PG_Rating', 'Keywords: 10', 'Plots: 100', 'Directors: 5']\n",
      "0.8578159550913026\n",
      "Used features: ['Year', 'Runtime', 'imdbVotes', 'Series', 'Awards', 'Actors: 20', 'Genres', 'Language: 20', 'imdb_ratings', 'RottenTomatoes_Rating', 'PG_Rating', 'Keywords: 10', 'Plots: 100', 'Directors: 5']\n",
      "0.8863317943906891\n",
      "Used features: ['Year', 'Runtime', 'imdbVotes', 'Series', 'Awards', 'Actors: 20', 'Genres', 'Language: 20', 'imdb_ratings', 'RottenTomatoes_Rating', 'PG_Rating', 'Keywords: 10', 'Plots: 100', 'Directors: 5']\n",
      "0.940137649263436\n"
     ]
    }
   ],
   "source": [
    "# run gridsearch over defined hyperparameter space\n",
    "#for features in permutations_f:\n",
    "for k_params in permutations_k:\n",
    "    hypersearch(100, permutations_f[0], permutations_k[0])"
   ]
  },
  {
   "cell_type": "markdown",
   "metadata": {},
   "source": [
    "## Hyperparamether tuning"
   ]
  },
  {
   "cell_type": "markdown",
   "metadata": {},
   "source": [
    "### Maxi\n",
    "Ausgeschaltet: 'threshold_actors','ts_languages','year','runtime','imdbVotes'\n",
    "mean = false"
   ]
  },
  {
   "cell_type": "code",
   "execution_count": null,
   "metadata": {},
   "outputs": [],
   "source": [
    "#Download word dictonaries for key-word-based operations\n",
    "nltk.download('punkt')"
   ]
  },
  {
   "cell_type": "code",
   "execution_count": null,
   "metadata": {},
   "outputs": [],
   "source": [
    "nltk.download('stopwords')"
   ]
  },
  {
   "cell_type": "code",
   "execution_count": null,
   "metadata": {},
   "outputs": [],
   "source": [
    "params_f = {'threshold_actors': [0], 'ts_languages': [0] , 'year': [False], 'runtime': [False], 'imdbVotes': [False], 'series': [True,False], 'awards': [True,False],'genres': [True,False], 'imdb_rating':[True,False], 'roto_rating':[True,False], 'pg_rating':[True,False], 'threshold_keywords':[0,10], 'threshold_plot':[0,100], 'threshold_directors':[0,5]}\n",
    "\n"
   ]
  },
  {
   "cell_type": "code",
   "execution_count": null,
   "metadata": {},
   "outputs": [],
   "source": [
    "# set the possible parameters for the kNN\n",
    "params_k = {'mean':[False], 'knn_metric':['cosine','minkowski'], 'set_k':[False]}"
   ]
  },
  {
   "cell_type": "code",
   "execution_count": null,
   "metadata": {},
   "outputs": [],
   "source": [
    "# find permutations over given hyperparameter space\n",
    "permutations_f = [dict(zip(params_f, v))for v in product(*params_f.values())]\n",
    "permutations_k = [dict(zip(params_k, v))for v in product(*params_k.values())]"
   ]
  },
  {
   "cell_type": "code",
   "execution_count": null,
   "metadata": {},
   "outputs": [],
   "source": [
    "# run gridsearch over defined hyperparameter space\n",
    "for features in permutations_f:\n",
    "    for k_params in permutations_k:\n",
    "        hypersearch(100000, features, k_params)"
   ]
  },
  {
   "cell_type": "markdown",
   "metadata": {},
   "source": [
    "### Carmen\n",
    "Ausgeschaltet: 'year','runtime','imdbVotes','series,'awards'\n",
    "mean = True\n",
    "knn_metric = 'minkowski'\n",
    "keywords = 5\n",
    "plot = 150\n",
    "directors = 3"
   ]
  },
  {
   "cell_type": "code",
   "execution_count": null,
   "metadata": {},
   "outputs": [],
   "source": [
    "#Download word dictonaries for key-word-based operations\n",
    "nltk.download('punkt')"
   ]
  },
  {
   "cell_type": "code",
   "execution_count": null,
   "metadata": {},
   "outputs": [],
   "source": [
    "nltk.download('stopwords')"
   ]
  },
  {
   "cell_type": "code",
   "execution_count": null,
   "metadata": {},
   "outputs": [],
   "source": [
    "params_f = {'threshold_actors': [20], 'ts_languages': [0,20] , 'year': [False], 'runtime': [False], 'imdbVotes': [False], 'series': [False], 'awards': [False],'genres': [True,False], 'imdb_rating':[True,False], 'roto_rating':[True,False], 'pg_rating':[True,False], 'threshold_keywords':[0,5], 'threshold_plot':[0,150], 'threshold_directors':[0,3]}\n",
    "# set the possible parameters for the kNN\n",
    "params_k = {'mean':[True], 'knn_metric':['minkowski'], 'set_k':[False]}\n",
    "# find permutations over given hyperparameter space\n",
    "permutations_f = [dict(zip(params_f, v))for v in product(*params_f.values())]\n",
    "permutations_k = [dict(zip(params_k, v))for v in product(*params_k.values())]"
   ]
  },
  {
   "cell_type": "code",
   "execution_count": null,
   "metadata": {},
   "outputs": [],
   "source": [
    "# run gridsearch over defined hyperparameter space\n",
    "for features in permutations_f:\n",
    "    for k_params in permutations_k:\n",
    "        hypersearch(100000, features, k_params)"
   ]
  },
  {
   "cell_type": "markdown",
   "metadata": {},
   "source": [
    "### Felix\n",
    "Ausgeschaltet:'genres', 'imdbRating','roto_rating','pg_rating','keywords'\n",
    "knn_metric='cosine'\n",
    "mean=Both"
   ]
  },
  {
   "cell_type": "code",
   "execution_count": null,
   "metadata": {},
   "outputs": [],
   "source": [
    "#Download word dictonaries for key-word-based operations\n",
    "nltk.download('punkt')"
   ]
  },
  {
   "cell_type": "code",
   "execution_count": null,
   "metadata": {},
   "outputs": [],
   "source": [
    "nltk.download('stopwords')"
   ]
  },
  {
   "cell_type": "code",
   "execution_count": null,
   "metadata": {},
   "outputs": [],
   "source": [
    "params_f = {'threshold_actors': [50], 'ts_languages': [20] , 'year': [True], 'runtime': [True], 'imdbVotes': [True], 'series': [True], 'awards': [True],'genres': [False], 'imdb_rating':[False], 'roto_rating':[False], 'pg_rating':[False], 'threshold_keywords':[0], 'threshold_plot':[0,100], 'threshold_directors':[0,5]}# set the possible parameters for the kNN\n",
    "params_k = {'mean':[True,False], 'knn_metric':['cosine'], 'set_k':[False]}\n",
    "# find permutations over given hyperparameter space\n",
    "permutations_f = [dict(zip(params_f, v))for v in product(*params_f.values())]\n",
    "permutations_k = [dict(zip(params_k, v))for v in product(*params_k.values())]"
   ]
  },
  {
   "cell_type": "code",
   "execution_count": null,
   "metadata": {},
   "outputs": [],
   "source": [
    "# run gridsearch over defined hyperparameter space\n",
    "for features in permutations_f:\n",
    "    for k_params in permutations_k:\n",
    "        hypersearch(100000, features, k_params)"
   ]
  },
  {
   "cell_type": "markdown",
   "metadata": {},
   "source": [
    "### Christin\n",
    "threshold_plot = 70\n",
    "directors = 7\n",
    "Ausgeschaltet: 'ts_languages','imdbVotes','series','imdbRating','PG_Rating'\n",
    "knn_metric='minkowski'"
   ]
  },
  {
   "cell_type": "code",
   "execution_count": null,
   "metadata": {},
   "outputs": [],
   "source": [
    "#Download word dictonaries for key-word-based operations\n",
    "nltk.download('punkt')"
   ]
  },
  {
   "cell_type": "code",
   "execution_count": null,
   "metadata": {},
   "outputs": [],
   "source": [
    "nltk.download('stopwords')"
   ]
  },
  {
   "cell_type": "code",
   "execution_count": null,
   "metadata": {},
   "outputs": [],
   "source": [
    "params_f = {'threshold_actors': [20], 'ts_languages': [0] , 'year': [True, False], 'runtime': [True, False], 'imdbVotes': [False], 'series': [False], 'awards': [True],'genres': [True,False], 'imdb_rating':[False], 'roto_rating':[True,False], 'pg_rating':[False], 'threshold_keywords':[10], 'threshold_plot':[70], 'threshold_directors':[7]}# set the possible parameters for the kNN\n",
    "params_k = {'mean':[False], 'knn_metric':['minkowski'], 'set_k':[False]}\n",
    "# find permutations over given hyperparameter space\n",
    "permutations_f = [dict(zip(params_f, v))for v in product(*params_f.values())]\n",
    "permutations_k = [dict(zip(params_k, v))for v in product(*params_k.values())]"
   ]
  },
  {
   "cell_type": "code",
   "execution_count": null,
   "metadata": {},
   "outputs": [],
   "source": [
    "# run gridsearch over defined hyperparameter space\n",
    "for features in permutations_f:\n",
    "    for k_params in permutations_k:\n",
    "        hypersearch(100000, features, k_params)"
   ]
  },
  {
   "cell_type": "markdown",
   "metadata": {},
   "source": [
    "### Florian\n",
    "Ausgeschaltet:'series','threshold_plot','threshold_directors'"
   ]
  },
  {
   "cell_type": "code",
   "execution_count": null,
   "metadata": {},
   "outputs": [],
   "source": [
    "params_f = {'threshold_actors': [10], 'ts_languages': [20] , 'year': [True,False], 'runtime': [True], 'imdbVotes': [True], 'series': [False], 'awards': [True],'genres': [True,False], 'imdb_rating':[True], 'roto_rating':[True], 'pg_rating':[True,False], 'threshold_keywords':[10], 'threshold_plot':[0], 'threshold_directors':[0]}# set the possible parameters for the kNN\n",
    "params_k = {'mean':[False, True], 'knn_metric':['cosine'], 'set_k':[False]}\n",
    "# find permutations over given hyperparameter space\n",
    "permutations_f = [dict(zip(params_f, v))for v in product(*params_f.values())]\n",
    "permutations_k = [dict(zip(params_k, v))for v in product(*params_k.values())]"
   ]
  },
  {
   "cell_type": "code",
   "execution_count": null,
   "metadata": {},
   "outputs": [],
   "source": [
    "# run gridsearch over defined hyperparameter space\n",
    "for features in permutations_f:\n",
    "    for k_params in permutations_k:\n",
    "        hypersearch(100000, features, k_params)"
   ]
  },
  {
   "cell_type": "code",
   "execution_count": null,
   "metadata": {},
   "outputs": [],
   "source": []
  }
 ],
 "metadata": {
  "kernelspec": {
   "display_name": "bda-analytics-challenge-ss2020",
   "language": "python",
   "name": "bda-analytics-challenge-ss2020"
  },
  "language_info": {
   "codemirror_mode": {
    "name": "ipython",
    "version": 3
   },
   "file_extension": ".py",
   "mimetype": "text/x-python",
   "name": "python",
   "nbconvert_exporter": "python",
   "pygments_lexer": "ipython3",
   "version": "3.8.3"
  },
  "pycharm": {
   "stem_cell": {
    "cell_type": "raw",
    "metadata": {
     "collapsed": false
    },
    "source": []
   }
  }
 },
 "nbformat": 4,
 "nbformat_minor": 4
}
