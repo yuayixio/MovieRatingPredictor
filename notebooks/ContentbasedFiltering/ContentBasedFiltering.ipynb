{
 "cells": [
  {
   "cell_type": "markdown",
   "metadata": {},
   "source": [
    "# Content-based Filtering\n",
    "\n",
    "Aproach:\n",
    "- Table mit Features und Ratings erstellen, ohne User - auf Basis des OMDB Datasets\n",
    "\n",
    "- sklearn-kNN mit cosine-similarity darauf anwenden\n",
    "\n",
    "- Funktion schreiben, die auf basis des ratings der neighbours das rating eines Filmes vorhersagt.\n",
    "\n",
    "## This is a WIP: Decided to do omdb data cleaning first - bevore a useful model can be applied\n",
    "\n",
    "Sources:\n",
    "\n",
    "#### https://heartbeat.fritz.ai/recommender-systems-with-python-part-i-content-based-filtering-5df4940bd831\n",
    "\n",
    "#### https://www.kaggle.com/johnwill225/movie-recommendations\n",
    "\n",
    "#### https://towardsdatascience.com/how-we-built-a-content-based-filtering-recommender-system-for-music-with-python-c6c3b1020332\n"
   ]
  },
  {
   "cell_type": "code",
   "execution_count": 1,
   "metadata": {},
   "outputs": [],
   "source": [
    "import pandas as pd\n",
    "import numpy as np\n",
    "import string\n",
    "import math\n",
    "from sklearn.neighbors import NearestNeighbors\n",
    "from scipy.sparse import csr_matrix\n",
    "from sklearn import preprocessing\n",
    "from sklearn.metrics import accuracy_score\n",
    "from sklearn.metrics import mean_squared_error\n",
    "from sklearn.preprocessing import MultiLabelBinarizer\n",
    "from sklearn.decomposition import PCA\n",
    "kwargs = dict(random_state=42)"
   ]
  },
  {
   "cell_type": "code",
   "execution_count": 2,
   "metadata": {},
   "outputs": [],
   "source": [
    "movies = pd.read_csv('../../data/preprocessed/movies_id_updated.csv')\n",
    "average_ratings = pd.read_csv('../../data/preprocessed/average_ratings.csv')\n",
    "omdb = pd.read_csv('../../data/preprocessed/omdb_cleaned.csv')\n",
    "ratings = pd.read_csv('../../data/preprocessed/ratings_clean_std_0.csv')"
   ]
  },
  {
   "cell_type": "code",
   "execution_count": 3,
   "metadata": {},
   "outputs": [
    {
     "data": {
      "text/html": [
       "<div>\n",
       "<style scoped>\n",
       "    .dataframe tbody tr th:only-of-type {\n",
       "        vertical-align: middle;\n",
       "    }\n",
       "\n",
       "    .dataframe tbody tr th {\n",
       "        vertical-align: top;\n",
       "    }\n",
       "\n",
       "    .dataframe thead th {\n",
       "        text-align: right;\n",
       "    }\n",
       "</style>\n",
       "<table border=\"1\" class=\"dataframe\">\n",
       "  <thead>\n",
       "    <tr style=\"text-align: right;\">\n",
       "      <th></th>\n",
       "      <th>id</th>\n",
       "      <th>title</th>\n",
       "      <th>imdbID</th>\n",
       "      <th>spanishTitle</th>\n",
       "      <th>imdbPictureURL</th>\n",
       "      <th>year</th>\n",
       "      <th>rtID</th>\n",
       "      <th>rtPictureURL</th>\n",
       "    </tr>\n",
       "  </thead>\n",
       "  <tbody>\n",
       "    <tr>\n",
       "      <th>0</th>\n",
       "      <td>1</td>\n",
       "      <td>Toy story</td>\n",
       "      <td>tt0114709</td>\n",
       "      <td>Toy story (juguetes)</td>\n",
       "      <td>http://ia.media-imdb.com/images/M/MV5BMTMwNDU0...</td>\n",
       "      <td>1995.0</td>\n",
       "      <td>toy_story</td>\n",
       "      <td>http://content7.flixster.com/movie/10/93/63/10...</td>\n",
       "    </tr>\n",
       "    <tr>\n",
       "      <th>1</th>\n",
       "      <td>2</td>\n",
       "      <td>Jumanji</td>\n",
       "      <td>tt0113497</td>\n",
       "      <td>Jumanji</td>\n",
       "      <td>http://ia.media-imdb.com/images/M/MV5BMzM5NjE1...</td>\n",
       "      <td>1995.0</td>\n",
       "      <td>1068044-jumanji</td>\n",
       "      <td>http://content8.flixster.com/movie/56/79/73/56...</td>\n",
       "    </tr>\n",
       "    <tr>\n",
       "      <th>2</th>\n",
       "      <td>3</td>\n",
       "      <td>Grumpy Old Men</td>\n",
       "      <td>tt0107050</td>\n",
       "      <td>Dos viejos gruñones</td>\n",
       "      <td>http://ia.media-imdb.com/images/M/MV5BMTI5MTgy...</td>\n",
       "      <td>1993.0</td>\n",
       "      <td>grumpy_old_men</td>\n",
       "      <td>http://content6.flixster.com/movie/25/60/25602...</td>\n",
       "    </tr>\n",
       "    <tr>\n",
       "      <th>3</th>\n",
       "      <td>4</td>\n",
       "      <td>Waiting to Exhale</td>\n",
       "      <td>tt0114885</td>\n",
       "      <td>Esperando un respiro</td>\n",
       "      <td>http://ia.media-imdb.com/images/M/MV5BMTczMTMy...</td>\n",
       "      <td>1995.0</td>\n",
       "      <td>waiting_to_exhale</td>\n",
       "      <td>http://content9.flixster.com/movie/10/94/17/10...</td>\n",
       "    </tr>\n",
       "    <tr>\n",
       "      <th>4</th>\n",
       "      <td>5</td>\n",
       "      <td>Father of the Bride Part II</td>\n",
       "      <td>tt0113041</td>\n",
       "      <td>Vuelve el padre de la novia (Ahora también abu...</td>\n",
       "      <td>http://ia.media-imdb.com/images/M/MV5BMTg1NDc2...</td>\n",
       "      <td>1995.0</td>\n",
       "      <td>father_of_the_bride_part_ii</td>\n",
       "      <td>http://content8.flixster.com/movie/25/54/25542...</td>\n",
       "    </tr>\n",
       "  </tbody>\n",
       "</table>\n",
       "</div>"
      ],
      "text/plain": [
       "   id                        title     imdbID  \\\n",
       "0   1                    Toy story  tt0114709   \n",
       "1   2                      Jumanji  tt0113497   \n",
       "2   3               Grumpy Old Men  tt0107050   \n",
       "3   4            Waiting to Exhale  tt0114885   \n",
       "4   5  Father of the Bride Part II  tt0113041   \n",
       "\n",
       "                                        spanishTitle  \\\n",
       "0                               Toy story (juguetes)   \n",
       "1                                            Jumanji   \n",
       "2                                Dos viejos gruñones   \n",
       "3                               Esperando un respiro   \n",
       "4  Vuelve el padre de la novia (Ahora también abu...   \n",
       "\n",
       "                                      imdbPictureURL    year  \\\n",
       "0  http://ia.media-imdb.com/images/M/MV5BMTMwNDU0...  1995.0   \n",
       "1  http://ia.media-imdb.com/images/M/MV5BMzM5NjE1...  1995.0   \n",
       "2  http://ia.media-imdb.com/images/M/MV5BMTI5MTgy...  1993.0   \n",
       "3  http://ia.media-imdb.com/images/M/MV5BMTczMTMy...  1995.0   \n",
       "4  http://ia.media-imdb.com/images/M/MV5BMTg1NDc2...  1995.0   \n",
       "\n",
       "                          rtID  \\\n",
       "0                    toy_story   \n",
       "1              1068044-jumanji   \n",
       "2               grumpy_old_men   \n",
       "3            waiting_to_exhale   \n",
       "4  father_of_the_bride_part_ii   \n",
       "\n",
       "                                        rtPictureURL  \n",
       "0  http://content7.flixster.com/movie/10/93/63/10...  \n",
       "1  http://content8.flixster.com/movie/56/79/73/56...  \n",
       "2  http://content6.flixster.com/movie/25/60/25602...  \n",
       "3  http://content9.flixster.com/movie/10/94/17/10...  \n",
       "4  http://content8.flixster.com/movie/25/54/25542...  "
      ]
     },
     "execution_count": 3,
     "metadata": {},
     "output_type": "execute_result"
    }
   ],
   "source": [
    "movies.head()"
   ]
  },
  {
   "cell_type": "code",
   "execution_count": 4,
   "metadata": {},
   "outputs": [
    {
     "data": {
      "text/html": [
       "<div>\n",
       "<style scoped>\n",
       "    .dataframe tbody tr th:only-of-type {\n",
       "        vertical-align: middle;\n",
       "    }\n",
       "\n",
       "    .dataframe tbody tr th {\n",
       "        vertical-align: top;\n",
       "    }\n",
       "\n",
       "    .dataframe thead th {\n",
       "        text-align: right;\n",
       "    }\n",
       "</style>\n",
       "<table border=\"1\" class=\"dataframe\">\n",
       "  <thead>\n",
       "    <tr style=\"text-align: right;\">\n",
       "      <th></th>\n",
       "      <th>Unnamed: 0</th>\n",
       "      <th>user_id</th>\n",
       "      <th>imdbID</th>\n",
       "      <th>rating</th>\n",
       "    </tr>\n",
       "  </thead>\n",
       "  <tbody>\n",
       "    <tr>\n",
       "      <th>0</th>\n",
       "      <td>0</td>\n",
       "      <td>1264</td>\n",
       "      <td>tt0047034</td>\n",
       "      <td>3.5</td>\n",
       "    </tr>\n",
       "    <tr>\n",
       "      <th>1</th>\n",
       "      <td>1</td>\n",
       "      <td>213</td>\n",
       "      <td>tt0304141</td>\n",
       "      <td>2.5</td>\n",
       "    </tr>\n",
       "    <tr>\n",
       "      <th>2</th>\n",
       "      <td>2</td>\n",
       "      <td>593</td>\n",
       "      <td>tt0369436</td>\n",
       "      <td>3.0</td>\n",
       "    </tr>\n",
       "    <tr>\n",
       "      <th>3</th>\n",
       "      <td>3</td>\n",
       "      <td>609</td>\n",
       "      <td>tt1077258</td>\n",
       "      <td>4.0</td>\n",
       "    </tr>\n",
       "    <tr>\n",
       "      <th>4</th>\n",
       "      <td>4</td>\n",
       "      <td>1590</td>\n",
       "      <td>tt0052182</td>\n",
       "      <td>4.0</td>\n",
       "    </tr>\n",
       "  </tbody>\n",
       "</table>\n",
       "</div>"
      ],
      "text/plain": [
       "   Unnamed: 0  user_id     imdbID  rating\n",
       "0           0     1264  tt0047034     3.5\n",
       "1           1      213  tt0304141     2.5\n",
       "2           2      593  tt0369436     3.0\n",
       "3           3      609  tt1077258     4.0\n",
       "4           4     1590  tt0052182     4.0"
      ]
     },
     "execution_count": 4,
     "metadata": {},
     "output_type": "execute_result"
    }
   ],
   "source": [
    "ratings.head()"
   ]
  },
  {
   "cell_type": "code",
   "execution_count": 5,
   "metadata": {},
   "outputs": [
    {
     "data": {
      "text/html": [
       "<div>\n",
       "<style scoped>\n",
       "    .dataframe tbody tr th:only-of-type {\n",
       "        vertical-align: middle;\n",
       "    }\n",
       "\n",
       "    .dataframe tbody tr th {\n",
       "        vertical-align: top;\n",
       "    }\n",
       "\n",
       "    .dataframe thead th {\n",
       "        text-align: right;\n",
       "    }\n",
       "</style>\n",
       "<table border=\"1\" class=\"dataframe\">\n",
       "  <thead>\n",
       "    <tr style=\"text-align: right;\">\n",
       "      <th></th>\n",
       "      <th>Title</th>\n",
       "      <th>Year</th>\n",
       "      <th>Rated</th>\n",
       "      <th>Runtime</th>\n",
       "      <th>Writer</th>\n",
       "      <th>Plot</th>\n",
       "      <th>Language</th>\n",
       "      <th>imdbRating</th>\n",
       "      <th>imdbVotes</th>\n",
       "      <th>imdbID</th>\n",
       "      <th>...</th>\n",
       "      <th>Series</th>\n",
       "      <th>Released_season</th>\n",
       "      <th>Released_month</th>\n",
       "      <th>Released_day</th>\n",
       "      <th>PG_Rating</th>\n",
       "      <th>Available_languages</th>\n",
       "      <th>Oscars_won</th>\n",
       "      <th>Oscars_nominated</th>\n",
       "      <th>Golden_globe_won</th>\n",
       "      <th>Golden_globe_nominated</th>\n",
       "    </tr>\n",
       "  </thead>\n",
       "  <tbody>\n",
       "    <tr>\n",
       "      <th>0</th>\n",
       "      <td>Toy Story</td>\n",
       "      <td>1995.0</td>\n",
       "      <td>G</td>\n",
       "      <td>81.0</td>\n",
       "      <td>John Lasseter (original story by), Pete Docter...</td>\n",
       "      <td>A cowboy doll is profoundly threatened and jea...</td>\n",
       "      <td>['English']</td>\n",
       "      <td>8.3</td>\n",
       "      <td>852896.0</td>\n",
       "      <td>tt0114709</td>\n",
       "      <td>...</td>\n",
       "      <td>0</td>\n",
       "      <td>4.0</td>\n",
       "      <td>11.0</td>\n",
       "      <td>22.0</td>\n",
       "      <td>0.0</td>\n",
       "      <td>1</td>\n",
       "      <td>0.0</td>\n",
       "      <td>3.0</td>\n",
       "      <td>0.0</td>\n",
       "      <td>0.0</td>\n",
       "    </tr>\n",
       "    <tr>\n",
       "      <th>1</th>\n",
       "      <td>Jumanji</td>\n",
       "      <td>1995.0</td>\n",
       "      <td>PG</td>\n",
       "      <td>104.0</td>\n",
       "      <td>Jonathan Hensleigh (screenplay by), Greg Taylo...</td>\n",
       "      <td>When two kids find and play a magical board ga...</td>\n",
       "      <td>['English', ' French']</td>\n",
       "      <td>7.0</td>\n",
       "      <td>294340.0</td>\n",
       "      <td>tt0113497</td>\n",
       "      <td>...</td>\n",
       "      <td>0</td>\n",
       "      <td>1.0</td>\n",
       "      <td>12.0</td>\n",
       "      <td>15.0</td>\n",
       "      <td>1.0</td>\n",
       "      <td>2</td>\n",
       "      <td>0.0</td>\n",
       "      <td>0.0</td>\n",
       "      <td>0.0</td>\n",
       "      <td>0.0</td>\n",
       "    </tr>\n",
       "    <tr>\n",
       "      <th>2</th>\n",
       "      <td>Grumpy Old Men</td>\n",
       "      <td>1993.0</td>\n",
       "      <td>PG-13</td>\n",
       "      <td>103.0</td>\n",
       "      <td>Mark Steven Johnson</td>\n",
       "      <td>A lifelong feud between two neighbors since ch...</td>\n",
       "      <td>['English']</td>\n",
       "      <td>7.0</td>\n",
       "      <td>41401.0</td>\n",
       "      <td>tt0107050</td>\n",
       "      <td>...</td>\n",
       "      <td>0</td>\n",
       "      <td>1.0</td>\n",
       "      <td>12.0</td>\n",
       "      <td>25.0</td>\n",
       "      <td>2.0</td>\n",
       "      <td>1</td>\n",
       "      <td>0.0</td>\n",
       "      <td>0.0</td>\n",
       "      <td>0.0</td>\n",
       "      <td>0.0</td>\n",
       "    </tr>\n",
       "    <tr>\n",
       "      <th>3</th>\n",
       "      <td>Waiting to Exhale</td>\n",
       "      <td>1995.0</td>\n",
       "      <td>R</td>\n",
       "      <td>124.0</td>\n",
       "      <td>Terry McMillan (novel), Terry McMillan (screen...</td>\n",
       "      <td>Based on Terry McMillan's novel, this film fol...</td>\n",
       "      <td>['English']</td>\n",
       "      <td>5.9</td>\n",
       "      <td>9222.0</td>\n",
       "      <td>tt0114885</td>\n",
       "      <td>...</td>\n",
       "      <td>0</td>\n",
       "      <td>1.0</td>\n",
       "      <td>12.0</td>\n",
       "      <td>22.0</td>\n",
       "      <td>3.0</td>\n",
       "      <td>1</td>\n",
       "      <td>0.0</td>\n",
       "      <td>0.0</td>\n",
       "      <td>0.0</td>\n",
       "      <td>0.0</td>\n",
       "    </tr>\n",
       "    <tr>\n",
       "      <th>4</th>\n",
       "      <td>Father of the Bride Part II</td>\n",
       "      <td>1995.0</td>\n",
       "      <td>PG</td>\n",
       "      <td>106.0</td>\n",
       "      <td>Albert Hackett (screenplay \"Father's Little Di...</td>\n",
       "      <td>George Banks must deal not only with the pregn...</td>\n",
       "      <td>['English']</td>\n",
       "      <td>6.0</td>\n",
       "      <td>33005.0</td>\n",
       "      <td>tt0113041</td>\n",
       "      <td>...</td>\n",
       "      <td>0</td>\n",
       "      <td>1.0</td>\n",
       "      <td>12.0</td>\n",
       "      <td>8.0</td>\n",
       "      <td>1.0</td>\n",
       "      <td>1</td>\n",
       "      <td>0.0</td>\n",
       "      <td>0.0</td>\n",
       "      <td>0.0</td>\n",
       "      <td>1.0</td>\n",
       "    </tr>\n",
       "  </tbody>\n",
       "</table>\n",
       "<p>5 rows × 22 columns</p>\n",
       "</div>"
      ],
      "text/plain": [
       "                         Title    Year  Rated  Runtime  \\\n",
       "0                    Toy Story  1995.0      G     81.0   \n",
       "1                      Jumanji  1995.0     PG    104.0   \n",
       "2               Grumpy Old Men  1993.0  PG-13    103.0   \n",
       "3            Waiting to Exhale  1995.0      R    124.0   \n",
       "4  Father of the Bride Part II  1995.0     PG    106.0   \n",
       "\n",
       "                                              Writer  \\\n",
       "0  John Lasseter (original story by), Pete Docter...   \n",
       "1  Jonathan Hensleigh (screenplay by), Greg Taylo...   \n",
       "2                                Mark Steven Johnson   \n",
       "3  Terry McMillan (novel), Terry McMillan (screen...   \n",
       "4  Albert Hackett (screenplay \"Father's Little Di...   \n",
       "\n",
       "                                                Plot                Language  \\\n",
       "0  A cowboy doll is profoundly threatened and jea...             ['English']   \n",
       "1  When two kids find and play a magical board ga...  ['English', ' French']   \n",
       "2  A lifelong feud between two neighbors since ch...             ['English']   \n",
       "3  Based on Terry McMillan's novel, this film fol...             ['English']   \n",
       "4  George Banks must deal not only with the pregn...             ['English']   \n",
       "\n",
       "   imdbRating  imdbVotes     imdbID  ...  Series  Released_season  \\\n",
       "0         8.3   852896.0  tt0114709  ...       0              4.0   \n",
       "1         7.0   294340.0  tt0113497  ...       0              1.0   \n",
       "2         7.0    41401.0  tt0107050  ...       0              1.0   \n",
       "3         5.9     9222.0  tt0114885  ...       0              1.0   \n",
       "4         6.0    33005.0  tt0113041  ...       0              1.0   \n",
       "\n",
       "   Released_month  Released_day  PG_Rating  Available_languages  Oscars_won  \\\n",
       "0            11.0          22.0        0.0                    1         0.0   \n",
       "1            12.0          15.0        1.0                    2         0.0   \n",
       "2            12.0          25.0        2.0                    1         0.0   \n",
       "3            12.0          22.0        3.0                    1         0.0   \n",
       "4            12.0           8.0        1.0                    1         0.0   \n",
       "\n",
       "   Oscars_nominated  Golden_globe_won  Golden_globe_nominated  \n",
       "0               3.0               0.0                     0.0  \n",
       "1               0.0               0.0                     0.0  \n",
       "2               0.0               0.0                     0.0  \n",
       "3               0.0               0.0                     0.0  \n",
       "4               0.0               0.0                     1.0  \n",
       "\n",
       "[5 rows x 22 columns]"
      ]
     },
     "execution_count": 5,
     "metadata": {},
     "output_type": "execute_result"
    }
   ],
   "source": [
    "omdb.head()"
   ]
  },
  {
   "cell_type": "code",
   "execution_count": 6,
   "metadata": {},
   "outputs": [
    {
     "data": {
      "text/plain": [
       "Index(['Title', 'Year', 'Rated', 'Runtime', 'Writer', 'Plot', 'Language',\n",
       "       'imdbRating', 'imdbVotes', 'imdbID', 'Rotten Tomatoes', 'Metacritic',\n",
       "       'Series', 'Released_season', 'Released_month', 'Released_day',\n",
       "       'PG_Rating', 'Available_languages', 'Oscars_won', 'Oscars_nominated',\n",
       "       'Golden_globe_won', 'Golden_globe_nominated'],\n",
       "      dtype='object')"
      ]
     },
     "execution_count": 6,
     "metadata": {},
     "output_type": "execute_result"
    }
   ],
   "source": [
    "omdb.columns"
   ]
  },
  {
   "cell_type": "code",
   "execution_count": 7,
   "metadata": {},
   "outputs": [],
   "source": [
    "# Select relevant columns\n",
    "omdb = omdb[['imdbID', 'Year', 'Runtime', 'Language', 'imdbRating', 'imdbVotes', 'Rotten Tomatoes', 'Metacritic',\n",
    "       'Series', 'PG_Rating', 'Oscars_won', 'Oscars_nominated',\n",
    "       'Golden_globe_won', 'Golden_globe_nominated']]"
   ]
  },
  {
   "cell_type": "code",
   "execution_count": 8,
   "metadata": {},
   "outputs": [
    {
     "data": {
      "text/plain": [
       "imdbID                       0\n",
       "Year                         0\n",
       "Runtime                      9\n",
       "Language                     0\n",
       "imdbRating                   4\n",
       "imdbVotes                    5\n",
       "Rotten Tomatoes           1237\n",
       "Metacritic                4019\n",
       "Series                       0\n",
       "PG_Rating                 2314\n",
       "Oscars_won                   0\n",
       "Oscars_nominated             0\n",
       "Golden_globe_won             0\n",
       "Golden_globe_nominated       0\n",
       "dtype: int64"
      ]
     },
     "execution_count": 8,
     "metadata": {},
     "output_type": "execute_result"
    }
   ],
   "source": [
    "omdb.isna().sum()"
   ]
  },
  {
   "cell_type": "code",
   "execution_count": 9,
   "metadata": {},
   "outputs": [],
   "source": [
    "# Add movies which could not be retrieved by omdb\n",
    "imdb_ids = pd.DataFrame(movies['imdbID'].unique()).rename(columns={0:'imdbID'})\n",
    "omdb = imdb_ids.merge(omdb, how='left', on='imdbID')"
   ]
  },
  {
   "cell_type": "code",
   "execution_count": 10,
   "metadata": {},
   "outputs": [
    {
     "data": {
      "text/plain": [
       "707     tt1233247\n",
       "2111    tt0800175\n",
       "2241    tt0134948\n",
       "3399    tt0257001\n",
       "3810    tt0266860\n",
       "4822    tt0720339\n",
       "5118    tt0313487\n",
       "7581    tt0439663\n",
       "8140    tt0383974\n",
       "9411    tt0182989\n",
       "Name: imdbID, dtype: object"
      ]
     },
     "execution_count": 10,
     "metadata": {},
     "output_type": "execute_result"
    }
   ],
   "source": [
    "# missing entries in omdb dataset\n",
    "omdb[omdb['Year'].isna()]['imdbID']"
   ]
  },
  {
   "cell_type": "code",
   "execution_count": 11,
   "metadata": {},
   "outputs": [
    {
     "data": {
      "text/plain": [
       "707     tt1233247\n",
       "2111    tt0800175\n",
       "2241    tt0134948\n",
       "3399    tt0257001\n",
       "3810    tt0266860\n",
       "4822    tt0720339\n",
       "5118    tt0313487\n",
       "7581    tt0439663\n",
       "8140    tt0383974\n",
       "9411    tt0182989\n",
       "Name: imdbID, dtype: object"
      ]
     },
     "execution_count": 11,
     "metadata": {},
     "output_type": "execute_result"
    }
   ],
   "source": [
    "omdb[omdb['Language'].isna()]['imdbID']"
   ]
  },
  {
   "cell_type": "code",
   "execution_count": 12,
   "metadata": {},
   "outputs": [],
   "source": [
    "indices = omdb[omdb['imdbRating'].isna()]['imdbID'].index"
   ]
  },
  {
   "cell_type": "code",
   "execution_count": 13,
   "metadata": {},
   "outputs": [
    {
     "data": {
      "text/plain": [
       "Int64Index([707, 2111, 2241, 3399, 3810, 4822, 5118, 7581, 8140, 9411], dtype='int64')"
      ]
     },
     "execution_count": 13,
     "metadata": {},
     "output_type": "execute_result"
    }
   ],
   "source": [
    "indices"
   ]
  },
  {
   "cell_type": "code",
   "execution_count": 14,
   "metadata": {},
   "outputs": [],
   "source": [
    "# Dropping the 10 almost empty movies\n",
    "for i in indices:\n",
    "    omdb = omdb.drop([i],axis=0,)"
   ]
  },
  {
   "cell_type": "code",
   "execution_count": 15,
   "metadata": {},
   "outputs": [
    {
     "data": {
      "text/plain": [
       "imdbID                       0\n",
       "Year                         0\n",
       "Runtime                      5\n",
       "Language                     0\n",
       "imdbRating                   0\n",
       "imdbVotes                    1\n",
       "Rotten Tomatoes           1236\n",
       "Metacritic                4015\n",
       "Series                       0\n",
       "PG_Rating                 2310\n",
       "Oscars_won                   0\n",
       "Oscars_nominated             0\n",
       "Golden_globe_won             0\n",
       "Golden_globe_nominated       0\n",
       "dtype: int64"
      ]
     },
     "execution_count": 15,
     "metadata": {},
     "output_type": "execute_result"
    }
   ],
   "source": [
    "omdb.isna().sum()"
   ]
  },
  {
   "cell_type": "code",
   "execution_count": 16,
   "metadata": {},
   "outputs": [],
   "source": [
    "# Replace for Series, PG and awards NaN with 0 and handle accordingly \n",
    "for i in range (9,14):\n",
    "    omdb.iloc[:,i] = omdb.iloc[:,i].fillna(0)"
   ]
  },
  {
   "cell_type": "code",
   "execution_count": 17,
   "metadata": {},
   "outputs": [
    {
     "data": {
      "text/plain": [
       "imdbID                       0\n",
       "Year                         0\n",
       "Runtime                      5\n",
       "Language                     0\n",
       "imdbRating                   0\n",
       "imdbVotes                    1\n",
       "Rotten Tomatoes           1236\n",
       "Metacritic                4015\n",
       "Series                       0\n",
       "PG_Rating                    0\n",
       "Oscars_won                   0\n",
       "Oscars_nominated             0\n",
       "Golden_globe_won             0\n",
       "Golden_globe_nominated       0\n",
       "dtype: int64"
      ]
     },
     "execution_count": 17,
     "metadata": {},
     "output_type": "execute_result"
    }
   ],
   "source": [
    "omdb.isna().sum()"
   ]
  },
  {
   "cell_type": "code",
   "execution_count": 18,
   "metadata": {},
   "outputs": [],
   "source": [
    "# Comment Max: Vorschlag - Stattdessen Median/Modalwert benutzen benutzen\n",
    "# Fill NaN Series\n",
    "omdb.loc[:,'Series'] = omdb.loc[:,'Series'].fillna(0)\n",
    "# Fill NaN Runtime\n",
    "omdb.loc[:,'Runtime'] = omdb.loc[:,'Runtime'].fillna(omdb.loc[:,'Runtime'].median())\n",
    "# Fill NaN for imdbVotes\n",
    "omdb.loc[:,'imdbVotes'] = omdb.loc[:,'imdbVotes'].fillna(omdb.loc[:,'imdbVotes'].median())\n",
    "#for i in range (4,16):\n",
    "    #omdb.iloc[:,i] = omdb.iloc[:,i].fillna(omdb.iloc[:,i].median())"
   ]
  },
  {
   "cell_type": "code",
   "execution_count": 19,
   "metadata": {},
   "outputs": [
    {
     "data": {
      "text/plain": [
       "count    8177.000000\n",
       "mean        6.223138\n",
       "std         2.812948\n",
       "min         0.000000\n",
       "25%         4.000000\n",
       "50%         6.800000\n",
       "75%         8.600000\n",
       "max        10.000000\n",
       "Name: Rotten Tomatoes, dtype: float64"
      ]
     },
     "execution_count": 19,
     "metadata": {},
     "output_type": "execute_result"
    }
   ],
   "source": [
    "omdb['Rotten Tomatoes'].describe()"
   ]
  },
  {
   "cell_type": "code",
   "execution_count": 20,
   "metadata": {},
   "outputs": [
    {
     "data": {
      "text/plain": [
       "count    5398.000000\n",
       "mean        5.779918\n",
       "std         1.842826\n",
       "min         0.100000\n",
       "25%         4.500000\n",
       "50%         5.900000\n",
       "75%         7.100000\n",
       "max        10.000000\n",
       "Name: Metacritic, dtype: float64"
      ]
     },
     "execution_count": 20,
     "metadata": {},
     "output_type": "execute_result"
    }
   ],
   "source": [
    "omdb['Metacritic'].describe()"
   ]
  },
  {
   "cell_type": "code",
   "execution_count": 21,
   "metadata": {},
   "outputs": [
    {
     "data": {
      "text/plain": [
       "0       False\n",
       "1       False\n",
       "2       False\n",
       "3       False\n",
       "4       False\n",
       "        ...  \n",
       "9418    False\n",
       "9419    False\n",
       "9420    False\n",
       "9421    False\n",
       "9422     True\n",
       "Name: Rotten Tomatoes, Length: 9413, dtype: bool"
      ]
     },
     "execution_count": 21,
     "metadata": {},
     "output_type": "execute_result"
    }
   ],
   "source": [
    "omdb['Rotten Tomatoes'].isna()"
   ]
  },
  {
   "cell_type": "code",
   "execution_count": 22,
   "metadata": {},
   "outputs": [],
   "source": [
    "omdb = omdb.rename(columns={\"Rotten Tomatoes\": \"RottenTomatoes\"})"
   ]
  },
  {
   "cell_type": "code",
   "execution_count": 23,
   "metadata": {},
   "outputs": [
    {
     "data": {
      "text/plain": [
       "nan"
      ]
     },
     "execution_count": 23,
     "metadata": {},
     "output_type": "execute_result"
    }
   ],
   "source": [
    "omdb.loc[9422, 'RottenTomatoes']"
   ]
  },
  {
   "cell_type": "code",
   "execution_count": 24,
   "metadata": {},
   "outputs": [
    {
     "data": {
      "text/plain": [
       "5.5"
      ]
     },
     "execution_count": 24,
     "metadata": {},
     "output_type": "execute_result"
    }
   ],
   "source": [
    "omdb.loc[9421, 'RottenTomatoes']"
   ]
  },
  {
   "cell_type": "code",
   "execution_count": 25,
   "metadata": {},
   "outputs": [
    {
     "data": {
      "text/plain": [
       "count    8177.000000\n",
       "mean        6.223138\n",
       "std         2.812948\n",
       "min         0.000000\n",
       "25%         4.000000\n",
       "50%         6.800000\n",
       "75%         8.600000\n",
       "max        10.000000\n",
       "Name: RottenTomatoes, dtype: float64"
      ]
     },
     "execution_count": 25,
     "metadata": {},
     "output_type": "execute_result"
    }
   ],
   "source": [
    "omdb['RottenTomatoes'].describe()"
   ]
  },
  {
   "cell_type": "code",
   "execution_count": 26,
   "metadata": {},
   "outputs": [
    {
     "data": {
      "text/plain": [
       "10.0"
      ]
     },
     "execution_count": 26,
     "metadata": {},
     "output_type": "execute_result"
    }
   ],
   "source": [
    "omdb.loc[0, 'RottenTomatoes']"
   ]
  },
  {
   "cell_type": "code",
   "execution_count": 27,
   "metadata": {},
   "outputs": [],
   "source": [
    "# Replace RT Score with Metacritic if NaN\n",
    "# where Replace values where the condition is False.\n",
    "omdb['RottenTomatoes'] = omdb['RottenTomatoes'].where(~omdb['RottenTomatoes'].isna(),omdb['Metacritic'])"
   ]
  },
  {
   "cell_type": "code",
   "execution_count": 28,
   "metadata": {},
   "outputs": [
    {
     "data": {
      "text/plain": [
       "10.0"
      ]
     },
     "execution_count": 28,
     "metadata": {},
     "output_type": "execute_result"
    }
   ],
   "source": [
    "omdb.loc[0, 'RottenTomatoes']"
   ]
  },
  {
   "cell_type": "code",
   "execution_count": 29,
   "metadata": {},
   "outputs": [
    {
     "data": {
      "text/plain": [
       "nan"
      ]
     },
     "execution_count": 29,
     "metadata": {},
     "output_type": "execute_result"
    }
   ],
   "source": [
    "omdb.loc[9422, 'RottenTomatoes']"
   ]
  },
  {
   "cell_type": "code",
   "execution_count": 30,
   "metadata": {},
   "outputs": [
    {
     "data": {
      "text/plain": [
       "nan"
      ]
     },
     "execution_count": 30,
     "metadata": {},
     "output_type": "execute_result"
    }
   ],
   "source": [
    "omdb.loc[9422, 'Metacritic']"
   ]
  },
  {
   "cell_type": "code",
   "execution_count": 31,
   "metadata": {},
   "outputs": [
    {
     "data": {
      "text/plain": [
       "5.5"
      ]
     },
     "execution_count": 31,
     "metadata": {},
     "output_type": "execute_result"
    }
   ],
   "source": [
    "omdb.loc[9421, 'RottenTomatoes']"
   ]
  },
  {
   "cell_type": "code",
   "execution_count": 32,
   "metadata": {},
   "outputs": [
    {
     "data": {
      "text/plain": [
       "0       9.5\n",
       "1       3.9\n",
       "2       5.3\n",
       "3       5.6\n",
       "4       4.9\n",
       "       ... \n",
       "9418    6.8\n",
       "9419    3.3\n",
       "9420    8.0\n",
       "9421    4.7\n",
       "9422    NaN\n",
       "Name: Metacritic, Length: 9413, dtype: float64"
      ]
     },
     "execution_count": 32,
     "metadata": {},
     "output_type": "execute_result"
    }
   ],
   "source": [
    "# Replace Metacritic with RT Scroe if NaN\n",
    "omdb['Metacritic'].where(~omdb['Metacritic'].isna(),omdb['RottenTomatoes'])"
   ]
  },
  {
   "cell_type": "code",
   "execution_count": 33,
   "metadata": {},
   "outputs": [
    {
     "data": {
      "text/plain": [
       "1048"
      ]
     },
     "execution_count": 33,
     "metadata": {},
     "output_type": "execute_result"
    }
   ],
   "source": [
    "omdb['RottenTomatoes'].isna().sum()"
   ]
  },
  {
   "cell_type": "code",
   "execution_count": 34,
   "metadata": {},
   "outputs": [
    {
     "data": {
      "text/plain": [
       "4015"
      ]
     },
     "execution_count": 34,
     "metadata": {},
     "output_type": "execute_result"
    }
   ],
   "source": [
    "omdb['Metacritic'].isna().sum()"
   ]
  },
  {
   "cell_type": "code",
   "execution_count": 35,
   "metadata": {},
   "outputs": [],
   "source": [
    "# Fill remaining with mean()\n",
    "omdb['RottenTomatoes']=omdb['RottenTomatoes'].where(~omdb['RottenTomatoes'].isna(),omdb['RottenTomatoes'].mean())\n",
    "omdb['Metacritic']=omdb['Metacritic'].where(~omdb['Metacritic'].isna(),omdb['Metacritic'].mean())"
   ]
  },
  {
   "cell_type": "code",
   "execution_count": 36,
   "metadata": {},
   "outputs": [
    {
     "data": {
      "text/plain": [
       "0"
      ]
     },
     "execution_count": 36,
     "metadata": {},
     "output_type": "execute_result"
    }
   ],
   "source": [
    "omdb['Metacritic'].isna().sum()"
   ]
  },
  {
   "cell_type": "code",
   "execution_count": 37,
   "metadata": {},
   "outputs": [
    {
     "data": {
      "text/plain": [
       "0"
      ]
     },
     "execution_count": 37,
     "metadata": {},
     "output_type": "execute_result"
    }
   ],
   "source": [
    "omdb['RottenTomatoes'].isna().sum()"
   ]
  },
  {
   "cell_type": "code",
   "execution_count": 38,
   "metadata": {},
   "outputs": [],
   "source": [
    "merged_data = ratings.merge(omdb, how='left', on='imdbID')"
   ]
  },
  {
   "cell_type": "code",
   "execution_count": 39,
   "metadata": {},
   "outputs": [
    {
     "data": {
      "text/html": [
       "<div>\n",
       "<style scoped>\n",
       "    .dataframe tbody tr th:only-of-type {\n",
       "        vertical-align: middle;\n",
       "    }\n",
       "\n",
       "    .dataframe tbody tr th {\n",
       "        vertical-align: top;\n",
       "    }\n",
       "\n",
       "    .dataframe thead th {\n",
       "        text-align: right;\n",
       "    }\n",
       "</style>\n",
       "<table border=\"1\" class=\"dataframe\">\n",
       "  <thead>\n",
       "    <tr style=\"text-align: right;\">\n",
       "      <th></th>\n",
       "      <th>Unnamed: 0</th>\n",
       "      <th>user_id</th>\n",
       "      <th>imdbID</th>\n",
       "      <th>rating</th>\n",
       "      <th>Year</th>\n",
       "      <th>Runtime</th>\n",
       "      <th>Language</th>\n",
       "      <th>imdbRating</th>\n",
       "      <th>imdbVotes</th>\n",
       "      <th>RottenTomatoes</th>\n",
       "      <th>Metacritic</th>\n",
       "      <th>Series</th>\n",
       "      <th>PG_Rating</th>\n",
       "      <th>Oscars_won</th>\n",
       "      <th>Oscars_nominated</th>\n",
       "      <th>Golden_globe_won</th>\n",
       "      <th>Golden_globe_nominated</th>\n",
       "    </tr>\n",
       "  </thead>\n",
       "  <tbody>\n",
       "    <tr>\n",
       "      <th>0</th>\n",
       "      <td>0</td>\n",
       "      <td>1264</td>\n",
       "      <td>tt0047034</td>\n",
       "      <td>3.5</td>\n",
       "      <td>1954.0</td>\n",
       "      <td>96.0</td>\n",
       "      <td>['Japanese']</td>\n",
       "      <td>7.6</td>\n",
       "      <td>27485.0</td>\n",
       "      <td>9.3</td>\n",
       "      <td>7.800000</td>\n",
       "      <td>0.0</td>\n",
       "      <td>0.0</td>\n",
       "      <td>0.0</td>\n",
       "      <td>0.0</td>\n",
       "      <td>0.0</td>\n",
       "      <td>0.0</td>\n",
       "    </tr>\n",
       "    <tr>\n",
       "      <th>1</th>\n",
       "      <td>1</td>\n",
       "      <td>213</td>\n",
       "      <td>tt0304141</td>\n",
       "      <td>2.5</td>\n",
       "      <td>2004.0</td>\n",
       "      <td>142.0</td>\n",
       "      <td>['English']</td>\n",
       "      <td>7.9</td>\n",
       "      <td>524511.0</td>\n",
       "      <td>9.0</td>\n",
       "      <td>8.200000</td>\n",
       "      <td>0.0</td>\n",
       "      <td>1.0</td>\n",
       "      <td>0.0</td>\n",
       "      <td>2.0</td>\n",
       "      <td>0.0</td>\n",
       "      <td>0.0</td>\n",
       "    </tr>\n",
       "    <tr>\n",
       "      <th>2</th>\n",
       "      <td>2</td>\n",
       "      <td>593</td>\n",
       "      <td>tt0369436</td>\n",
       "      <td>3.0</td>\n",
       "      <td>2008.0</td>\n",
       "      <td>88.0</td>\n",
       "      <td>['English']</td>\n",
       "      <td>5.7</td>\n",
       "      <td>61335.0</td>\n",
       "      <td>2.4</td>\n",
       "      <td>4.100000</td>\n",
       "      <td>0.0</td>\n",
       "      <td>2.0</td>\n",
       "      <td>0.0</td>\n",
       "      <td>0.0</td>\n",
       "      <td>0.0</td>\n",
       "      <td>0.0</td>\n",
       "    </tr>\n",
       "    <tr>\n",
       "      <th>3</th>\n",
       "      <td>3</td>\n",
       "      <td>609</td>\n",
       "      <td>tt1077258</td>\n",
       "      <td>4.0</td>\n",
       "      <td>2007.0</td>\n",
       "      <td>105.0</td>\n",
       "      <td>['English']</td>\n",
       "      <td>7.1</td>\n",
       "      <td>196149.0</td>\n",
       "      <td>7.4</td>\n",
       "      <td>5.779918</td>\n",
       "      <td>0.0</td>\n",
       "      <td>0.0</td>\n",
       "      <td>0.0</td>\n",
       "      <td>0.0</td>\n",
       "      <td>0.0</td>\n",
       "      <td>0.0</td>\n",
       "    </tr>\n",
       "    <tr>\n",
       "      <th>4</th>\n",
       "      <td>4</td>\n",
       "      <td>1590</td>\n",
       "      <td>tt0052182</td>\n",
       "      <td>4.0</td>\n",
       "      <td>1958.0</td>\n",
       "      <td>100.0</td>\n",
       "      <td>['English']</td>\n",
       "      <td>7.4</td>\n",
       "      <td>6337.0</td>\n",
       "      <td>6.9</td>\n",
       "      <td>5.779918</td>\n",
       "      <td>0.0</td>\n",
       "      <td>0.0</td>\n",
       "      <td>2.0</td>\n",
       "      <td>0.0</td>\n",
       "      <td>0.0</td>\n",
       "      <td>0.0</td>\n",
       "    </tr>\n",
       "  </tbody>\n",
       "</table>\n",
       "</div>"
      ],
      "text/plain": [
       "   Unnamed: 0  user_id     imdbID  rating    Year  Runtime      Language  \\\n",
       "0           0     1264  tt0047034     3.5  1954.0     96.0  ['Japanese']   \n",
       "1           1      213  tt0304141     2.5  2004.0    142.0   ['English']   \n",
       "2           2      593  tt0369436     3.0  2008.0     88.0   ['English']   \n",
       "3           3      609  tt1077258     4.0  2007.0    105.0   ['English']   \n",
       "4           4     1590  tt0052182     4.0  1958.0    100.0   ['English']   \n",
       "\n",
       "   imdbRating  imdbVotes  RottenTomatoes  Metacritic  Series  PG_Rating  \\\n",
       "0         7.6    27485.0             9.3    7.800000     0.0        0.0   \n",
       "1         7.9   524511.0             9.0    8.200000     0.0        1.0   \n",
       "2         5.7    61335.0             2.4    4.100000     0.0        2.0   \n",
       "3         7.1   196149.0             7.4    5.779918     0.0        0.0   \n",
       "4         7.4     6337.0             6.9    5.779918     0.0        0.0   \n",
       "\n",
       "   Oscars_won  Oscars_nominated  Golden_globe_won  Golden_globe_nominated  \n",
       "0         0.0               0.0               0.0                     0.0  \n",
       "1         0.0               2.0               0.0                     0.0  \n",
       "2         0.0               0.0               0.0                     0.0  \n",
       "3         0.0               0.0               0.0                     0.0  \n",
       "4         2.0               0.0               0.0                     0.0  "
      ]
     },
     "execution_count": 39,
     "metadata": {},
     "output_type": "execute_result"
    }
   ],
   "source": [
    "merged_data.head()"
   ]
  },
  {
   "cell_type": "code",
   "execution_count": 40,
   "metadata": {},
   "outputs": [],
   "source": [
    "merged_data = merged_data.drop(columns={'Unnamed: 0','Language'})"
   ]
  },
  {
   "cell_type": "code",
   "execution_count": 41,
   "metadata": {},
   "outputs": [
    {
     "data": {
      "text/plain": [
       "user_id                     0\n",
       "imdbID                      0\n",
       "rating                      0\n",
       "Year                      269\n",
       "Runtime                   269\n",
       "imdbRating                269\n",
       "imdbVotes                 269\n",
       "RottenTomatoes            269\n",
       "Metacritic                269\n",
       "Series                    269\n",
       "PG_Rating                 269\n",
       "Oscars_won                269\n",
       "Oscars_nominated          269\n",
       "Golden_globe_won          269\n",
       "Golden_globe_nominated    269\n",
       "dtype: int64"
      ]
     },
     "execution_count": 41,
     "metadata": {},
     "output_type": "execute_result"
    }
   ],
   "source": [
    "# Comment Max: No NaN rows anymore - except for language for the missing movies\n",
    "merged_data.isna().sum()"
   ]
  },
  {
   "cell_type": "code",
   "execution_count": 42,
   "metadata": {},
   "outputs": [
    {
     "data": {
      "text/plain": [
       "array([ 47034., 304141., 369436., ...,  81433., 295480., 298072.])"
      ]
     },
     "execution_count": 42,
     "metadata": {},
     "output_type": "execute_result"
    }
   ],
   "source": [
    "# convert imdbID from string to float\n",
    "merged_data['imdbID'] = merged_data['imdbID'].str.replace(r'tt','')\n",
    "merged_data['imdbID'] = merged_data['imdbID'].astype(float)\n",
    "merged_data['imdbID'].unique()"
   ]
  },
  {
   "cell_type": "code",
   "execution_count": 46,
   "metadata": {},
   "outputs": [],
   "source": [
    "#Statt    \n",
    "    #Drop NaN rows - check later if it makes large difference!\n",
    "#merged_data = merged_data.dropna()\n",
    "\n",
    "# Jetzt einfach ma5 mean() eingefüllt\n",
    "for i in range (3,17):\n",
    "    merged_data.iloc[:,i] = merged_data.iloc[:,i].fillna(merged_data.iloc[:,i].median())"
   ]
  },
  {
   "cell_type": "code",
   "execution_count": 107,
   "metadata": {},
   "outputs": [
    {
     "data": {
      "text/plain": [
       "index                     0\n",
       "user_id                   0\n",
       "imdbID                    0\n",
       "rating                    0\n",
       "Year                      0\n",
       "Runtime                   0\n",
       "imdbRating                0\n",
       "imdbVotes                 0\n",
       "RottenTomatoes            0\n",
       "Metacritic                0\n",
       "Series                    0\n",
       "PG_Rating                 0\n",
       "Oscars_won                0\n",
       "Oscars_nominated          0\n",
       "Golden_globe_won          0\n",
       "Golden_globe_nominated    0\n",
       "dtype: int64"
      ]
     },
     "execution_count": 107,
     "metadata": {},
     "output_type": "execute_result"
    }
   ],
   "source": [
    "merged_data.isna().sum()"
   ]
  },
  {
   "cell_type": "code",
   "execution_count": null,
   "metadata": {},
   "outputs": [],
   "source": [
    "# possibility to encode language as one-hot encoding\n",
    "#mlb = MultiLabelBinarizer()\n",
    "#mlb.fit_transform(merged_data['Language'])"
   ]
  },
  {
   "cell_type": "code",
   "execution_count": null,
   "metadata": {},
   "outputs": [],
   "source": [
    "# TODO -> Restliches Script so umschreiben, dass imdbID aus der FeatureMatrix rausgeschmissen werden kann\n",
    "# set index as imdbID in ascending order\n",
    "#features = omdb.set_index('imdbID', drop = True)\n",
    "#features = features.sort_index()"
   ]
  },
  {
   "cell_type": "code",
   "execution_count": 48,
   "metadata": {},
   "outputs": [],
   "source": [
    "data_as_array = merged_data.to_numpy()"
   ]
  },
  {
   "cell_type": "code",
   "execution_count": 49,
   "metadata": {},
   "outputs": [],
   "source": [
    "csr_data = csr_matrix(data_as_array.astype(np.float))\n",
    "merged_data.reset_index(inplace=True)"
   ]
  },
  {
   "cell_type": "code",
   "execution_count": 50,
   "metadata": {},
   "outputs": [],
   "source": [
    "k_neighbors = 10\n",
    "knn = NearestNeighbors(metric='cosine', algorithm='brute', n_neighbors=k_neighbors, n_jobs=-1)"
   ]
  },
  {
   "cell_type": "code",
   "execution_count": 51,
   "metadata": {},
   "outputs": [
    {
     "name": "stdout",
     "output_type": "stream",
     "text": [
      "Training\n"
     ]
    },
    {
     "data": {
      "text/plain": [
       "NearestNeighbors(algorithm='brute', metric='cosine', n_jobs=-1, n_neighbors=10)"
      ]
     },
     "execution_count": 51,
     "metadata": {},
     "output_type": "execute_result"
    }
   ],
   "source": [
    "print(\"Training\")\n",
    "knn.fit(csr_data)"
   ]
  },
  {
   "cell_type": "code",
   "execution_count": 52,
   "metadata": {},
   "outputs": [
    {
     "data": {
      "text/plain": [
       "<787541x15 sparse matrix of type '<class 'numpy.float64'>'\n",
       "\twith 8171057 stored elements in Compressed Sparse Row format>"
      ]
     },
     "execution_count": 52,
     "metadata": {},
     "output_type": "execute_result"
    }
   ],
   "source": [
    "csr_data"
   ]
  },
  {
   "cell_type": "code",
   "execution_count": 53,
   "metadata": {},
   "outputs": [
    {
     "name": "stdout",
     "output_type": "stream",
     "text": [
      "Do Prediction\n",
      "3199\n",
      "[[1.11022302e-16 6.28019858e-12 2.00961470e-11 2.00963690e-11\n",
      "  4.64724925e-11 8.16405832e-11 9.16887677e-11 1.30625066e-10\n",
      "  1.82121318e-10 3.26562333e-10 3.26562444e-10]]\n",
      "[[  3199 619839 429437 237305 343809 332030 696703 397613  17982 621402\n",
      "   84803]]\n"
     ]
    }
   ],
   "source": [
    "# Do predictions\n",
    "print(\"Do Prediction\")\n",
    "movie_idx = merged_data[merged_data['imdbID'] == 113497].index[0]\n",
    "print(movie_idx)\n",
    "distances, indices = knn.kneighbors(csr_data[movie_idx], n_neighbors=k_neighbors+1)\n",
    "print(distances)\n",
    "print(indices)"
   ]
  },
  {
   "cell_type": "code",
   "execution_count": 98,
   "metadata": {},
   "outputs": [
    {
     "data": {
      "text/plain": [
       "1.1102230246251565e-16"
      ]
     },
     "execution_count": 98,
     "metadata": {},
     "output_type": "execute_result"
    }
   ],
   "source": [
    "distances[0][0]"
   ]
  },
  {
   "cell_type": "code",
   "execution_count": 54,
   "metadata": {},
   "outputs": [
    {
     "name": "stdout",
     "output_type": "stream",
     "text": [
      "      index  user_id    imdbID  rating    Year  Runtime  imdbRating  \\\n",
      "3199   3199       42  113497.0     3.0  1995.0    104.0         7.0   \n",
      "\n",
      "      imdbVotes  RottenTomatoes  Metacritic  Series  PG_Rating  Oscars_won  \\\n",
      "3199   294340.0             5.4         3.9     0.0        1.0         0.0   \n",
      "\n",
      "      Oscars_nominated  Golden_globe_won  Golden_globe_nominated  \n",
      "3199               0.0               0.0                     0.0  \n",
      "       index  user_id    imdbID  rating    Year  Runtime  imdbRating  \\\n",
      "84803  84803       34  113497.0     4.0  1995.0    104.0         7.0   \n",
      "\n",
      "       imdbVotes  RottenTomatoes  Metacritic  Series  PG_Rating  Oscars_won  \\\n",
      "84803   294340.0             5.4         3.9     0.0        1.0         0.0   \n",
      "\n",
      "       Oscars_nominated  Golden_globe_won  Golden_globe_nominated  \n",
      "84803               0.0               0.0                     0.0  \n"
     ]
    }
   ],
   "source": [
    "for i in range(0,indices.size):\n",
    "    if i % 10 ==0:\n",
    "        print(merged_data.iloc[[indices[0,i]]])"
   ]
  },
  {
   "cell_type": "code",
   "execution_count": 55,
   "metadata": {},
   "outputs": [],
   "source": [
    "# zip bildet tuple der beiden Objekte)\n",
    "ec_movie = sorted(list(zip(indices.squeeze().tolist(),distances.squeeze().tolist())),key=lambda x: x[1])[:0:-1]\n",
    "  "
   ]
  },
  {
   "cell_type": "code",
   "execution_count": 56,
   "metadata": {},
   "outputs": [
    {
     "name": "stdout",
     "output_type": "stream",
     "text": [
      "(84803, 3.2656244375317556e-10)\n",
      "(621402, 3.265623327308731e-10)\n",
      "(17982, 1.8212131802641807e-10)\n",
      "(397613, 1.306250663191122e-10)\n",
      "(696703, 9.168876768939072e-11)\n",
      "(332030, 8.164058318271827e-11)\n",
      "(343809, 4.647249252087704e-11)\n",
      "(237305, 2.0096369013344884e-11)\n",
      "(429437, 2.009614696873996e-11)\n",
      "(619839, 6.280198583397123e-12)\n"
     ]
    }
   ],
   "source": [
    "for i in ec_movie:\n",
    "    print(i)"
   ]
  },
  {
   "cell_type": "code",
   "execution_count": 113,
   "metadata": {},
   "outputs": [],
   "source": [
    "# function that computes a rating based on the neighbors\n",
    "def compute_rating(neighbors, distances):\n",
    "    # TODO: Function schreiben, die statt dem mean() der Nachbarn die Ratings auf Basis des Abstandes gewichtet\n",
    "    # Weiter entfernte Filme werden geringer gewichtet nähere Filme werden stärker gewichtet\n",
    "    \n",
    "    for i in range(0,len(distances[0])):\n",
    "        pred = (1-(distances[0][i]/distances.sum()))*neighbors['rating']\n",
    "    \n",
    "    #pred = np.mean(neighbors['rating'])\n",
    "    \n",
    "    return float(pred)"
   ]
  },
  {
   "cell_type": "code",
   "execution_count": 136,
   "metadata": {},
   "outputs": [],
   "source": [
    "## function that predicts the rating of a movie from its imdbID and its 20 nearest neighbors\n",
    "\n",
    "def predict_movie_rating(imdbID, userID, user_data):\n",
    "    # get 20 (or x) nearest neighbors that were rated by userID\n",
    "    # TODO: Use function from kNN.ipynb to find optimal k for algorithm \n",
    "    k_neighbors = 16    \n",
    "    \n",
    "    # Select all ratings given by User #userID\n",
    "    ratings = user_data.loc[user_data['user_id'] == userID]\n",
    "    \n",
    "    # Get real rating -> remove this in the end -> currently done for validation\n",
    "    real_ratings = ratings.loc[(ratings['imdbID'] == imdbID)]\n",
    "    \n",
    "    #remove real rating\n",
    "    ratings = ratings[ratings['imdbID'] != imdbID] \n",
    "     \n",
    "    \n",
    "    if (ratings.to_numpy().size>0):   \n",
    "        \n",
    "        # Convert to Sparse Matrix Format\n",
    "        #ratings_as_csr = csr_matrix(ratings)\n",
    "        \n",
    "        # Set algorithm and params \n",
    "        # TODO adapt neighbors based on number of given ratings by user_id ?\n",
    "        knn = NearestNeighbors(metric='cosine', algorithm='brute', n_neighbors=k_neighbors, n_jobs=-1)\n",
    "\n",
    "        # Training\n",
    "        #print('---- Training ConBF-kNN-Algorithm ----')\n",
    "        #print('user_id: '+str(userID))\n",
    "        #print('imdbID: '+str(imdbID))\n",
    "        knn.fit(ratings)\n",
    "\n",
    "        #Prediction -> get x nearest neighbors of imdbID\n",
    "        distances , indices = knn.kneighbors(user_data.loc[user_data['imdbID'] == imdbID], n_neighbors=k_neighbors)\n",
    "        \n",
    "       \n",
    "        # Collect neighbors by indices\n",
    "        for i in range(0,indices.shape[1]):\n",
    "            neighbors = ratings.iloc[[indices[0,i]]]\n",
    "            \n",
    "        # compute rating of movie(imbdID) based on the rating of the 20 nearest neighbors\n",
    "        pred = compute_rating(neighbors, distances)\n",
    "        \n",
    "        #Generate Output for Understandability\n",
    "        #print('Predicted Rating for '+str(imdbID)+': '+str(pred))\n",
    "        #print('Real Rating of '+str(imdbID)+' was: '+ str(real_ratings['rating'].values[0]))\n",
    "        \n",
    "        # return rating prediction and real rating\n",
    "        return pred , real_ratings['rating'].values[0]\n",
    "        \n",
    "    else:\n",
    "         return \"User has not rated other movies. Check input\"\n",
    "    "
   ]
  },
  {
   "cell_type": "code",
   "execution_count": 122,
   "metadata": {
    "collapsed": false,
    "jupyter": {
     "outputs_hidden": false
    },
    "pycharm": {
     "name": "#%%\n"
    }
   },
   "outputs": [
    {
     "name": "stdout",
     "output_type": "stream",
     "text": [
      "Predicted Rating for 113627.0: 4.983103900759194\n",
      "Real Rating of 113627.0 was: 5.0\n"
     ]
    }
   ],
   "source": [
    "### Testing function ###\n",
    "imdbID = 113627.0\n",
    "# Aufpassen userID und imdbID als float übergeben!!\n",
    "userID = 123\n",
    "pred , real = predict_movie_rating(imdbID, userID, merged_data)"
   ]
  },
  {
   "cell_type": "code",
   "execution_count": 123,
   "metadata": {
    "collapsed": false,
    "jupyter": {
     "outputs_hidden": false
    },
    "pycharm": {
     "name": "#%%\n"
    }
   },
   "outputs": [
    {
     "name": "stdout",
     "output_type": "stream",
     "text": [
      "Predicted Rating for 145653: 3.4481439294563994\n",
      "Real Rating of 145653 was: 4.5\n"
     ]
    }
   ],
   "source": [
    "### Testing function ###\n",
    "imdbID = 145653\n",
    "# Aufpassen userID und imdbID als float übergeben!!\n",
    "userID = 123\n",
    "pred , real = predict_movie_rating(imdbID, userID, merged_data)"
   ]
  },
  {
   "cell_type": "code",
   "execution_count": 63,
   "metadata": {
    "collapsed": false,
    "jupyter": {
     "outputs_hidden": false
    },
    "pycharm": {
     "name": "#%%\n"
    }
   },
   "outputs": [],
   "source": [
    "## DUPLICATED RATING!!! -> durch das umschreiben mit .values[0] wird das Doppelte Rating nicht mehr angezeigt -> tdm mal checken!"
   ]
  },
  {
   "cell_type": "code",
   "execution_count": 111,
   "metadata": {
    "collapsed": false,
    "jupyter": {
     "outputs_hidden": false
    },
    "pycharm": {
     "name": "#%%\n"
    }
   },
   "outputs": [],
   "source": [
    "# Larger Test:\n",
    "# TODO Refactoring needed #UglyPythonCode\n",
    "\n",
    "def test_predict_mr(no_test_samples):\n",
    "    # Sampling #no_test_samples of random samples from dataset for testing\n",
    "    test_set = merged_data.sample(n=no_test_samples)\n",
    "    \n",
    "    predictions = pd.DataFrame(columns=['Prediction'])\n",
    "    reals = pd.DataFrame(columns=['Real_Rating'])\n",
    "    \n",
    "    # Iterate over test-set and generate predicitons for it\n",
    "    # TODO get rid of ugly for-loop\n",
    "    for row in test_set.itertuples():\n",
    "        imdbID = row.imdbID\n",
    "        userID = row.user_id\n",
    "        pred , real = predict_movie_rating(imdbID, userID, merged_data)\n",
    "        predictions.loc[row.index] = pred\n",
    "        reals.loc[row.index] = real\n",
    "    \n",
    "    rmse = mean_squared_error(reals['Real_Rating'], predictions['Prediction'], squared=False)\n",
    "    print('RMSE: '+str(rmse))\n",
    "    return float(rmse)"
   ]
  },
  {
   "cell_type": "code",
   "execution_count": 139,
   "metadata": {
    "collapsed": false,
    "jupyter": {
     "outputs_hidden": false
    },
    "pycharm": {
     "name": "#%%\n"
    }
   },
   "outputs": [
    {
     "name": "stdout",
     "output_type": "stream",
     "text": [
      "RMSE: 0.8982202650280295\n"
     ]
    },
    {
     "data": {
      "text/plain": [
       "0.8982202650280295"
      ]
     },
     "execution_count": 139,
     "metadata": {},
     "output_type": "execute_result"
    }
   ],
   "source": [
    "n = 50\n",
    "test_predict_mr(n)"
   ]
  },
  {
   "cell_type": "code",
   "execution_count": 140,
   "metadata": {},
   "outputs": [
    {
     "name": "stdout",
     "output_type": "stream",
     "text": [
      "RMSE: 1.2051124004709146\n",
      "RMSE: 1.3530600957644505\n",
      "RMSE: 1.3287519619612989\n",
      "RMSE: 1.2780180751575112\n",
      "RMSE: 1.2437837398829847\n",
      "RMSE: 1.1412267946764523\n",
      "RMSE: 1.3845269303683074\n",
      "RMSE: 1.1319490041349227\n",
      "RMSE: 1.3490357591740214\n",
      "RMSE: 1.171923103627717\n",
      "RMSE upper Bound: 1.3845269303683074\n",
      "RMSE lower Bound: 1.1319490041349227\n"
     ]
    }
   ],
   "source": [
    "upper = 0\n",
    "lower = 10\n",
    "\n",
    "for i in range(0,10):\n",
    "    n = 100\n",
    "    rmse = test_predict_mr(n)\n",
    "    \n",
    "    if (float(rmse) < float(lower)):\n",
    "        lower = rmse\n",
    "    \n",
    "    if (float(rmse) > float(upper)):\n",
    "        upper = rmse\n",
    "        \n",
    "print('RMSE upper Bound: '+str(upper))\n",
    "print('RMSE lower Bound: '+str(lower))"
   ]
  },
  {
   "cell_type": "code",
   "execution_count": 141,
   "metadata": {},
   "outputs": [
    {
     "name": "stdout",
     "output_type": "stream",
     "text": [
      "RMSE: 1.2247560110330107\n"
     ]
    },
    {
     "data": {
      "text/plain": [
       "1.2247560110330107"
      ]
     },
     "execution_count": 141,
     "metadata": {},
     "output_type": "execute_result"
    }
   ],
   "source": [
    "n = 1000\n",
    "test_predict_mr(n)"
   ]
  },
  {
   "cell_type": "code",
   "execution_count": null,
   "metadata": {},
   "outputs": [],
   "source": []
  }
 ],
 "metadata": {
  "kernelspec": {
   "display_name": "bda-analytics-challenge-ss2020",
   "language": "python",
   "name": "bda-analytics-challenge-ss2020"
  },
  "language_info": {
   "codemirror_mode": {
    "name": "ipython",
    "version": 3
   },
   "file_extension": ".py",
   "mimetype": "text/x-python",
   "name": "python",
   "nbconvert_exporter": "python",
   "pygments_lexer": "ipython3",
   "version": "3.8.2"
  },
  "pycharm": {
   "stem_cell": {
    "cell_type": "raw",
    "metadata": {
     "collapsed": false
    },
    "source": []
   }
  }
 },
 "nbformat": 4,
 "nbformat_minor": 4
}
