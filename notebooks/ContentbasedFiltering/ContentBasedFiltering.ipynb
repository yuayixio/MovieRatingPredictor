{
 "cells": [
  {
   "cell_type": "markdown",
   "metadata": {},
   "source": [
    "# Content-based Filtering\n",
    "\n",
    "Aproach:\n",
    "- Table mit Features und Ratings erstellen, ohne User - auf Basis des OMDB Datasets\n",
    "\n",
    "- sklearn-kNN mit cosine-similarity darauf anwenden\n",
    "\n",
    "- Funktion schreiben, die auf basis des ratings der neighbours das rating eines Filmes vorhersagt.\n",
    "\n",
    "\n",
    "Sources:\n",
    "\n",
    "#### https://heartbeat.fritz.ai/recommender-systems-with-python-part-i-content-based-filtering-5df4940bd831\n",
    "\n",
    "#### https://www.kaggle.com/johnwill225/movie-recommendations\n",
    "\n",
    "#### https://towardsdatascience.com/how-we-built-a-content-based-filtering-recommender-system-for-music-with-python-c6c3b1020332\n"
   ]
  },
  {
   "cell_type": "code",
   "execution_count": 1,
   "metadata": {
    "collapsed": false,
    "jupyter": {
     "outputs_hidden": false
    },
    "pycharm": {
     "name": "#%%\n"
    }
   },
   "outputs": [],
   "source": [
    "import pandas as pd\n",
    "import numpy as np\n",
    "import string\n",
    "import math\n",
    "import time\n",
    "from sklearn.neighbors import NearestNeighbors\n",
    "from scipy.sparse import csr_matrix\n",
    "from sklearn import preprocessing\n",
    "from sklearn.metrics import accuracy_score\n",
    "from sklearn.metrics import mean_squared_error\n",
    "from sklearn.preprocessing import MultiLabelBinarizer\n",
    "from sklearn.decomposition import PCA\n",
    "\n",
    "from knn_preprocessing import knn_preprocessing\n",
    "\n",
    "kwargs = dict(random_state=42)"
   ]
  },
  {
   "cell_type": "code",
   "execution_count": 2,
   "metadata": {
    "collapsed": false,
    "jupyter": {
     "outputs_hidden": false
    },
    "pycharm": {
     "name": "#%%\n"
    }
   },
   "outputs": [],
   "source": [
    "movies = pd.read_csv('../../data/preprocessed/movies_id_updated.csv')\n",
    "omdb = pd.read_csv('../../data/preprocessed/omdb_cleaned.csv')\n",
    "ratings = pd.read_csv('../../data/preprocessed/ratings_clean_std_0.csv')\n",
    "genres = pd.read_csv('../../data/raw/genres.csv', sep=',')"
   ]
  },
  {
   "cell_type": "code",
   "execution_count": 3,
   "metadata": {
    "collapsed": false,
    "jupyter": {
     "outputs_hidden": false
    },
    "pycharm": {
     "name": "#%%\n"
    }
   },
   "outputs": [],
   "source": [
    "movies = movies.drop(columns={'spanishTitle','imdbPictureURL','rtID','rtPictureURL'})"
   ]
  },
  {
   "cell_type": "code",
   "execution_count": 4,
   "metadata": {
    "collapsed": false,
    "jupyter": {
     "outputs_hidden": false
    },
    "pycharm": {
     "name": "#%%\n"
    }
   },
   "outputs": [],
   "source": [
    "movies['imdbID'] = movies['imdbID'].str.replace(r'tt', '')\n",
    "movies['imdbID'] = movies['imdbID'].astype(float)"
   ]
  },
  {
   "cell_type": "code",
   "execution_count": 5,
   "metadata": {
    "collapsed": false,
    "jupyter": {
     "outputs_hidden": false
    },
    "pycharm": {
     "name": "#%%\n"
    }
   },
   "outputs": [],
   "source": [
    "mapping = movies[['id', 'imdbID']].rename(columns={'id':'movieID'})"
   ]
  },
  {
   "cell_type": "code",
   "execution_count": 6,
   "metadata": {
    "collapsed": false,
    "jupyter": {
     "outputs_hidden": false
    },
    "pycharm": {
     "name": "#%%\n"
    }
   },
   "outputs": [
    {
     "data": {
      "text/plain": [
       "Index(['0', 'Title', 'Year', 'Rated', 'Runtime', 'Writer', 'Plot', 'Language',\n",
       "       'imdbRating', 'imdbVotes', 'imdbID', 'Rotten Tomatoes', 'Metacritic',\n",
       "       'Series', 'Released_season', 'Released_month', 'Released_day',\n",
       "       'PG_Rating', 'Oscars_won', 'Oscars_nominated', 'Golden_globe_won',\n",
       "       'Golden_globe_nominated', 'Available_languages'],\n",
       "      dtype='object')"
      ]
     },
     "execution_count": 6,
     "metadata": {},
     "output_type": "execute_result"
    }
   ],
   "source": [
    "omdb.columns"
   ]
  },
  {
   "cell_type": "code",
   "execution_count": 7,
   "metadata": {
    "collapsed": false,
    "jupyter": {
     "outputs_hidden": false
    },
    "pycharm": {
     "name": "#%%\n"
    }
   },
   "outputs": [],
   "source": [
    "#Moved Preprocessing to own script\n",
    "merged_data = knn_preprocessing(['imdbID', 'Year', 'Runtime', 'Language', 'imdbRating', 'imdbVotes', 'Rotten Tomatoes', 'Metacritic',\n",
    "       'Series', 'PG_Rating', 'Oscars_won', 'Oscars_nominated',\n",
    "       'Golden_globe_won', 'Golden_globe_nominated'])"
   ]
  },
  {
   "cell_type": "code",
   "execution_count": 8,
   "metadata": {},
   "outputs": [
    {
     "name": "stdout",
     "output_type": "stream",
     "text": [
      "PCA:\n",
      "Main Variance impacting factors:\n",
      "[0.13526531 0.09503161 0.07997255 0.06073348 0.04796419 0.0459749\n",
      " 0.04306016 0.04134322 0.03749745 0.03703565 0.03502202 0.03362328\n",
      " 0.03296001 0.031551   0.02949176 0.02847078 0.02764098 0.0235196\n",
      " 0.02326318 0.01913025 0.01829368 0.01733844 0.01569124 0.01429026\n",
      " 0.0129433  0.00832911 0.00456256]\n"
     ]
    }
   ],
   "source": [
    "print(\"PCA:\")\n",
    "merged_g=merged_data.drop(columns={'user_id','imdbID','rating'})\n",
    "scaler = preprocessing.StandardScaler()\n",
    "merged_gt = scaler.fit_transform(merged_g)\n",
    "pca = PCA()\n",
    "pca_res = pca.fit(merged_gt)\n",
    "top_PCA=[\"%.2f\" % a for a in pca_res.explained_variance_ratio_ if a >0.01]\n",
    "le=len(top_PCA)\n",
    "print(\"Main Variance impacting factors:\")\n",
    "print(pca_res.explained_variance_ratio_)"
   ]
  },
  {
   "cell_type": "code",
   "execution_count": 9,
   "metadata": {},
   "outputs": [
    {
     "data": {
      "text/plain": [
       "array([[-2.66620598, -0.74159355,  0.5162769 , ..., -0.62603854,\n",
       "        -0.24730271, -0.15581087],\n",
       "       [-2.66620598, -0.74159355,  0.5162769 , ..., -0.62603854,\n",
       "        -0.24730271, -0.15581087],\n",
       "       [-2.66620598, -0.74159355,  0.5162769 , ..., -0.62603854,\n",
       "        -0.24730271, -0.15581087],\n",
       "       ...,\n",
       "       [-0.85929759, -0.33005849, -2.05875128, ..., -0.62603854,\n",
       "        -0.24730271, -0.15581087],\n",
       "       [ 0.60012841, -0.78274706, -0.66394435, ..., -0.62603854,\n",
       "        -0.24730271, -0.15581087],\n",
       "       [ 0.60012841, -1.81158471, -0.12748015, ..., -0.62603854,\n",
       "        -0.24730271, -0.15581087]])"
      ]
     },
     "execution_count": 9,
     "metadata": {},
     "output_type": "execute_result"
    }
   ],
   "source": [
    "merged_gt"
   ]
  },
  {
   "cell_type": "code",
   "execution_count": 10,
   "metadata": {},
   "outputs": [
    {
     "data": {
      "text/plain": [
       "(787541, 27)"
      ]
     },
     "execution_count": 10,
     "metadata": {},
     "output_type": "execute_result"
    }
   ],
   "source": [
    "merged_gt.shape"
   ]
  },
  {
   "cell_type": "code",
   "execution_count": 11,
   "metadata": {},
   "outputs": [],
   "source": [
    "trans_feat = pca.transform(merged_gt)"
   ]
  },
  {
   "cell_type": "code",
   "execution_count": 12,
   "metadata": {},
   "outputs": [
    {
     "data": {
      "text/plain": [
       "array([[ 0.10617641, -0.45172897,  1.1021209 , ..., -0.46553995,\n",
       "        -0.0110636 , -0.26558938],\n",
       "       [ 0.10617641, -0.45172897,  1.1021209 , ..., -0.46553995,\n",
       "        -0.0110636 , -0.26558938],\n",
       "       [ 0.10617641, -0.45172897,  1.1021209 , ..., -0.46553995,\n",
       "        -0.0110636 , -0.26558938],\n",
       "       ...,\n",
       "       [-2.81759916,  1.62111641, -1.06381306, ..., -0.16357943,\n",
       "         1.55103453, -0.65513327],\n",
       "       [-1.17596481, -0.08990454, -1.63835239, ..., -0.36351356,\n",
       "         0.38577804,  0.04991554],\n",
       "       [-1.15812093,  0.58849326, -1.2362714 , ..., -0.23219469,\n",
       "         0.21408446, -0.36017218]])"
      ]
     },
     "execution_count": 12,
     "metadata": {},
     "output_type": "execute_result"
    }
   ],
   "source": [
    "trans_feat"
   ]
  },
  {
   "cell_type": "code",
   "execution_count": 13,
   "metadata": {},
   "outputs": [
    {
     "data": {
      "text/plain": [
       "(787541, 27)"
      ]
     },
     "execution_count": 13,
     "metadata": {},
     "output_type": "execute_result"
    }
   ],
   "source": [
    "trans_feat.shape"
   ]
  },
  {
   "cell_type": "code",
   "execution_count": 14,
   "metadata": {},
   "outputs": [
    {
     "name": "stdout",
     "output_type": "stream",
     "text": [
      "14\n"
     ]
    }
   ],
   "source": [
    "top_PCA=[\"%.2f\" % a for a in pca_res.explained_variance_ratio_ if a > 0.03]\n",
    "le=len(top_PCA)\n",
    "print(le)\n",
    "trans_feat = pca.transform(merged_gt)[:, :len(top_PCA)]"
   ]
  },
  {
   "cell_type": "code",
   "execution_count": 15,
   "metadata": {},
   "outputs": [
    {
     "data": {
      "text/plain": [
       "array([[ 0.10617641, -0.45172897,  1.1021209 , ...,  0.02938981,\n",
       "         0.30556019,  0.73659346],\n",
       "       [ 0.10617641, -0.45172897,  1.1021209 , ...,  0.02938981,\n",
       "         0.30556019,  0.73659346],\n",
       "       [ 0.10617641, -0.45172897,  1.1021209 , ...,  0.02938981,\n",
       "         0.30556019,  0.73659346],\n",
       "       ...,\n",
       "       [-2.81759916,  1.62111641, -1.06381306, ...,  3.30381686,\n",
       "         1.4144614 , -0.23187338],\n",
       "       [-1.17596481, -0.08990454, -1.63835239, ...,  0.03502384,\n",
       "        -0.70645966, -1.65423871],\n",
       "       [-1.15812093,  0.58849326, -1.2362714 , ...,  0.13670507,\n",
       "        -0.2971807 , -2.11149819]])"
      ]
     },
     "execution_count": 15,
     "metadata": {},
     "output_type": "execute_result"
    }
   ],
   "source": [
    "trans_feat"
   ]
  },
  {
   "cell_type": "code",
   "execution_count": 16,
   "metadata": {},
   "outputs": [
    {
     "data": {
      "text/plain": [
       "(787541, 14)"
      ]
     },
     "execution_count": 16,
     "metadata": {},
     "output_type": "execute_result"
    }
   ],
   "source": [
    "trans_feat.shape"
   ]
  },
  {
   "cell_type": "code",
   "execution_count": 54,
   "metadata": {
    "collapsed": false,
    "jupyter": {
     "outputs_hidden": false
    },
    "pycharm": {
     "name": "#%%\n"
    }
   },
   "outputs": [],
   "source": [
    "# function that computes a rating based on the neighbors\n",
    "def compute_rating(neighbors, distances, mean):\n",
    "    \n",
    "    if mean:\n",
    "        # Mittelwert der k-nächsten Nachbarn\n",
    "        pred = neighbors.mean()\n",
    "    \n",
    "    else:\n",
    "        # Gewichtung der Bewertung der Nachbarn je nach Distanz\n",
    "        \n",
    "        #Falls perfecter Match(es) gefunden -> benutze nur matches:\n",
    "        if 0 in distances[0]:\n",
    "            for d in distance[0]:\n",
    "                c=0\n",
    "                if d==0:\n",
    "                    pred = pred+neighbors.iloc[c]   \n",
    "                    c=c+1\n",
    "           \n",
    "            pred = pred / c  \n",
    "        else:\n",
    "            pred = sum(neighbors*((1/(distances[0]+0.000001)**1)/(sum((1/(distances[0]+0.000001)**1)))))\n",
    "    \n",
    "    \n",
    "    return float(pred)"
   ]
  },
  {
   "cell_type": "code",
   "execution_count": 44,
   "metadata": {
    "collapsed": false,
    "jupyter": {
     "outputs_hidden": false
    },
    "pycharm": {
     "name": "#%%\n"
    }
   },
   "outputs": [],
   "source": [
    "# First Approach for easy k tuning - use method later to implement in depth tuning of k\n",
    "\n",
    "def adjust_k(ratings):\n",
    "    adjusted_k = 10\n",
    "    r_size = len(ratings)\n",
    "    #adjusted_k = int(math.sqrt(r_size))\n",
    "    if r_size > 40 and r_size  < 100:\n",
    "        adjusted_k = 15\n",
    "    elif r_size  > 100 and r_size < 500:\n",
    "        adjusted_k = 20\n",
    "    elif r_size  > 500 and r_size < 1500:\n",
    "        adjusted_k = 25\n",
    "    elif r_size  > 1500:\n",
    "        adjusted_k = 30\n",
    "        #print(r_size) \n",
    "        \n",
    "    return adjusted_k"
   ]
  },
  {
   "cell_type": "code",
   "execution_count": 45,
   "metadata": {
    "collapsed": false,
    "jupyter": {
     "outputs_hidden": false
    },
    "pycharm": {
     "name": "#%%\n"
    }
   },
   "outputs": [],
   "source": [
    "## function that predicts the rating of a movie from its imdbID and its nearest neighbors\n",
    "\n",
    "def predict_movie_rating(imdbID, userID, user_data=merged_data, mean=False, knn_metric='cosine', set_k=False, k_neighbors=15):\n",
    "\n",
    "    # Select all ratings given by User #userID\n",
    "    ratings = user_data.loc[user_data['user_id'] == userID]\n",
    "    \n",
    "    #If no explicit number of neighbors is passed -> use variable neighbors function\n",
    "    if set_k:\n",
    "        k_neighbors = k_neighbors\n",
    "    else:    \n",
    "        k_neighbors = adjust_k(ratings)\n",
    "\n",
    "  \n",
    "    # Get real rating -> remove this in the end -> currently done for validation\n",
    "    real_ratings = ratings.loc[(ratings['imdbID'] == imdbID)]\n",
    "    \n",
    "    real_idx = ratings.loc[(ratings['imdbID'] == imdbID)].index\n",
    "    \n",
    "    #remove real rating\n",
    "    ratings = ratings[ratings['imdbID'] != imdbID] \n",
    "\n",
    "    #Scaling features -> maybe do outside function in future\n",
    "    scaler = preprocessing.StandardScaler()\n",
    "    features = pd.DataFrame(scaler.fit_transform(ratings.drop(columns = {'imdbID','user_id', 'rating'}))).merge(pd.DataFrame(ratings.index), left_index=True, right_index=True, how='left')\n",
    "      \n",
    "    \n",
    "    if (ratings.to_numpy().size>0):   \n",
    "        \n",
    "        # Set algorithm and params\n",
    "        if knn_metric == 'minkowski':\n",
    "            knn = NearestNeighbors(metric='minkowski',p=2 , algorithm='brute', n_neighbors=k_neighbors, n_jobs=-1)\n",
    "        else:    \n",
    "            knn = NearestNeighbors(metric=knn_metric , algorithm='brute', n_neighbors=k_neighbors, n_jobs=-1)\n",
    "    \n",
    "        knn.fit(csr_matrix(features.iloc[:,0:(user_data.shape[1]-3)]))\n",
    "        \n",
    "        input_data = user_data.iloc[real_idx]\n",
    "        inputs = scaler.transform(input_data.drop(columns = {'imdbID','user_id', 'rating'})) \n",
    "    \n",
    "        #Prediction -> get x nearest neighbors of imdbID\n",
    "        distances , indices = knn.kneighbors(inputs, n_neighbors=k_neighbors)\n",
    "        \n",
    "       # Zieht indices und ratings der neighbors\n",
    "        neighbor_ratings = user_data['rating'].loc[features['0_y'].loc[indices[0]]]\n",
    "\n",
    "        #Compute Rating    \n",
    "        pred = compute_rating(neighbor_ratings, distances, mean)\n",
    "    \n",
    "    \n",
    "        # return rating prediction and real rating\n",
    "        return pred , real_ratings['rating'].values[0]\n",
    "        \n",
    "    else:\n",
    "         return \"User has not rated other movies. Check input\"\n",
    "    "
   ]
  },
  {
   "cell_type": "code",
   "execution_count": 46,
   "metadata": {
    "collapsed": false,
    "jupyter": {
     "outputs_hidden": false
    },
    "pycharm": {
     "name": "#%%\n"
    }
   },
   "outputs": [],
   "source": [
    "#Keeping this for future testing\n",
    "### Testing function for ToyStory###\n",
    "#imdbID = 114709.0\n",
    "# Aufpassen userID und imdbID als float übergeben!! User: 394,1171, 3682\n",
    "#userID = 394\n",
    "#pred , real = predict_movie_rating(imdbID, userID, merged_data)"
   ]
  },
  {
   "cell_type": "code",
   "execution_count": 47,
   "metadata": {},
   "outputs": [],
   "source": [
    "def get_data():\n",
    "    return merged_data"
   ]
  },
  {
   "cell_type": "code",
   "execution_count": 48,
   "metadata": {
    "collapsed": false,
    "jupyter": {
     "outputs_hidden": false
    },
    "pycharm": {
     "name": "#%%\n"
    }
   },
   "outputs": [],
   "source": [
    "# Larger Test:\n",
    "\n",
    "def test_predict_mr(no_test_samples, mean = False, knn_metric = 'cosine', set_k=False, k_neighbors=15, data = merged_data):\n",
    "    # Sampling #no_test_samples of random samples from dataset for testing\n",
    "    test_set = data.sample(n=no_test_samples)\n",
    "\n",
    "    predictions = pd.DataFrame(columns=['Prediction'])\n",
    "    reals = pd.DataFrame(columns=['Real_Rating'])\n",
    "\n",
    "    # Iterate over test-set and generate predicitons for it\n",
    "    # TODO get rid of ugly for-loop\n",
    "    for row in test_set.itertuples():\n",
    "        imdbID = row.imdbID\n",
    "        userID = row.user_id\n",
    "        pred , real = predict_movie_rating(imdbID, userID, data, mean, knn_metric, set_k=False, k_neighbors=15)\n",
    "        predictions.loc[row[0]] = pred\n",
    "        reals.loc[row[0]] = real\n",
    "    \n",
    "    rmse = mean_squared_error(reals['Real_Rating'], predictions['Prediction'], squared=False)\n",
    "    print('RMSE: '+str(rmse))\n",
    "    return float(rmse)"
   ]
  },
  {
   "cell_type": "code",
   "execution_count": 55,
   "metadata": {
    "collapsed": false,
    "jupyter": {
     "outputs_hidden": false
    },
    "pycharm": {
     "name": "#%%\n"
    }
   },
   "outputs": [
    {
     "name": "stdout",
     "output_type": "stream",
     "text": [
      "1.0\n",
      "RMSE: 0.3612986671149181\n",
      "0.06125903129577637\n"
     ]
    }
   ],
   "source": [
    "start = time.time()\n",
    "test_predict_mr(1)\n",
    "stop = time.time()\n",
    "print((stop-start))"
   ]
  },
  {
   "cell_type": "code",
   "execution_count": 36,
   "metadata": {
    "collapsed": false,
    "jupyter": {
     "outputs_hidden": false
    },
    "pycharm": {
     "name": "#%%\n"
    }
   },
   "outputs": [],
   "source": [
    "test = [[0,0,0]]"
   ]
  },
  {
   "cell_type": "code",
   "execution_count": 30,
   "metadata": {
    "collapsed": false,
    "jupyter": {
     "outputs_hidden": false
    },
    "pycharm": {
     "name": "#%%\n"
    }
   },
   "outputs": [
    {
     "name": "stdout",
     "output_type": "stream",
     "text": [
      "0\n"
     ]
    }
   ],
   "source": [
    "if 0 in test[0]:\n",
    "    print('0')\n",
    "else:    \n",
    "    print(test[0][0])"
   ]
  },
  {
   "cell_type": "code",
   "execution_count": null,
   "metadata": {
    "collapsed": false,
    "jupyter": {
     "outputs_hidden": false
    },
    "pycharm": {
     "name": "#%%\n"
    }
   },
   "outputs": [],
   "source": []
  },
  {
   "cell_type": "code",
   "execution_count": null,
   "metadata": {
    "collapsed": false,
    "jupyter": {
     "outputs_hidden": false
    },
    "pycharm": {
     "name": "#%%\n"
    }
   },
   "outputs": [],
   "source": []
  },
  {
   "cell_type": "code",
   "execution_count": null,
   "metadata": {
    "collapsed": false,
    "jupyter": {
     "outputs_hidden": false
    },
    "pycharm": {
     "name": "#%%\n"
    }
   },
   "outputs": [],
   "source": []
  },
  {
   "cell_type": "code",
   "execution_count": null,
   "metadata": {
    "collapsed": false,
    "jupyter": {
     "outputs_hidden": false
    },
    "pycharm": {
     "name": "#%%\n"
    }
   },
   "outputs": [],
   "source": []
  },
  {
   "cell_type": "code",
   "execution_count": null,
   "metadata": {
    "collapsed": false,
    "jupyter": {
     "outputs_hidden": false
    },
    "pycharm": {
     "name": "#%%\n"
    }
   },
   "outputs": [],
   "source": []
  },
  {
   "cell_type": "code",
   "execution_count": null,
   "metadata": {
    "collapsed": false,
    "jupyter": {
     "outputs_hidden": false
    },
    "pycharm": {
     "name": "#%%\n"
    }
   },
   "outputs": [],
   "source": []
  },
  {
   "cell_type": "code",
   "execution_count": null,
   "metadata": {
    "collapsed": false,
    "jupyter": {
     "outputs_hidden": false
    },
    "pycharm": {
     "name": "#%%\n"
    }
   },
   "outputs": [],
   "source": []
  },
  {
   "cell_type": "code",
   "execution_count": null,
   "metadata": {
    "collapsed": false,
    "jupyter": {
     "outputs_hidden": false
    },
    "pycharm": {
     "name": "#%%\n"
    }
   },
   "outputs": [],
   "source": []
  },
  {
   "cell_type": "code",
   "execution_count": null,
   "metadata": {
    "collapsed": false,
    "jupyter": {
     "outputs_hidden": false
    },
    "pycharm": {
     "name": "#%%\n"
    }
   },
   "outputs": [],
   "source": []
  },
  {
   "cell_type": "code",
   "execution_count": null,
   "metadata": {
    "collapsed": false,
    "jupyter": {
     "outputs_hidden": false
    },
    "pycharm": {
     "name": "#%%\n"
    }
   },
   "outputs": [],
   "source": []
  }
 ],
 "metadata": {
  "kernelspec": {
   "display_name": "bda-analytics-challenge-ss2020",
   "language": "python",
   "name": "bda-analytics-challenge-ss2020"
  },
  "language_info": {
   "codemirror_mode": {
    "name": "ipython",
    "version": 3
   },
   "file_extension": ".py",
   "mimetype": "text/x-python",
   "name": "python",
   "nbconvert_exporter": "python",
   "pygments_lexer": "ipython3",
   "version": "3.8.3"
  },
  "pycharm": {
   "stem_cell": {
    "cell_type": "raw",
    "metadata": {
     "collapsed": false
    },
    "source": []
   }
  }
 },
 "nbformat": 4,
 "nbformat_minor": 4
}
