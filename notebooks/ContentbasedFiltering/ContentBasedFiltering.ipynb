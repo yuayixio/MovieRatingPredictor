{
 "cells": [
  {
   "cell_type": "markdown",
   "metadata": {},
   "source": [
    "# Content-based Filtering\n",
    "\n",
    "Aproach:\n",
    "- Table mit Features und Ratings erstellen, ohne User - auf Basis des OMDB Datasets\n",
    "\n",
    "- sklearn-kNN mit cosine-similarity darauf anwenden\n",
    "\n",
    "- Funktion schreiben, die auf basis des ratings der neighbours das rating eines Filmes vorhersagt.\n",
    "\n",
    "\n",
    "Sources:\n",
    "\n",
    "#### https://heartbeat.fritz.ai/recommender-systems-with-python-part-i-content-based-filtering-5df4940bd831\n",
    "\n",
    "#### https://www.kaggle.com/johnwill225/movie-recommendations\n",
    "\n",
    "#### https://towardsdatascience.com/how-we-built-a-content-based-filtering-recommender-system-for-music-with-python-c6c3b1020332\n"
   ]
  },
  {
   "cell_type": "code",
   "execution_count": 1,
   "metadata": {
    "collapsed": false,
    "jupyter": {
     "outputs_hidden": false
    },
    "pycharm": {
     "name": "#%%\n"
    }
   },
   "outputs": [],
   "source": [
    "import pandas as pd\n",
    "import numpy as np\n",
    "import string\n",
    "import math\n",
    "from sklearn.neighbors import NearestNeighbors\n",
    "from scipy.sparse import csr_matrix\n",
    "from sklearn import preprocessing\n",
    "from sklearn.metrics import accuracy_score\n",
    "from sklearn.metrics import mean_squared_error\n",
    "from sklearn.preprocessing import MultiLabelBinarizer\n",
    "from sklearn.decomposition import PCA\n",
    "\n",
    "from knn_preprocessing import knn_preprocessing\n",
    "\n",
    "kwargs = dict(random_state=42)"
   ]
  },
  {
   "cell_type": "code",
   "execution_count": 2,
   "metadata": {
    "collapsed": false,
    "jupyter": {
     "outputs_hidden": false
    },
    "pycharm": {
     "name": "#%%\n"
    }
   },
   "outputs": [],
   "source": [
    "movies = pd.read_csv('../../data/preprocessed/movies_id_updated.csv')\n",
    "omdb = pd.read_csv('../../data/preprocessed/omdb_cleaned.csv')\n",
    "ratings = pd.read_csv('../../data/preprocessed/ratings_clean_std_0.csv')\n",
    "genres = pd.read_csv('../../data/raw/genres.csv', sep=',')"
   ]
  },
  {
   "cell_type": "code",
   "execution_count": 3,
   "metadata": {
    "collapsed": false,
    "jupyter": {
     "outputs_hidden": false
    },
    "pycharm": {
     "name": "#%%\n"
    }
   },
   "outputs": [],
   "source": [
    "movies = movies.drop(columns={'spanishTitle','imdbPictureURL','rtID','rtPictureURL'})"
   ]
  },
  {
   "cell_type": "code",
   "execution_count": 4,
   "metadata": {
    "collapsed": false,
    "jupyter": {
     "outputs_hidden": false
    },
    "pycharm": {
     "name": "#%%\n"
    }
   },
   "outputs": [],
   "source": [
    "movies['imdbID'] = movies['imdbID'].str.replace(r'tt', '')\n",
    "movies['imdbID'] = movies['imdbID'].astype(float)"
   ]
  },
  {
   "cell_type": "code",
   "execution_count": 5,
   "metadata": {
    "collapsed": false,
    "jupyter": {
     "outputs_hidden": false
    },
    "pycharm": {
     "name": "#%%\n"
    }
   },
   "outputs": [],
   "source": [
    "mapping = movies[['id', 'imdbID']].rename(columns={'id':'movieID'})"
   ]
  },
  {
   "cell_type": "code",
   "execution_count": 6,
   "metadata": {
    "collapsed": false,
    "jupyter": {
     "outputs_hidden": false
    },
    "pycharm": {
     "name": "#%%\n"
    }
   },
   "outputs": [
    {
     "data": {
      "text/plain": [
       "Index(['Title', 'Year', 'Rated', 'Runtime', 'Writer', 'Plot', 'Language',\n",
       "       'imdbRating', 'imdbVotes', 'imdbID', 'Rotten Tomatoes', 'Metacritic',\n",
       "       'Series', 'Released_season', 'Released_month', 'Released_day',\n",
       "       'PG_Rating', 'Available_languages', 'Oscars_won', 'Oscars_nominated',\n",
       "       'Golden_globe_won', 'Golden_globe_nominated'],\n",
       "      dtype='object')"
      ]
     },
     "execution_count": 6,
     "metadata": {},
     "output_type": "execute_result"
    }
   ],
   "source": [
    "omdb.columns"
   ]
  },
  {
   "cell_type": "code",
   "execution_count": 7,
   "metadata": {
    "collapsed": false,
    "jupyter": {
     "outputs_hidden": false
    },
    "pycharm": {
     "name": "#%%\n"
    }
   },
   "outputs": [],
   "source": [
    "#Moved Preprocessing to own script\n",
    "merged_data = knn_preprocessing(['imdbID', 'Year', 'Runtime', 'Language', 'imdbRating', 'imdbVotes', 'Rotten Tomatoes', 'Metacritic',\n",
    "       'Series', 'PG_Rating', 'Oscars_won', 'Oscars_nominated',\n",
    "       'Golden_globe_won', 'Golden_globe_nominated'])"
   ]
  },
  {
   "cell_type": "code",
   "execution_count": 8,
   "metadata": {
    "collapsed": false,
    "jupyter": {
     "outputs_hidden": false
    },
    "pycharm": {
     "name": "#%%\n"
    }
   },
   "outputs": [
    {
     "data": {
      "text/html": [
       "<div>\n",
       "<style scoped>\n",
       "    .dataframe tbody tr th:only-of-type {\n",
       "        vertical-align: middle;\n",
       "    }\n",
       "\n",
       "    .dataframe tbody tr th {\n",
       "        vertical-align: top;\n",
       "    }\n",
       "\n",
       "    .dataframe thead th {\n",
       "        text-align: right;\n",
       "    }\n",
       "</style>\n",
       "<table border=\"1\" class=\"dataframe\">\n",
       "  <thead>\n",
       "    <tr style=\"text-align: right;\">\n",
       "      <th></th>\n",
       "      <th>user_id</th>\n",
       "      <th>imdbID</th>\n",
       "      <th>rating</th>\n",
       "      <th>Year</th>\n",
       "      <th>Runtime</th>\n",
       "      <th>imdbRating</th>\n",
       "      <th>imdbVotes</th>\n",
       "      <th>RottenTomatoes</th>\n",
       "      <th>Metacritic</th>\n",
       "      <th>Awards</th>\n",
       "      <th>...</th>\n",
       "      <th>10</th>\n",
       "      <th>11</th>\n",
       "      <th>12</th>\n",
       "      <th>13</th>\n",
       "      <th>14</th>\n",
       "      <th>15</th>\n",
       "      <th>16</th>\n",
       "      <th>17</th>\n",
       "      <th>18</th>\n",
       "      <th>19</th>\n",
       "    </tr>\n",
       "  </thead>\n",
       "  <tbody>\n",
       "    <tr>\n",
       "      <th>0</th>\n",
       "      <td>1264.0</td>\n",
       "      <td>47034.0</td>\n",
       "      <td>3.5</td>\n",
       "      <td>1954.0</td>\n",
       "      <td>96.0</td>\n",
       "      <td>7.6</td>\n",
       "      <td>27485.0</td>\n",
       "      <td>9.300000</td>\n",
       "      <td>7.800000</td>\n",
       "      <td>0.0</td>\n",
       "      <td>...</td>\n",
       "      <td>1</td>\n",
       "      <td>0</td>\n",
       "      <td>0</td>\n",
       "      <td>0</td>\n",
       "      <td>0</td>\n",
       "      <td>1</td>\n",
       "      <td>0</td>\n",
       "      <td>0</td>\n",
       "      <td>0</td>\n",
       "      <td>0</td>\n",
       "    </tr>\n",
       "    <tr>\n",
       "      <th>1</th>\n",
       "      <td>981.0</td>\n",
       "      <td>47034.0</td>\n",
       "      <td>3.5</td>\n",
       "      <td>1954.0</td>\n",
       "      <td>96.0</td>\n",
       "      <td>7.6</td>\n",
       "      <td>27485.0</td>\n",
       "      <td>9.300000</td>\n",
       "      <td>7.800000</td>\n",
       "      <td>0.0</td>\n",
       "      <td>...</td>\n",
       "      <td>1</td>\n",
       "      <td>0</td>\n",
       "      <td>0</td>\n",
       "      <td>0</td>\n",
       "      <td>0</td>\n",
       "      <td>1</td>\n",
       "      <td>0</td>\n",
       "      <td>0</td>\n",
       "      <td>0</td>\n",
       "      <td>0</td>\n",
       "    </tr>\n",
       "    <tr>\n",
       "      <th>2</th>\n",
       "      <td>481.0</td>\n",
       "      <td>47034.0</td>\n",
       "      <td>1.0</td>\n",
       "      <td>1954.0</td>\n",
       "      <td>96.0</td>\n",
       "      <td>7.6</td>\n",
       "      <td>27485.0</td>\n",
       "      <td>9.300000</td>\n",
       "      <td>7.800000</td>\n",
       "      <td>0.0</td>\n",
       "      <td>...</td>\n",
       "      <td>1</td>\n",
       "      <td>0</td>\n",
       "      <td>0</td>\n",
       "      <td>0</td>\n",
       "      <td>0</td>\n",
       "      <td>1</td>\n",
       "      <td>0</td>\n",
       "      <td>0</td>\n",
       "      <td>0</td>\n",
       "      <td>0</td>\n",
       "    </tr>\n",
       "    <tr>\n",
       "      <th>3</th>\n",
       "      <td>98.0</td>\n",
       "      <td>47034.0</td>\n",
       "      <td>2.5</td>\n",
       "      <td>1954.0</td>\n",
       "      <td>96.0</td>\n",
       "      <td>7.6</td>\n",
       "      <td>27485.0</td>\n",
       "      <td>9.300000</td>\n",
       "      <td>7.800000</td>\n",
       "      <td>0.0</td>\n",
       "      <td>...</td>\n",
       "      <td>1</td>\n",
       "      <td>0</td>\n",
       "      <td>0</td>\n",
       "      <td>0</td>\n",
       "      <td>0</td>\n",
       "      <td>1</td>\n",
       "      <td>0</td>\n",
       "      <td>0</td>\n",
       "      <td>0</td>\n",
       "      <td>0</td>\n",
       "    </tr>\n",
       "    <tr>\n",
       "      <th>4</th>\n",
       "      <td>249.0</td>\n",
       "      <td>47034.0</td>\n",
       "      <td>4.0</td>\n",
       "      <td>1954.0</td>\n",
       "      <td>96.0</td>\n",
       "      <td>7.6</td>\n",
       "      <td>27485.0</td>\n",
       "      <td>9.300000</td>\n",
       "      <td>7.800000</td>\n",
       "      <td>0.0</td>\n",
       "      <td>...</td>\n",
       "      <td>1</td>\n",
       "      <td>0</td>\n",
       "      <td>0</td>\n",
       "      <td>0</td>\n",
       "      <td>0</td>\n",
       "      <td>1</td>\n",
       "      <td>0</td>\n",
       "      <td>0</td>\n",
       "      <td>0</td>\n",
       "      <td>0</td>\n",
       "    </tr>\n",
       "    <tr>\n",
       "      <th>...</th>\n",
       "      <td>...</td>\n",
       "      <td>...</td>\n",
       "      <td>...</td>\n",
       "      <td>...</td>\n",
       "      <td>...</td>\n",
       "      <td>...</td>\n",
       "      <td>...</td>\n",
       "      <td>...</td>\n",
       "      <td>...</td>\n",
       "      <td>...</td>\n",
       "      <td>...</td>\n",
       "      <td>...</td>\n",
       "      <td>...</td>\n",
       "      <td>...</td>\n",
       "      <td>...</td>\n",
       "      <td>...</td>\n",
       "      <td>...</td>\n",
       "      <td>...</td>\n",
       "      <td>...</td>\n",
       "      <td>...</td>\n",
       "      <td>...</td>\n",
       "    </tr>\n",
       "    <tr>\n",
       "      <th>787536</th>\n",
       "      <td>243.0</td>\n",
       "      <td>47376.0</td>\n",
       "      <td>3.0</td>\n",
       "      <td>1954.0</td>\n",
       "      <td>100.0</td>\n",
       "      <td>6.5</td>\n",
       "      <td>1813.0</td>\n",
       "      <td>6.203849</td>\n",
       "      <td>5.779918</td>\n",
       "      <td>0.0</td>\n",
       "      <td>...</td>\n",
       "      <td>0</td>\n",
       "      <td>0</td>\n",
       "      <td>0</td>\n",
       "      <td>0</td>\n",
       "      <td>0</td>\n",
       "      <td>0</td>\n",
       "      <td>0</td>\n",
       "      <td>0</td>\n",
       "      <td>1</td>\n",
       "      <td>0</td>\n",
       "    </tr>\n",
       "    <tr>\n",
       "      <th>787537</th>\n",
       "      <td>417.0</td>\n",
       "      <td>43132.0</td>\n",
       "      <td>4.0</td>\n",
       "      <td>1950.0</td>\n",
       "      <td>95.0</td>\n",
       "      <td>7.6</td>\n",
       "      <td>7217.0</td>\n",
       "      <td>10.000000</td>\n",
       "      <td>5.779918</td>\n",
       "      <td>0.0</td>\n",
       "      <td>...</td>\n",
       "      <td>0</td>\n",
       "      <td>0</td>\n",
       "      <td>0</td>\n",
       "      <td>0</td>\n",
       "      <td>0</td>\n",
       "      <td>0</td>\n",
       "      <td>0</td>\n",
       "      <td>0</td>\n",
       "      <td>0</td>\n",
       "      <td>0</td>\n",
       "    </tr>\n",
       "    <tr>\n",
       "      <th>787538</th>\n",
       "      <td>379.0</td>\n",
       "      <td>81433.0</td>\n",
       "      <td>3.0</td>\n",
       "      <td>1980.0</td>\n",
       "      <td>106.0</td>\n",
       "      <td>5.2</td>\n",
       "      <td>1048.0</td>\n",
       "      <td>1.400000</td>\n",
       "      <td>5.779918</td>\n",
       "      <td>0.0</td>\n",
       "      <td>...</td>\n",
       "      <td>0</td>\n",
       "      <td>0</td>\n",
       "      <td>1</td>\n",
       "      <td>0</td>\n",
       "      <td>0</td>\n",
       "      <td>0</td>\n",
       "      <td>0</td>\n",
       "      <td>0</td>\n",
       "      <td>0</td>\n",
       "      <td>0</td>\n",
       "    </tr>\n",
       "    <tr>\n",
       "      <th>787539</th>\n",
       "      <td>279.0</td>\n",
       "      <td>295480.0</td>\n",
       "      <td>1.0</td>\n",
       "      <td>2001.0</td>\n",
       "      <td>95.0</td>\n",
       "      <td>6.5</td>\n",
       "      <td>156.0</td>\n",
       "      <td>5.500000</td>\n",
       "      <td>5.500000</td>\n",
       "      <td>0.0</td>\n",
       "      <td>...</td>\n",
       "      <td>0</td>\n",
       "      <td>0</td>\n",
       "      <td>0</td>\n",
       "      <td>0</td>\n",
       "      <td>0</td>\n",
       "      <td>0</td>\n",
       "      <td>0</td>\n",
       "      <td>0</td>\n",
       "      <td>0</td>\n",
       "      <td>0</td>\n",
       "    </tr>\n",
       "    <tr>\n",
       "      <th>787540</th>\n",
       "      <td>312.0</td>\n",
       "      <td>298072.0</td>\n",
       "      <td>4.0</td>\n",
       "      <td>2001.0</td>\n",
       "      <td>70.0</td>\n",
       "      <td>7.0</td>\n",
       "      <td>70.0</td>\n",
       "      <td>6.600000</td>\n",
       "      <td>6.600000</td>\n",
       "      <td>0.0</td>\n",
       "      <td>...</td>\n",
       "      <td>0</td>\n",
       "      <td>0</td>\n",
       "      <td>0</td>\n",
       "      <td>0</td>\n",
       "      <td>0</td>\n",
       "      <td>0</td>\n",
       "      <td>0</td>\n",
       "      <td>0</td>\n",
       "      <td>0</td>\n",
       "      <td>0</td>\n",
       "    </tr>\n",
       "  </tbody>\n",
       "</table>\n",
       "<p>787541 rows × 30 columns</p>\n",
       "</div>"
      ],
      "text/plain": [
       "        user_id    imdbID  rating    Year  Runtime  imdbRating  imdbVotes  \\\n",
       "0        1264.0   47034.0     3.5  1954.0     96.0         7.6    27485.0   \n",
       "1         981.0   47034.0     3.5  1954.0     96.0         7.6    27485.0   \n",
       "2         481.0   47034.0     1.0  1954.0     96.0         7.6    27485.0   \n",
       "3          98.0   47034.0     2.5  1954.0     96.0         7.6    27485.0   \n",
       "4         249.0   47034.0     4.0  1954.0     96.0         7.6    27485.0   \n",
       "...         ...       ...     ...     ...      ...         ...        ...   \n",
       "787536    243.0   47376.0     3.0  1954.0    100.0         6.5     1813.0   \n",
       "787537    417.0   43132.0     4.0  1950.0     95.0         7.6     7217.0   \n",
       "787538    379.0   81433.0     3.0  1980.0    106.0         5.2     1048.0   \n",
       "787539    279.0  295480.0     1.0  2001.0     95.0         6.5      156.0   \n",
       "787540    312.0  298072.0     4.0  2001.0     70.0         7.0       70.0   \n",
       "\n",
       "        RottenTomatoes  Metacritic  Awards  ...  10  11  12  13  14  15  16  \\\n",
       "0             9.300000    7.800000     0.0  ...   1   0   0   0   0   1   0   \n",
       "1             9.300000    7.800000     0.0  ...   1   0   0   0   0   1   0   \n",
       "2             9.300000    7.800000     0.0  ...   1   0   0   0   0   1   0   \n",
       "3             9.300000    7.800000     0.0  ...   1   0   0   0   0   1   0   \n",
       "4             9.300000    7.800000     0.0  ...   1   0   0   0   0   1   0   \n",
       "...                ...         ...     ...  ...  ..  ..  ..  ..  ..  ..  ..   \n",
       "787536        6.203849    5.779918     0.0  ...   0   0   0   0   0   0   0   \n",
       "787537       10.000000    5.779918     0.0  ...   0   0   0   0   0   0   0   \n",
       "787538        1.400000    5.779918     0.0  ...   0   0   1   0   0   0   0   \n",
       "787539        5.500000    5.500000     0.0  ...   0   0   0   0   0   0   0   \n",
       "787540        6.600000    6.600000     0.0  ...   0   0   0   0   0   0   0   \n",
       "\n",
       "        17  18  19  \n",
       "0        0   0   0  \n",
       "1        0   0   0  \n",
       "2        0   0   0  \n",
       "3        0   0   0  \n",
       "4        0   0   0  \n",
       "...     ..  ..  ..  \n",
       "787536   0   1   0  \n",
       "787537   0   0   0  \n",
       "787538   0   0   0  \n",
       "787539   0   0   0  \n",
       "787540   0   0   0  \n",
       "\n",
       "[787541 rows x 30 columns]"
      ]
     },
     "execution_count": 8,
     "metadata": {},
     "output_type": "execute_result"
    }
   ],
   "source": [
    "merged_data"
   ]
  },
  {
   "cell_type": "code",
   "execution_count": 9,
   "metadata": {
    "collapsed": false,
    "jupyter": {
     "outputs_hidden": false
    },
    "pycharm": {
     "name": "#%%\n"
    }
   },
   "outputs": [],
   "source": [
    "# function that computes a rating based on the neighbors\n",
    "def compute_rating(neighbors, distances, mean = False):\n",
    "    \n",
    "    if mean == True:\n",
    "        pred = neighbors.mean()\n",
    "    else:\n",
    "        #scaling ratings based on distance\n",
    "        pred = sum(neighbors* (1+(1-distances[0]/distances[0].mean()))) / neighbors.shape[0]\n",
    "    \n",
    "    return float(pred)"
   ]
  },
  {
   "cell_type": "code",
   "execution_count": 10,
   "metadata": {
    "collapsed": false,
    "jupyter": {
     "outputs_hidden": false
    },
    "pycharm": {
     "name": "#%%\n"
    }
   },
   "outputs": [],
   "source": [
    "# First Approach for easy k tuning - use method later to implement in depth tuning of k\n",
    "\n",
    "def adjust_k(ratings):\n",
    "    adjusted_k = 10\n",
    "    r_size = len(ratings)\n",
    "    \n",
    "    if r_size > 40 and r_size  < 100:\n",
    "        adjusted_k = 15\n",
    "    elif r_size  > 100 and r_size < 500:\n",
    "        adjusted_k = 20\n",
    "    elif r_size  > 500 and r_size < 1500:\n",
    "        adjusted_k = 25\n",
    "    elif r_size  > 1500:\n",
    "        adjusted_k = 30\n",
    "        #print(r_size) \n",
    "        \n",
    "    return adjusted_k"
   ]
  },
  {
   "cell_type": "code",
   "execution_count": 11,
   "metadata": {
    "collapsed": false,
    "jupyter": {
     "outputs_hidden": false
    },
    "pycharm": {
     "name": "#%%\n"
    }
   },
   "outputs": [],
   "source": [
    "## function that predicts the rating of a movie from its imdbID and its nearest neighbors\n",
    "\n",
    "def predict_movie_rating(imdbID, userID,user_data=merged_data, mean=False, knn_metric='cosine', set_k=False, k_neighbors=15):\n",
    "     \n",
    "    # Select all ratings given by User #userID\n",
    "    ratings = user_data.loc[user_data['user_id'] == userID]\n",
    "    \n",
    "    #If no explicit number of neighbors is passed -> use variable neighbors function\n",
    "    if set_k:\n",
    "        k_neighbors = k_neighbors\n",
    "    else:    \n",
    "        k_neighbors = adjust_k(ratings)\n",
    "\n",
    "  \n",
    "    # Get real rating -> remove this in the end -> currently done for validation\n",
    "    real_ratings = ratings.loc[(ratings['imdbID'] == imdbID)]\n",
    "    \n",
    "    real_idx = ratings.loc[(ratings['imdbID'] == imdbID)].index\n",
    "    \n",
    "    #remove real rating\n",
    "    ratings = ratings[ratings['imdbID'] != imdbID] \n",
    "\n",
    "    #Scaling features -> maybe do outside function in future\n",
    "    scaler = preprocessing.StandardScaler()\n",
    "    features = pd.DataFrame(scaler.fit_transform(ratings.drop(columns = {'imdbID','user_id', 'rating'}))).merge(pd.DataFrame(ratings.index), left_index=True, right_index=True, how='left')\n",
    "      \n",
    "    \n",
    "    if (ratings.to_numpy().size>0):   \n",
    "        \n",
    "        # Set algorithm and params\n",
    "        if knn_metric == 'minkowski':\n",
    "            knn = NearestNeighbors(metric='minkowski',p=2 , algorithm='brute', n_neighbors=k_neighbors, n_jobs=-1)\n",
    "        else:    \n",
    "            knn = NearestNeighbors(metric=knn_metric , algorithm='brute', n_neighbors=k_neighbors, n_jobs=-1)\n",
    "\n",
    "        # Training\n",
    "        #print('---- Training ConBF-kNN-Algorithm ----')\n",
    "        #print('user_id: '+str(userID))\n",
    "        #print('imdbID: '+str(imdbID))\n",
    "        \n",
    "    \n",
    "        knn.fit(csr_matrix(features.iloc[:,0:(user_data.shape[1]-3)]))\n",
    "        \n",
    "        input_data = user_data.iloc[real_idx]\n",
    "        inputs = scaler.transform(input_data.drop(columns = {'imdbID','user_id', 'rating'}))\n",
    "        \n",
    "    \n",
    "        #Prediction -> get x nearest neighbors of imdbID\n",
    "        distances , indices = knn.kneighbors(inputs, n_neighbors=k_neighbors)\n",
    "        \n",
    "       # Zieht indices und ratings der neighbors\n",
    "        neighbor_ratings = user_data['rating'].loc[features['0_y'].loc[indices[0]]]\n",
    "      \n",
    "        # compute rating of movie(imbdID) based on the rating of the 20 nearest neighbors\n",
    "        #mean = True gibt nur mittelwert der nachbarn\n",
    "        \n",
    "        pred = compute_rating(neighbor_ratings, distances, mean)\n",
    "        \n",
    "        #Generate Output for Understandability\n",
    "        #print('Predicted Rating for '+str(imdbID)+': '+str(pred))\n",
    "        #print('Real Rating of '+str(imdbID)+' was: '+ str(real_ratings['rating'].values[0]))\n",
    "        \n",
    "        \n",
    "        #Output to understand mistakes\n",
    "        #neighbor_data = ratings.loc[features['0_y'].loc[indices[0]]]\n",
    "        \n",
    "        #neighbor_movies = neighbor_data.merge(movies, how='left', on='imdbID')\n",
    "        \n",
    "        #for i in range (0, len(neighbor_data)):\n",
    "        #    print(genres_grouped[genres_grouped['imdbID']==neighbor_data['imdbID'].values[i]])\n",
    "        \n",
    "        #print(neighbor_movies)\n",
    "        #print(neighbor_movies.describe())\n",
    "    \n",
    "    \n",
    "        # return rating prediction and real rating\n",
    "        return pred , real_ratings['rating'].values[0]\n",
    "        \n",
    "    else:\n",
    "         return \"User has not rated other movies. Check input\"\n",
    "    "
   ]
  },
  {
   "cell_type": "code",
   "execution_count": 12,
   "metadata": {
    "collapsed": false,
    "jupyter": {
     "outputs_hidden": false
    },
    "pycharm": {
     "name": "#%%\n"
    }
   },
   "outputs": [],
   "source": [
    "#Keeping this for future testing\n",
    "### Testing function for ToyStory###\n",
    "#imdbID = 114709.0\n",
    "# Aufpassen userID und imdbID als float übergeben!! User: 394,1171, 3682\n",
    "#userID = 394\n",
    "#pred , real = predict_movie_rating(imdbID, userID, merged_data)"
   ]
  },
  {
   "cell_type": "code",
   "execution_count": 13,
   "metadata": {},
   "outputs": [],
   "source": [
    "def get_data():\n",
    "    return merged_data"
   ]
  },
  {
   "cell_type": "code",
   "execution_count": 14,
   "metadata": {
    "collapsed": false,
    "jupyter": {
     "outputs_hidden": false
    },
    "pycharm": {
     "name": "#%%\n"
    }
   },
   "outputs": [],
   "source": [
    "# Larger Test:\n",
    "\n",
    "def test_predict_mr(no_test_samples, mean = False, knn_metric = 'cosine', set_k=False, k_neighbors=15):\n",
    "    # Sampling #no_test_samples of random samples from dataset for testing\n",
    "    test_set = merged_data.sample(n=no_test_samples)\n",
    "    \n",
    "    predictions = pd.DataFrame(columns=['Prediction'])\n",
    "    reals = pd.DataFrame(columns=['Real_Rating'])\n",
    "    \n",
    "    # Iterate over test-set and generate predicitons for it\n",
    "    # TODO get rid of ugly for-loop\n",
    "    for row in test_set.itertuples():\n",
    "        imdbID = row.imdbID\n",
    "        userID = row.user_id\n",
    "        pred , real = predict_movie_rating(imdbID, userID, merged_data, mean, knn_metric, set_k=False, k_neighbors=15)\n",
    "        predictions.loc[row[0]] = pred\n",
    "        reals.loc[row[0]] = real\n",
    "    \n",
    "    rmse = mean_squared_error(reals['Real_Rating'], predictions['Prediction'], squared=False)\n",
    "    print('RMSE: '+str(rmse))\n",
    "    return float(rmse)"
   ]
  },
  {
   "cell_type": "code",
   "execution_count": 15,
   "metadata": {
    "collapsed": false,
    "jupyter": {
     "outputs_hidden": false
    },
    "pycharm": {
     "name": "#%%\n"
    }
   },
   "outputs": [],
   "source": [
    "#test_predict_mr(50)"
   ]
  },
  {
   "cell_type": "code",
   "execution_count": 16,
   "metadata": {
    "collapsed": false,
    "jupyter": {
     "outputs_hidden": false
    },
    "pycharm": {
     "name": "#%%\n"
    }
   },
   "outputs": [
    {
     "name": "stdout",
     "output_type": "stream",
     "text": [
      "PCA:\n",
      "Main Variance impacting factors:\n",
      "[0.1352569  0.09503712 0.07998231 0.06074159 0.04796725 0.04597668\n",
      " 0.0430597  0.04134133 0.03750373 0.03703565 0.03502601 0.0336219\n",
      " 0.03295991 0.03155028 0.0294954  0.02847374 0.02764069 0.02351684\n",
      " 0.02326137 0.01913027 0.01828914 0.01731806 0.0156969  0.01428033\n",
      " 0.01294528 0.00832974 0.0045619 ]\n"
     ]
    }
   ],
   "source": [
    "print(\"PCA:\")\n",
    "merged_g=merged_data.drop(columns={'user_id','imdbID','rating'})\n",
    "scaler = preprocessing.StandardScaler()\n",
    "merged_gt = scaler.fit_transform(merged_g)\n",
    "pca = PCA().fit(merged_gt)\n",
    "top_PCA=[\"%.2f\" % a for a in pca.explained_variance_ratio_ if a >0.01]\n",
    "print(\"Main Variance impacting factors:\")\n",
    "print(pca.explained_variance_ratio_)"
   ]
  },
  {
   "cell_type": "code",
   "execution_count": 17,
   "metadata": {
    "collapsed": false,
    "jupyter": {
     "outputs_hidden": false
    },
    "pycharm": {
     "name": "#%%\n"
    }
   },
   "outputs": [
    {
     "name": "stdout",
     "output_type": "stream",
     "text": [
      "     weights        features  abs_weights\n",
      "2   0.460198      imdbRating     0.460198\n",
      "5   0.428491      Metacritic     0.428491\n",
      "4   0.422208  RottenTomatoes     0.422208\n",
      "6   0.352119          Awards     0.352119\n",
      "3   0.305617       imdbVotes     0.305617\n",
      "1   0.277951         Runtime     0.277951\n",
      "14  0.209256               7     0.209256\n",
      "0  -0.148325            Year     0.148325\n",
      "11 -0.143027               4     0.143027\n",
      "25  0.120398              18     0.120398\n",
      "17 -0.086768              10     0.086768\n",
      "12  0.083021               5     0.083021\n",
      "16  0.067442               9     0.067442\n",
      "18  0.049997              11     0.049997\n",
      "22 -0.047021              15     0.047021\n",
      "20  0.044221              13     0.044221\n",
      "26  0.042664              19     0.042664\n",
      "19  0.035038              12     0.035038\n",
      "13  0.021776               6     0.021776\n",
      "7  -0.019760               0     0.019760\n",
      "9   0.019544               2     0.019544\n",
      "8   0.018165               1     0.018165\n",
      "21  0.016990              14     0.016990\n",
      "24 -0.016127              17     0.016127\n",
      "10 -0.011909               3     0.011909\n",
      "15  0.003699               8     0.003699\n",
      "23 -0.001117              16     0.001117\n"
     ]
    }
   ],
   "source": [
    "first_comp = pca.components_[0]\n",
    "first_comps = pd.DataFrame(zip(first_comp, merged_g.columns), columns=['weights', 'features'])\n",
    "first_comps['abs_weights']=first_comps['weights'].apply(lambda x: np.abs(x))\n",
    "first_comps= first_comps.sort_values('abs_weights', ascending=False)\n",
    "print(first_comps)"
   ]
  },
  {
   "cell_type": "code",
   "execution_count": null,
   "metadata": {
    "collapsed": false,
    "jupyter": {
     "outputs_hidden": false
    },
    "pycharm": {
     "name": "#%%\n"
    }
   },
   "outputs": [],
   "source": []
  },
  {
   "cell_type": "code",
   "execution_count": null,
   "metadata": {
    "collapsed": false,
    "jupyter": {
     "outputs_hidden": false
    },
    "pycharm": {
     "name": "#%%\n"
    }
   },
   "outputs": [],
   "source": []
  }
 ],
 "metadata": {
  "kernelspec": {
   "display_name": "bda-analytics-challenge-ss2020",
   "language": "python",
   "name": "bda-analytics-challenge-ss2020"
  },
  "language_info": {
   "codemirror_mode": {
    "name": "ipython",
    "version": 3
   },
   "file_extension": ".py",
   "mimetype": "text/x-python",
   "name": "python",
   "nbconvert_exporter": "python",
   "pygments_lexer": "ipython3",
   "version": "3.8.3"
  },
  "pycharm": {
   "stem_cell": {
    "cell_type": "raw",
    "metadata": {
     "collapsed": false
    },
    "source": []
   }
  }
 },
 "nbformat": 4,
 "nbformat_minor": 4
}
