{
 "cells": [
  {
   "cell_type": "markdown",
   "metadata": {},
   "source": [
    "# Content-based Filtering\n",
    "\n",
    "Aproach:\n",
    "- Table mit Features und Ratings erstellen, ohne User - auf Basis des OMDB Datasets\n",
    "\n",
    "- sklearn-kNN mit cosine-similarity darauf anwenden\n",
    "\n",
    "- Funktion schreiben, die auf basis des ratings der neighbours das rating eines Filmes vorhersagt.\n",
    "\n",
    "\n",
    "Sources:\n",
    "\n",
    "#### https://heartbeat.fritz.ai/recommender-systems-with-python-part-i-content-based-filtering-5df4940bd831\n",
    "\n",
    "#### https://www.kaggle.com/johnwill225/movie-recommendations\n",
    "\n",
    "#### https://towardsdatascience.com/how-we-built-a-content-based-filtering-recommender-system-for-music-with-python-c6c3b1020332\n"
   ]
  },
  {
   "cell_type": "code",
   "execution_count": 1,
   "metadata": {},
   "outputs": [],
   "source": [
    "import pandas as pd\n",
    "import numpy as np\n",
    "import string\n",
    "import math\n",
    "from sklearn.neighbors import NearestNeighbors\n",
    "from scipy.sparse import csr_matrix\n",
    "from sklearn import preprocessing\n",
    "from sklearn.metrics import accuracy_score\n",
    "from sklearn.metrics import mean_squared_error\n",
    "from sklearn.preprocessing import MultiLabelBinarizer\n",
    "from sklearn.decomposition import PCA\n",
    "\n",
    "from knn_preprocessing import knn_preprocessing\n",
    "\n",
    "kwargs = dict(random_state=42)"
   ]
  },
  {
   "cell_type": "code",
   "execution_count": 2,
   "metadata": {},
   "outputs": [],
   "source": [
    "movies = pd.read_csv('../../data/preprocessed/movies_id_updated.csv')\n",
    "average_ratings = pd.read_csv('../../data/preprocessed/average_ratings.csv')\n",
    "omdb = pd.read_csv('../../data/preprocessed/omdb_cleaned.csv')\n",
    "ratings = pd.read_csv('../../data/preprocessed/ratings_clean_std_0.csv')"
   ]
  },
  {
   "cell_type": "code",
   "execution_count": 3,
   "metadata": {},
   "outputs": [
    {
     "data": {
      "text/plain": [
       "Index(['Title', 'Year', 'Rated', 'Runtime', 'Writer', 'Plot', 'Language',\n",
       "       'imdbRating', 'imdbVotes', 'imdbID', 'Rotten Tomatoes', 'Metacritic',\n",
       "       'Series', 'Released_season', 'Released_month', 'Released_day',\n",
       "       'PG_Rating', 'Available_languages', 'Oscars_won', 'Oscars_nominated',\n",
       "       'Golden_globe_won', 'Golden_globe_nominated'],\n",
       "      dtype='object')"
      ]
     },
     "execution_count": 3,
     "metadata": {},
     "output_type": "execute_result"
    }
   ],
   "source": [
    "omdb.columns"
   ]
  },
  {
   "cell_type": "code",
   "execution_count": 4,
   "metadata": {},
   "outputs": [],
   "source": [
    "merged_data = knn_preprocessing(['imdbID', 'Year', 'Runtime', 'Language', 'imdbRating', 'imdbVotes', 'Rotten Tomatoes', 'Metacritic',\n",
    "       'Series', 'PG_Rating', 'Oscars_won', 'Oscars_nominated',\n",
    "       'Golden_globe_won', 'Golden_globe_nominated'])"
   ]
  },
  {
   "cell_type": "code",
   "execution_count": 5,
   "metadata": {},
   "outputs": [
    {
     "data": {
      "text/html": [
       "<div>\n",
       "<style scoped>\n",
       "    .dataframe tbody tr th:only-of-type {\n",
       "        vertical-align: middle;\n",
       "    }\n",
       "\n",
       "    .dataframe tbody tr th {\n",
       "        vertical-align: top;\n",
       "    }\n",
       "\n",
       "    .dataframe thead th {\n",
       "        text-align: right;\n",
       "    }\n",
       "</style>\n",
       "<table border=\"1\" class=\"dataframe\">\n",
       "  <thead>\n",
       "    <tr style=\"text-align: right;\">\n",
       "      <th></th>\n",
       "      <th>user_id</th>\n",
       "      <th>imdbID</th>\n",
       "      <th>rating</th>\n",
       "      <th>Year</th>\n",
       "      <th>Runtime</th>\n",
       "      <th>imdbRating</th>\n",
       "      <th>imdbVotes</th>\n",
       "      <th>RottenTomatoes</th>\n",
       "      <th>Metacritic</th>\n",
       "      <th>Series</th>\n",
       "      <th>PG_Rating</th>\n",
       "      <th>Oscars_won</th>\n",
       "      <th>Oscars_nominated</th>\n",
       "      <th>Golden_globe_won</th>\n",
       "      <th>Golden_globe_nominated</th>\n",
       "    </tr>\n",
       "  </thead>\n",
       "  <tbody>\n",
       "    <tr>\n",
       "      <th>0</th>\n",
       "      <td>1264</td>\n",
       "      <td>47034.0</td>\n",
       "      <td>3.5</td>\n",
       "      <td>1954.0</td>\n",
       "      <td>96.0</td>\n",
       "      <td>7.6</td>\n",
       "      <td>27485.0</td>\n",
       "      <td>9.3</td>\n",
       "      <td>7.800000</td>\n",
       "      <td>0.0</td>\n",
       "      <td>0.0</td>\n",
       "      <td>0.0</td>\n",
       "      <td>0.0</td>\n",
       "      <td>0.0</td>\n",
       "      <td>0.0</td>\n",
       "    </tr>\n",
       "    <tr>\n",
       "      <th>1</th>\n",
       "      <td>213</td>\n",
       "      <td>304141.0</td>\n",
       "      <td>2.5</td>\n",
       "      <td>2004.0</td>\n",
       "      <td>142.0</td>\n",
       "      <td>7.9</td>\n",
       "      <td>524511.0</td>\n",
       "      <td>9.0</td>\n",
       "      <td>8.200000</td>\n",
       "      <td>0.0</td>\n",
       "      <td>1.0</td>\n",
       "      <td>0.0</td>\n",
       "      <td>2.0</td>\n",
       "      <td>0.0</td>\n",
       "      <td>0.0</td>\n",
       "    </tr>\n",
       "    <tr>\n",
       "      <th>2</th>\n",
       "      <td>593</td>\n",
       "      <td>369436.0</td>\n",
       "      <td>3.0</td>\n",
       "      <td>2008.0</td>\n",
       "      <td>88.0</td>\n",
       "      <td>5.7</td>\n",
       "      <td>61335.0</td>\n",
       "      <td>2.4</td>\n",
       "      <td>4.100000</td>\n",
       "      <td>0.0</td>\n",
       "      <td>2.0</td>\n",
       "      <td>0.0</td>\n",
       "      <td>0.0</td>\n",
       "      <td>0.0</td>\n",
       "      <td>0.0</td>\n",
       "    </tr>\n",
       "    <tr>\n",
       "      <th>3</th>\n",
       "      <td>609</td>\n",
       "      <td>1077258.0</td>\n",
       "      <td>4.0</td>\n",
       "      <td>2007.0</td>\n",
       "      <td>105.0</td>\n",
       "      <td>7.1</td>\n",
       "      <td>196149.0</td>\n",
       "      <td>7.4</td>\n",
       "      <td>5.779918</td>\n",
       "      <td>0.0</td>\n",
       "      <td>0.0</td>\n",
       "      <td>0.0</td>\n",
       "      <td>0.0</td>\n",
       "      <td>0.0</td>\n",
       "      <td>0.0</td>\n",
       "    </tr>\n",
       "    <tr>\n",
       "      <th>4</th>\n",
       "      <td>1590</td>\n",
       "      <td>52182.0</td>\n",
       "      <td>4.0</td>\n",
       "      <td>1958.0</td>\n",
       "      <td>100.0</td>\n",
       "      <td>7.4</td>\n",
       "      <td>6337.0</td>\n",
       "      <td>6.9</td>\n",
       "      <td>5.779918</td>\n",
       "      <td>0.0</td>\n",
       "      <td>0.0</td>\n",
       "      <td>2.0</td>\n",
       "      <td>0.0</td>\n",
       "      <td>0.0</td>\n",
       "      <td>0.0</td>\n",
       "    </tr>\n",
       "    <tr>\n",
       "      <th>...</th>\n",
       "      <td>...</td>\n",
       "      <td>...</td>\n",
       "      <td>...</td>\n",
       "      <td>...</td>\n",
       "      <td>...</td>\n",
       "      <td>...</td>\n",
       "      <td>...</td>\n",
       "      <td>...</td>\n",
       "      <td>...</td>\n",
       "      <td>...</td>\n",
       "      <td>...</td>\n",
       "      <td>...</td>\n",
       "      <td>...</td>\n",
       "      <td>...</td>\n",
       "      <td>...</td>\n",
       "    </tr>\n",
       "    <tr>\n",
       "      <th>787536</th>\n",
       "      <td>1032</td>\n",
       "      <td>83530.0</td>\n",
       "      <td>3.0</td>\n",
       "      <td>1982.0</td>\n",
       "      <td>85.0</td>\n",
       "      <td>6.2</td>\n",
       "      <td>47327.0</td>\n",
       "      <td>4.2</td>\n",
       "      <td>4.800000</td>\n",
       "      <td>0.0</td>\n",
       "      <td>1.0</td>\n",
       "      <td>0.0</td>\n",
       "      <td>0.0</td>\n",
       "      <td>0.0</td>\n",
       "      <td>0.0</td>\n",
       "    </tr>\n",
       "    <tr>\n",
       "      <th>787537</th>\n",
       "      <td>99</td>\n",
       "      <td>107798.0</td>\n",
       "      <td>3.0</td>\n",
       "      <td>1993.0</td>\n",
       "      <td>141.0</td>\n",
       "      <td>6.6</td>\n",
       "      <td>73544.0</td>\n",
       "      <td>5.3</td>\n",
       "      <td>5.000000</td>\n",
       "      <td>0.0</td>\n",
       "      <td>2.0</td>\n",
       "      <td>0.0</td>\n",
       "      <td>0.0</td>\n",
       "      <td>0.0</td>\n",
       "      <td>0.0</td>\n",
       "    </tr>\n",
       "    <tr>\n",
       "      <th>787538</th>\n",
       "      <td>333</td>\n",
       "      <td>93857.0</td>\n",
       "      <td>3.0</td>\n",
       "      <td>1987.0</td>\n",
       "      <td>88.0</td>\n",
       "      <td>5.1</td>\n",
       "      <td>12882.0</td>\n",
       "      <td>0.7</td>\n",
       "      <td>2.800000</td>\n",
       "      <td>0.0</td>\n",
       "      <td>2.0</td>\n",
       "      <td>0.0</td>\n",
       "      <td>0.0</td>\n",
       "      <td>0.0</td>\n",
       "      <td>0.0</td>\n",
       "    </tr>\n",
       "    <tr>\n",
       "      <th>787539</th>\n",
       "      <td>49</td>\n",
       "      <td>144168.0</td>\n",
       "      <td>3.0</td>\n",
       "      <td>1999.0</td>\n",
       "      <td>94.0</td>\n",
       "      <td>6.1</td>\n",
       "      <td>17926.0</td>\n",
       "      <td>7.1</td>\n",
       "      <td>6.500000</td>\n",
       "      <td>0.0</td>\n",
       "      <td>2.0</td>\n",
       "      <td>0.0</td>\n",
       "      <td>0.0</td>\n",
       "      <td>0.0</td>\n",
       "      <td>0.0</td>\n",
       "    </tr>\n",
       "    <tr>\n",
       "      <th>787540</th>\n",
       "      <td>1402</td>\n",
       "      <td>405422.0</td>\n",
       "      <td>3.5</td>\n",
       "      <td>2005.0</td>\n",
       "      <td>116.0</td>\n",
       "      <td>7.1</td>\n",
       "      <td>381355.0</td>\n",
       "      <td>8.5</td>\n",
       "      <td>7.300000</td>\n",
       "      <td>0.0</td>\n",
       "      <td>3.0</td>\n",
       "      <td>0.0</td>\n",
       "      <td>0.0</td>\n",
       "      <td>0.0</td>\n",
       "      <td>0.0</td>\n",
       "    </tr>\n",
       "  </tbody>\n",
       "</table>\n",
       "<p>787541 rows × 15 columns</p>\n",
       "</div>"
      ],
      "text/plain": [
       "        user_id     imdbID  rating    Year  Runtime  imdbRating  imdbVotes  \\\n",
       "0          1264    47034.0     3.5  1954.0     96.0         7.6    27485.0   \n",
       "1           213   304141.0     2.5  2004.0    142.0         7.9   524511.0   \n",
       "2           593   369436.0     3.0  2008.0     88.0         5.7    61335.0   \n",
       "3           609  1077258.0     4.0  2007.0    105.0         7.1   196149.0   \n",
       "4          1590    52182.0     4.0  1958.0    100.0         7.4     6337.0   \n",
       "...         ...        ...     ...     ...      ...         ...        ...   \n",
       "787536     1032    83530.0     3.0  1982.0     85.0         6.2    47327.0   \n",
       "787537       99   107798.0     3.0  1993.0    141.0         6.6    73544.0   \n",
       "787538      333    93857.0     3.0  1987.0     88.0         5.1    12882.0   \n",
       "787539       49   144168.0     3.0  1999.0     94.0         6.1    17926.0   \n",
       "787540     1402   405422.0     3.5  2005.0    116.0         7.1   381355.0   \n",
       "\n",
       "        RottenTomatoes  Metacritic  Series  PG_Rating  Oscars_won  \\\n",
       "0                  9.3    7.800000     0.0        0.0         0.0   \n",
       "1                  9.0    8.200000     0.0        1.0         0.0   \n",
       "2                  2.4    4.100000     0.0        2.0         0.0   \n",
       "3                  7.4    5.779918     0.0        0.0         0.0   \n",
       "4                  6.9    5.779918     0.0        0.0         2.0   \n",
       "...                ...         ...     ...        ...         ...   \n",
       "787536             4.2    4.800000     0.0        1.0         0.0   \n",
       "787537             5.3    5.000000     0.0        2.0         0.0   \n",
       "787538             0.7    2.800000     0.0        2.0         0.0   \n",
       "787539             7.1    6.500000     0.0        2.0         0.0   \n",
       "787540             8.5    7.300000     0.0        3.0         0.0   \n",
       "\n",
       "        Oscars_nominated  Golden_globe_won  Golden_globe_nominated  \n",
       "0                    0.0               0.0                     0.0  \n",
       "1                    2.0               0.0                     0.0  \n",
       "2                    0.0               0.0                     0.0  \n",
       "3                    0.0               0.0                     0.0  \n",
       "4                    0.0               0.0                     0.0  \n",
       "...                  ...               ...                     ...  \n",
       "787536               0.0               0.0                     0.0  \n",
       "787537               0.0               0.0                     0.0  \n",
       "787538               0.0               0.0                     0.0  \n",
       "787539               0.0               0.0                     0.0  \n",
       "787540               0.0               0.0                     0.0  \n",
       "\n",
       "[787541 rows x 15 columns]"
      ]
     },
     "execution_count": 5,
     "metadata": {},
     "output_type": "execute_result"
    }
   ],
   "source": [
    "merged_data"
   ]
  },
  {
   "cell_type": "code",
   "execution_count": 6,
   "metadata": {},
   "outputs": [
    {
     "data": {
      "text/plain": [
       "user_id                   0\n",
       "imdbID                    0\n",
       "rating                    0\n",
       "Year                      0\n",
       "Runtime                   0\n",
       "imdbRating                0\n",
       "imdbVotes                 0\n",
       "RottenTomatoes            0\n",
       "Metacritic                0\n",
       "Series                    0\n",
       "PG_Rating                 0\n",
       "Oscars_won                0\n",
       "Oscars_nominated          0\n",
       "Golden_globe_won          0\n",
       "Golden_globe_nominated    0\n",
       "dtype: int64"
      ]
     },
     "execution_count": 6,
     "metadata": {},
     "output_type": "execute_result"
    }
   ],
   "source": [
    "merged_data.isna().sum()"
   ]
  },
  {
   "cell_type": "code",
   "execution_count": 48,
   "metadata": {},
   "outputs": [],
   "source": [
    "# function that computes a rating based on the neighbors\n",
    "def compute_rating(neighbors, distances, mean = False):\n",
    "    \n",
    "    if mean == True:\n",
    "        pred = neighbors.mean()\n",
    "    else:\n",
    "        pred = sum(neighbors* (1+(1-distances[0]/distances[0].mean()))) / neighbors.shape[0]\n",
    "    \n",
    "    return float(pred)"
   ]
  },
  {
   "cell_type": "code",
   "execution_count": 51,
   "metadata": {},
   "outputs": [],
   "source": [
    "## function that predicts the rating of a movie from its imdbID and its 20 nearest neighbors\n",
    "\n",
    "def predict_movie_rating(imdbID, userID, user_data):\n",
    "    # get 20 (or x) nearest neighbors that were rated by userID\n",
    "    # TODO: Use function from kNN.ipynb to find optimal k for algorithm \n",
    "    k_neighbors = 16    \n",
    "    \n",
    "    # Select all ratings given by User #userID\n",
    "    ratings = user_data.loc[user_data['user_id'] == userID]\n",
    "    \n",
    "    # Get real rating -> remove this in the end -> currently done for validation\n",
    "    real_ratings = ratings.loc[(ratings['imdbID'] == imdbID)]\n",
    "    \n",
    "    real_idx = ratings.loc[(ratings['imdbID'] == imdbID)].index\n",
    "    \n",
    "    #remove real rating\n",
    "    ratings = ratings[ratings['imdbID'] != imdbID] \n",
    "    \n",
    "    ratings = ratings.drop(columns = {'imdbID','user_id', 'rating'})\n",
    "\n",
    "    scaler = preprocessing.StandardScaler()\n",
    "    features = pd.DataFrame(scaler.fit_transform(ratings)).merge(pd.DataFrame(ratings.index), left_index=True, right_index=True, how='left')\n",
    "    \n",
    "    \n",
    "    \n",
    "    if (ratings.to_numpy().size>0):   \n",
    "        \n",
    "        # Convert to Sparse Matrix Format\n",
    "        #ratings_as_csr = csr_matrix(ratings)\n",
    "        \n",
    "        # Set algorithm and params \n",
    "        knn = NearestNeighbors(metric='cosine', algorithm='brute', n_neighbors=k_neighbors, n_jobs=-1)\n",
    "\n",
    "        # Training\n",
    "        #print('---- Training ConBF-kNN-Algorithm ----')\n",
    "        #print('user_id: '+str(userID))\n",
    "        #print('imdbID: '+str(imdbID))\n",
    "        \n",
    "        knn.fit(features.iloc[:,0:12])\n",
    "        \n",
    "        input_data = user_data.iloc[real_idx]\n",
    "        inputs = scaler.transform(input_data.drop(columns = {'imdbID','user_id', 'rating'}))\n",
    "        \n",
    "    \n",
    "        #Prediction -> get x nearest neighbors of imdbID\n",
    "        distances , indices = knn.kneighbors(inputs, n_neighbors=k_neighbors)\n",
    "        \n",
    "       \n",
    "        neighbor_ratings = user_data['rating'].loc[features['0_y'].loc[indices[0]]]\n",
    "      \n",
    "        # compute rating of movie(imbdID) based on the rating of the 20 nearest neighbors\n",
    "        #mean = True gibt nur mittelwert der nachbarn\n",
    "        \n",
    "        pred = compute_rating(neighbor_ratings, distances)\n",
    "        \n",
    "        #Generate Output for Understandability\n",
    "        #print('Predicted Rating for '+str(imdbID)+': '+str(pred))\n",
    "        #print('Real Rating of '+str(imdbID)+' was: '+ str(real_ratings['rating'].values[0]))\n",
    "        \n",
    "        # return rating prediction and real rating\n",
    "        return pred , real_ratings['rating'].values[0]\n",
    "        \n",
    "    else:\n",
    "         return \"User has not rated other movies. Check input\"\n",
    "    "
   ]
  },
  {
   "cell_type": "code",
   "execution_count": 50,
   "metadata": {
    "collapsed": false,
    "jupyter": {
     "outputs_hidden": false
    },
    "pycharm": {
     "name": "#%%\n"
    }
   },
   "outputs": [],
   "source": [
    "### Testing function ###\n",
    "imdbID = 113627.0\n",
    "# Aufpassen userID und imdbID als float übergeben!!\n",
    "userID = 123\n",
    "pred , real = predict_movie_rating(imdbID, userID, merged_data)"
   ]
  },
  {
   "cell_type": "code",
   "execution_count": 18,
   "metadata": {
    "collapsed": false,
    "jupyter": {
     "outputs_hidden": false
    },
    "pycharm": {
     "name": "#%%\n"
    }
   },
   "outputs": [
    {
     "name": "stdout",
     "output_type": "stream",
     "text": [
      "2.967990241610865\n",
      "Predicted Rating for 145653: 2.967990241610865\n",
      "Real Rating of 145653 was: 4.5\n"
     ]
    }
   ],
   "source": [
    "### Testing function ###\n",
    "imdbID = 145653\n",
    "# Aufpassen userID und imdbID als float übergeben!!\n",
    "userID = 123\n",
    "pred , real = predict_movie_rating(imdbID, userID, merged_data)"
   ]
  },
  {
   "cell_type": "code",
   "execution_count": 19,
   "metadata": {
    "collapsed": false,
    "jupyter": {
     "outputs_hidden": false
    },
    "pycharm": {
     "name": "#%%\n"
    }
   },
   "outputs": [],
   "source": [
    "## DUPLICATED RATING!!! -> durch das umschreiben mit .values[0] wird das Doppelte Rating nicht mehr angezeigt -> tdm mal checken!"
   ]
  },
  {
   "cell_type": "code",
   "execution_count": 37,
   "metadata": {
    "collapsed": false,
    "jupyter": {
     "outputs_hidden": false
    },
    "pycharm": {
     "name": "#%%\n"
    }
   },
   "outputs": [],
   "source": [
    "# Larger Test:\n",
    "# TODO Refactoring needed #UglyPythonCode\n",
    "\n",
    "def test_predict_mr(no_test_samples):\n",
    "    # Sampling #no_test_samples of random samples from dataset for testing\n",
    "    test_set = merged_data.sample(n=no_test_samples)\n",
    "    \n",
    "    predictions = pd.DataFrame(columns=['Prediction'])\n",
    "    reals = pd.DataFrame(columns=['Real_Rating'])\n",
    "    \n",
    "    # Iterate over test-set and generate predicitons for it\n",
    "    # TODO get rid of ugly for-loop\n",
    "    for row in test_set.itertuples():\n",
    "        imdbID = row.imdbID\n",
    "        userID = row.user_id\n",
    "        pred , real = predict_movie_rating(imdbID, userID, merged_data)\n",
    "        #print(pred)\n",
    "        #print(real)\n",
    "        #print(row[0])\n",
    "        predictions.loc[row[0]] = pred\n",
    "        reals.loc[row[0]] = real\n",
    "    \n",
    "    rmse = mean_squared_error(reals['Real_Rating'], predictions['Prediction'], squared=False)\n",
    "    print('RMSE: '+str(rmse))\n",
    "    return float(rmse)"
   ]
  },
  {
   "cell_type": "code",
   "execution_count": 41,
   "metadata": {
    "collapsed": false,
    "jupyter": {
     "outputs_hidden": false
    },
    "pycharm": {
     "name": "#%%\n"
    }
   },
   "outputs": [
    {
     "name": "stdout",
     "output_type": "stream",
     "text": [
      "RMSE: 0.7907855647465817\n"
     ]
    },
    {
     "data": {
      "text/plain": [
       "0.7907855647465817"
      ]
     },
     "execution_count": 41,
     "metadata": {},
     "output_type": "execute_result"
    }
   ],
   "source": [
    "n = 50\n",
    "test_predict_mr(n)"
   ]
  },
  {
   "cell_type": "code",
   "execution_count": 42,
   "metadata": {},
   "outputs": [
    {
     "name": "stdout",
     "output_type": "stream",
     "text": [
      "RMSE: 0.7176198668540387\n",
      "RMSE: 0.772245813860549\n",
      "RMSE: 0.7242469714905326\n",
      "RMSE: 0.7627589088648674\n",
      "RMSE: 0.8494626898005517\n",
      "RMSE: 0.8395358560941572\n",
      "RMSE: 0.8029933634808523\n",
      "RMSE: 0.8811928302267125\n",
      "RMSE: 0.7492685286229224\n",
      "RMSE: 0.7858373767403665\n",
      "RMSE upper Bound: 0.8811928302267125\n",
      "RMSE lower Bound: 0.7176198668540387\n"
     ]
    }
   ],
   "source": [
    "upper = 0\n",
    "lower = 10\n",
    "\n",
    "for i in range(0,10):\n",
    "    n = 100\n",
    "    rmse = test_predict_mr(n)\n",
    "    \n",
    "    if (float(rmse) < float(lower)):\n",
    "        lower = rmse\n",
    "    \n",
    "    if (float(rmse) > float(upper)):\n",
    "        upper = rmse\n",
    "        \n",
    "print('RMSE upper Bound: '+str(upper))\n",
    "print('RMSE lower Bound: '+str(lower))"
   ]
  },
  {
   "cell_type": "code",
   "execution_count": 52,
   "metadata": {},
   "outputs": [
    {
     "name": "stdout",
     "output_type": "stream",
     "text": [
      "RMSE: 0.8063759602710759\n"
     ]
    },
    {
     "data": {
      "text/plain": [
       "0.8063759602710759"
      ]
     },
     "execution_count": 52,
     "metadata": {},
     "output_type": "execute_result"
    }
   ],
   "source": [
    "n = 1000\n",
    "test_predict_mr(n)"
   ]
  },
  {
   "cell_type": "code",
   "execution_count": null,
   "metadata": {},
   "outputs": [],
   "source": [
    "#Tested with (metric='minkowski', p=2)\n",
    "n = 50\n",
    "test_predict_mr(n)"
   ]
  },
  {
   "cell_type": "code",
   "execution_count": 150,
   "metadata": {},
   "outputs": [
    {
     "name": "stdout",
     "output_type": "stream",
     "text": [
      "RMSE: 1.0720381692131251\n"
     ]
    },
    {
     "data": {
      "text/plain": [
       "1.0720381692131251"
      ]
     },
     "execution_count": 150,
     "metadata": {},
     "output_type": "execute_result"
    }
   ],
   "source": [
    "#Tested with (metric='minkowski', p=2)\n",
    "n = 50\n",
    "test_predict_mr(n)"
   ]
  },
  {
   "cell_type": "code",
   "execution_count": null,
   "metadata": {},
   "outputs": [
    {
     "name": "stdout",
     "output_type": "stream",
     "text": [
      "RMSE: 0.8098710537656919\n",
      "RMSE: 0.8129982141799429\n",
      "RMSE: 0.8090306723256457\n",
      "RMSE: 0.8089043303750401\n",
      "RMSE: 0.8164125455805039\n",
      "RMSE: 0.8253029228451267\n"
     ]
    }
   ],
   "source": [
    "#Tested with minkowski\n",
    "upper = 0\n",
    "lower = 10\n",
    "\n",
    "for i in range(0,10):\n",
    "    n = 10000\n",
    "    rmse = test_predict_mr(n)\n",
    "    \n",
    "    if (float(rmse) < float(lower)):\n",
    "        lower = rmse\n",
    "    \n",
    "    if (float(rmse) > float(upper)):\n",
    "        upper = rmse\n",
    "        \n",
    "print('RMSE upper Bound: '+str(upper))\n",
    "print('RMSE lower Bound: '+str(lower))"
   ]
  },
  {
   "cell_type": "code",
   "execution_count": null,
   "metadata": {},
   "outputs": [],
   "source": []
  },
  {
   "cell_type": "code",
   "execution_count": null,
   "metadata": {},
   "outputs": [],
   "source": []
  },
  {
   "cell_type": "code",
   "execution_count": null,
   "metadata": {},
   "outputs": [],
   "source": []
  }
 ],
 "metadata": {
  "kernelspec": {
   "display_name": "bda-analytics-challenge-ss2020",
   "language": "python",
   "name": "bda-analytics-challenge-ss2020"
  },
  "language_info": {
   "codemirror_mode": {
    "name": "ipython",
    "version": 3
   },
   "file_extension": ".py",
   "mimetype": "text/x-python",
   "name": "python",
   "nbconvert_exporter": "python",
   "pygments_lexer": "ipython3",
   "version": "3.8.2"
  },
  "pycharm": {
   "stem_cell": {
    "cell_type": "raw",
    "metadata": {
     "collapsed": false
    },
    "source": []
   }
  }
 },
 "nbformat": 4,
 "nbformat_minor": 4
}
