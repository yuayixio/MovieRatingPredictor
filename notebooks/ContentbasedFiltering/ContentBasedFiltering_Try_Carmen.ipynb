{
 "cells": [
  {
   "cell_type": "markdown",
   "metadata": {},
   "source": [
    "# Content-based Filtering\n",
    "\n",
    "Aproach:\n",
    "- Table with features erstellen, ratings in zweitem table\n",
    "\n",
    "- sklearn-kNN mit minkowski-distance auf features anwenden, erhalte matrix mit allen Nachbarn eines jeden Films inklusive Abstand\n",
    "\n",
    "- Wähle für jeden Nutzer und Film die x-nächsten Nachbarn aus, die der Nutzer bewertet hat\n",
    "\n",
    "- Funktion schreiben, die auf basis des ratings der neighbours das rating eines Filmes vorhersagt."
   ]
  },
  {
   "cell_type": "code",
   "execution_count": 1,
   "metadata": {
    "pycharm": {
     "name": "#%%\n"
    }
   },
   "outputs": [],
   "source": [
    "import pandas as pd\n",
    "import numpy as np\n",
    "import string\n",
    "from sklearn.neighbors import NearestNeighbors\n",
    "from scipy.sparse import csr_matrix\n",
    "from sklearn import preprocessing\n",
    "from sklearn.metrics import accuracy_score\n",
    "from sklearn.metrics import mean_squared_error\n",
    "from sklearn.preprocessing import MultiLabelBinarizer\n",
    "from sklearn.decomposition import PCA\n",
    "kwargs = dict(random_state=42)"
   ]
  },
  {
   "cell_type": "code",
   "execution_count": 2,
   "metadata": {
    "pycharm": {
     "name": "#%%\n"
    }
   },
   "outputs": [],
   "source": [
    "movies = pd.read_csv('../../data/preprocessed/movies_id_updated.csv')\n",
    "average_ratings = pd.read_csv('../../data/preprocessed/average_ratings.csv')\n",
    "omdb = pd.read_csv('../../data/preprocessed/omdb_cleaned.csv')\n",
    "ratings = pd.read_csv('../../data/preprocessed/ratings_clean_std_0.csv')"
   ]
  },
  {
   "cell_type": "markdown",
   "metadata": {},
   "source": [
    "## Feature Preprocessing"
   ]
  },
  {
   "cell_type": "code",
   "execution_count": 3,
   "metadata": {
    "pycharm": {
     "name": "#%%\n"
    }
   },
   "outputs": [
    {
     "data": {
      "text/html": [
       "<div>\n",
       "<style scoped>\n",
       "    .dataframe tbody tr th:only-of-type {\n",
       "        vertical-align: middle;\n",
       "    }\n",
       "\n",
       "    .dataframe tbody tr th {\n",
       "        vertical-align: top;\n",
       "    }\n",
       "\n",
       "    .dataframe thead th {\n",
       "        text-align: right;\n",
       "    }\n",
       "</style>\n",
       "<table border=\"1\" class=\"dataframe\">\n",
       "  <thead>\n",
       "    <tr style=\"text-align: right;\">\n",
       "      <th></th>\n",
       "      <th>id</th>\n",
       "      <th>title</th>\n",
       "      <th>imdbID</th>\n",
       "      <th>spanishTitle</th>\n",
       "      <th>imdbPictureURL</th>\n",
       "      <th>year</th>\n",
       "      <th>rtID</th>\n",
       "      <th>rtPictureURL</th>\n",
       "    </tr>\n",
       "  </thead>\n",
       "  <tbody>\n",
       "    <tr>\n",
       "      <th>0</th>\n",
       "      <td>1</td>\n",
       "      <td>Toy story</td>\n",
       "      <td>tt0114709</td>\n",
       "      <td>Toy story (juguetes)</td>\n",
       "      <td>http://ia.media-imdb.com/images/M/MV5BMTMwNDU0...</td>\n",
       "      <td>1995.0</td>\n",
       "      <td>toy_story</td>\n",
       "      <td>http://content7.flixster.com/movie/10/93/63/10...</td>\n",
       "    </tr>\n",
       "    <tr>\n",
       "      <th>1</th>\n",
       "      <td>2</td>\n",
       "      <td>Jumanji</td>\n",
       "      <td>tt0113497</td>\n",
       "      <td>Jumanji</td>\n",
       "      <td>http://ia.media-imdb.com/images/M/MV5BMzM5NjE1...</td>\n",
       "      <td>1995.0</td>\n",
       "      <td>1068044-jumanji</td>\n",
       "      <td>http://content8.flixster.com/movie/56/79/73/56...</td>\n",
       "    </tr>\n",
       "    <tr>\n",
       "      <th>2</th>\n",
       "      <td>3</td>\n",
       "      <td>Grumpy Old Men</td>\n",
       "      <td>tt0107050</td>\n",
       "      <td>Dos viejos gruñones</td>\n",
       "      <td>http://ia.media-imdb.com/images/M/MV5BMTI5MTgy...</td>\n",
       "      <td>1993.0</td>\n",
       "      <td>grumpy_old_men</td>\n",
       "      <td>http://content6.flixster.com/movie/25/60/25602...</td>\n",
       "    </tr>\n",
       "    <tr>\n",
       "      <th>3</th>\n",
       "      <td>4</td>\n",
       "      <td>Waiting to Exhale</td>\n",
       "      <td>tt0114885</td>\n",
       "      <td>Esperando un respiro</td>\n",
       "      <td>http://ia.media-imdb.com/images/M/MV5BMTczMTMy...</td>\n",
       "      <td>1995.0</td>\n",
       "      <td>waiting_to_exhale</td>\n",
       "      <td>http://content9.flixster.com/movie/10/94/17/10...</td>\n",
       "    </tr>\n",
       "    <tr>\n",
       "      <th>4</th>\n",
       "      <td>5</td>\n",
       "      <td>Father of the Bride Part II</td>\n",
       "      <td>tt0113041</td>\n",
       "      <td>Vuelve el padre de la novia (Ahora también abu...</td>\n",
       "      <td>http://ia.media-imdb.com/images/M/MV5BMTg1NDc2...</td>\n",
       "      <td>1995.0</td>\n",
       "      <td>father_of_the_bride_part_ii</td>\n",
       "      <td>http://content8.flixster.com/movie/25/54/25542...</td>\n",
       "    </tr>\n",
       "  </tbody>\n",
       "</table>\n",
       "</div>"
      ],
      "text/plain": [
       "   id                        title     imdbID  \\\n",
       "0   1                    Toy story  tt0114709   \n",
       "1   2                      Jumanji  tt0113497   \n",
       "2   3               Grumpy Old Men  tt0107050   \n",
       "3   4            Waiting to Exhale  tt0114885   \n",
       "4   5  Father of the Bride Part II  tt0113041   \n",
       "\n",
       "                                        spanishTitle  \\\n",
       "0                               Toy story (juguetes)   \n",
       "1                                            Jumanji   \n",
       "2                                Dos viejos gruñones   \n",
       "3                               Esperando un respiro   \n",
       "4  Vuelve el padre de la novia (Ahora también abu...   \n",
       "\n",
       "                                      imdbPictureURL    year  \\\n",
       "0  http://ia.media-imdb.com/images/M/MV5BMTMwNDU0...  1995.0   \n",
       "1  http://ia.media-imdb.com/images/M/MV5BMzM5NjE1...  1995.0   \n",
       "2  http://ia.media-imdb.com/images/M/MV5BMTI5MTgy...  1993.0   \n",
       "3  http://ia.media-imdb.com/images/M/MV5BMTczMTMy...  1995.0   \n",
       "4  http://ia.media-imdb.com/images/M/MV5BMTg1NDc2...  1995.0   \n",
       "\n",
       "                          rtID  \\\n",
       "0                    toy_story   \n",
       "1              1068044-jumanji   \n",
       "2               grumpy_old_men   \n",
       "3            waiting_to_exhale   \n",
       "4  father_of_the_bride_part_ii   \n",
       "\n",
       "                                        rtPictureURL  \n",
       "0  http://content7.flixster.com/movie/10/93/63/10...  \n",
       "1  http://content8.flixster.com/movie/56/79/73/56...  \n",
       "2  http://content6.flixster.com/movie/25/60/25602...  \n",
       "3  http://content9.flixster.com/movie/10/94/17/10...  \n",
       "4  http://content8.flixster.com/movie/25/54/25542...  "
      ]
     },
     "execution_count": 3,
     "metadata": {},
     "output_type": "execute_result"
    }
   ],
   "source": [
    "movies.head()"
   ]
  },
  {
   "cell_type": "code",
   "execution_count": 4,
   "metadata": {
    "pycharm": {
     "name": "#%%\n"
    }
   },
   "outputs": [
    {
     "data": {
      "text/html": [
       "<div>\n",
       "<style scoped>\n",
       "    .dataframe tbody tr th:only-of-type {\n",
       "        vertical-align: middle;\n",
       "    }\n",
       "\n",
       "    .dataframe tbody tr th {\n",
       "        vertical-align: top;\n",
       "    }\n",
       "\n",
       "    .dataframe thead th {\n",
       "        text-align: right;\n",
       "    }\n",
       "</style>\n",
       "<table border=\"1\" class=\"dataframe\">\n",
       "  <thead>\n",
       "    <tr style=\"text-align: right;\">\n",
       "      <th></th>\n",
       "      <th>Unnamed: 0</th>\n",
       "      <th>user_id</th>\n",
       "      <th>imdbID</th>\n",
       "      <th>rating</th>\n",
       "    </tr>\n",
       "  </thead>\n",
       "  <tbody>\n",
       "    <tr>\n",
       "      <th>0</th>\n",
       "      <td>0</td>\n",
       "      <td>1264</td>\n",
       "      <td>tt0047034</td>\n",
       "      <td>3.5</td>\n",
       "    </tr>\n",
       "    <tr>\n",
       "      <th>1</th>\n",
       "      <td>1</td>\n",
       "      <td>213</td>\n",
       "      <td>tt0304141</td>\n",
       "      <td>2.5</td>\n",
       "    </tr>\n",
       "    <tr>\n",
       "      <th>2</th>\n",
       "      <td>2</td>\n",
       "      <td>593</td>\n",
       "      <td>tt0369436</td>\n",
       "      <td>3.0</td>\n",
       "    </tr>\n",
       "    <tr>\n",
       "      <th>3</th>\n",
       "      <td>3</td>\n",
       "      <td>609</td>\n",
       "      <td>tt1077258</td>\n",
       "      <td>4.0</td>\n",
       "    </tr>\n",
       "    <tr>\n",
       "      <th>4</th>\n",
       "      <td>4</td>\n",
       "      <td>1590</td>\n",
       "      <td>tt0052182</td>\n",
       "      <td>4.0</td>\n",
       "    </tr>\n",
       "    <tr>\n",
       "      <th>...</th>\n",
       "      <td>...</td>\n",
       "      <td>...</td>\n",
       "      <td>...</td>\n",
       "      <td>...</td>\n",
       "    </tr>\n",
       "    <tr>\n",
       "      <th>787536</th>\n",
       "      <td>812812</td>\n",
       "      <td>1032</td>\n",
       "      <td>tt0083530</td>\n",
       "      <td>3.0</td>\n",
       "    </tr>\n",
       "    <tr>\n",
       "      <th>787537</th>\n",
       "      <td>812813</td>\n",
       "      <td>99</td>\n",
       "      <td>tt0107798</td>\n",
       "      <td>3.0</td>\n",
       "    </tr>\n",
       "    <tr>\n",
       "      <th>787538</th>\n",
       "      <td>812814</td>\n",
       "      <td>333</td>\n",
       "      <td>tt0093857</td>\n",
       "      <td>3.0</td>\n",
       "    </tr>\n",
       "    <tr>\n",
       "      <th>787539</th>\n",
       "      <td>812815</td>\n",
       "      <td>49</td>\n",
       "      <td>tt0144168</td>\n",
       "      <td>3.0</td>\n",
       "    </tr>\n",
       "    <tr>\n",
       "      <th>787540</th>\n",
       "      <td>812817</td>\n",
       "      <td>1402</td>\n",
       "      <td>tt0405422</td>\n",
       "      <td>3.5</td>\n",
       "    </tr>\n",
       "  </tbody>\n",
       "</table>\n",
       "<p>787541 rows × 4 columns</p>\n",
       "</div>"
      ],
      "text/plain": [
       "        Unnamed: 0  user_id     imdbID  rating\n",
       "0                0     1264  tt0047034     3.5\n",
       "1                1      213  tt0304141     2.5\n",
       "2                2      593  tt0369436     3.0\n",
       "3                3      609  tt1077258     4.0\n",
       "4                4     1590  tt0052182     4.0\n",
       "...            ...      ...        ...     ...\n",
       "787536      812812     1032  tt0083530     3.0\n",
       "787537      812813       99  tt0107798     3.0\n",
       "787538      812814      333  tt0093857     3.0\n",
       "787539      812815       49  tt0144168     3.0\n",
       "787540      812817     1402  tt0405422     3.5\n",
       "\n",
       "[787541 rows x 4 columns]"
      ]
     },
     "execution_count": 4,
     "metadata": {},
     "output_type": "execute_result"
    }
   ],
   "source": [
    "ratings"
   ]
  },
  {
   "cell_type": "code",
   "execution_count": 5,
   "metadata": {
    "pycharm": {
     "name": "#%%\n"
    }
   },
   "outputs": [
    {
     "data": {
      "text/html": [
       "<div>\n",
       "<style scoped>\n",
       "    .dataframe tbody tr th:only-of-type {\n",
       "        vertical-align: middle;\n",
       "    }\n",
       "\n",
       "    .dataframe tbody tr th {\n",
       "        vertical-align: top;\n",
       "    }\n",
       "\n",
       "    .dataframe thead th {\n",
       "        text-align: right;\n",
       "    }\n",
       "</style>\n",
       "<table border=\"1\" class=\"dataframe\">\n",
       "  <thead>\n",
       "    <tr style=\"text-align: right;\">\n",
       "      <th></th>\n",
       "      <th>0</th>\n",
       "      <th>Title</th>\n",
       "      <th>Year</th>\n",
       "      <th>Rated</th>\n",
       "      <th>Runtime</th>\n",
       "      <th>Writer</th>\n",
       "      <th>Plot</th>\n",
       "      <th>Language</th>\n",
       "      <th>imdbRating</th>\n",
       "      <th>imdbVotes</th>\n",
       "      <th>...</th>\n",
       "      <th>Released_day</th>\n",
       "      <th>PG_Rating</th>\n",
       "      <th>Oscars_won</th>\n",
       "      <th>Oscars_nominated</th>\n",
       "      <th>Golden_globe_won</th>\n",
       "      <th>Golden_globe_nominated</th>\n",
       "      <th>Unnamed: 0</th>\n",
       "      <th>0.1</th>\n",
       "      <th>Available_languages</th>\n",
       "      <th>Available Language</th>\n",
       "    </tr>\n",
       "  </thead>\n",
       "  <tbody>\n",
       "    <tr>\n",
       "      <th>0</th>\n",
       "      <td>tt0047034</td>\n",
       "      <td>Godzilla</td>\n",
       "      <td>1954.0</td>\n",
       "      <td>Not Rated</td>\n",
       "      <td>96.0</td>\n",
       "      <td>Takeo Murata, Ishirô Honda, Shigeru Kayama (st...</td>\n",
       "      <td>American nuclear weapons testing results in th...</td>\n",
       "      <td>['Japanese']</td>\n",
       "      <td>7.6</td>\n",
       "      <td>27485.0</td>\n",
       "      <td>...</td>\n",
       "      <td>7.0</td>\n",
       "      <td>NaN</td>\n",
       "      <td>0.0</td>\n",
       "      <td>0.0</td>\n",
       "      <td>0.0</td>\n",
       "      <td>0.0</td>\n",
       "      <td>NaN</td>\n",
       "      <td>NaN</td>\n",
       "      <td>NaN</td>\n",
       "      <td>1</td>\n",
       "    </tr>\n",
       "    <tr>\n",
       "      <th>1</th>\n",
       "      <td>tt0304141</td>\n",
       "      <td>Harry Potter and the Prisoner of Azkaban</td>\n",
       "      <td>2004.0</td>\n",
       "      <td>PG</td>\n",
       "      <td>142.0</td>\n",
       "      <td>J.K. Rowling (novel), Steve Kloves (screenplay)</td>\n",
       "      <td>Harry Potter, Ron and Hermione return to Hogwa...</td>\n",
       "      <td>['English']</td>\n",
       "      <td>7.9</td>\n",
       "      <td>524511.0</td>\n",
       "      <td>...</td>\n",
       "      <td>4.0</td>\n",
       "      <td>1.0</td>\n",
       "      <td>0.0</td>\n",
       "      <td>2.0</td>\n",
       "      <td>0.0</td>\n",
       "      <td>0.0</td>\n",
       "      <td>NaN</td>\n",
       "      <td>NaN</td>\n",
       "      <td>NaN</td>\n",
       "      <td>1</td>\n",
       "    </tr>\n",
       "    <tr>\n",
       "      <th>2</th>\n",
       "      <td>tt0369436</td>\n",
       "      <td>Four Christmases</td>\n",
       "      <td>2008.0</td>\n",
       "      <td>PG-13</td>\n",
       "      <td>88.0</td>\n",
       "      <td>Matt Allen (screenplay), Caleb Wilson (screenp...</td>\n",
       "      <td>A couple struggles to visit all four of their ...</td>\n",
       "      <td>['English']</td>\n",
       "      <td>5.7</td>\n",
       "      <td>61335.0</td>\n",
       "      <td>...</td>\n",
       "      <td>26.0</td>\n",
       "      <td>2.0</td>\n",
       "      <td>0.0</td>\n",
       "      <td>0.0</td>\n",
       "      <td>0.0</td>\n",
       "      <td>0.0</td>\n",
       "      <td>NaN</td>\n",
       "      <td>NaN</td>\n",
       "      <td>NaN</td>\n",
       "      <td>1</td>\n",
       "    </tr>\n",
       "    <tr>\n",
       "      <th>3</th>\n",
       "      <td>tt1077258</td>\n",
       "      <td>Planet Terror</td>\n",
       "      <td>2007.0</td>\n",
       "      <td>Not Rated</td>\n",
       "      <td>105.0</td>\n",
       "      <td>Robert Rodriguez</td>\n",
       "      <td>After an experimental bio-weapon is released, ...</td>\n",
       "      <td>['English']</td>\n",
       "      <td>7.1</td>\n",
       "      <td>196149.0</td>\n",
       "      <td>...</td>\n",
       "      <td>13.0</td>\n",
       "      <td>NaN</td>\n",
       "      <td>0.0</td>\n",
       "      <td>0.0</td>\n",
       "      <td>0.0</td>\n",
       "      <td>0.0</td>\n",
       "      <td>NaN</td>\n",
       "      <td>NaN</td>\n",
       "      <td>NaN</td>\n",
       "      <td>1</td>\n",
       "    </tr>\n",
       "    <tr>\n",
       "      <th>4</th>\n",
       "      <td>tt0052182</td>\n",
       "      <td>Separate Tables</td>\n",
       "      <td>1958.0</td>\n",
       "      <td>Approved</td>\n",
       "      <td>100.0</td>\n",
       "      <td>Terence Rattigan (screenplay), John Gay (scree...</td>\n",
       "      <td>The stories of several people are told as they...</td>\n",
       "      <td>['English']</td>\n",
       "      <td>7.4</td>\n",
       "      <td>6337.0</td>\n",
       "      <td>...</td>\n",
       "      <td>11.0</td>\n",
       "      <td>NaN</td>\n",
       "      <td>2.0</td>\n",
       "      <td>0.0</td>\n",
       "      <td>0.0</td>\n",
       "      <td>0.0</td>\n",
       "      <td>NaN</td>\n",
       "      <td>NaN</td>\n",
       "      <td>NaN</td>\n",
       "      <td>1</td>\n",
       "    </tr>\n",
       "    <tr>\n",
       "      <th>...</th>\n",
       "      <td>...</td>\n",
       "      <td>...</td>\n",
       "      <td>...</td>\n",
       "      <td>...</td>\n",
       "      <td>...</td>\n",
       "      <td>...</td>\n",
       "      <td>...</td>\n",
       "      <td>...</td>\n",
       "      <td>...</td>\n",
       "      <td>...</td>\n",
       "      <td>...</td>\n",
       "      <td>...</td>\n",
       "      <td>...</td>\n",
       "      <td>...</td>\n",
       "      <td>...</td>\n",
       "      <td>...</td>\n",
       "      <td>...</td>\n",
       "      <td>...</td>\n",
       "      <td>...</td>\n",
       "      <td>...</td>\n",
       "      <td>...</td>\n",
       "    </tr>\n",
       "    <tr>\n",
       "      <th>9302</th>\n",
       "      <td>NaN</td>\n",
       "      <td>Pokemon 3: The Movie</td>\n",
       "      <td>2001.0</td>\n",
       "      <td>NaN</td>\n",
       "      <td>87.0</td>\n",
       "      <td>Satoshi Tajiri</td>\n",
       "      <td>In the town of Greenfield, a young, lonely gir...</td>\n",
       "      <td>['Japanese']</td>\n",
       "      <td>5.9</td>\n",
       "      <td>12672.0</td>\n",
       "      <td>...</td>\n",
       "      <td>21.0</td>\n",
       "      <td>NaN</td>\n",
       "      <td>0.0</td>\n",
       "      <td>0.0</td>\n",
       "      <td>0.0</td>\n",
       "      <td>0.0</td>\n",
       "      <td>5533.0</td>\n",
       "      <td>tt0266860</td>\n",
       "      <td>NaN</td>\n",
       "      <td>1</td>\n",
       "    </tr>\n",
       "    <tr>\n",
       "      <th>9303</th>\n",
       "      <td>NaN</td>\n",
       "      <td>Pokemon 4Ever</td>\n",
       "      <td>2002.0</td>\n",
       "      <td>NaN</td>\n",
       "      <td>75.0</td>\n",
       "      <td>Hideki Sonoda</td>\n",
       "      <td>Ash must stop a hunter who forces the mythical...</td>\n",
       "      <td>['Japanese']</td>\n",
       "      <td>5.7</td>\n",
       "      <td>7600.0</td>\n",
       "      <td>...</td>\n",
       "      <td>7.0</td>\n",
       "      <td>NaN</td>\n",
       "      <td>0.0</td>\n",
       "      <td>0.0</td>\n",
       "      <td>0.0</td>\n",
       "      <td>0.0</td>\n",
       "      <td>5557.0</td>\n",
       "      <td>tt0313487</td>\n",
       "      <td>NaN</td>\n",
       "      <td>1</td>\n",
       "    </tr>\n",
       "    <tr>\n",
       "      <th>9304</th>\n",
       "      <td>NaN</td>\n",
       "      <td>Le chagrin et la pitie</td>\n",
       "      <td>1969.0</td>\n",
       "      <td>NaN</td>\n",
       "      <td>251.0</td>\n",
       "      <td>Marcel Ophuls</td>\n",
       "      <td>An in-depth exploration of the various reactio...</td>\n",
       "      <td>['French']</td>\n",
       "      <td>8.2</td>\n",
       "      <td>3484.0</td>\n",
       "      <td>...</td>\n",
       "      <td>18.0</td>\n",
       "      <td>NaN</td>\n",
       "      <td>0.0</td>\n",
       "      <td>0.0</td>\n",
       "      <td>0.0</td>\n",
       "      <td>0.0</td>\n",
       "      <td>6102.0</td>\n",
       "      <td>tt0383974</td>\n",
       "      <td>NaN</td>\n",
       "      <td>1</td>\n",
       "    </tr>\n",
       "    <tr>\n",
       "      <th>9305</th>\n",
       "      <td>NaN</td>\n",
       "      <td>Just the Ticket</td>\n",
       "      <td>1999.0</td>\n",
       "      <td>NaN</td>\n",
       "      <td>115.0</td>\n",
       "      <td>Richard Wenk</td>\n",
       "      <td>A ticket scalper wants to make one last big de...</td>\n",
       "      <td>['English']</td>\n",
       "      <td>5.7</td>\n",
       "      <td>1822.0</td>\n",
       "      <td>...</td>\n",
       "      <td>26.0</td>\n",
       "      <td>NaN</td>\n",
       "      <td>0.0</td>\n",
       "      <td>0.0</td>\n",
       "      <td>0.0</td>\n",
       "      <td>0.0</td>\n",
       "      <td>8060.0</td>\n",
       "      <td>tt0134948</td>\n",
       "      <td>NaN</td>\n",
       "      <td>1</td>\n",
       "    </tr>\n",
       "    <tr>\n",
       "      <th>9306</th>\n",
       "      <td>NaN</td>\n",
       "      <td>Dung che sai duk</td>\n",
       "      <td>1994.0</td>\n",
       "      <td>NaN</td>\n",
       "      <td>100.0</td>\n",
       "      <td>Jin Yong</td>\n",
       "      <td>A broken-hearted hit man moves to the desert w...</td>\n",
       "      <td>['Cantonese']</td>\n",
       "      <td>7.2</td>\n",
       "      <td>12754.0</td>\n",
       "      <td>...</td>\n",
       "      <td>17.0</td>\n",
       "      <td>NaN</td>\n",
       "      <td>0.0</td>\n",
       "      <td>0.0</td>\n",
       "      <td>0.0</td>\n",
       "      <td>0.0</td>\n",
       "      <td>8078.0</td>\n",
       "      <td>tt1233247</td>\n",
       "      <td>NaN</td>\n",
       "      <td>1</td>\n",
       "    </tr>\n",
       "  </tbody>\n",
       "</table>\n",
       "<p>9307 rows × 26 columns</p>\n",
       "</div>"
      ],
      "text/plain": [
       "              0                                     Title    Year      Rated  \\\n",
       "0     tt0047034                                  Godzilla  1954.0  Not Rated   \n",
       "1     tt0304141  Harry Potter and the Prisoner of Azkaban  2004.0         PG   \n",
       "2     tt0369436                          Four Christmases  2008.0      PG-13   \n",
       "3     tt1077258                             Planet Terror  2007.0  Not Rated   \n",
       "4     tt0052182                           Separate Tables  1958.0   Approved   \n",
       "...         ...                                       ...     ...        ...   \n",
       "9302        NaN                      Pokemon 3: The Movie  2001.0        NaN   \n",
       "9303        NaN                             Pokemon 4Ever  2002.0        NaN   \n",
       "9304        NaN                    Le chagrin et la pitie  1969.0        NaN   \n",
       "9305        NaN                           Just the Ticket  1999.0        NaN   \n",
       "9306        NaN                          Dung che sai duk  1994.0        NaN   \n",
       "\n",
       "      Runtime                                             Writer  \\\n",
       "0        96.0  Takeo Murata, Ishirô Honda, Shigeru Kayama (st...   \n",
       "1       142.0    J.K. Rowling (novel), Steve Kloves (screenplay)   \n",
       "2        88.0  Matt Allen (screenplay), Caleb Wilson (screenp...   \n",
       "3       105.0                                   Robert Rodriguez   \n",
       "4       100.0  Terence Rattigan (screenplay), John Gay (scree...   \n",
       "...       ...                                                ...   \n",
       "9302     87.0                                     Satoshi Tajiri   \n",
       "9303     75.0                                      Hideki Sonoda   \n",
       "9304    251.0                                      Marcel Ophuls   \n",
       "9305    115.0                                       Richard Wenk   \n",
       "9306    100.0                                           Jin Yong   \n",
       "\n",
       "                                                   Plot       Language  \\\n",
       "0     American nuclear weapons testing results in th...   ['Japanese']   \n",
       "1     Harry Potter, Ron and Hermione return to Hogwa...    ['English']   \n",
       "2     A couple struggles to visit all four of their ...    ['English']   \n",
       "3     After an experimental bio-weapon is released, ...    ['English']   \n",
       "4     The stories of several people are told as they...    ['English']   \n",
       "...                                                 ...            ...   \n",
       "9302  In the town of Greenfield, a young, lonely gir...   ['Japanese']   \n",
       "9303  Ash must stop a hunter who forces the mythical...   ['Japanese']   \n",
       "9304  An in-depth exploration of the various reactio...     ['French']   \n",
       "9305  A ticket scalper wants to make one last big de...    ['English']   \n",
       "9306  A broken-hearted hit man moves to the desert w...  ['Cantonese']   \n",
       "\n",
       "      imdbRating  imdbVotes  ... Released_day  PG_Rating  Oscars_won  \\\n",
       "0            7.6    27485.0  ...          7.0        NaN         0.0   \n",
       "1            7.9   524511.0  ...          4.0        1.0         0.0   \n",
       "2            5.7    61335.0  ...         26.0        2.0         0.0   \n",
       "3            7.1   196149.0  ...         13.0        NaN         0.0   \n",
       "4            7.4     6337.0  ...         11.0        NaN         2.0   \n",
       "...          ...        ...  ...          ...        ...         ...   \n",
       "9302         5.9    12672.0  ...         21.0        NaN         0.0   \n",
       "9303         5.7     7600.0  ...          7.0        NaN         0.0   \n",
       "9304         8.2     3484.0  ...         18.0        NaN         0.0   \n",
       "9305         5.7     1822.0  ...         26.0        NaN         0.0   \n",
       "9306         7.2    12754.0  ...         17.0        NaN         0.0   \n",
       "\n",
       "      Oscars_nominated  Golden_globe_won  Golden_globe_nominated  Unnamed: 0  \\\n",
       "0                  0.0               0.0                     0.0         NaN   \n",
       "1                  2.0               0.0                     0.0         NaN   \n",
       "2                  0.0               0.0                     0.0         NaN   \n",
       "3                  0.0               0.0                     0.0         NaN   \n",
       "4                  0.0               0.0                     0.0         NaN   \n",
       "...                ...               ...                     ...         ...   \n",
       "9302               0.0               0.0                     0.0      5533.0   \n",
       "9303               0.0               0.0                     0.0      5557.0   \n",
       "9304               0.0               0.0                     0.0      6102.0   \n",
       "9305               0.0               0.0                     0.0      8060.0   \n",
       "9306               0.0               0.0                     0.0      8078.0   \n",
       "\n",
       "            0.1  Available_languages  Available Language  \n",
       "0           NaN                  NaN                   1  \n",
       "1           NaN                  NaN                   1  \n",
       "2           NaN                  NaN                   1  \n",
       "3           NaN                  NaN                   1  \n",
       "4           NaN                  NaN                   1  \n",
       "...         ...                  ...                 ...  \n",
       "9302  tt0266860                  NaN                   1  \n",
       "9303  tt0313487                  NaN                   1  \n",
       "9304  tt0383974                  NaN                   1  \n",
       "9305  tt0134948                  NaN                   1  \n",
       "9306  tt1233247                  NaN                   1  \n",
       "\n",
       "[9307 rows x 26 columns]"
      ]
     },
     "execution_count": 5,
     "metadata": {},
     "output_type": "execute_result"
    }
   ],
   "source": [
    "omdb"
   ]
  },
  {
   "cell_type": "code",
   "execution_count": 6,
   "metadata": {
    "pycharm": {
     "name": "#%%\n"
    }
   },
   "outputs": [
    {
     "data": {
      "text/plain": [
       "Index(['0', 'Title', 'Year', 'Rated', 'Runtime', 'Writer', 'Plot', 'Language',\n",
       "       'imdbRating', 'imdbVotes', 'imdbID', 'Rotten Tomatoes', 'Metacritic',\n",
       "       'Series', 'Released_season', 'Released_month', 'Released_day',\n",
       "       'PG_Rating', 'Oscars_won', 'Oscars_nominated', 'Golden_globe_won',\n",
       "       'Golden_globe_nominated', 'Unnamed: 0', '0.1', 'Available_languages',\n",
       "       'Available Language'],\n",
       "      dtype='object')"
      ]
     },
     "execution_count": 6,
     "metadata": {},
     "output_type": "execute_result"
    }
   ],
   "source": [
    "omdb.columns"
   ]
  },
  {
   "cell_type": "code",
   "execution_count": 7,
   "metadata": {
    "scrolled": true
   },
   "outputs": [
    {
     "data": {
      "text/html": [
       "<div>\n",
       "<style scoped>\n",
       "    .dataframe tbody tr th:only-of-type {\n",
       "        vertical-align: middle;\n",
       "    }\n",
       "\n",
       "    .dataframe tbody tr th {\n",
       "        vertical-align: top;\n",
       "    }\n",
       "\n",
       "    .dataframe thead th {\n",
       "        text-align: right;\n",
       "    }\n",
       "</style>\n",
       "<table border=\"1\" class=\"dataframe\">\n",
       "  <thead>\n",
       "    <tr style=\"text-align: right;\">\n",
       "      <th></th>\n",
       "      <th>Unnamed: 0</th>\n",
       "      <th>user_id</th>\n",
       "      <th>imdbID</th>\n",
       "      <th>rating</th>\n",
       "    </tr>\n",
       "  </thead>\n",
       "  <tbody>\n",
       "    <tr>\n",
       "      <th>0</th>\n",
       "      <td>0</td>\n",
       "      <td>1264</td>\n",
       "      <td>tt0047034</td>\n",
       "      <td>3.5</td>\n",
       "    </tr>\n",
       "    <tr>\n",
       "      <th>1</th>\n",
       "      <td>1</td>\n",
       "      <td>213</td>\n",
       "      <td>tt0304141</td>\n",
       "      <td>2.5</td>\n",
       "    </tr>\n",
       "    <tr>\n",
       "      <th>2</th>\n",
       "      <td>2</td>\n",
       "      <td>593</td>\n",
       "      <td>tt0369436</td>\n",
       "      <td>3.0</td>\n",
       "    </tr>\n",
       "    <tr>\n",
       "      <th>3</th>\n",
       "      <td>3</td>\n",
       "      <td>609</td>\n",
       "      <td>tt1077258</td>\n",
       "      <td>4.0</td>\n",
       "    </tr>\n",
       "    <tr>\n",
       "      <th>4</th>\n",
       "      <td>4</td>\n",
       "      <td>1590</td>\n",
       "      <td>tt0052182</td>\n",
       "      <td>4.0</td>\n",
       "    </tr>\n",
       "    <tr>\n",
       "      <th>...</th>\n",
       "      <td>...</td>\n",
       "      <td>...</td>\n",
       "      <td>...</td>\n",
       "      <td>...</td>\n",
       "    </tr>\n",
       "    <tr>\n",
       "      <th>787536</th>\n",
       "      <td>812812</td>\n",
       "      <td>1032</td>\n",
       "      <td>tt0083530</td>\n",
       "      <td>3.0</td>\n",
       "    </tr>\n",
       "    <tr>\n",
       "      <th>787537</th>\n",
       "      <td>812813</td>\n",
       "      <td>99</td>\n",
       "      <td>tt0107798</td>\n",
       "      <td>3.0</td>\n",
       "    </tr>\n",
       "    <tr>\n",
       "      <th>787538</th>\n",
       "      <td>812814</td>\n",
       "      <td>333</td>\n",
       "      <td>tt0093857</td>\n",
       "      <td>3.0</td>\n",
       "    </tr>\n",
       "    <tr>\n",
       "      <th>787539</th>\n",
       "      <td>812815</td>\n",
       "      <td>49</td>\n",
       "      <td>tt0144168</td>\n",
       "      <td>3.0</td>\n",
       "    </tr>\n",
       "    <tr>\n",
       "      <th>787540</th>\n",
       "      <td>812817</td>\n",
       "      <td>1402</td>\n",
       "      <td>tt0405422</td>\n",
       "      <td>3.5</td>\n",
       "    </tr>\n",
       "  </tbody>\n",
       "</table>\n",
       "<p>787541 rows × 4 columns</p>\n",
       "</div>"
      ],
      "text/plain": [
       "        Unnamed: 0  user_id     imdbID  rating\n",
       "0                0     1264  tt0047034     3.5\n",
       "1                1      213  tt0304141     2.5\n",
       "2                2      593  tt0369436     3.0\n",
       "3                3      609  tt1077258     4.0\n",
       "4                4     1590  tt0052182     4.0\n",
       "...            ...      ...        ...     ...\n",
       "787536      812812     1032  tt0083530     3.0\n",
       "787537      812813       99  tt0107798     3.0\n",
       "787538      812814      333  tt0093857     3.0\n",
       "787539      812815       49  tt0144168     3.0\n",
       "787540      812817     1402  tt0405422     3.5\n",
       "\n",
       "[787541 rows x 4 columns]"
      ]
     },
     "execution_count": 7,
     "metadata": {},
     "output_type": "execute_result"
    }
   ],
   "source": [
    "ratings"
   ]
  },
  {
   "cell_type": "code",
   "execution_count": 8,
   "metadata": {},
   "outputs": [],
   "source": [
    " # Fill NaN Runtime\n",
    "omdb.loc[:, 'Runtime'] = omdb.loc[:, 'Runtime'].fillna(omdb.loc[:, 'Runtime'].median())\n",
    "# Fill NaN for imdbVotes\n",
    "omdb.loc[:, 'imdbVotes'] = omdb.loc[:, 'imdbVotes'].fillna(omdb.loc[:, 'imdbVotes'].median())"
   ]
  },
  {
   "cell_type": "code",
   "execution_count": 11,
   "metadata": {},
   "outputs": [],
   "source": [
    "#Combine awards in one column\n",
    "omdb['Awards'] = omdb['Oscars_won'] + omdb['Golden_globe_won'] + omdb['Oscars_nominated'] + omdb['Golden_globe_nominated']\n",
    "omdb = omdb.drop(columns={'Oscars_won', 'Oscars_nominated', 'Golden_globe_won', 'Golden_globe_nominated'})"
   ]
  },
  {
   "cell_type": "code",
   "execution_count": 12,
   "metadata": {},
   "outputs": [
    {
     "data": {
      "text/html": [
       "<div>\n",
       "<style scoped>\n",
       "    .dataframe tbody tr th:only-of-type {\n",
       "        vertical-align: middle;\n",
       "    }\n",
       "\n",
       "    .dataframe tbody tr th {\n",
       "        vertical-align: top;\n",
       "    }\n",
       "\n",
       "    .dataframe thead th {\n",
       "        text-align: right;\n",
       "    }\n",
       "</style>\n",
       "<table border=\"1\" class=\"dataframe\">\n",
       "  <thead>\n",
       "    <tr style=\"text-align: right;\">\n",
       "      <th></th>\n",
       "      <th>Year</th>\n",
       "      <th>Runtime</th>\n",
       "      <th>imdbVotes</th>\n",
       "      <th>Series</th>\n",
       "      <th>Awards</th>\n",
       "    </tr>\n",
       "  </thead>\n",
       "  <tbody>\n",
       "    <tr>\n",
       "      <th>0</th>\n",
       "      <td>1954.0</td>\n",
       "      <td>96.0</td>\n",
       "      <td>27485.0</td>\n",
       "      <td>0.0</td>\n",
       "      <td>0.0</td>\n",
       "    </tr>\n",
       "    <tr>\n",
       "      <th>1</th>\n",
       "      <td>2004.0</td>\n",
       "      <td>142.0</td>\n",
       "      <td>524511.0</td>\n",
       "      <td>0.0</td>\n",
       "      <td>2.0</td>\n",
       "    </tr>\n",
       "    <tr>\n",
       "      <th>2</th>\n",
       "      <td>2008.0</td>\n",
       "      <td>88.0</td>\n",
       "      <td>61335.0</td>\n",
       "      <td>0.0</td>\n",
       "      <td>0.0</td>\n",
       "    </tr>\n",
       "    <tr>\n",
       "      <th>3</th>\n",
       "      <td>2007.0</td>\n",
       "      <td>105.0</td>\n",
       "      <td>196149.0</td>\n",
       "      <td>0.0</td>\n",
       "      <td>0.0</td>\n",
       "    </tr>\n",
       "    <tr>\n",
       "      <th>4</th>\n",
       "      <td>1958.0</td>\n",
       "      <td>100.0</td>\n",
       "      <td>6337.0</td>\n",
       "      <td>0.0</td>\n",
       "      <td>2.0</td>\n",
       "    </tr>\n",
       "    <tr>\n",
       "      <th>...</th>\n",
       "      <td>...</td>\n",
       "      <td>...</td>\n",
       "      <td>...</td>\n",
       "      <td>...</td>\n",
       "      <td>...</td>\n",
       "    </tr>\n",
       "    <tr>\n",
       "      <th>9302</th>\n",
       "      <td>2001.0</td>\n",
       "      <td>87.0</td>\n",
       "      <td>12672.0</td>\n",
       "      <td>0.0</td>\n",
       "      <td>0.0</td>\n",
       "    </tr>\n",
       "    <tr>\n",
       "      <th>9303</th>\n",
       "      <td>2002.0</td>\n",
       "      <td>75.0</td>\n",
       "      <td>7600.0</td>\n",
       "      <td>0.0</td>\n",
       "      <td>0.0</td>\n",
       "    </tr>\n",
       "    <tr>\n",
       "      <th>9304</th>\n",
       "      <td>1969.0</td>\n",
       "      <td>251.0</td>\n",
       "      <td>3484.0</td>\n",
       "      <td>0.0</td>\n",
       "      <td>0.0</td>\n",
       "    </tr>\n",
       "    <tr>\n",
       "      <th>9305</th>\n",
       "      <td>1999.0</td>\n",
       "      <td>115.0</td>\n",
       "      <td>1822.0</td>\n",
       "      <td>0.0</td>\n",
       "      <td>0.0</td>\n",
       "    </tr>\n",
       "    <tr>\n",
       "      <th>9306</th>\n",
       "      <td>1994.0</td>\n",
       "      <td>100.0</td>\n",
       "      <td>12754.0</td>\n",
       "      <td>0.0</td>\n",
       "      <td>0.0</td>\n",
       "    </tr>\n",
       "  </tbody>\n",
       "</table>\n",
       "<p>9307 rows × 5 columns</p>\n",
       "</div>"
      ],
      "text/plain": [
       "        Year  Runtime  imdbVotes  Series  Awards\n",
       "0     1954.0     96.0    27485.0     0.0     0.0\n",
       "1     2004.0    142.0   524511.0     0.0     2.0\n",
       "2     2008.0     88.0    61335.0     0.0     0.0\n",
       "3     2007.0    105.0   196149.0     0.0     0.0\n",
       "4     1958.0    100.0     6337.0     0.0     2.0\n",
       "...      ...      ...        ...     ...     ...\n",
       "9302  2001.0     87.0    12672.0     0.0     0.0\n",
       "9303  2002.0     75.0     7600.0     0.0     0.0\n",
       "9304  1969.0    251.0     3484.0     0.0     0.0\n",
       "9305  1999.0    115.0     1822.0     0.0     0.0\n",
       "9306  1994.0    100.0    12754.0     0.0     0.0\n",
       "\n",
       "[9307 rows x 5 columns]"
      ]
     },
     "execution_count": 12,
     "metadata": {},
     "output_type": "execute_result"
    }
   ],
   "source": [
    "features = omdb[['Year', 'Runtime', 'imdbVotes', 'Series', 'Awards']]\n",
    "features"
   ]
  },
  {
   "cell_type": "code",
   "execution_count": null,
   "metadata": {
    "pycharm": {
     "name": "#%%\n"
    }
   },
   "outputs": [],
   "source": [
    "## KNN"
   ]
  },
  {
   "cell_type": "code",
   "execution_count": null,
   "metadata": {
    "pycharm": {
     "name": "#%%\n"
    }
   },
   "outputs": [],
   "source": [
    "# features of the first entry (imdbID 439)\n",
    "features[0]"
   ]
  },
  {
   "cell_type": "code",
   "execution_count": null,
   "metadata": {
    "pycharm": {
     "name": "#%%\n"
    }
   },
   "outputs": [],
   "source": [
    "features.shape[0]"
   ]
  },
  {
   "cell_type": "code",
   "execution_count": null,
   "metadata": {
    "pycharm": {
     "name": "#%%\n"
    }
   },
   "outputs": [],
   "source": [
    "# create NearesNeighbor model with the minkowski distance\n",
    "knn = NearestNeighbors(metric='minkowski', p=2, algorithm='brute', n_jobs=-1)"
   ]
  },
  {
   "cell_type": "code",
   "execution_count": null,
   "metadata": {
    "pycharm": {
     "name": "#%%\n"
    }
   },
   "outputs": [],
   "source": [
    "# fit to all the features\n",
    "knn.fit(features)"
   ]
  },
  {
   "cell_type": "code",
   "execution_count": null,
   "metadata": {
    "pycharm": {
     "name": "#%%\n"
    }
   },
   "outputs": [],
   "source": [
    "# create two array for distance and index to store\n",
    "distances = np.empty((features.shape[0],features.shape[0]))\n",
    "indices = np.empty((features.shape[0],features.shape[0]))\n",
    "\n",
    "# iterate over all imdbIDs\n",
    "for i in range(0, features.shape[0]):\n",
    "    # get all neighbors and the distances for each imdbID i\n",
    "    distances[i], indices[i] = knn.kneighbors([features[i]], n_neighbors=features.shape[0])\n",
    "    \n",
    "    if i%1000==0:\n",
    "        print(i)"
   ]
  },
  {
   "cell_type": "code",
   "execution_count": null,
   "metadata": {
    "pycharm": {
     "name": "#%%\n"
    }
   },
   "outputs": [],
   "source": [
    "distances"
   ]
  },
  {
   "cell_type": "code",
   "execution_count": null,
   "metadata": {
    "pycharm": {
     "name": "#%%\n"
    }
   },
   "outputs": [],
   "source": [
    "indices"
   ]
  },
  {
   "cell_type": "code",
   "execution_count": null,
   "metadata": {},
   "outputs": [],
   "source": [
    "len(indices)"
   ]
  },
  {
   "cell_type": "code",
   "execution_count": null,
   "metadata": {
    "pycharm": {
     "name": "#%%\n"
    }
   },
   "outputs": [],
   "source": [
    "distances_df = pd.DataFrame(distances)\n",
    "distances_df"
   ]
  },
  {
   "cell_type": "code",
   "execution_count": null,
   "metadata": {
    "pycharm": {
     "name": "#%%\n"
    }
   },
   "outputs": [],
   "source": [
    "indices_df = pd.DataFrame(indices)\n",
    "indices_df"
   ]
  },
  {
   "cell_type": "code",
   "execution_count": null,
   "metadata": {},
   "outputs": [],
   "source": [
    "#Alles in eine Funktion\n",
    "def predict_rating(imdbID, userID):\n",
    "    \n",
    "    #Bestimme Index in omdb von der ImdbID\n",
    "    index = omdb.loc[(omdb['imdbID'] == imdbID)].index\n",
    "\n",
    "    #Speichere Reihenfolge der Indizes der Nachbarn des Films und tausche erste Reihe mit Spaltenbezeichnungen\n",
    "    movie_row = indices_df.loc[index]\n",
    "    movie_row = movie_row.reset_index(drop=True)\n",
    "    movie_row.columns = movie_row.loc[0]\n",
    "    movie_row.drop(0, inplace=True)\n",
    "    movie_row.loc[1,:] = range(0,len(indices_df))\n",
    "    \n",
    "    #Speichere alle Filme, die der User bewertet hat und bestimme index davon\n",
    "    rated_id = ratings.loc[ratings['user_id'] == userID]\n",
    "    rated = np.empty((len(rated_id), 1))\n",
    "    i = 0\n",
    "    for imdb in rated_id['imdbID']:\n",
    "        rated[i] = omdb.loc[(omdb['imdbID'] == imdb)].index\n",
    "        i = i+1\n",
    "    rated_df = pd.DataFrame(rated)\n",
    "    \n",
    "    # Bestimme die Position der bewerteten Filme innerhalb der Nachbarschaft\n",
    "    position = movie_row[list(rated_df[0].astype(int))]\n",
    "    position = position.transpose()\n",
    "    position.columns = ['position']\n",
    "    position ['Index'] = position.index\n",
    "    position = position.reset_index(drop = True)\n",
    "        \n",
    "    #Greife auf den Film in der Distanzmatrix zu\n",
    "    movie_row_distance = distances_df.loc[index]\n",
    "    \n",
    "    #Bestimme Distanz der Filme vom Film, die der User bewertet hat\n",
    "    user_distances = movie_row_distance[list(position['position'].astype(int))].transpose()\n",
    "    user_distances.columns = ['distance']\n",
    "    user_distances =user_distances.reset_index(drop = True)\n",
    "    \n",
    "    #Füge alle Infos zusammen und sortiere von nächstem zum weitest entfernten Film\n",
    "    neighbors = pd.concat([position, user_distances], axis=1, join = \"inner\")\n",
    "    neighbors = neighbors.sort_values(\"distance\")\n",
    "    \n",
    "    #Füge die Ratings des Users zu diesen Filmen noch hinzu\n",
    "    rated_id['Index']= rated\n",
    "    neighbors = neighbors.merge(rated_id[[\"rating\",\"Index\"]], on=\"Index\", how = \"outer\")\n",
    "    \n",
    "    # Berechne die Prognose: Gewichtung der Bewertung der Nachbarn je nach Distanz\n",
    "    pred = sum(neighbors['rating']*(1+(1-neighbors['distance']/neighbors['distance'].mean()))) / neighbors.shape[0]\n",
    "    \n",
    "    return pred"
   ]
  },
  {
   "cell_type": "code",
   "execution_count": null,
   "metadata": {},
   "outputs": [],
   "source": [
    "predict_rating('tt0102467', 123)"
   ]
  },
  {
   "cell_type": "code",
   "execution_count": null,
   "metadata": {
    "jupyter": {
     "outputs_hidden": false
    },
    "pycharm": {
     "name": "#%%\n"
    }
   },
   "outputs": [],
   "source": [
    "omdb"
   ]
  },
  {
   "cell_type": "code",
   "execution_count": null,
   "metadata": {
    "jupyter": {
     "outputs_hidden": false
    },
    "pycharm": {
     "name": "#%%\n"
    }
   },
   "outputs": [],
   "source": [
    "predict_rating('tt0114709', 1228)"
   ]
  },
  {
   "cell_type": "code",
   "execution_count": null,
   "metadata": {
    "jupyter": {
     "outputs_hidden": false
    },
    "pycharm": {
     "name": "#%%\n"
    }
   },
   "outputs": [],
   "source": [
    "n=100\n",
    "test_set = ratings.sample(n)\n",
    "test_set   "
   ]
  },
  {
   "cell_type": "code",
   "execution_count": null,
   "metadata": {
    "jupyter": {
     "outputs_hidden": false
    },
    "pycharm": {
     "name": "#%%\n"
    }
   },
   "outputs": [],
   "source": [
    "predictions = np.empty(n)\n",
    "reals = np.empty(n)\n",
    "i = 0\n",
    "\n",
    "for index, row in test_set.iterrows():\n",
    "        imdbID = row['imdbID']\n",
    "        userID = row['user_id']\n",
    "        real = row['rating']\n",
    "        pred = predict_rating(imdbID, userID)\n",
    "        predictions[i] = pred\n",
    "        reals[i] = real\n",
    "        i = i+1\n",
    "rmse = mean_squared_error(reals, predictions, squared=False)\n",
    "print('RMSE: '+str(rmse))"
   ]
  },
  {
   "cell_type": "code",
   "execution_count": null,
   "metadata": {},
   "outputs": [],
   "source": []
  },
  {
   "cell_type": "code",
   "execution_count": null,
   "metadata": {
    "scrolled": true
   },
   "outputs": [],
   "source": [
    "predict_rating('tt0114709', 1228)"
   ]
  },
  {
   "cell_type": "code",
   "execution_count": null,
   "metadata": {
    "pycharm": {
     "name": "#%%\n"
    }
   },
   "outputs": [],
   "source": [
    "n=100\n",
    "test_set = ratings.sample(n)\n",
    "test_set   "
   ]
  },
  {
   "cell_type": "code",
   "execution_count": null,
   "metadata": {
    "pycharm": {
     "name": "#%%\n"
    }
   },
   "outputs": [],
   "source": [
    "predictions = np.empty(n)\n",
    "reals = np.empty(n)\n",
    "i = 0\n",
    "\n",
    "for index, row in test_set.iterrows():\n",
    "        imdbID = row['imdbID']\n",
    "        userID = row['user_id']\n",
    "        real = row['rating']\n",
    "        pred = predict_rating(imdbID, userID)\n",
    "        predictions[i] = pred\n",
    "        reals[i] = real\n",
    "        i = i+1\n",
    "rmse = mean_squared_error(reals, predictions, squared=False)\n",
    "print('RMSE: '+str(rmse))"
   ]
  }
 ],
 "metadata": {
  "kernelspec": {
   "display_name": "Python 3",
   "language": "python",
   "name": "python3"
  },
  "language_info": {
   "codemirror_mode": {
    "name": "ipython",
    "version": 3
   },
   "file_extension": ".py",
   "mimetype": "text/x-python",
   "name": "python",
   "nbconvert_exporter": "python",
   "pygments_lexer": "ipython3",
   "version": "3.8.3"
  }
 },
 "nbformat": 4,
 "nbformat_minor": 4
}