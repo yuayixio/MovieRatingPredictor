{
 "cells": [
  {
   "cell_type": "markdown",
   "metadata": {},
   "source": [
    "# Content-based Filtering\n",
    "\n",
    "Aproach:\n",
    "- Table with features erstellen, ratings in zweitem table\n",
    "\n",
    "- sklearn-kNN mit minkowski-distance auf features anwenden, erhalte matrix mit allen Nachbarn eines jeden Films inklusive Abstand\n",
    "\n",
    "- Wähle für jeden Nutzer und Film die x-nächsten Nachbarn aus, die der Nutzer bewertet hat\n",
    "\n",
    "- Funktion schreiben, die auf basis des ratings der neighbours das rating eines Filmes vorhersagt."
   ]
  },
  {
   "cell_type": "code",
   "execution_count": null,
   "metadata": {
    "collapsed": false,
    "jupyter": {
     "outputs_hidden": false
    },
    "pycharm": {
     "name": "#%%\n"
    }
   },
   "outputs": [],
   "source": [
    "import pandas as pd\n",
    "import numpy as np\n",
    "import string\n",
    "from sklearn.neighbors import NearestNeighbors\n",
    "from scipy.sparse import csr_matrix\n",
    "from sklearn import preprocessing\n",
    "from sklearn.metrics import accuracy_score\n",
    "from sklearn.metrics import mean_squared_error\n",
    "from sklearn.preprocessing import MultiLabelBinarizer\n",
    "from sklearn.decomposition import PCA\n",
    "import time\n",
    "kwargs = dict(random_state=42)"
   ]
  },
  {
   "cell_type": "code",
   "execution_count": null,
   "metadata": {
    "collapsed": false,
    "jupyter": {
     "outputs_hidden": false
    },
    "pycharm": {
     "name": "#%%\n"
    }
   },
   "outputs": [],
   "source": [
    "omdb = pd.read_csv('../../data/preprocessed/omdb_cleaned.csv')\n",
    "ratings = pd.read_csv('../../data/preprocessed/ratings_clean_std_0.csv')"
   ]
  },
  {
   "cell_type": "code",
   "execution_count": null,
   "metadata": {
    "collapsed": false,
    "jupyter": {
     "outputs_hidden": false
    },
    "pycharm": {
     "name": "#%%\n"
    }
   },
   "outputs": [],
   "source": [
    "omdb.columns"
   ]
  },
  {
   "cell_type": "markdown",
   "metadata": {},
   "source": [
    "Prepare data"
   ]
  },
  {
   "cell_type": "code",
   "execution_count": null,
   "metadata": {
    "collapsed": false,
    "jupyter": {
     "outputs_hidden": false
    },
    "pycharm": {
     "name": "#%%\n"
    }
   },
   "outputs": [],
   "source": [
    "omdb = omdb.reset_index()\n",
    "omdb_index = omdb[['index', '0']]"
   ]
  },
  {
   "cell_type": "code",
   "execution_count": null,
   "metadata": {
    "collapsed": false,
    "jupyter": {
     "outputs_hidden": false
    },
    "pycharm": {
     "name": "#%%\n"
    }
   },
   "outputs": [],
   "source": [
    "ratings = ratings.merge(omdb_index, left_on= 'imdbID', right_on='0', how='left').drop(['0'], axis=1)\n",
    "#delete ratings of movie \"nomads\"\n",
    "ratings = ratings[ratings['imdbID']!='tt0720339']"
   ]
  },
  {
   "cell_type": "markdown",
   "metadata": {},
   "source": [
    "Seleczt"
   ]
  },
  {
   "cell_type": "code",
   "execution_count": null,
   "metadata": {
    "collapsed": false,
    "jupyter": {
     "outputs_hidden": false
    },
    "pycharm": {
     "name": "#%%\n"
    }
   },
   "outputs": [],
   "source": [
    "import knn_Carmen"
   ]
  },
  {
   "cell_type": "code",
   "execution_count": null,
   "metadata": {
    "collapsed": false,
    "jupyter": {
     "outputs_hidden": false
    },
    "pycharm": {
     "name": "#%%\n"
    }
   },
   "outputs": [],
   "source": [
    "def grid_search_kNN(n_samples, params_feature):\n",
    "    features, names = knn_Carmen.features(**params_feature)\n",
    "    zeit_1 = time.perf_counter()\n",
    "    distances, indices = knn_Carmen.calculate_KNN(features)\n",
    "    zeit_knn = time.perf_counter() - zeit_1\n",
    "    print('Gesamtzeit_KNN: '+str(zeit_knn))\n",
    "\n",
    "    test_set = ratings.sample(n_samples)\n",
    "    predictions = np.empty(n_samples)\n",
    "    reals = np.empty(n_samples)\n",
    "    i = 0\n",
    "    zeit_2 = time.perf_counter()\n",
    "    for index, row in test_set.iterrows():\n",
    "            # select imdbID, userID and real rating\n",
    "            imdbID = row['imdbID']\n",
    "            userID = row['user_id']\n",
    "            real = row['rating']\n",
    "\n",
    "            # Index of movie in omdb dataframe\n",
    "            index = omdb.loc[(omdb['imdbID'] == imdbID)].index\n",
    "            # Store order of indices of the neighbors and tausche erste Reihe mit Spaltenbezeichnungen\n",
    "            movie_row = indices.loc[index]\n",
    "            # Select the movie in the distance matrix\n",
    "            movie_row_distance = distances.loc[index]\n",
    "            # Number of existing neighbors\n",
    "            n_neighbors = len(indices)\n",
    "            # ratings of the user    \n",
    "            rated_id = ratings.loc[ratings['user_id'] == userID]\n",
    "            # predict rating\n",
    "            pred = knn_Carmen.predict_rating(index, movie_row, movie_row_distance, indices, n_neighbors, rated_id, imdbID, userID)\n",
    "            predictions[i] = pred\n",
    "            reals[i] = real\n",
    "            i = i+1\n",
    "    rmse = mean_squared_error(reals, predictions, squared=False)\n",
    "    zeit_samples = time.perf_counter() - zeit_2\n",
    "    print('RMSE: '+str(rmse))\n",
    "    print('Gesamtzeit_Samples: '+str(zeit_samples))\n",
    "\n",
    "    results = pd.DataFrame()\n",
    "    results['Features'] = [names]\n",
    "    results['Sample_size'] = n_samples\n",
    "    results['RMSE'] = rmse\n",
    "    results['Runtime_total'] = zeit_knn+zeit_samples\n",
    "    results['Runtime_KNN'] = zeit_knn\n",
    "    results['Runtime_samples'] = zeit_samples\n",
    "    \n",
    "    try:\n",
    "        results_total = pd.read_csv('Ergebnisse_Carmen_ContentBased.csv')\n",
    "        results_total = results_total.append(results)\n",
    "    except FileNotFoundError:\n",
    "        results_total = results\n",
    "    results_total[['Features', 'Sample_size', 'RMSE', 'Runtime_total', 'Runtime_KNN', 'Runtime_samples']].to_csv('Ergebnisse_Carmen_ContentBased.csv')"
   ]
  },
  {
   "cell_type": "code",
   "execution_count": null,
   "metadata": {
    "collapsed": false,
    "jupyter": {
     "outputs_hidden": false
    },
    "pycharm": {
     "name": "#%%\n"
    }
   },
   "outputs": [],
   "source": [
    "#params = {'threshold_actors': [0, 20, 40], 'ts_languages': [10, 20] , 'year': [True, False], 'runtime': [True, False], 'imdbVotes': [True, False], 'series': [True, False], 'awards': [True, False], 'genres': [True, False]}"
   ]
  },
  {
   "cell_type": "code",
   "execution_count": null,
   "metadata": {
    "collapsed": false,
    "jupyter": {
     "outputs_hidden": false
    },
    "pycharm": {
     "name": "#%%\n"
    }
   },
   "outputs": [],
   "source": [
    "params = {'threshold_actors': [50], 'ts_languages': [20] , 'year': [True], 'runtime': [False], 'imdbVotes': [False], 'series': [False], 'awards': [False], 'genres': [True], 'rating':[True], 'rated':[True]}"
   ]
  },
  {
   "cell_type": "code",
   "execution_count": null,
   "metadata": {
    "collapsed": false,
    "jupyter": {
     "outputs_hidden": false
    },
    "pycharm": {
     "name": "#%%\n"
    }
   },
   "outputs": [],
   "source": [
    "from itertools import product\n",
    "permutations = [dict(zip(params, v)) for v in product(*params.values())]"
   ]
  },
  {
   "cell_type": "code",
   "execution_count": null,
   "metadata": {
    "collapsed": false,
    "jupyter": {
     "outputs_hidden": false
    },
    "pycharm": {
     "name": "#%%\n"
    }
   },
   "outputs": [],
   "source": [
    "permutations"
   ]
  },
  {
   "cell_type": "code",
   "execution_count": null,
   "metadata": {
    "collapsed": false,
    "jupyter": {
     "outputs_hidden": false
    },
    "pycharm": {
     "name": "#%%\n"
    }
   },
   "outputs": [],
   "source": [
    "n_samples = 10000\n",
    "for i in permutations:\n",
    "    grid_search_kNN(n_samples, i)"
   ]
  },
  {
   "cell_type": "code",
   "execution_count": null,
   "metadata": {
    "collapsed": false,
    "jupyter": {
     "outputs_hidden": false
    },
    "pycharm": {
     "name": "#%%\n"
    }
   },
   "outputs": [],
   "source": [
    "pd.read_csv('Ergebnisse_Carmen_ContentBased.csv').columns"
   ]
  },
  {
   "cell_type": "markdown",
   "metadata": {},
   "source": [
    "Backup"
   ]
  },
  {
   "cell_type": "code",
   "execution_count": null,
   "metadata": {
    "collapsed": false,
    "jupyter": {
     "outputs_hidden": false
    },
    "pycharm": {
     "name": "#%%\n"
    }
   },
   "outputs": [],
   "source": [
    "# Use optimal k\n",
    "def adjust_k(r_size):\n",
    "    adjusted_k = 10\n",
    "    if r_size > 40 and r_size  < 100:\n",
    "        adjusted_k = 15\n",
    "    elif r_size  > 100 and r_size < 500:\n",
    "        adjusted_k = 20\n",
    "    elif r_size  > 500 and r_size < 1500:\n",
    "        adjusted_k = 25\n",
    "    elif r_size  > 1500:\n",
    "        adjusted_k = 30\n",
    "        \n",
    "    return adjusted_k"
   ]
  },
  {
   "cell_type": "code",
   "execution_count": null,
   "metadata": {
    "collapsed": false,
    "jupyter": {
     "outputs_hidden": false
    },
    "pycharm": {
     "name": "#%%\n"
    }
   },
   "outputs": [],
   "source": [
    "#Alles in eine Funktion\n",
    "def predict_rating(imdbID, userID, mean=True):\n",
    "    zeitu = time.perf_counter()\n",
    "    \n",
    "    #Bestimme Index in omdb von der ImdbID\n",
    "    index = omdb.loc[(omdb['imdbID'] == imdbID)].index\n",
    "    \n",
    "    #Speichere Reihenfolge der Indizes der Nachbarn des Films und tausche erste Reihe mit Spaltenbezeichnungen\n",
    "    movie_row = indices_df.loc[index]\n",
    "    movie_row = movie_row.reset_index(drop=True)\n",
    "    movie_row.columns = movie_row.loc[0]\n",
    "    movie_row.drop(0, inplace=True)\n",
    "    movie_row.loc[1,:] = range(0,len(indices_df))\n",
    "    \n",
    "    #Speichere alle Filme, die der User bewertet hat und bestimme index davon\n",
    "    rated_id = ratings.loc[ratings['user_id'] == userID]\n",
    "    rated_df = rated_id['index']\n",
    "    rated_df = pd.DataFrame(rated_df)\n",
    "    \n",
    "    # Bestimme die Position der bewerteten Filme innerhalb der Nachbarschaft\n",
    "    position = movie_row[list(rated_df['index'].astype(int))]\n",
    "    position = position.transpose()\n",
    "    position.columns = ['position']\n",
    "    position ['index'] = position.index\n",
    "    position = position.reset_index(drop = True)\n",
    "    \n",
    "    #Greife auf den Film in der Distanzmatrix zu\n",
    "    movie_row_distance = distances_df.loc[index]\n",
    "    \n",
    "    #Bestimme Distanz der Filme vom Film, die der User bewertet hat\n",
    "    user_distances = movie_row_distance[list(position['position'].astype(int))].transpose()\n",
    "    user_distances.columns = ['distance']\n",
    "    user_distances =user_distances.reset_index(drop = True)\n",
    "    \n",
    "    #Füge alle Infos zusammen und sortiere von nächstem zum weitest entfernten Film\n",
    "    neighbors = pd.concat([position, user_distances], axis=1, join = \"inner\")\n",
    "    neighbors = neighbors.sort_values(\"distance\")\n",
    "        \n",
    "    #Füge die Ratings des Users zu diesen Filmen noch hinzu\n",
    "    neighbors = neighbors.merge(rated_id[[\"rating\",\"index\"]], on=\"index\", how = \"outer\")\n",
    "    neighbors = neighbors.iloc[1:]\n",
    "    \n",
    "    #Berechne die Prognose: \n",
    "    if mean==True:\n",
    "        # Mittelwer der k-nächsten Nachbarn\n",
    "        k = adjust_k(neighbors.shape[0])\n",
    "        pred = neighbors['rating'].iloc[:k].mean()\n",
    "    else:\n",
    "        # Gewichtung der Bewertung der Nachbarn je nach Distanz\n",
    "        pred = sum(neighbors['rating']*((1/neighbors['distance'])**10)/(sum((1/neighbors['distance'])**10)))\n",
    "    \n",
    "    return pred"
   ]
  },
  {
   "cell_type": "code",
   "execution_count": null,
   "metadata": {
    "collapsed": false,
    "jupyter": {
     "outputs_hidden": false
    },
    "pycharm": {
     "name": "#%%\n"
    }
   },
   "outputs": [],
   "source": [
    "n = 100\n",
    "test_set = ratings.sample(n)\n",
    "test_set['rating'].isna().sum()\n",
    "test_set"
   ]
  }
 ],
 "metadata": {
  "kernelspec": {
   "display_name": "Python 3",
   "language": "python",
   "name": "python3"
  },
  "language_info": {
   "codemirror_mode": {
    "name": "ipython",
    "version": 3
   },
   "file_extension": ".py",
   "mimetype": "text/x-python",
   "name": "python",
   "nbconvert_exporter": "python",
   "pygments_lexer": "ipython3",
   "version": "3.8.3"
  },
  "pycharm": {
   "stem_cell": {
    "cell_type": "raw",
    "metadata": {
     "collapsed": false
    },
    "source": []
   }
  }
 },
 "nbformat": 4,
 "nbformat_minor": 4
}
