{
 "cells": [
  {
   "cell_type": "markdown",
   "metadata": {},
   "source": [
    "## Tuning Hyperparameter for knn ContentBasedFiltering\n",
    "\n",
    "Run: \n",
    "\n",
    "<i> '$' pipenv shell </i>\n",
    "\n",
    "<i> '$' pipenv install ipynb </i>\n",
    "\n",
    "to be able to import functions from other ipynb files\n"
   ]
  },
  {
   "cell_type": "code",
   "execution_count": 1,
   "metadata": {},
   "outputs": [
    {
     "name": "stdout",
     "output_type": "stream",
     "text": [
      "PCA:\n",
      "Main Variance impacting factors:\n",
      "[0.1352569  0.09503712 0.07998231 0.06074159 0.04796725 0.04597668\n",
      " 0.0430597  0.04134133 0.03750373 0.03703565 0.03502601 0.0336219\n",
      " 0.03295991 0.03155028 0.0294954  0.02847374 0.02764069 0.02351684\n",
      " 0.02326137 0.01913027 0.01828914 0.01731806 0.0156969  0.01428033\n",
      " 0.01294528 0.00832974 0.0045619 ]\n",
      "     weights        features  abs_weights\n",
      "2   0.460198      imdbRating     0.460198\n",
      "5   0.428491      Metacritic     0.428491\n",
      "4   0.422208  RottenTomatoes     0.422208\n",
      "6   0.352119          Awards     0.352119\n",
      "3   0.305617       imdbVotes     0.305617\n",
      "1   0.277951         Runtime     0.277951\n",
      "14  0.209256               7     0.209256\n",
      "0  -0.148325            Year     0.148325\n",
      "11 -0.143027               4     0.143027\n",
      "25  0.120398              18     0.120398\n",
      "17 -0.086768              10     0.086768\n",
      "12  0.083021               5     0.083021\n",
      "16  0.067442               9     0.067442\n",
      "18  0.049997              11     0.049997\n",
      "22 -0.047021              15     0.047021\n",
      "20  0.044221              13     0.044221\n",
      "26  0.042664              19     0.042664\n",
      "19  0.035038              12     0.035038\n",
      "13  0.021776               6     0.021776\n",
      "7  -0.019760               0     0.019760\n",
      "9   0.019544               2     0.019544\n",
      "8   0.018165               1     0.018165\n",
      "21  0.016990              14     0.016990\n",
      "24 -0.016127              17     0.016127\n",
      "10 -0.011909               3     0.011909\n",
      "15  0.003699               8     0.003699\n",
      "23 -0.001117              16     0.001117\n"
     ]
    }
   ],
   "source": [
    "import pandas as pd\n",
    "import numpy as np\n",
    "from ipynb.fs.full.ContentBasedFiltering import predict_movie_rating, test_predict_mr"
   ]
  },
  {
   "cell_type": "code",
   "execution_count": 2,
   "metadata": {},
   "outputs": [],
   "source": [
    "def kreuzvalidiere(n, folds, mean = False, knn_metric = 'cosine', set_k=False, k_neighbors=15):\n",
    "    upper = 0\n",
    "    lower = 10\n",
    "\n",
    "    for i in range(0,folds):\n",
    "        rmse = test_predict_mr(n, mean, knn_metric, set_k, k_neighbors)\n",
    "\n",
    "        if (float(rmse) < float(lower)):\n",
    "            lower = rmse\n",
    "\n",
    "        if (float(rmse) > float(upper)):\n",
    "            upper = rmse\n",
    "\n",
    "    print('RMSE upper Bound: '+str(upper))\n",
    "    print('RMSE lower Bound: '+str(lower))"
   ]
  },
  {
   "cell_type": "markdown",
   "metadata": {},
   "source": [
    "## Tuning for Mean() vs. distance-weighted rating"
   ]
  },
  {
   "cell_type": "code",
   "execution_count": 3,
   "metadata": {},
   "outputs": [
    {
     "name": "stdout",
     "output_type": "stream",
     "text": [
      "Testing for n= 100, Mean: False, Folds: 4\n",
      "RMSE: 0.8526828138788358\n",
      "RMSE: 0.723912159698211\n",
      "RMSE: 0.7564898882341744\n",
      "RMSE: 0.6965966623230421\n",
      "RMSE upper Bound: 0.8526828138788358\n",
      "RMSE lower Bound: 0.6965966623230421\n"
     ]
    }
   ],
   "source": [
    "n = 100\n",
    "folds = 4\n",
    "print(\"Testing for n= \"+str(n)+\", Mean: False\"+\", Folds: \"+str(folds))\n",
    "kreuzvalidiere(n, folds, mean=False)"
   ]
  },
  {
   "cell_type": "code",
   "execution_count": null,
   "metadata": {},
   "outputs": [
    {
     "name": "stdout",
     "output_type": "stream",
     "text": [
      "Testing for n= 25000, Mean: False, Folds: 10\n"
     ]
    }
   ],
   "source": [
    "n = 25000\n",
    "folds = 10\n",
    "print(\"Testing for n= \"+str(n)+\", Mean: False\"+\", Folds: \"+str(folds))\n",
    "kreuzvalidiere(n, folds, mean=False)"
   ]
  },
  {
   "cell_type": "code",
   "execution_count": null,
   "metadata": {},
   "outputs": [],
   "source": [
    "n = 25000\n",
    "folds = 10\n",
    "print(\"Testing for n= \"+str(n)+\", Mean: True\"+\", Folds: \"+str(folds))\n",
    "kreuzvalidiere(n, folds, mean=True)"
   ]
  },
  {
   "cell_type": "markdown",
   "metadata": {},
   "source": [
    "## Tuning for knn_metric"
   ]
  },
  {
   "cell_type": "code",
   "execution_count": 4,
   "metadata": {},
   "outputs": [
    {
     "name": "stdout",
     "output_type": "stream",
     "text": [
      "Testing for n= 100, Metric: 'cosine', Folds: 4\n",
      "RMSE: 0.8598602516262513\n",
      "RMSE: 0.8694345964445768\n",
      "RMSE: 0.8483981496608555\n",
      "RMSE: 0.6314136520023476\n",
      "RMSE upper Bound: 0.8694345964445768\n",
      "RMSE lower Bound: 0.6314136520023476\n"
     ]
    }
   ],
   "source": [
    "n = 100\n",
    "folds = 4\n",
    "print(\"Testing for n= \"+str(n)+\", Metric: 'cosine'\"+\", Folds: \"+str(folds))\n",
    "kreuzvalidiere(n, folds, knn_metric = 'cosine')"
   ]
  },
  {
   "cell_type": "code",
   "execution_count": null,
   "metadata": {},
   "outputs": [],
   "source": [
    "n = 25000\n",
    "folds = 10\n",
    "print(\"Testing for n= \"+str(n)+\", Metric: 'cosine'\"+\", Folds: \"+str(folds))\n",
    "kreuzvalidiere(n, folds, knn_metric = 'cosine')"
   ]
  },
  {
   "cell_type": "code",
   "execution_count": null,
   "metadata": {},
   "outputs": [],
   "source": [
    "n = 25000\n",
    "folds = 10\n",
    "print(\"Testing for n= \"+str(n)+\", Metric: 'minkowski'\"+\", Folds: \"+str(folds))\n",
    "kreuzvalidiere(n, folds, knn_metric = 'minkowski')"
   ]
  },
  {
   "cell_type": "markdown",
   "metadata": {},
   "source": [
    "## Tuning for k_neighbors"
   ]
  },
  {
   "cell_type": "code",
   "execution_count": 5,
   "metadata": {},
   "outputs": [
    {
     "name": "stdout",
     "output_type": "stream",
     "text": [
      "Testing for n= 100, set_k: False, Folds: 4\n",
      "RMSE: 0.9110495242561506\n",
      "RMSE: 0.8218843690147303\n",
      "RMSE: 0.8667931180489007\n",
      "RMSE: 0.8887458998364087\n",
      "RMSE upper Bound: 0.9110495242561506\n",
      "RMSE lower Bound: 0.8218843690147303\n"
     ]
    }
   ],
   "source": [
    "n = 100\n",
    "folds = 4\n",
    "print(\"Testing for n= \"+str(n)+\", set_k: False\"+\", Folds: \"+str(folds))\n",
    "kreuzvalidiere(n, folds, set_k=False)"
   ]
  },
  {
   "cell_type": "code",
   "execution_count": null,
   "metadata": {},
   "outputs": [],
   "source": [
    "n = 25000\n",
    "folds = 10\n",
    "print(\"Testing for n= \"+str(n)+\", set_k: False\"+\", Folds: \"+str(folds))\n",
    "kreuzvalidiere(n, folds, set_k=False)"
   ]
  },
  {
   "cell_type": "code",
   "execution_count": null,
   "metadata": {},
   "outputs": [],
   "source": [
    "n = 25000\n",
    "folds = 10\n",
    "for i in range(4,10)\n",
    "    print(\"Testing for n= \"+str(n)+\", set_k: True,\"+\"k= \"+str(i)+ \"Folds: \"+str(folds))\n",
    "    kreuzvalidiere(n, folds, set_k=True, k_neighbors=i)"
   ]
  },
  {
   "cell_type": "code",
   "execution_count": null,
   "metadata": {},
   "outputs": [],
   "source": [
    "n = 25000\n",
    "folds = 10\n",
    "for i in range(10,20)\n",
    "    print(\"Testing for n= \"+str(n)+\", set_k: True,\"+\"k= \"+str(i)+ \"Folds: \"+str(folds))\n",
    "    kreuzvalidiere(n, folds, set_k=True, k_neighbors=i)"
   ]
  },
  {
   "cell_type": "code",
   "execution_count": null,
   "metadata": {},
   "outputs": [],
   "source": [
    "n = 25000\n",
    "folds = 10\n",
    "for i in range(20,30)\n",
    "    print(\"Testing for n= \"+str(n)+\", set_k: True,\"+\"k= \"+str(i)+ \"Folds: \"+str(folds))\n",
    "    kreuzvalidiere(n, folds, set_k=True, k_neighbors=i)"
   ]
  }
 ],
 "metadata": {
  "kernelspec": {
   "display_name": "bda-analytics-challenge-ss2020",
   "language": "python",
   "name": "bda-analytics-challenge-ss2020"
  },
  "language_info": {
   "codemirror_mode": {
    "name": "ipython",
    "version": 3
   },
   "file_extension": ".py",
   "mimetype": "text/x-python",
   "name": "python",
   "nbconvert_exporter": "python",
   "pygments_lexer": "ipython3",
   "version": "3.8.3"
  }
 },
 "nbformat": 4,
 "nbformat_minor": 4
}
