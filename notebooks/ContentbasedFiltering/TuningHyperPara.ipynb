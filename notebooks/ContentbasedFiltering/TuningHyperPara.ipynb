{
 "cells": [
  {
   "cell_type": "markdown",
   "metadata": {},
   "source": [
    "## Tuning Hyperparameter for knn ContentBasedFiltering\n",
    "\n",
    "Run: \n",
    "\n",
    "<i> '$' pipenv shell </i>\n",
    "\n",
    "<i> '$' pipenv install ipynb </i>\n",
    "\n",
    "to be able to import functions from other ipynb files\n"
   ]
  },
  {
   "cell_type": "code",
   "execution_count": 2,
   "metadata": {},
   "outputs": [
    {
     "name": "stdout",
     "output_type": "stream",
     "text": [
      "PCA:\n",
      "Main Variance impacting factors:\n",
      "[0.13526531 0.09503161 0.07997255 0.06073348 0.04796419 0.0459749\n",
      " 0.04306016 0.04134322 0.03749745 0.03703565 0.03502202 0.03362328\n",
      " 0.03296001 0.031551   0.02949176 0.02847078 0.02764098 0.0235196\n",
      " 0.02326318 0.01913025 0.01829368 0.01733844 0.01569124 0.01429026\n",
      " 0.0129433  0.00832911 0.00456256]\n",
      "14\n",
      "works\n",
      "RMSE: 0.8755066980912132\n",
      "2.3070592880249023\n",
      "works\n",
      "RMSE: 0.819408853877708\n",
      "20.770462036132812\n",
      "works\n",
      "RMSE: 0.8206629199854772\n",
      "21.412940979003906\n"
     ]
    }
   ],
   "source": [
    "import pandas as pd\n",
    "import numpy as np\n",
    "import os\n",
    "import sys\n",
    "from knn_preprocessing import knn_preprocessing\n",
    "#Import will run notebook and perform PCA\n",
    "from ipynb.fs.full.ContentBasedFiltering import predict_movie_rating, test_predict_mr, get_data"
   ]
  },
  {
   "cell_type": "code",
   "execution_count": 3,
   "metadata": {},
   "outputs": [],
   "source": [
    "def kreuzvalidiere(n, folds, mean = False, knn_metric = 'cosine', set_k=False, k_neighbors=15, data=get_data()):\n",
    "    upper = 0\n",
    "    lower = 10\n",
    "    \n",
    "    doku = pd.DataFrame(columns={'RMSE','Testsize','Fold','mean', 'knn_metric','set_k','k_neighbors','data'})\n",
    "    \n",
    "    \n",
    "    for i in range(0,folds):\n",
    "        rmse = test_predict_mr(n, mean, knn_metric, set_k, k_neighbors, data)\n",
    "        doku.loc[i,'RMSE'] = rmse\n",
    "        doku.loc[i,'Testsize'] = n\n",
    "        doku.loc[i,'Fold'] = str(i)\n",
    "        doku.loc[i,'mean'] = mean\n",
    "        doku.loc[i,'knn_metric'] = knn_metric\n",
    "        doku.loc[i,'set_k'] = set_k\n",
    "        doku.loc[i,'data'] = str(data.columns)\n",
    "        if set_k:\n",
    "            doku['k_neighbors'] = k_neighbors\n",
    "        \n",
    "        \n",
    "        if (float(rmse) < float(lower)):\n",
    "            lower = rmse\n",
    "\n",
    "        if (float(rmse) > float(upper)):\n",
    "            upper = rmse\n",
    "\n",
    "    print('RMSE upper Bound: '+str(upper))\n",
    "    print('RMSE lower Bound: '+str(lower))\n",
    "    \n",
    "    #build output csv\n",
    "    doku = doku.sort_values(by=['RMSE'], ascending=True)\n",
    "    doku = doku.dropna(how='all', axis=1)\n",
    "    doku.to_csv('../../data/tuning/ContentbasedTuning_'+str(round(lower,4))+'.csv') "
   ]
  },
  {
   "cell_type": "markdown",
   "metadata": {},
   "source": [
    "## Tuning for Mean() vs. distance-weighted rating"
   ]
  },
  {
   "cell_type": "code",
   "execution_count": 6,
   "metadata": {},
   "outputs": [
    {
     "name": "stdout",
     "output_type": "stream",
     "text": [
      "Testing for n= 100, Mean: False, Folds: 4\n",
      "RMSE: 0.8600161357792899\n",
      "RMSE: 0.7211986368173233\n",
      "RMSE: 0.8312425713259929\n",
      "RMSE: 0.834051301360322\n",
      "RMSE upper Bound: 0.8600161357792899\n",
      "RMSE lower Bound: 0.7211986368173233\n"
     ]
    }
   ],
   "source": [
    "n = 100\n",
    "folds = 4\n",
    "print(\"Testing for n= \"+str(n)+\", Mean: False\"+\", Folds: \"+str(folds))\n",
    "kreuzvalidiere(n, folds, mean=False)"
   ]
  },
  {
   "cell_type": "code",
   "execution_count": 4,
   "metadata": {},
   "outputs": [
    {
     "name": "stdout",
     "output_type": "stream",
     "text": [
      "Testing for n= 25000, Mean: False, Folds: 10\n",
      "RMSE: 0.7998149236829937\n",
      "RMSE: 0.8160378639300775\n",
      "RMSE: 0.8073930425258502\n",
      "RMSE: 0.8069565348965053\n",
      "RMSE: 0.810005601122022\n",
      "RMSE: 0.8112758113273519\n",
      "RMSE: 0.8099375545148093\n",
      "RMSE: 0.8048459046791226\n",
      "RMSE: 0.8032283724130602\n",
      "RMSE: 0.8078172426787046\n",
      "RMSE upper Bound: 0.8160378639300775\n",
      "RMSE lower Bound: 0.7998149236829937\n"
     ]
    }
   ],
   "source": [
    "n = 25000\n",
    "folds = 10\n",
    "print(\"Testing for n= \"+str(n)+\", Mean: False\"+\", Folds: \"+str(folds))\n",
    "kreuzvalidiere(n, folds, mean=False)"
   ]
  },
  {
   "cell_type": "code",
   "execution_count": 7,
   "metadata": {},
   "outputs": [
    {
     "name": "stdout",
     "output_type": "stream",
     "text": [
      "Testing for n= 25000, Mean: True, Folds: 10\n",
      "RMSE: 0.8112716543249315\n",
      "RMSE: 0.8138867705850326\n",
      "RMSE: 0.8151026948932399\n",
      "RMSE: 0.8112323118427778\n",
      "RMSE: 0.8072462801263179\n",
      "RMSE: 0.8242223840957272\n",
      "RMSE: 0.8072125771925124\n",
      "RMSE: 0.8099465640124388\n",
      "RMSE: 0.8160387040113014\n",
      "RMSE: 0.8126307130411561\n",
      "RMSE upper Bound: 0.8242223840957272\n",
      "RMSE lower Bound: 0.8072125771925124\n"
     ]
    }
   ],
   "source": [
    "n = 25000\n",
    "folds = 10\n",
    "print(\"Testing for n= \"+str(n)+\", Mean: True\"+\", Folds: \"+str(folds))\n",
    "kreuzvalidiere(n, folds, mean=True)"
   ]
  },
  {
   "cell_type": "markdown",
   "metadata": {},
   "source": [
    "## Tuning for knn_metric"
   ]
  },
  {
   "cell_type": "code",
   "execution_count": 5,
   "metadata": {},
   "outputs": [
    {
     "name": "stdout",
     "output_type": "stream",
     "text": [
      "Testing for n= 100, Metric: 'cosine', Folds: 4\n",
      "RMSE: 0.8004467547482733\n",
      "RMSE: 0.9800473258505924\n",
      "RMSE: 0.8859917601047976\n",
      "RMSE: 0.7667533899233383\n",
      "RMSE upper Bound: 0.9800473258505924\n",
      "RMSE lower Bound: 0.7667533899233383\n"
     ]
    }
   ],
   "source": [
    "n = 100\n",
    "folds = 4\n",
    "print(\"Testing for n= \"+str(n)+\", Metric: 'cosine'\"+\", Folds: \"+str(folds))\n",
    "kreuzvalidiere(n, folds, knn_metric = 'cosine')"
   ]
  },
  {
   "cell_type": "code",
   "execution_count": null,
   "metadata": {},
   "outputs": [],
   "source": [
    "n = 25000\n",
    "folds = 10\n",
    "print(\"Testing for n= \"+str(n)+\", Metric: 'cosine'\"+\", Folds: \"+str(folds))\n",
    "kreuzvalidiere(n, folds, knn_metric = 'cosine')"
   ]
  },
  {
   "cell_type": "code",
   "execution_count": null,
   "metadata": {},
   "outputs": [],
   "source": [
    "n = 25000\n",
    "folds = 10\n",
    "print(\"Testing for n= \"+str(n)+\", Metric: 'minkowski'\"+\", Folds: \"+str(folds))\n",
    "kreuzvalidiere(n, folds, knn_metric = 'minkowski')"
   ]
  },
  {
   "cell_type": "markdown",
   "metadata": {},
   "source": [
    "## Tuning for k_neighbors"
   ]
  },
  {
   "cell_type": "code",
   "execution_count": null,
   "metadata": {},
   "outputs": [],
   "source": [
    "n = 100\n",
    "folds = 4\n",
    "print(\"Testing for n= \"+str(n)+\", set_k: False\"+\", Folds: \"+str(folds))\n",
    "kreuzvalidiere(n, folds, set_k=False)"
   ]
  },
  {
   "cell_type": "code",
   "execution_count": null,
   "metadata": {},
   "outputs": [],
   "source": [
    "n = 25000\n",
    "folds = 10\n",
    "print(\"Testing for n= \"+str(n)+\", set_k: False\"+\", Folds: \"+str(folds))\n",
    "kreuzvalidiere(n, folds, set_k=False)"
   ]
  },
  {
   "cell_type": "code",
   "execution_count": null,
   "metadata": {},
   "outputs": [],
   "source": [
    "n = 25000\n",
    "folds = 10\n",
    "for i in range(4,10):\n",
    "    print(\"Testing for n= \"+str(n)+\", set_k: True,\"+\"k= \"+str(i)+ \"Folds: \"+str(folds))\n",
    "    kreuzvalidiere(n, folds, set_k=True, k_neighbors=i)"
   ]
  },
  {
   "cell_type": "code",
   "execution_count": null,
   "metadata": {},
   "outputs": [],
   "source": [
    "n = 25000\n",
    "folds = 10\n",
    "for i in range(10,20):\n",
    "    print(\"Testing for n= \"+str(n)+\", set_k: True,\"+\"k= \"+str(i)+ \"Folds: \"+str(folds))\n",
    "    kreuzvalidiere(n, folds, set_k=True, k_neighbors=i)"
   ]
  },
  {
   "cell_type": "code",
   "execution_count": null,
   "metadata": {},
   "outputs": [],
   "source": [
    "n = 25000\n",
    "folds = 10\n",
    "for i in range(20,30):\n",
    "    print(\"Testing for n= \"+str(n)+\", set_k: True,\"+\"k= \"+str(i)+ \"Folds: \"+str(folds))\n",
    "    kreuzvalidiere(n, folds, set_k=True, k_neighbors=i)"
   ]
  },
  {
   "cell_type": "code",
   "execution_count": 3,
   "metadata": {},
   "outputs": [
    {
     "name": "stdout",
     "output_type": "stream",
     "text": [
      "Testing for n= 25000, set_k: False, k= sqrt(n)Folds: 10\n",
      "RMSE: 0.8108819503594531\n",
      "RMSE: 0.8139425257633317\n",
      "RMSE: 0.8104578954533992\n",
      "RMSE: 0.8180258913592309\n",
      "RMSE: 0.8112767943430366\n",
      "RMSE: 0.8133678078371134\n",
      "RMSE: 0.8160648537251654\n",
      "RMSE: 0.8053924750845168\n",
      "RMSE: 0.8137311172247427\n",
      "RMSE: 0.813224486801822\n",
      "RMSE upper Bound: 0.8180258913592309\n",
      "RMSE lower Bound: 0.8053924750845168\n"
     ]
    }
   ],
   "source": [
    "#Testing for k = sqrt(n) ->changed function for test to int(sqrt())\n",
    "n = 25000\n",
    "folds = 10\n",
    "print(\"Testing for n= \"+str(n)+\", set_k: False, k= sqrt(n)\"+ \"Folds: \"+str(folds))\n",
    "kreuzvalidiere(n, folds, set_k=False)"
   ]
  },
  {
   "cell_type": "markdown",
   "metadata": {},
   "source": [
    "## Tuning for input features"
   ]
  },
  {
   "cell_type": "code",
   "execution_count": 5,
   "metadata": {},
   "outputs": [],
   "source": [
    "init_data = get_data()"
   ]
  },
  {
   "cell_type": "code",
   "execution_count": 8,
   "metadata": {},
   "outputs": [
    {
     "name": "stdout",
     "output_type": "stream",
     "text": [
      "Testing for n= 25000, Features: ['imdbRating','Metacritic','RottenTomatoes','Awards','imdbVotes','Runtime','Year'], Folds: 6\n",
      "Index(['working with data: user_id', 'working with data: imdbID',\n",
      "       'working with data: rating', 'working with data: imdbRating',\n",
      "       'working with data: Metacritic', 'working with data: RottenTomatoes',\n",
      "       'working with data: Awards', 'working with data: imdbVotes',\n",
      "       'working with data: Runtime', 'working with data: Year'],\n",
      "      dtype='object')\n",
      "RMSE: 0.8081294943256773\n",
      "Index(['working with data: user_id', 'working with data: imdbID',\n",
      "       'working with data: rating', 'working with data: imdbRating',\n",
      "       'working with data: Metacritic', 'working with data: RottenTomatoes',\n",
      "       'working with data: Awards', 'working with data: imdbVotes',\n",
      "       'working with data: Runtime', 'working with data: Year'],\n",
      "      dtype='object')\n",
      "RMSE: 0.8108374506167532\n",
      "Index(['working with data: user_id', 'working with data: imdbID',\n",
      "       'working with data: rating', 'working with data: imdbRating',\n",
      "       'working with data: Metacritic', 'working with data: RottenTomatoes',\n",
      "       'working with data: Awards', 'working with data: imdbVotes',\n",
      "       'working with data: Runtime', 'working with data: Year'],\n",
      "      dtype='object')\n",
      "RMSE: 0.8127059645679336\n",
      "Index(['working with data: user_id', 'working with data: imdbID',\n",
      "       'working with data: rating', 'working with data: imdbRating',\n",
      "       'working with data: Metacritic', 'working with data: RottenTomatoes',\n",
      "       'working with data: Awards', 'working with data: imdbVotes',\n",
      "       'working with data: Runtime', 'working with data: Year'],\n",
      "      dtype='object')\n",
      "RMSE: 0.8024419836271849\n",
      "Index(['working with data: user_id', 'working with data: imdbID',\n",
      "       'working with data: rating', 'working with data: imdbRating',\n",
      "       'working with data: Metacritic', 'working with data: RottenTomatoes',\n",
      "       'working with data: Awards', 'working with data: imdbVotes',\n",
      "       'working with data: Runtime', 'working with data: Year'],\n",
      "      dtype='object')\n",
      "RMSE: 0.8137513860677811\n",
      "Index(['working with data: user_id', 'working with data: imdbID',\n",
      "       'working with data: rating', 'working with data: imdbRating',\n",
      "       'working with data: Metacritic', 'working with data: RottenTomatoes',\n",
      "       'working with data: Awards', 'working with data: imdbVotes',\n",
      "       'working with data: Runtime', 'working with data: Year'],\n",
      "      dtype='object')\n",
      "RMSE: 0.8037034516183083\n",
      "RMSE upper Bound: 0.8137513860677811\n",
      "RMSE lower Bound: 0.8024419836271849\n"
     ]
    }
   ],
   "source": [
    "#Testing top 7 features of PCA without genres\n",
    "n = 25000\n",
    "folds = 6\n",
    "data = init_data[['user_id','imdbID','rating','imdbRating','Metacritic','RottenTomatoes','Awards','imdbVotes','Runtime','Year']]\n",
    "print(\"Testing for n= \"+str(n)+\", Features: ['imdbRating','Metacritic','RottenTomatoes','Awards','imdbVotes','Runtime','Year'],\"+ \" Folds: \"+str(folds))\n",
    "kreuzvalidiere(n, folds, set_k=False, data=data)"
   ]
  },
  {
   "cell_type": "code",
   "execution_count": 10,
   "metadata": {},
   "outputs": [
    {
     "name": "stdout",
     "output_type": "stream",
     "text": [
      "Testing for n= 25000, Features: ['imdbRating','Metacritic','RottenTomatoes','Awards','imdbVotes','Runtime'], Folds: 6\n",
      "Index(['working with data: user_id', 'working with data: imdbID',\n",
      "       'working with data: rating', 'working with data: imdbRating',\n",
      "       'working with data: Metacritic', 'working with data: RottenTomatoes',\n",
      "       'working with data: Awards', 'working with data: imdbVotes',\n",
      "       'working with data: Runtime'],\n",
      "      dtype='object')\n",
      "RMSE: 0.8042105076268059\n",
      "Index(['working with data: user_id', 'working with data: imdbID',\n",
      "       'working with data: rating', 'working with data: imdbRating',\n",
      "       'working with data: Metacritic', 'working with data: RottenTomatoes',\n",
      "       'working with data: Awards', 'working with data: imdbVotes',\n",
      "       'working with data: Runtime'],\n",
      "      dtype='object')\n",
      "RMSE: 0.8161203153924569\n",
      "Index(['working with data: user_id', 'working with data: imdbID',\n",
      "       'working with data: rating', 'working with data: imdbRating',\n",
      "       'working with data: Metacritic', 'working with data: RottenTomatoes',\n",
      "       'working with data: Awards', 'working with data: imdbVotes',\n",
      "       'working with data: Runtime'],\n",
      "      dtype='object')\n",
      "RMSE: 0.8223990104479735\n",
      "Index(['working with data: user_id', 'working with data: imdbID',\n",
      "       'working with data: rating', 'working with data: imdbRating',\n",
      "       'working with data: Metacritic', 'working with data: RottenTomatoes',\n",
      "       'working with data: Awards', 'working with data: imdbVotes',\n",
      "       'working with data: Runtime'],\n",
      "      dtype='object')\n",
      "RMSE: 0.8079467329046797\n",
      "Index(['working with data: user_id', 'working with data: imdbID',\n",
      "       'working with data: rating', 'working with data: imdbRating',\n",
      "       'working with data: Metacritic', 'working with data: RottenTomatoes',\n",
      "       'working with data: Awards', 'working with data: imdbVotes',\n",
      "       'working with data: Runtime'],\n",
      "      dtype='object')\n",
      "RMSE: 0.7993714218171349\n",
      "Index(['working with data: user_id', 'working with data: imdbID',\n",
      "       'working with data: rating', 'working with data: imdbRating',\n",
      "       'working with data: Metacritic', 'working with data: RottenTomatoes',\n",
      "       'working with data: Awards', 'working with data: imdbVotes',\n",
      "       'working with data: Runtime'],\n",
      "      dtype='object')\n",
      "RMSE: 0.8050279186554606\n",
      "RMSE upper Bound: 0.8223990104479735\n",
      "RMSE lower Bound: 0.7993714218171349\n"
     ]
    }
   ],
   "source": [
    "#Testing top 6 features of PCA\n",
    "n = 25000\n",
    "folds = 6\n",
    "data = init_data[['user_id','imdbID','rating','imdbRating','Metacritic','RottenTomatoes','Awards','imdbVotes','Runtime']]\n",
    "print(\"Testing for n= \"+str(n)+\", Features: ['imdbRating','Metacritic','RottenTomatoes','Awards','imdbVotes','Runtime'],\"+ \" Folds: \"+str(folds))\n",
    "kreuzvalidiere(n, folds, set_k=False, data=data)"
   ]
  },
  {
   "cell_type": "code",
   "execution_count": 11,
   "metadata": {},
   "outputs": [
    {
     "name": "stdout",
     "output_type": "stream",
     "text": [
      "Testing for n= 25000, Features: ['imdbRating','Metacritic','RottenTomatoes','Awards','imdbVotes'], Folds: 6\n",
      "Index(['working with data: user_id', 'working with data: imdbID',\n",
      "       'working with data: rating', 'working with data: imdbRating',\n",
      "       'working with data: Metacritic', 'working with data: RottenTomatoes',\n",
      "       'working with data: Awards', 'working with data: imdbVotes'],\n",
      "      dtype='object')\n",
      "RMSE: 0.8094617085591249\n",
      "Index(['working with data: user_id', 'working with data: imdbID',\n",
      "       'working with data: rating', 'working with data: imdbRating',\n",
      "       'working with data: Metacritic', 'working with data: RottenTomatoes',\n",
      "       'working with data: Awards', 'working with data: imdbVotes'],\n",
      "      dtype='object')\n",
      "RMSE: 0.8051284849885267\n",
      "Index(['working with data: user_id', 'working with data: imdbID',\n",
      "       'working with data: rating', 'working with data: imdbRating',\n",
      "       'working with data: Metacritic', 'working with data: RottenTomatoes',\n",
      "       'working with data: Awards', 'working with data: imdbVotes'],\n",
      "      dtype='object')\n",
      "RMSE: 0.8045048338224604\n",
      "Index(['working with data: user_id', 'working with data: imdbID',\n",
      "       'working with data: rating', 'working with data: imdbRating',\n",
      "       'working with data: Metacritic', 'working with data: RottenTomatoes',\n",
      "       'working with data: Awards', 'working with data: imdbVotes'],\n",
      "      dtype='object')\n",
      "RMSE: 0.8029414674208116\n",
      "Index(['working with data: user_id', 'working with data: imdbID',\n",
      "       'working with data: rating', 'working with data: imdbRating',\n",
      "       'working with data: Metacritic', 'working with data: RottenTomatoes',\n",
      "       'working with data: Awards', 'working with data: imdbVotes'],\n",
      "      dtype='object')\n",
      "RMSE: 0.8080369014180168\n",
      "Index(['working with data: user_id', 'working with data: imdbID',\n",
      "       'working with data: rating', 'working with data: imdbRating',\n",
      "       'working with data: Metacritic', 'working with data: RottenTomatoes',\n",
      "       'working with data: Awards', 'working with data: imdbVotes'],\n",
      "      dtype='object')\n",
      "RMSE: 0.8122035121261253\n",
      "RMSE upper Bound: 0.8122035121261253\n",
      "RMSE lower Bound: 0.8029414674208116\n"
     ]
    }
   ],
   "source": [
    "#Testing top 5 features of PCA\n",
    "n = 25000\n",
    "folds = 6\n",
    "data = init_data[['user_id','imdbID','rating','imdbRating','Metacritic','RottenTomatoes','Awards','imdbVotes']]\n",
    "print(\"Testing for n= \"+str(n)+\", Features: ['imdbRating','Metacritic','RottenTomatoes','Awards','imdbVotes'],\"+ \" Folds: \"+str(folds))\n",
    "kreuzvalidiere(n, folds, set_k=False, data=data)"
   ]
  },
  {
   "cell_type": "code",
   "execution_count": 6,
   "metadata": {},
   "outputs": [
    {
     "name": "stdout",
     "output_type": "stream",
     "text": [
      "Testing for n= 25000, Features: ['imdbRating','Metacritic','RottenTomatoes','Awards'], Folds: 6\n",
      "works\n",
      "RMSE: 0.8307948652454795\n",
      "works\n",
      "RMSE: 0.8264566029741917\n",
      "works\n",
      "RMSE: 0.8306611990286983\n",
      "works\n",
      "RMSE: 0.8273709966180487\n",
      "works\n",
      "RMSE: 0.8247370870378248\n",
      "works\n",
      "RMSE: 0.8235210820282983\n",
      "RMSE upper Bound: 0.8307948652454795\n",
      "RMSE lower Bound: 0.8235210820282983\n"
     ]
    }
   ],
   "source": [
    "#Testing top 4 features of PCA #Overfitting?\n",
    "n = 25000\n",
    "folds = 6\n",
    "data = init_data[['user_id','imdbID','rating','imdbRating','Metacritic','RottenTomatoes','Awards']]\n",
    "print(\"Testing for n= \"+str(n)+\", Features: ['imdbRating','Metacritic','RottenTomatoes','Awards'],\"+ \" Folds: \"+str(folds))\n",
    "kreuzvalidiere(n, folds, set_k=False, data=data)"
   ]
  },
  {
   "cell_type": "code",
   "execution_count": null,
   "metadata": {},
   "outputs": [],
   "source": [
    "#Testing top 3 features of PCA #Overfitting?\n",
    "n = 25000\n",
    "folds = 6\n",
    "data = init_data[['user_id','imdbID','rating','imdbRating','Metacritic','RottenTomatoes']]\n",
    "print(\"Testing for n= \"+str(n)+\", Features: ['imdbRating','Metacritic','RottenTomatoes'],\"+ \" Folds: \"+str(folds))\n",
    "kreuzvalidiere(n, folds, set_k=False, data=data)"
   ]
  },
  {
   "cell_type": "code",
   "execution_count": null,
   "metadata": {},
   "outputs": [],
   "source": [
    "# Test only genres\n",
    "data = init_data.drop(columns={'imdbRating','Metacritic','RottenTomatoes','Awards','imdbVotes','Runtime','Year'})\n",
    "n = 25000\n",
    "folds = 6\n",
    "print(data)\n",
    "print(\"Testing for n= \"+str(n)+\", Features: ['Genres'],\"+ \" Folds: \"+str(folds))\n",
    "kreuzvalidiere(n, folds, set_k=False, data=data)"
   ]
  },
  {
   "cell_type": "code",
   "execution_count": 9,
   "metadata": {},
   "outputs": [
    {
     "name": "stdout",
     "output_type": "stream",
     "text": [
      "Testing for n= 25000, Features: ['All'], Folds: 6\n",
      "        user_id    imdbID  rating    Year  Runtime  imdbRating  imdbVotes  \\\n",
      "0        1264.0   47034.0     3.5  1954.0     96.0         7.6    27485.0   \n",
      "1         981.0   47034.0     3.5  1954.0     96.0         7.6    27485.0   \n",
      "2         481.0   47034.0     1.0  1954.0     96.0         7.6    27485.0   \n",
      "3          98.0   47034.0     2.5  1954.0     96.0         7.6    27485.0   \n",
      "4         249.0   47034.0     4.0  1954.0     96.0         7.6    27485.0   \n",
      "...         ...       ...     ...     ...      ...         ...        ...   \n",
      "787536    243.0   47376.0     3.0  1954.0    100.0         6.5     1813.0   \n",
      "787537    417.0   43132.0     4.0  1950.0     95.0         7.6     7217.0   \n",
      "787538    379.0   81433.0     3.0  1980.0    106.0         5.2     1048.0   \n",
      "787539    279.0  295480.0     1.0  2001.0     95.0         6.5      156.0   \n",
      "787540    312.0  298072.0     4.0  2001.0     70.0         7.0       70.0   \n",
      "\n",
      "        RottenTomatoes  Metacritic  Awards  ...  10  11  12  13  14  15  16  \\\n",
      "0             9.300000    7.800000     0.0  ...   1   0   0   0   0   1   0   \n",
      "1             9.300000    7.800000     0.0  ...   1   0   0   0   0   1   0   \n",
      "2             9.300000    7.800000     0.0  ...   1   0   0   0   0   1   0   \n",
      "3             9.300000    7.800000     0.0  ...   1   0   0   0   0   1   0   \n",
      "4             9.300000    7.800000     0.0  ...   1   0   0   0   0   1   0   \n",
      "...                ...         ...     ...  ...  ..  ..  ..  ..  ..  ..  ..   \n",
      "787536        6.206437    5.781534     0.0  ...   0   0   0   0   0   0   0   \n",
      "787537       10.000000    5.781534     0.0  ...   0   0   0   0   0   0   0   \n",
      "787538        1.400000    5.781534     0.0  ...   0   0   1   0   0   0   0   \n",
      "787539        5.500000    5.500000     0.0  ...   0   0   0   0   0   0   0   \n",
      "787540        6.600000    6.600000     0.0  ...   0   0   0   0   0   0   0   \n",
      "\n",
      "        17  18  19  \n",
      "0        0   0   0  \n",
      "1        0   0   0  \n",
      "2        0   0   0  \n",
      "3        0   0   0  \n",
      "4        0   0   0  \n",
      "...     ..  ..  ..  \n",
      "787536   0   1   0  \n",
      "787537   0   0   0  \n",
      "787538   0   0   0  \n",
      "787539   0   0   0  \n",
      "787540   0   0   0  \n",
      "\n",
      "[787541 rows x 30 columns]\n",
      "works\n",
      "RMSE: 0.8105342698070404\n",
      "works\n",
      "RMSE: 0.8091493658957033\n",
      "works\n",
      "RMSE: 0.8138075824992091\n",
      "works\n",
      "RMSE: 0.8158070484975276\n",
      "works\n",
      "RMSE: 0.8065841394763531\n",
      "works\n",
      "RMSE: 0.8127614463953474\n",
      "RMSE upper Bound: 0.8158070484975276\n",
      "RMSE lower Bound: 0.8065841394763531\n"
     ]
    }
   ],
   "source": [
    "# Test all\n",
    "n = 25000\n",
    "folds = 6\n",
    "print(\"Testing for n= \"+str(n)+\", Features: ['All'],\"+ \" Folds: \"+str(folds))\n",
    "print(init_data)\n",
    "kreuzvalidiere(n, folds, set_k=False, data=init_data)"
   ]
  },
  {
   "cell_type": "code",
   "execution_count": null,
   "metadata": {},
   "outputs": [],
   "source": []
  }
 ],
 "metadata": {
  "kernelspec": {
   "display_name": "bda-analytics-challenge-ss2020",
   "language": "python",
   "name": "bda-analytics-challenge-ss2020"
  },
  "language_info": {
   "codemirror_mode": {
    "name": "ipython",
    "version": 3
   },
   "file_extension": ".py",
   "mimetype": "text/x-python",
   "name": "python",
   "nbconvert_exporter": "python",
   "pygments_lexer": "ipython3",
   "version": "3.8.3"
  }
 },
 "nbformat": 4,
 "nbformat_minor": 4
}
