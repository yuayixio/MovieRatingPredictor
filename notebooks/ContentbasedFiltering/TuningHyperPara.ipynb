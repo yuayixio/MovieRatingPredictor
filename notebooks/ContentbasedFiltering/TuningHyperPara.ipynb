{
 "cells": [
  {
   "cell_type": "markdown",
   "metadata": {},
   "source": [
    "## Tuning Hyperparameter for knn ContentBasedFiltering\n",
    "\n",
    "Run: \n",
    "\n",
    "<i> '$' pipenv shell </i>\n",
    "\n",
    "<i> '$' pipenv install ipynb </i>\n",
    "\n",
    "to be able to import functions from other ipynb files\n"
   ]
  },
  {
   "cell_type": "code",
   "execution_count": 24,
   "metadata": {},
   "outputs": [],
   "source": [
    "import pandas as pd\n",
    "import numpy as np\n",
    "import os\n",
    "import sys\n",
    "from knn_preprocessing import knn_preprocessing\n",
    "#Import will run notebook and perform PCA\n",
    "from ipynb.fs.full.ContentBasedFiltering import predict_movie_rating, test_predict_mr, get_data"
   ]
  },
  {
   "cell_type": "code",
   "execution_count": 31,
   "metadata": {},
   "outputs": [],
   "source": [
    "def kreuzvalidiere(n, folds, mean = False, knn_metric = 'cosine', set_k=False, k_neighbors=15, data=get_data()):\n",
    "    upper = 0\n",
    "    lower = 10\n",
    "    \n",
    "    doku = pd.DataFrame(columns={'RMSE','Testsize','Fold','mean', 'knn_metric','set_k','k_neighbors','data'})\n",
    "    \n",
    "    \n",
    "    for i in range(0,folds):\n",
    "        rmse = test_predict_mr(n, mean, knn_metric, set_k, k_neighbors)\n",
    "        doku.loc[i,'RMSE'] = rmse\n",
    "        doku.loc[i,'Testsize'] = n\n",
    "        doku.loc[i,'Fold'] = str(i)\n",
    "        doku.loc[i,'mean'] = mean\n",
    "        doku.loc[i,'knn_metric'] = knn_metric\n",
    "        doku.loc[i,'set_k'] = set_k\n",
    "        doku.loc[i,'data'] = str(data.columns)\n",
    "        if set_k:\n",
    "            doku['k_neighbors'] = k_neighbors\n",
    "        \n",
    "        \n",
    "        if (float(rmse) < float(lower)):\n",
    "            lower = rmse\n",
    "\n",
    "        if (float(rmse) > float(upper)):\n",
    "            upper = rmse\n",
    "\n",
    "    print('RMSE upper Bound: '+str(upper))\n",
    "    print('RMSE lower Bound: '+str(lower))\n",
    "    \n",
    "    #build output csv\n",
    "    doku = doku.sort_values(by=['RMSE'], ascending=True)\n",
    "    doku = doku.dropna(how='all', axis=1)\n",
    "    doku.to_csv('../../data/tuning/ContentbasedTuning_'+str(round(lower,4))+'.csv') "
   ]
  },
  {
   "cell_type": "markdown",
   "metadata": {},
   "source": [
    "## Tuning for Mean() vs. distance-weighted rating"
   ]
  },
  {
   "cell_type": "code",
   "execution_count": 32,
   "metadata": {},
   "outputs": [
    {
     "name": "stdout",
     "output_type": "stream",
     "text": [
      "Testing for n= 100, Mean: False, Folds: 4\n",
      "RMSE: 0.804577548248386\n",
      "RMSE: 0.8327401654270914\n",
      "RMSE: 0.7110886702295112\n",
      "RMSE: 0.8678981722445336\n",
      "RMSE upper Bound: 0.8678981722445336\n",
      "RMSE lower Bound: 0.7110886702295112\n"
     ]
    }
   ],
   "source": [
    "n = 100\n",
    "folds = 4\n",
    "print(\"Testing for n= \"+str(n)+\", Mean: False\"+\", Folds: \"+str(folds))\n",
    "kreuzvalidiere(n, folds, mean=False)"
   ]
  },
  {
   "cell_type": "code",
   "execution_count": 10,
   "metadata": {},
   "outputs": [
    {
     "name": "stdout",
     "output_type": "stream",
     "text": [
      "Testing for n= 25000, Mean: False, Folds: 10\n",
      "RMSE: 0.8093717866581247\n",
      "RMSE: 0.8109298741225405\n",
      "RMSE: 0.8122008042821607\n",
      "RMSE: 0.804284010080862\n",
      "RMSE: 0.8091955357611241\n",
      "RMSE: 0.8068427998071319\n",
      "RMSE: 0.8090052843861771\n",
      "RMSE: 0.8122322697998022\n",
      "RMSE: 0.8059915436817127\n",
      "RMSE: 0.8087654925187531\n",
      "RMSE upper Bound: 0.8122322697998022\n",
      "RMSE lower Bound: 0.804284010080862\n"
     ]
    }
   ],
   "source": [
    "n = 25000\n",
    "folds = 10\n",
    "print(\"Testing for n= \"+str(n)+\", Mean: False\"+\", Folds: \"+str(folds))\n",
    "kreuzvalidiere(n, folds, mean=False)"
   ]
  },
  {
   "cell_type": "code",
   "execution_count": 11,
   "metadata": {},
   "outputs": [
    {
     "name": "stdout",
     "output_type": "stream",
     "text": [
      "Testing for n= 25000, Mean: True, Folds: 10\n",
      "RMSE: 0.8104320862629049\n",
      "RMSE: 0.812571557942916\n",
      "RMSE: 0.8105755766394918\n",
      "RMSE: 0.8158718554745932\n",
      "RMSE: 0.8194891221568065\n",
      "RMSE: 0.8190834153694807\n",
      "RMSE: 0.8160188609612186\n",
      "RMSE: 0.8127711506527119\n",
      "RMSE: 0.8084195815842717\n",
      "RMSE: 0.8103183042621105\n",
      "RMSE upper Bound: 0.8194891221568065\n",
      "RMSE lower Bound: 0.8084195815842717\n"
     ]
    }
   ],
   "source": [
    "n = 25000\n",
    "folds = 10\n",
    "print(\"Testing for n= \"+str(n)+\", Mean: True\"+\", Folds: \"+str(folds))\n",
    "kreuzvalidiere(n, folds, mean=True)"
   ]
  },
  {
   "cell_type": "markdown",
   "metadata": {},
   "source": [
    "## Tuning for knn_metric"
   ]
  },
  {
   "cell_type": "code",
   "execution_count": 12,
   "metadata": {},
   "outputs": [
    {
     "name": "stdout",
     "output_type": "stream",
     "text": [
      "Testing for n= 100, Metric: 'cosine', Folds: 4\n",
      "RMSE: 0.7201151679152322\n",
      "RMSE: 0.8245112956227939\n",
      "RMSE: 0.8076094224428513\n",
      "RMSE: 0.8226267898123077\n",
      "RMSE upper Bound: 0.8245112956227939\n",
      "RMSE lower Bound: 0.7201151679152322\n"
     ]
    }
   ],
   "source": [
    "n = 100\n",
    "folds = 4\n",
    "print(\"Testing for n= \"+str(n)+\", Metric: 'cosine'\"+\", Folds: \"+str(folds))\n",
    "kreuzvalidiere(n, folds, knn_metric = 'cosine')"
   ]
  },
  {
   "cell_type": "code",
   "execution_count": null,
   "metadata": {},
   "outputs": [
    {
     "name": "stdout",
     "output_type": "stream",
     "text": [
      "Testing for n= 25000, Metric: 'cosine', Folds: 10\n",
      "RMSE: 0.810439104119757\n",
      "RMSE: 0.808101040622642\n",
      "RMSE: 0.8070554252186012\n",
      "RMSE: 0.808497482150073\n",
      "RMSE: 0.8004682317644266\n",
      "RMSE: 0.8075338510177409\n",
      "RMSE: 0.8156765064661976\n",
      "RMSE: 0.8083017533747673\n",
      "RMSE: 0.8102161937950325\n"
     ]
    }
   ],
   "source": [
    "n = 25000\n",
    "folds = 10\n",
    "print(\"Testing for n= \"+str(n)+\", Metric: 'cosine'\"+\", Folds: \"+str(folds))\n",
    "kreuzvalidiere(n, folds, knn_metric = 'cosine')"
   ]
  },
  {
   "cell_type": "code",
   "execution_count": null,
   "metadata": {},
   "outputs": [],
   "source": [
    "n = 25000\n",
    "folds = 10\n",
    "print(\"Testing for n= \"+str(n)+\", Metric: 'minkowski'\"+\", Folds: \"+str(folds))\n",
    "kreuzvalidiere(n, folds, knn_metric = 'minkowski')"
   ]
  },
  {
   "cell_type": "markdown",
   "metadata": {},
   "source": [
    "## Tuning for k_neighbors"
   ]
  },
  {
   "cell_type": "code",
   "execution_count": null,
   "metadata": {},
   "outputs": [],
   "source": [
    "n = 100\n",
    "folds = 4\n",
    "print(\"Testing for n= \"+str(n)+\", set_k: False\"+\", Folds: \"+str(folds))\n",
    "kreuzvalidiere(n, folds, set_k=False)"
   ]
  },
  {
   "cell_type": "code",
   "execution_count": null,
   "metadata": {},
   "outputs": [],
   "source": [
    "n = 25000\n",
    "folds = 10\n",
    "print(\"Testing for n= \"+str(n)+\", set_k: False\"+\", Folds: \"+str(folds))\n",
    "kreuzvalidiere(n, folds, set_k=False)"
   ]
  },
  {
   "cell_type": "code",
   "execution_count": null,
   "metadata": {},
   "outputs": [],
   "source": [
    "n = 25000\n",
    "folds = 10\n",
    "for i in range(4,10)\n",
    "    print(\"Testing for n= \"+str(n)+\", set_k: True,\"+\"k= \"+str(i)+ \"Folds: \"+str(folds))\n",
    "    kreuzvalidiere(n, folds, set_k=True, k_neighbors=i)"
   ]
  },
  {
   "cell_type": "code",
   "execution_count": null,
   "metadata": {},
   "outputs": [],
   "source": [
    "n = 25000\n",
    "folds = 10\n",
    "for i in range(10,20)\n",
    "    print(\"Testing for n= \"+str(n)+\", set_k: True,\"+\"k= \"+str(i)+ \"Folds: \"+str(folds))\n",
    "    kreuzvalidiere(n, folds, set_k=True, k_neighbors=i)"
   ]
  },
  {
   "cell_type": "code",
   "execution_count": null,
   "metadata": {},
   "outputs": [],
   "source": [
    "n = 25000\n",
    "folds = 10\n",
    "for i in range(20,30)\n",
    "    print(\"Testing for n= \"+str(n)+\", set_k: True,\"+\"k= \"+str(i)+ \"Folds: \"+str(folds))\n",
    "    kreuzvalidiere(n, folds, set_k=True, k_neighbors=i)"
   ]
  },
  {
   "cell_type": "markdown",
   "metadata": {},
   "source": [
    "## Tuning for input features"
   ]
  },
  {
   "cell_type": "code",
   "execution_count": null,
   "metadata": {},
   "outputs": [],
   "source": [
    "data = get_data()"
   ]
  },
  {
   "cell_type": "code",
   "execution_count": null,
   "metadata": {},
   "outputs": [],
   "source": [
    "data"
   ]
  },
  {
   "cell_type": "code",
   "execution_count": null,
   "metadata": {},
   "outputs": [],
   "source": [
    "#TODO Functionen umschreiben so, dass man auch auf feature Hyperparameter tunen kann \n",
    "#->kreuzvalidiere und test_predict_mr müssen 'data' parameter bekommen"
   ]
  },
  {
   "cell_type": "code",
   "execution_count": null,
   "metadata": {},
   "outputs": [],
   "source": [
    "n = 25000\n",
    "folds = 10\n",
    "data = data['Zu testende Feature Spalten eintragen']\n",
    "print(\"Testing for n= \"+str(n)+\", Features: Tbd,\"+ \"Folds: \"+str(folds))\n",
    "kreuzvalidiere(n, folds, set_k=True, k_neighbors=i, data)"
   ]
  }
 ],
 "metadata": {
  "kernelspec": {
   "display_name": "bda-analytics-challenge-ss2020",
   "language": "python",
   "name": "bda-analytics-challenge-ss2020"
  },
  "language_info": {
   "codemirror_mode": {
    "name": "ipython",
    "version": 3
   },
   "file_extension": ".py",
   "mimetype": "text/x-python",
   "name": "python",
   "nbconvert_exporter": "python",
   "pygments_lexer": "ipython3",
   "version": "3.8.3"
  }
 },
 "nbformat": 4,
 "nbformat_minor": 4
}
