{
 "cells": [
  {
   "cell_type": "markdown",
   "metadata": {},
   "source": [
    "## Tuning Hyperparameter for knn ContentBasedFiltering\n",
    "\n",
    "Run: \n",
    "\n",
    "<i> '$' pipenv shell </i>\n",
    "\n",
    "<i> '$' pipenv install ipynb </i>\n",
    "\n",
    "to be able to import functions from other ipynb files\n"
   ]
  },
  {
   "cell_type": "code",
   "execution_count": 2,
   "metadata": {},
   "outputs": [
    {
     "name": "stdout",
     "output_type": "stream",
     "text": [
      "PCA:\n",
      "Main Variance impacting factors:\n",
      "[0.1352569  0.09503712 0.07998231 0.06074159 0.04796725 0.04597668\n",
      " 0.0430597  0.04134133 0.03750373 0.03703565 0.03502601 0.0336219\n",
      " 0.03295991 0.03155028 0.0294954  0.02847374 0.02764069 0.02351684\n",
      " 0.02326137 0.01913027 0.01828914 0.01731806 0.0156969  0.01428033\n",
      " 0.01294528 0.00832974 0.0045619 ]\n",
      "     weights        features  abs_weights\n",
      "2   0.460198      imdbRating     0.460198\n",
      "5   0.428491      Metacritic     0.428491\n",
      "4   0.422208  RottenTomatoes     0.422208\n",
      "6   0.352119          Awards     0.352119\n",
      "3   0.305617       imdbVotes     0.305617\n",
      "1   0.277951         Runtime     0.277951\n",
      "14  0.209256               7     0.209256\n",
      "0  -0.148325            Year     0.148325\n",
      "11 -0.143027               4     0.143027\n",
      "25  0.120398              18     0.120398\n",
      "17 -0.086768              10     0.086768\n",
      "12  0.083021               5     0.083021\n",
      "16  0.067442               9     0.067442\n",
      "18  0.049997              11     0.049997\n",
      "22 -0.047021              15     0.047021\n",
      "20  0.044221              13     0.044221\n",
      "26  0.042664              19     0.042664\n",
      "19  0.035038              12     0.035038\n",
      "13  0.021776               6     0.021776\n",
      "7  -0.019760               0     0.019760\n",
      "9   0.019544               2     0.019544\n",
      "8   0.018165               1     0.018165\n",
      "21  0.016990              14     0.016990\n",
      "24 -0.016127              17     0.016127\n",
      "10 -0.011909               3     0.011909\n",
      "15  0.003699               8     0.003699\n",
      "23 -0.001117              16     0.001117\n"
     ]
    }
   ],
   "source": [
    "import pandas as pd\n",
    "import numpy as np\n",
    "import os\n",
    "import sys\n",
    "from knn_preprocessing import knn_preprocessing\n",
    "#Import will run notebook and perform PCA\n",
    "from ipynb.fs.full.ContentBasedFiltering import predict_movie_rating, test_predict_mr, get_data"
   ]
  },
  {
   "cell_type": "code",
   "execution_count": 1,
   "metadata": {},
   "outputs": [
    {
     "name": "stdout",
     "output_type": "stream",
     "text": [
      "Requirement already satisfied: ipynb in /home/fx/.virtualenvs/bda-analytics-challenge-ss2020-UmK7jAse/lib/python3.8/site-packages (0.5.1)\n",
      "Note: you may need to restart the kernel to use updated packages.\n"
     ]
    }
   ],
   "source": [
    "pip install ipynb"
   ]
  },
  {
   "cell_type": "code",
   "execution_count": 4,
   "metadata": {},
   "outputs": [],
   "source": [
    "def kreuzvalidiere(n, folds, mean = False, knn_metric = 'cosine', set_k=False, k_neighbors=15, data=get_data()):\n",
    "    upper = 0\n",
    "    lower = 10\n",
    "    \n",
    "    doku = pd.DataFrame(columns={'RMSE','Testsize','Fold','mean', 'knn_metric','set_k','k_neighbors','data'})\n",
    "    \n",
    "    \n",
    "    for i in range(0,folds):\n",
    "        rmse = test_predict_mr(n, mean, knn_metric, set_k, k_neighbors)\n",
    "        doku.loc[i,'RMSE'] = rmse\n",
    "        doku.loc[i,'Testsize'] = n\n",
    "        doku.loc[i,'Fold'] = str(i)\n",
    "        doku.loc[i,'mean'] = mean\n",
    "        doku.loc[i,'knn_metric'] = knn_metric\n",
    "        doku.loc[i,'set_k'] = set_k\n",
    "        doku.loc[i,'data'] = str(data.columns)\n",
    "        if set_k:\n",
    "            doku['k_neighbors'] = k_neighbors\n",
    "        \n",
    "        \n",
    "        if (float(rmse) < float(lower)):\n",
    "            lower = rmse\n",
    "\n",
    "        if (float(rmse) > float(upper)):\n",
    "            upper = rmse\n",
    "\n",
    "    print('RMSE upper Bound: '+str(upper))\n",
    "    print('RMSE lower Bound: '+str(lower))\n",
    "    \n",
    "    #build output csv\n",
    "    doku = doku.sort_values(by=['RMSE'], ascending=True)\n",
    "    doku = doku.dropna(how='all', axis=1)\n",
    "    doku.to_csv('../../data/tuning/ContentbasedTuning_'+str(round(lower,4))+'.csv') "
   ]
  },
  {
   "cell_type": "markdown",
   "metadata": {},
   "source": [
    "## Tuning for Mean() vs. distance-weighted rating"
   ]
  },
  {
   "cell_type": "code",
   "execution_count": 32,
   "metadata": {},
   "outputs": [
    {
     "name": "stdout",
     "output_type": "stream",
     "text": [
      "Testing for n= 100, Mean: False, Folds: 4\n",
      "RMSE: 0.804577548248386\n",
      "RMSE: 0.8327401654270914\n",
      "RMSE: 0.7110886702295112\n",
      "RMSE: 0.8678981722445336\n",
      "RMSE upper Bound: 0.8678981722445336\n",
      "RMSE lower Bound: 0.7110886702295112\n"
     ]
    }
   ],
   "source": [
    "n = 100\n",
    "folds = 4\n",
    "print(\"Testing for n= \"+str(n)+\", Mean: False\"+\", Folds: \"+str(folds))\n",
    "kreuzvalidiere(n, folds, mean=False)"
   ]
  },
  {
   "cell_type": "code",
   "execution_count": 10,
   "metadata": {},
   "outputs": [
    {
     "name": "stdout",
     "output_type": "stream",
     "text": [
      "Testing for n= 25000, Mean: False, Folds: 10\n",
      "RMSE: 0.8093717866581247\n",
      "RMSE: 0.8109298741225405\n",
      "RMSE: 0.8122008042821607\n",
      "RMSE: 0.804284010080862\n",
      "RMSE: 0.8091955357611241\n",
      "RMSE: 0.8068427998071319\n",
      "RMSE: 0.8090052843861771\n",
      "RMSE: 0.8122322697998022\n",
      "RMSE: 0.8059915436817127\n",
      "RMSE: 0.8087654925187531\n",
      "RMSE upper Bound: 0.8122322697998022\n",
      "RMSE lower Bound: 0.804284010080862\n"
     ]
    }
   ],
   "source": [
    "n = 25000\n",
    "folds = 10\n",
    "print(\"Testing for n= \"+str(n)+\", Mean: False\"+\", Folds: \"+str(folds))\n",
    "kreuzvalidiere(n, folds, mean=False)"
   ]
  },
  {
   "cell_type": "code",
   "execution_count": 11,
   "metadata": {},
   "outputs": [
    {
     "name": "stdout",
     "output_type": "stream",
     "text": [
      "Testing for n= 25000, Mean: True, Folds: 10\n",
      "RMSE: 0.8104320862629049\n",
      "RMSE: 0.812571557942916\n",
      "RMSE: 0.8105755766394918\n",
      "RMSE: 0.8158718554745932\n",
      "RMSE: 0.8194891221568065\n",
      "RMSE: 0.8190834153694807\n",
      "RMSE: 0.8160188609612186\n",
      "RMSE: 0.8127711506527119\n",
      "RMSE: 0.8084195815842717\n",
      "RMSE: 0.8103183042621105\n",
      "RMSE upper Bound: 0.8194891221568065\n",
      "RMSE lower Bound: 0.8084195815842717\n"
     ]
    }
   ],
   "source": [
    "n = 25000\n",
    "folds = 10\n",
    "print(\"Testing for n= \"+str(n)+\", Mean: True\"+\", Folds: \"+str(folds))\n",
    "kreuzvalidiere(n, folds, mean=True)"
   ]
  },
  {
   "cell_type": "markdown",
   "metadata": {},
   "source": [
    "## Tuning for knn_metric"
   ]
  },
  {
   "cell_type": "code",
   "execution_count": 12,
   "metadata": {},
   "outputs": [
    {
     "name": "stdout",
     "output_type": "stream",
     "text": [
      "Testing for n= 100, Metric: 'cosine', Folds: 4\n",
      "RMSE: 0.7201151679152322\n",
      "RMSE: 0.8245112956227939\n",
      "RMSE: 0.8076094224428513\n",
      "RMSE: 0.8226267898123077\n",
      "RMSE upper Bound: 0.8245112956227939\n",
      "RMSE lower Bound: 0.7201151679152322\n"
     ]
    }
   ],
   "source": [
    "n = 100\n",
    "folds = 4\n",
    "print(\"Testing for n= \"+str(n)+\", Metric: 'cosine'\"+\", Folds: \"+str(folds))\n",
    "kreuzvalidiere(n, folds, knn_metric = 'cosine')"
   ]
  },
  {
   "cell_type": "code",
   "execution_count": null,
   "metadata": {},
   "outputs": [
    {
     "name": "stdout",
     "output_type": "stream",
     "text": [
      "Testing for n= 25000, Metric: 'cosine', Folds: 10\n",
      "RMSE: 0.810439104119757\n",
      "RMSE: 0.808101040622642\n",
      "RMSE: 0.8070554252186012\n",
      "RMSE: 0.808497482150073\n",
      "RMSE: 0.8004682317644266\n",
      "RMSE: 0.8075338510177409\n",
      "RMSE: 0.8156765064661976\n",
      "RMSE: 0.8083017533747673\n",
      "RMSE: 0.8102161937950325\n"
     ]
    }
   ],
   "source": [
    "n = 25000\n",
    "folds = 10\n",
    "print(\"Testing for n= \"+str(n)+\", Metric: 'cosine'\"+\", Folds: \"+str(folds))\n",
    "kreuzvalidiere(n, folds, knn_metric = 'cosine')"
   ]
  },
  {
   "cell_type": "code",
   "execution_count": 5,
   "metadata": {},
   "outputs": [
    {
     "name": "stdout",
     "output_type": "stream",
     "text": [
      "Testing for n= 25000, Metric: 'minkowski', Folds: 10\n",
      "RMSE: 0.8154954452823058\n",
      "RMSE: 0.8078088347765844\n",
      "RMSE: 0.8095793815054434\n",
      "RMSE: 0.8102205771189291\n",
      "RMSE: 0.8148882262054463\n",
      "RMSE: 0.815599683801152\n",
      "RMSE: 0.8127600153623162\n",
      "RMSE: 0.8139401770627214\n",
      "RMSE: 0.8137384421833501\n",
      "RMSE: 0.8064772089398172\n",
      "RMSE upper Bound: 0.815599683801152\n",
      "RMSE lower Bound: 0.8064772089398172\n"
     ]
    },
    {
     "ename": "FileNotFoundError",
     "evalue": "[Errno 2] No such file or directory: '../../data/tuning/ContentbasedTuning_0.8065.csv'",
     "output_type": "error",
     "traceback": [
      "\u001b[0;31m---------------------------------------------------------------------------\u001b[0m",
      "\u001b[0;31mFileNotFoundError\u001b[0m                         Traceback (most recent call last)",
      "\u001b[0;32m<ipython-input-5-e4c4a054e42b>\u001b[0m in \u001b[0;36m<module>\u001b[0;34m\u001b[0m\n\u001b[1;32m      2\u001b[0m \u001b[0mfolds\u001b[0m \u001b[0;34m=\u001b[0m \u001b[0;36m10\u001b[0m\u001b[0;34m\u001b[0m\u001b[0;34m\u001b[0m\u001b[0m\n\u001b[1;32m      3\u001b[0m \u001b[0mprint\u001b[0m\u001b[0;34m(\u001b[0m\u001b[0;34m\"Testing for n= \"\u001b[0m\u001b[0;34m+\u001b[0m\u001b[0mstr\u001b[0m\u001b[0;34m(\u001b[0m\u001b[0mn\u001b[0m\u001b[0;34m)\u001b[0m\u001b[0;34m+\u001b[0m\u001b[0;34m\", Metric: 'minkowski'\"\u001b[0m\u001b[0;34m+\u001b[0m\u001b[0;34m\", Folds: \"\u001b[0m\u001b[0;34m+\u001b[0m\u001b[0mstr\u001b[0m\u001b[0;34m(\u001b[0m\u001b[0mfolds\u001b[0m\u001b[0;34m)\u001b[0m\u001b[0;34m)\u001b[0m\u001b[0;34m\u001b[0m\u001b[0;34m\u001b[0m\u001b[0m\n\u001b[0;32m----> 4\u001b[0;31m \u001b[0mkreuzvalidiere\u001b[0m\u001b[0;34m(\u001b[0m\u001b[0mn\u001b[0m\u001b[0;34m,\u001b[0m \u001b[0mfolds\u001b[0m\u001b[0;34m,\u001b[0m \u001b[0mknn_metric\u001b[0m \u001b[0;34m=\u001b[0m \u001b[0;34m'minkowski'\u001b[0m\u001b[0;34m)\u001b[0m\u001b[0;34m\u001b[0m\u001b[0;34m\u001b[0m\u001b[0m\n\u001b[0m",
      "\u001b[0;32m<ipython-input-4-010ee1a59ca1>\u001b[0m in \u001b[0;36mkreuzvalidiere\u001b[0;34m(n, folds, mean, knn_metric, set_k, k_neighbors, data)\u001b[0m\n\u001b[1;32m     31\u001b[0m     \u001b[0mdoku\u001b[0m \u001b[0;34m=\u001b[0m \u001b[0mdoku\u001b[0m\u001b[0;34m.\u001b[0m\u001b[0msort_values\u001b[0m\u001b[0;34m(\u001b[0m\u001b[0mby\u001b[0m\u001b[0;34m=\u001b[0m\u001b[0;34m[\u001b[0m\u001b[0;34m'RMSE'\u001b[0m\u001b[0;34m]\u001b[0m\u001b[0;34m,\u001b[0m \u001b[0mascending\u001b[0m\u001b[0;34m=\u001b[0m\u001b[0;32mTrue\u001b[0m\u001b[0;34m)\u001b[0m\u001b[0;34m\u001b[0m\u001b[0;34m\u001b[0m\u001b[0m\n\u001b[1;32m     32\u001b[0m     \u001b[0mdoku\u001b[0m \u001b[0;34m=\u001b[0m \u001b[0mdoku\u001b[0m\u001b[0;34m.\u001b[0m\u001b[0mdropna\u001b[0m\u001b[0;34m(\u001b[0m\u001b[0mhow\u001b[0m\u001b[0;34m=\u001b[0m\u001b[0;34m'all'\u001b[0m\u001b[0;34m,\u001b[0m \u001b[0maxis\u001b[0m\u001b[0;34m=\u001b[0m\u001b[0;36m1\u001b[0m\u001b[0;34m)\u001b[0m\u001b[0;34m\u001b[0m\u001b[0;34m\u001b[0m\u001b[0m\n\u001b[0;32m---> 33\u001b[0;31m     \u001b[0mdoku\u001b[0m\u001b[0;34m.\u001b[0m\u001b[0mto_csv\u001b[0m\u001b[0;34m(\u001b[0m\u001b[0;34m'../../data/tuning/ContentbasedTuning_'\u001b[0m\u001b[0;34m+\u001b[0m\u001b[0mstr\u001b[0m\u001b[0;34m(\u001b[0m\u001b[0mround\u001b[0m\u001b[0;34m(\u001b[0m\u001b[0mlower\u001b[0m\u001b[0;34m,\u001b[0m\u001b[0;36m4\u001b[0m\u001b[0;34m)\u001b[0m\u001b[0;34m)\u001b[0m\u001b[0;34m+\u001b[0m\u001b[0;34m'.csv'\u001b[0m\u001b[0;34m)\u001b[0m\u001b[0;34m\u001b[0m\u001b[0;34m\u001b[0m\u001b[0m\n\u001b[0m",
      "\u001b[0;32m~/.virtualenvs/bda-analytics-challenge-ss2020-UmK7jAse/lib/python3.8/site-packages/pandas/core/generic.py\u001b[0m in \u001b[0;36mto_csv\u001b[0;34m(self, path_or_buf, sep, na_rep, float_format, columns, header, index, index_label, mode, encoding, compression, quoting, quotechar, line_terminator, chunksize, date_format, doublequote, escapechar, decimal)\u001b[0m\n\u001b[1;32m   3202\u001b[0m             \u001b[0mdecimal\u001b[0m\u001b[0;34m=\u001b[0m\u001b[0mdecimal\u001b[0m\u001b[0;34m,\u001b[0m\u001b[0;34m\u001b[0m\u001b[0;34m\u001b[0m\u001b[0m\n\u001b[1;32m   3203\u001b[0m         )\n\u001b[0;32m-> 3204\u001b[0;31m         \u001b[0mformatter\u001b[0m\u001b[0;34m.\u001b[0m\u001b[0msave\u001b[0m\u001b[0;34m(\u001b[0m\u001b[0;34m)\u001b[0m\u001b[0;34m\u001b[0m\u001b[0;34m\u001b[0m\u001b[0m\n\u001b[0m\u001b[1;32m   3205\u001b[0m \u001b[0;34m\u001b[0m\u001b[0m\n\u001b[1;32m   3206\u001b[0m         \u001b[0;32mif\u001b[0m \u001b[0mpath_or_buf\u001b[0m \u001b[0;32mis\u001b[0m \u001b[0;32mNone\u001b[0m\u001b[0;34m:\u001b[0m\u001b[0;34m\u001b[0m\u001b[0;34m\u001b[0m\u001b[0m\n",
      "\u001b[0;32m~/.virtualenvs/bda-analytics-challenge-ss2020-UmK7jAse/lib/python3.8/site-packages/pandas/io/formats/csvs.py\u001b[0m in \u001b[0;36msave\u001b[0;34m(self)\u001b[0m\n\u001b[1;32m    182\u001b[0m             \u001b[0mclose\u001b[0m \u001b[0;34m=\u001b[0m \u001b[0;32mFalse\u001b[0m\u001b[0;34m\u001b[0m\u001b[0;34m\u001b[0m\u001b[0m\n\u001b[1;32m    183\u001b[0m         \u001b[0;32melse\u001b[0m\u001b[0;34m:\u001b[0m\u001b[0;34m\u001b[0m\u001b[0;34m\u001b[0m\u001b[0m\n\u001b[0;32m--> 184\u001b[0;31m             f, handles = get_handle(\n\u001b[0m\u001b[1;32m    185\u001b[0m                 \u001b[0mself\u001b[0m\u001b[0;34m.\u001b[0m\u001b[0mpath_or_buf\u001b[0m\u001b[0;34m,\u001b[0m\u001b[0;34m\u001b[0m\u001b[0;34m\u001b[0m\u001b[0m\n\u001b[1;32m    186\u001b[0m                 \u001b[0mself\u001b[0m\u001b[0;34m.\u001b[0m\u001b[0mmode\u001b[0m\u001b[0;34m,\u001b[0m\u001b[0;34m\u001b[0m\u001b[0;34m\u001b[0m\u001b[0m\n",
      "\u001b[0;32m~/.virtualenvs/bda-analytics-challenge-ss2020-UmK7jAse/lib/python3.8/site-packages/pandas/io/common.py\u001b[0m in \u001b[0;36mget_handle\u001b[0;34m(path_or_buf, mode, encoding, compression, memory_map, is_text)\u001b[0m\n\u001b[1;32m    426\u001b[0m         \u001b[0;32mif\u001b[0m \u001b[0mencoding\u001b[0m\u001b[0;34m:\u001b[0m\u001b[0;34m\u001b[0m\u001b[0;34m\u001b[0m\u001b[0m\n\u001b[1;32m    427\u001b[0m             \u001b[0;31m# Encoding\u001b[0m\u001b[0;34m\u001b[0m\u001b[0;34m\u001b[0m\u001b[0;34m\u001b[0m\u001b[0m\n\u001b[0;32m--> 428\u001b[0;31m             \u001b[0mf\u001b[0m \u001b[0;34m=\u001b[0m \u001b[0mopen\u001b[0m\u001b[0;34m(\u001b[0m\u001b[0mpath_or_buf\u001b[0m\u001b[0;34m,\u001b[0m \u001b[0mmode\u001b[0m\u001b[0;34m,\u001b[0m \u001b[0mencoding\u001b[0m\u001b[0;34m=\u001b[0m\u001b[0mencoding\u001b[0m\u001b[0;34m,\u001b[0m \u001b[0mnewline\u001b[0m\u001b[0;34m=\u001b[0m\u001b[0;34m\"\"\u001b[0m\u001b[0;34m)\u001b[0m\u001b[0;34m\u001b[0m\u001b[0;34m\u001b[0m\u001b[0m\n\u001b[0m\u001b[1;32m    429\u001b[0m         \u001b[0;32melif\u001b[0m \u001b[0mis_text\u001b[0m\u001b[0;34m:\u001b[0m\u001b[0;34m\u001b[0m\u001b[0;34m\u001b[0m\u001b[0m\n\u001b[1;32m    430\u001b[0m             \u001b[0;31m# No explicit encoding\u001b[0m\u001b[0;34m\u001b[0m\u001b[0;34m\u001b[0m\u001b[0;34m\u001b[0m\u001b[0m\n",
      "\u001b[0;31mFileNotFoundError\u001b[0m: [Errno 2] No such file or directory: '../../data/tuning/ContentbasedTuning_0.8065.csv'"
     ]
    }
   ],
   "source": [
    "n = 25000\n",
    "folds = 10\n",
    "print(\"Testing for n= \"+str(n)+\", Metric: 'minkowski'\"+\", Folds: \"+str(folds))\n",
    "kreuzvalidiere(n, folds, knn_metric = 'minkowski')"
   ]
  },
  {
   "cell_type": "markdown",
   "metadata": {},
   "source": [
    "## Tuning for k_neighbors"
   ]
  },
  {
   "cell_type": "code",
   "execution_count": null,
   "metadata": {},
   "outputs": [],
   "source": [
    "n = 100\n",
    "folds = 4\n",
    "print(\"Testing for n= \"+str(n)+\", set_k: False\"+\", Folds: \"+str(folds))\n",
    "kreuzvalidiere(n, folds, set_k=False)"
   ]
  },
  {
   "cell_type": "code",
   "execution_count": null,
   "metadata": {},
   "outputs": [],
   "source": [
    "n = 25000\n",
    "folds = 10\n",
    "print(\"Testing for n= \"+str(n)+\", set_k: False\"+\", Folds: \"+str(folds))\n",
    "kreuzvalidiere(n, folds, set_k=False)"
   ]
  },
  {
   "cell_type": "code",
   "execution_count": null,
   "metadata": {},
   "outputs": [],
   "source": [
    "n = 25000\n",
    "folds = 10\n",
    "for i in range(4,10)\n",
    "    print(\"Testing for n= \"+str(n)+\", set_k: True,\"+\"k= \"+str(i)+ \"Folds: \"+str(folds))\n",
    "    kreuzvalidiere(n, folds, set_k=True, k_neighbors=i)"
   ]
  },
  {
   "cell_type": "code",
   "execution_count": null,
   "metadata": {},
   "outputs": [],
   "source": [
    "n = 25000\n",
    "folds = 10\n",
    "for i in range(10,20)\n",
    "    print(\"Testing for n= \"+str(n)+\", set_k: True,\"+\"k= \"+str(i)+ \"Folds: \"+str(folds))\n",
    "    kreuzvalidiere(n, folds, set_k=True, k_neighbors=i)"
   ]
  },
  {
   "cell_type": "code",
   "execution_count": null,
   "metadata": {},
   "outputs": [],
   "source": [
    "n = 25000\n",
    "folds = 10\n",
    "for i in range(20,30)\n",
    "    print(\"Testing for n= \"+str(n)+\", set_k: True,\"+\"k= \"+str(i)+ \"Folds: \"+str(folds))\n",
    "    kreuzvalidiere(n, folds, set_k=True, k_neighbors=i)"
   ]
  },
  {
   "cell_type": "markdown",
   "metadata": {},
   "source": [
    "## Tuning for input features"
   ]
  },
  {
   "cell_type": "code",
   "execution_count": null,
   "metadata": {},
   "outputs": [],
   "source": [
    "data = get_data()"
   ]
  },
  {
   "cell_type": "code",
   "execution_count": null,
   "metadata": {},
   "outputs": [],
   "source": [
    "data"
   ]
  },
  {
   "cell_type": "code",
   "execution_count": null,
   "metadata": {},
   "outputs": [],
   "source": [
    "#TODO Functionen umschreiben so, dass man auch auf feature Hyperparameter tunen kann \n",
    "#->kreuzvalidiere und test_predict_mr müssen 'data' parameter bekommen"
   ]
  },
  {
   "cell_type": "code",
   "execution_count": null,
   "metadata": {},
   "outputs": [],
   "source": [
    "n = 25000\n",
    "folds = 10\n",
    "data = data['Zu testende Feature Spalten eintragen']\n",
    "print(\"Testing for n= \"+str(n)+\", Features: Tbd,\"+ \"Folds: \"+str(folds))\n",
    "kreuzvalidiere(n, folds, set_k=True, k_neighbors=i, data)"
   ]
  }
 ],
 "metadata": {
  "kernelspec": {
   "display_name": "bda-analytics-challenge-ss2020",
   "language": "python",
   "name": "bda-analytics-challenge-ss2020"
  },
  "language_info": {
   "codemirror_mode": {
    "name": "ipython",
    "version": 3
   },
   "file_extension": ".py",
   "mimetype": "text/x-python",
   "name": "python",
   "nbconvert_exporter": "python",
   "pygments_lexer": "ipython3",
   "version": "3.8.0"
  }
 },
 "nbformat": 4,
 "nbformat_minor": 4
}
