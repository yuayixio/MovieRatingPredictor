{
 "cells": [
  {
   "cell_type": "markdown",
   "metadata": {},
   "source": [
    "## Tuning Hyperparameter for knn ContentBasedFiltering\n",
    "\n",
    "Run: \n",
    "\n",
    "<i> '$' pipenv shell </i>\n",
    "\n",
    "<i> '$' pipenv install ipynb </i>\n",
    "\n",
    "to be able to import functions from other ipynb files\n"
   ]
  },
  {
   "cell_type": "code",
   "execution_count": 1,
   "metadata": {},
   "outputs": [
    {
     "name": "stdout",
     "output_type": "stream",
     "text": [
      "Requirement already satisfied: ipynb in /home/fx/.virtualenvs/bda-analytics-challenge-ss2020-UmK7jAse/lib/python3.8/site-packages (0.5.1)\n",
      "\u001b[33mWARNING: You are using pip version 20.1; however, version 20.1.1 is available.\n",
      "You should consider upgrading via the '/home/fx/.virtualenvs/bda-analytics-challenge-ss2020-UmK7jAse/bin/python -m pip install --upgrade pip' command.\u001b[0m\n",
      "Note: you may need to restart the kernel to use updated packages.\n"
     ]
    }
   ],
   "source": [
    "pip install ipynb\n"
   ]
  },
  {
   "cell_type": "code",
   "execution_count": 2,
   "metadata": {},
   "outputs": [
    {
     "name": "stdout",
     "output_type": "stream",
     "text": [
      "PCA:\n",
      "Main Variance impacting factors:\n",
      "[0.1352569  0.09503712 0.07998231 0.06074159 0.04796725 0.04597668\n",
      " 0.0430597  0.04134133 0.03750373 0.03703565 0.03502601 0.0336219\n",
      " 0.03295991 0.03155028 0.0294954  0.02847374 0.02764069 0.02351684\n",
      " 0.02326137 0.01913027 0.01828914 0.01731806 0.0156969  0.01428033\n",
      " 0.01294528 0.00832974 0.0045619 ]\n",
      "     weights        features  abs_weights\n",
      "2   0.460198      imdbRating     0.460198\n",
      "5   0.428491      Metacritic     0.428491\n",
      "4   0.422208  RottenTomatoes     0.422208\n",
      "6   0.352119          Awards     0.352119\n",
      "3   0.305617       imdbVotes     0.305617\n",
      "1   0.277951         Runtime     0.277951\n",
      "14  0.209256               7     0.209256\n",
      "0  -0.148325            Year     0.148325\n",
      "11 -0.143027               4     0.143027\n",
      "25  0.120398              18     0.120398\n",
      "17 -0.086768              10     0.086768\n",
      "12  0.083021               5     0.083021\n",
      "16  0.067442               9     0.067442\n",
      "18  0.049997              11     0.049997\n",
      "22 -0.047021              15     0.047021\n",
      "20  0.044221              13     0.044221\n",
      "26  0.042664              19     0.042664\n",
      "19  0.035038              12     0.035038\n",
      "13  0.021776               6     0.021776\n",
      "7  -0.019760               0     0.019760\n",
      "9   0.019544               2     0.019544\n",
      "8   0.018165               1     0.018165\n",
      "21  0.016990              14     0.016990\n",
      "24 -0.016127              17     0.016127\n",
      "10 -0.011909               3     0.011909\n",
      "15  0.003699               8     0.003699\n",
      "23 -0.001117              16     0.001117\n"
     ]
    }
   ],
   "source": [
    "import pandas as pd\n",
    "import numpy as np\n",
    "import os\n",
    "import sys\n",
    "from knn_preprocessing import knn_preprocessing\n",
    "#Import will run notebook and perform PCA\n",
    "from ipynb.fs.full.ContentBasedFiltering import predict_movie_rating, test_predict_mr, get_data"
   ]
  },
  {
   "cell_type": "code",
   "execution_count": 3,
   "metadata": {},
   "outputs": [],
   "source": [
    "def kreuzvalidiere(n, folds, mean = False, knn_metric = 'cosine', set_k=False, k_neighbors=15, data=get_data()):\n",
    "    upper = 0\n",
    "    lower = 10\n",
    "    \n",
    "    doku = pd.DataFrame(columns={'RMSE','Testsize','Fold','mean', 'knn_metric','set_k','k_neighbors','data'})\n",
    "    \n",
    "    \n",
    "    for i in range(0,folds):\n",
    "        rmse = test_predict_mr(n, mean, knn_metric, set_k, k_neighbors)\n",
    "        doku.loc[i,'RMSE'] = rmse\n",
    "        doku.loc[i,'Testsize'] = n\n",
    "        doku.loc[i,'Fold'] = str(i)\n",
    "        doku.loc[i,'mean'] = mean\n",
    "        doku.loc[i,'knn_metric'] = knn_metric\n",
    "        doku.loc[i,'set_k'] = set_k\n",
    "        doku.loc[i,'data'] = str(data.columns)\n",
    "        if set_k:\n",
    "            doku['k_neighbors'] = k_neighbors\n",
    "        \n",
    "        \n",
    "        if (float(rmse) < float(lower)):\n",
    "            lower = rmse\n",
    "\n",
    "        if (float(rmse) > float(upper)):\n",
    "            upper = rmse\n",
    "\n",
    "    print('RMSE upper Bound: '+str(upper))\n",
    "    print('RMSE lower Bound: '+str(lower))\n",
    "    \n",
    "    #build output csv\n",
    "    doku = doku.sort_values(by=['RMSE'], ascending=True)\n",
    "    doku = doku.dropna(how='all', axis=1)\n",
    "    doku.to_csv('../../data/tuning/ContentbasedTuning_'+str(round(lower,4))+'.csv') "
   ]
  },
  {
   "cell_type": "markdown",
   "metadata": {},
   "source": [
    "## Tuning for Mean() vs. distance-weighted rating"
   ]
  },
  {
   "cell_type": "code",
   "execution_count": 32,
   "metadata": {},
   "outputs": [
    {
     "name": "stdout",
     "output_type": "stream",
     "text": [
      "Testing for n= 100, Mean: False, Folds: 4\n",
      "RMSE: 0.804577548248386\n",
      "RMSE: 0.8327401654270914\n",
      "RMSE: 0.7110886702295112\n",
      "RMSE: 0.8678981722445336\n",
      "RMSE upper Bound: 0.8678981722445336\n",
      "RMSE lower Bound: 0.7110886702295112\n"
     ]
    }
   ],
   "source": [
    "n = 100\n",
    "folds = 4\n",
    "print(\"Testing for n= \"+str(n)+\", Mean: False\"+\", Folds: \"+str(folds))\n",
    "kreuzvalidiere(n, folds, mean=False)"
   ]
  },
  {
   "cell_type": "code",
   "execution_count": 10,
   "metadata": {},
   "outputs": [
    {
     "name": "stdout",
     "output_type": "stream",
     "text": [
      "Testing for n= 25000, Mean: False, Folds: 10\n",
      "RMSE: 0.8093717866581247\n",
      "RMSE: 0.8109298741225405\n",
      "RMSE: 0.8122008042821607\n",
      "RMSE: 0.804284010080862\n",
      "RMSE: 0.8091955357611241\n",
      "RMSE: 0.8068427998071319\n",
      "RMSE: 0.8090052843861771\n",
      "RMSE: 0.8122322697998022\n",
      "RMSE: 0.8059915436817127\n",
      "RMSE: 0.8087654925187531\n",
      "RMSE upper Bound: 0.8122322697998022\n",
      "RMSE lower Bound: 0.804284010080862\n"
     ]
    }
   ],
   "source": [
    "n = 25000\n",
    "folds = 10\n",
    "print(\"Testing for n= \"+str(n)+\", Mean: False\"+\", Folds: \"+str(folds))\n",
    "kreuzvalidiere(n, folds, mean=False)"
   ]
  },
  {
   "cell_type": "code",
   "execution_count": 11,
   "metadata": {},
   "outputs": [
    {
     "name": "stdout",
     "output_type": "stream",
     "text": [
      "Testing for n= 25000, Mean: True, Folds: 10\n",
      "RMSE: 0.8104320862629049\n",
      "RMSE: 0.812571557942916\n",
      "RMSE: 0.8105755766394918\n",
      "RMSE: 0.8158718554745932\n",
      "RMSE: 0.8194891221568065\n",
      "RMSE: 0.8190834153694807\n",
      "RMSE: 0.8160188609612186\n",
      "RMSE: 0.8127711506527119\n",
      "RMSE: 0.8084195815842717\n",
      "RMSE: 0.8103183042621105\n",
      "RMSE upper Bound: 0.8194891221568065\n",
      "RMSE lower Bound: 0.8084195815842717\n"
     ]
    }
   ],
   "source": [
    "n = 25000\n",
    "folds = 10\n",
    "print(\"Testing for n= \"+str(n)+\", Mean: True\"+\", Folds: \"+str(folds))\n",
    "kreuzvalidiere(n, folds, mean=True)"
   ]
  },
  {
   "cell_type": "markdown",
   "metadata": {},
   "source": [
    "## Tuning for knn_metric"
   ]
  },
  {
   "cell_type": "code",
   "execution_count": 4,
   "metadata": {},
   "outputs": [
    {
     "name": "stdout",
     "output_type": "stream",
     "text": [
      "Testing for n= 100, Metric: 'cosine', Folds: 4\n",
      "RMSE: 0.9280154286780048\n",
      "RMSE: 0.7608646440927771\n",
      "RMSE: 0.8010978236619253\n",
      "RMSE: 0.7112706775734763\n",
      "RMSE upper Bound: 0.9280154286780048\n",
      "RMSE lower Bound: 0.7112706775734763\n"
     ]
    }
   ],
   "source": [
    "n = 100\n",
    "folds = 4\n",
    "print(\"Testing for n= \"+str(n)+\", Metric: 'cosine'\"+\", Folds: \"+str(folds))\n",
    "kreuzvalidiere(n, folds, knn_metric = 'cosine')"
   ]
  },
  {
   "cell_type": "code",
   "execution_count": 5,
   "metadata": {},
   "outputs": [
    {
     "name": "stdout",
     "output_type": "stream",
     "text": [
      "Testing for n= 25000, Metric: 'cosine', Folds: 10\n",
      "RMSE: 0.8180188820765721\n",
      "RMSE: 0.8042295061506927\n",
      "RMSE: 0.8122801216107732\n",
      "RMSE: 0.8098929481095994\n",
      "RMSE: 0.8139925754947308\n",
      "RMSE: 0.8022085441161241\n",
      "RMSE: 0.8110411796668742\n",
      "RMSE: 0.8065866699637653\n",
      "RMSE: 0.8079964316907624\n",
      "RMSE: 0.8067369339424777\n",
      "RMSE upper Bound: 0.8180188820765721\n",
      "RMSE lower Bound: 0.8022085441161241\n"
     ]
    }
   ],
   "source": [
    "n = 25000\n",
    "folds = 10\n",
    "print(\"Testing for n= \"+str(n)+\", Metric: 'cosine'\"+\", Folds: \"+str(folds))\n",
    "kreuzvalidiere(n, folds, knn_metric = 'cosine')"
   ]
  },
  {
   "cell_type": "code",
   "execution_count": 6,
   "metadata": {},
   "outputs": [
    {
     "name": "stdout",
     "output_type": "stream",
     "text": [
      "Testing for n= 25000, Metric: 'minkowski', Folds: 10\n",
      "RMSE: 0.8165255607397872\n",
      "RMSE: 0.8080976788471829\n",
      "RMSE: 0.8114821154932244\n",
      "RMSE: 0.8152800252936769\n",
      "RMSE: 0.8129823727637878\n",
      "RMSE: 0.810843060323114\n",
      "RMSE: 0.8090826533626234\n",
      "RMSE: 0.8176513974631802\n",
      "RMSE: 0.8136693410726308\n",
      "RMSE: 0.8211539453639878\n",
      "RMSE upper Bound: 0.8211539453639878\n",
      "RMSE lower Bound: 0.8080976788471829\n"
     ]
    }
   ],
   "source": [
    "n = 25000\n",
    "folds = 10\n",
    "print(\"Testing for n= \"+str(n)+\", Metric: 'minkowski'\"+\", Folds: \"+str(folds))\n",
    "kreuzvalidiere(n, folds, knn_metric = 'minkowski')"
   ]
  },
  {
   "cell_type": "markdown",
   "metadata": {},
   "source": [
    "## Tuning for k_neighbors"
   ]
  },
  {
   "cell_type": "code",
   "execution_count": 7,
   "metadata": {},
   "outputs": [
    {
     "name": "stdout",
     "output_type": "stream",
     "text": [
      "Testing for n= 100, set_k: False, Folds: 4\n",
      "RMSE: 0.8667067213604475\n",
      "RMSE: 0.8363389438753414\n",
      "RMSE: 0.8891811447302662\n",
      "RMSE: 0.9472135760668952\n",
      "RMSE upper Bound: 0.9472135760668952\n",
      "RMSE lower Bound: 0.8363389438753414\n"
     ]
    }
   ],
   "source": [
    "n = 100\n",
    "folds = 4\n",
    "print(\"Testing for n= \"+str(n)+\", set_k: False\"+\", Folds: \"+str(folds))\n",
    "kreuzvalidiere(n, folds, set_k=False)"
   ]
  },
  {
   "cell_type": "code",
   "execution_count": 8,
   "metadata": {},
   "outputs": [
    {
     "name": "stdout",
     "output_type": "stream",
     "text": [
      "Testing for n= 25000, set_k: False, Folds: 10\n",
      "RMSE: 0.8082220020173763\n",
      "RMSE: 0.8103171667364057\n",
      "RMSE: 0.8152772859897605\n",
      "RMSE: 0.8012471381544237\n",
      "RMSE: 0.8174343129763451\n",
      "RMSE: 0.8031949602814995\n",
      "RMSE: 0.8089629761973997\n",
      "RMSE: 0.8054906122933797\n",
      "RMSE: 0.8145465406878625\n",
      "RMSE: 0.8142678494344093\n",
      "RMSE upper Bound: 0.8174343129763451\n",
      "RMSE lower Bound: 0.8012471381544237\n"
     ]
    }
   ],
   "source": [
    "n = 25000\n",
    "folds = 10\n",
    "print(\"Testing for n= \"+str(n)+\", set_k: False\"+\", Folds: \"+str(folds))\n",
    "kreuzvalidiere(n, folds, set_k=False)"
   ]
  },
  {
   "cell_type": "code",
   "execution_count": 12,
   "metadata": {},
   "outputs": [
    {
     "name": "stdout",
     "output_type": "stream",
     "text": [
      "Testing for n= 25000, set_k: True,k= 4Folds: 10\n",
      "RMSE: 0.8079389664944242\n",
      "RMSE: 0.8115115045295346\n",
      "RMSE: 0.8080101908819916\n",
      "RMSE: 0.8127231024410206\n",
      "RMSE: 0.8117074853671281\n",
      "RMSE: 0.8074752738658302\n",
      "RMSE: 0.8174509720347846\n",
      "RMSE: 0.8146010913328614\n",
      "RMSE: 0.8065443689966026\n",
      "RMSE: 0.8172577543320944\n",
      "RMSE upper Bound: 0.8174509720347846\n",
      "RMSE lower Bound: 0.8065443689966026\n",
      "Testing for n= 25000, set_k: True,k= 5Folds: 10\n",
      "RMSE: 0.8062363195831578\n",
      "RMSE: 0.806536109705288\n",
      "RMSE: 0.8137355707213381\n",
      "RMSE: 0.8089176442774695\n",
      "RMSE: 0.815513378259798\n",
      "RMSE: 0.8048125321726615\n",
      "RMSE: 0.8085902478740857\n",
      "RMSE: 0.8127757835161609\n",
      "RMSE: 0.8076366701210245\n",
      "RMSE: 0.8108814619888898\n",
      "RMSE upper Bound: 0.815513378259798\n",
      "RMSE lower Bound: 0.8048125321726615\n",
      "Testing for n= 25000, set_k: True,k= 6Folds: 10\n",
      "RMSE: 0.8132573293637523\n",
      "RMSE: 0.8094053095701897\n",
      "RMSE: 0.8180984463335088\n",
      "RMSE: 0.8147020409645342\n",
      "RMSE: 0.8083418924377065\n",
      "RMSE: 0.8042591459822069\n",
      "RMSE: 0.7986141815660582\n",
      "RMSE: 0.8083104847373419\n",
      "RMSE: 0.8161661966217714\n",
      "RMSE: 0.8046019255501198\n",
      "RMSE upper Bound: 0.8180984463335088\n",
      "RMSE lower Bound: 0.7986141815660582\n",
      "Testing for n= 25000, set_k: True,k= 7Folds: 10\n",
      "RMSE: 0.8101791759459085\n",
      "RMSE: 0.8092260168703084\n",
      "RMSE: 0.8124215213434552\n",
      "RMSE: 0.8096353748607477\n",
      "RMSE: 0.8102130766570019\n",
      "RMSE: 0.8175175349451396\n",
      "RMSE: 0.8090672513741156\n",
      "RMSE: 0.809508629623995\n",
      "RMSE: 0.8042985138379607\n",
      "RMSE: 0.8099716614059781\n",
      "RMSE upper Bound: 0.8175175349451396\n",
      "RMSE lower Bound: 0.8042985138379607\n",
      "Testing for n= 25000, set_k: True,k= 8Folds: 10\n",
      "RMSE: 0.8112450260887629\n",
      "RMSE: 0.8229508495118026\n",
      "RMSE: 0.8035723396050795\n",
      "RMSE: 0.8128227906227407\n",
      "RMSE: 0.8182964672641577\n",
      "RMSE: 0.8109625332369453\n",
      "RMSE: 0.8158372177901678\n",
      "RMSE: 0.8132944886084742\n",
      "RMSE: 0.8123941669288609\n",
      "RMSE: 0.8100015801134576\n",
      "RMSE upper Bound: 0.8229508495118026\n",
      "RMSE lower Bound: 0.8035723396050795\n",
      "Testing for n= 25000, set_k: True,k= 9Folds: 10\n",
      "RMSE: 0.8061063919105224\n",
      "RMSE: 0.8063517628419298\n",
      "RMSE: 0.8137483591644568\n",
      "RMSE: 0.8121060564515441\n",
      "RMSE: 0.8068797826203297\n",
      "RMSE: 0.8025999031170286\n",
      "RMSE: 0.8112167022828932\n",
      "RMSE: 0.817437200087054\n",
      "RMSE: 0.809788324326991\n",
      "RMSE: 0.8089394843845001\n",
      "RMSE upper Bound: 0.817437200087054\n",
      "RMSE lower Bound: 0.8025999031170286\n"
     ]
    }
   ],
   "source": [
    "n = 25000\n",
    "folds = 10\n",
    "for i in range(4,10):\n",
    "    print(\"Testing for n= \"+str(n)+\", set_k: True,\"+\"k= \"+str(i)+ \"Folds: \"+str(folds))\n",
    "    kreuzvalidiere(n, folds, set_k=True, k_neighbors=i)"
   ]
  },
  {
   "cell_type": "code",
   "execution_count": 13,
   "metadata": {},
   "outputs": [
    {
     "name": "stdout",
     "output_type": "stream",
     "text": [
      "Testing for n= 25000, set_k: True,k= 10Folds: 10\n",
      "RMSE: 0.8106622351248536\n",
      "RMSE: 0.8088263802145101\n",
      "RMSE: 0.81423633718393\n",
      "RMSE: 0.8007395611400208\n",
      "RMSE: 0.810220133131492\n",
      "RMSE: 0.8009805468464142\n",
      "RMSE: 0.8061972898129933\n",
      "RMSE: 0.8035640854092879\n",
      "RMSE: 0.8041458166678931\n",
      "RMSE: 0.808795687562556\n",
      "RMSE upper Bound: 0.81423633718393\n",
      "RMSE lower Bound: 0.8007395611400208\n",
      "Testing for n= 25000, set_k: True,k= 11Folds: 10\n",
      "RMSE: 0.809646992549816\n",
      "RMSE: 0.8117489254688095\n",
      "RMSE: 0.8070131032906482\n",
      "RMSE: 0.8108917317065666\n",
      "RMSE: 0.8092727220721694\n",
      "RMSE: 0.8101591240369034\n",
      "RMSE: 0.8137420506847454\n",
      "RMSE: 0.8136439808418129\n",
      "RMSE: 0.8049082261292966\n",
      "RMSE: 0.8045675529820194\n",
      "RMSE upper Bound: 0.8137420506847454\n",
      "RMSE lower Bound: 0.8045675529820194\n",
      "Testing for n= 25000, set_k: True,k= 12Folds: 10\n",
      "RMSE: 0.8121929230452263\n",
      "RMSE: 0.8136741095204966\n",
      "RMSE: 0.8125351546169084\n",
      "RMSE: 0.8052722412753475\n",
      "RMSE: 0.8070891538990275\n",
      "RMSE: 0.8092939633823466\n",
      "RMSE: 0.8145341190971557\n",
      "RMSE: 0.8079342892208258\n",
      "RMSE: 0.8132314354893038\n",
      "RMSE: 0.807020556277355\n",
      "RMSE upper Bound: 0.8145341190971557\n",
      "RMSE lower Bound: 0.8052722412753475\n",
      "Testing for n= 25000, set_k: True,k= 13Folds: 10\n",
      "RMSE: 0.8054056236366092\n",
      "RMSE: 0.8058530645872413\n",
      "RMSE: 0.8154698293529814\n",
      "RMSE: 0.8072948591139935\n",
      "RMSE: 0.8052590599668107\n",
      "RMSE: 0.8026336918325332\n",
      "RMSE: 0.8216579168307809\n",
      "RMSE: 0.8072564511325702\n",
      "RMSE: 0.8123172500153092\n",
      "RMSE: 0.803238963718008\n",
      "RMSE upper Bound: 0.8216579168307809\n",
      "RMSE lower Bound: 0.8026336918325332\n",
      "Testing for n= 25000, set_k: True,k= 14Folds: 10\n",
      "RMSE: 0.8126680929288245\n",
      "RMSE: 0.8087825234435398\n",
      "RMSE: 0.8199872678769083\n",
      "RMSE: 0.8059229838145624\n",
      "RMSE: 0.8117067252139681\n",
      "RMSE: 0.8038263851225457\n",
      "RMSE: 0.8114192861068183\n",
      "RMSE: 0.802370371801157\n",
      "RMSE: 0.8112284787293647\n",
      "RMSE: 0.8088375720489706\n",
      "RMSE upper Bound: 0.8199872678769083\n",
      "RMSE lower Bound: 0.802370371801157\n",
      "Testing for n= 25000, set_k: True,k= 15Folds: 10\n",
      "RMSE: 0.8141545843273031\n",
      "RMSE: 0.8155462639598018\n",
      "RMSE: 0.805103532098909\n",
      "RMSE: 0.8129469184902284\n",
      "RMSE: 0.8037795916505237\n",
      "RMSE: 0.8063535568848798\n",
      "RMSE: 0.8198656948812972\n",
      "RMSE: 0.8095725061544415\n",
      "RMSE: 0.8073933928640836\n",
      "RMSE: 0.8083734965124115\n",
      "RMSE upper Bound: 0.8198656948812972\n",
      "RMSE lower Bound: 0.8037795916505237\n",
      "Testing for n= 25000, set_k: True,k= 16Folds: 10\n",
      "RMSE: 0.8066917690434146\n",
      "RMSE: 0.8062949577720443\n",
      "RMSE: 0.8077681016377329\n",
      "RMSE: 0.8194973690371774\n",
      "RMSE: 0.8118747614646864\n",
      "RMSE: 0.8081779580845614\n",
      "RMSE: 0.814726203550508\n",
      "RMSE: 0.8097290974812612\n",
      "RMSE: 0.8144435433031005\n",
      "RMSE: 0.8112674086001176\n",
      "RMSE upper Bound: 0.8194973690371774\n",
      "RMSE lower Bound: 0.8062949577720443\n",
      "Testing for n= 25000, set_k: True,k= 17Folds: 10\n",
      "RMSE: 0.8156991536166637\n",
      "RMSE: 0.8036989258710054\n",
      "RMSE: 0.811489207652997\n",
      "RMSE: 0.8059299994007968\n",
      "RMSE: 0.8108596809367723\n",
      "RMSE: 0.8017171145273309\n",
      "RMSE: 0.81009092912017\n",
      "RMSE: 0.8137411967975638\n",
      "RMSE: 0.806020231674776\n",
      "RMSE: 0.8126777571767155\n",
      "RMSE upper Bound: 0.8156991536166637\n",
      "RMSE lower Bound: 0.8017171145273309\n",
      "Testing for n= 25000, set_k: True,k= 18Folds: 10\n",
      "RMSE: 0.8166616222025674\n",
      "RMSE: 0.8135653198753667\n",
      "RMSE: 0.8082210391947676\n",
      "RMSE: 0.8112047816017168\n",
      "RMSE: 0.8073195568984524\n",
      "RMSE: 0.8130689922117784\n",
      "RMSE: 0.8083730631933239\n",
      "RMSE: 0.8076911917799078\n",
      "RMSE: 0.8034619164017093\n",
      "RMSE: 0.8094928341002284\n",
      "RMSE upper Bound: 0.8166616222025674\n",
      "RMSE lower Bound: 0.8034619164017093\n",
      "Testing for n= 25000, set_k: True,k= 19Folds: 10\n",
      "RMSE: 0.8061705206903899\n",
      "RMSE: 0.8220945339082834\n",
      "RMSE: 0.8163880298350689\n",
      "RMSE: 0.8074639406761306\n",
      "RMSE: 0.8077130144696262\n",
      "RMSE: 0.803643656614778\n",
      "RMSE: 0.8201789626129484\n",
      "RMSE: 0.8081838194375053\n",
      "RMSE: 0.8094090227871527\n",
      "RMSE: 0.8060782623172269\n",
      "RMSE upper Bound: 0.8220945339082834\n",
      "RMSE lower Bound: 0.803643656614778\n"
     ]
    }
   ],
   "source": [
    "n = 25000\n",
    "folds = 10\n",
    "for i in range(10,20):\n",
    "    print(\"Testing for n= \"+str(n)+\", set_k: True,\"+\"k= \"+str(i)+ \"Folds: \"+str(folds))\n",
    "    kreuzvalidiere(n, folds, set_k=True, k_neighbors=i)"
   ]
  },
  {
   "cell_type": "code",
   "execution_count": 14,
   "metadata": {},
   "outputs": [
    {
     "ename": "SyntaxError",
     "evalue": "invalid syntax (<ipython-input-14-04b734621bdf>, line 3)",
     "output_type": "error",
     "traceback": [
      "\u001b[0;36m  File \u001b[0;32m\"<ipython-input-14-04b734621bdf>\"\u001b[0;36m, line \u001b[0;32m3\u001b[0m\n\u001b[0;31m    for i in range(20,30)\u001b[0m\n\u001b[0m                         ^\u001b[0m\n\u001b[0;31mSyntaxError\u001b[0m\u001b[0;31m:\u001b[0m invalid syntax\n"
     ]
    }
   ],
   "source": [
    "n = 25000\n",
    "folds = 10\n",
    "for i in range(20,30)\n",
    "    print(\"Testing for n= \"+str(n)+\", set_k: True,\"+\"k= \"+str(i)+ \"Folds: \"+str(folds))\n",
    "    kreuzvalidiere(n, folds, set_k=True, k_neighbors=i)"
   ]
  },
  {
   "cell_type": "markdown",
   "metadata": {},
   "source": [
    "## Tuning for input features"
   ]
  },
  {
   "cell_type": "code",
   "execution_count": null,
   "metadata": {},
   "outputs": [],
   "source": [
    "data = get_data()"
   ]
  },
  {
   "cell_type": "code",
   "execution_count": null,
   "metadata": {},
   "outputs": [],
   "source": [
    "data"
   ]
  },
  {
   "cell_type": "code",
   "execution_count": null,
   "metadata": {},
   "outputs": [],
   "source": [
    "#TODO Functionen umschreiben so, dass man auch auf feature Hyperparameter tunen kann \n",
    "#->kreuzvalidiere und test_predict_mr müssen 'data' parameter bekommen"
   ]
  },
  {
   "cell_type": "code",
   "execution_count": null,
   "metadata": {},
   "outputs": [],
   "source": [
    "n = 25000\n",
    "folds = 10\n",
    "data = data['Zu testende Feature Spalten eintragen']\n",
    "print(\"Testing for n= \"+str(n)+\", Features: Tbd,\"+ \"Folds: \"+str(folds))\n",
    "kreuzvalidiere(n, folds, set_k=True, k_neighbors=i, data)"
   ]
  }
 ],
 "metadata": {
  "kernelspec": {
   "display_name": "bda-analytics-challenge-ss2020",
   "language": "python",
   "name": "bda-analytics-challenge-ss2020"
  },
  "language_info": {
   "codemirror_mode": {
    "name": "ipython",
    "version": 3
   },
   "file_extension": ".py",
   "mimetype": "text/x-python",
   "name": "python",
   "nbconvert_exporter": "python",
   "pygments_lexer": "ipython3",
   "version": "3.8.0"
  }
 },
 "nbformat": 4,
 "nbformat_minor": 4
}
