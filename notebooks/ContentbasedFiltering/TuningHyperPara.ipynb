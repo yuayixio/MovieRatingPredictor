{
 "cells": [
  {
   "cell_type": "markdown",
   "metadata": {},
   "source": [
    "## Tuning Hyperparameter for knn ContentBasedFiltering\n",
    "\n",
    "Run: \n",
    "\n",
    "<i> '$' pipenv shell </i>\n",
    "\n",
    "<i> '$' pipenv install ipynb </i>\n",
    "\n",
    "to be able to import functions from other ipynb files\n"
   ]
  },
  {
   "cell_type": "code",
   "execution_count": 1,
   "metadata": {},
   "outputs": [
    {
     "name": "stdout",
     "output_type": "stream",
     "text": [
      "PCA:\n",
      "Main Variance impacting factors:\n",
      "[0.1352569  0.09503712 0.07998231 0.06074159 0.04796725 0.04597668\n",
      " 0.0430597  0.04134133 0.03750373 0.03703565 0.03502601 0.0336219\n",
      " 0.03295991 0.03155028 0.0294954  0.02847374 0.02764069 0.02351684\n",
      " 0.02326137 0.01913027 0.01828914 0.01731806 0.0156969  0.01428033\n",
      " 0.01294528 0.00832974 0.0045619 ]\n",
      "     weights        features  abs_weights\n",
      "2   0.460198      imdbRating     0.460198\n",
      "5   0.428491      Metacritic     0.428491\n",
      "4   0.422208  RottenTomatoes     0.422208\n",
      "6   0.352119          Awards     0.352119\n",
      "3   0.305617       imdbVotes     0.305617\n",
      "1   0.277951         Runtime     0.277951\n",
      "14  0.209256               7     0.209256\n",
      "0  -0.148325            Year     0.148325\n",
      "11 -0.143027               4     0.143027\n",
      "25  0.120398              18     0.120398\n",
      "17 -0.086768              10     0.086768\n",
      "12  0.083021               5     0.083021\n",
      "16  0.067442               9     0.067442\n",
      "18  0.049997              11     0.049997\n",
      "22 -0.047021              15     0.047021\n",
      "20  0.044221              13     0.044221\n",
      "26  0.042664              19     0.042664\n",
      "19  0.035038              12     0.035038\n",
      "13  0.021776               6     0.021776\n",
      "7  -0.019760               0     0.019760\n",
      "9   0.019544               2     0.019544\n",
      "8   0.018165               1     0.018165\n",
      "21  0.016990              14     0.016990\n",
      "24 -0.016127              17     0.016127\n",
      "10 -0.011909               3     0.011909\n",
      "15  0.003699               8     0.003699\n",
      "23 -0.001117              16     0.001117\n"
     ]
    }
   ],
   "source": [
    "import pandas as pd\n",
    "import numpy as np\n",
    "import os\n",
    "import sys\n",
    "from knn_preprocessing import knn_preprocessing\n",
    "#Import will run notebook and perform PCA\n",
    "from ipynb.fs.full.ContentBasedFiltering import predict_movie_rating, test_predict_mr, get_data"
   ]
  },
  {
   "cell_type": "code",
   "execution_count": 2,
   "metadata": {},
   "outputs": [],
   "source": [
    "def kreuzvalidiere(n, folds, mean = False, knn_metric = 'cosine', set_k=False, k_neighbors=15, data=get_data()):\n",
    "    upper = 0\n",
    "    lower = 10\n",
    "    \n",
    "    doku = pd.DataFrame(columns={'RMSE','Testsize','Fold','mean', 'knn_metric','set_k','k_neighbors','data'})\n",
    "    \n",
    "    \n",
    "    for i in range(0,folds):\n",
    "        rmse = test_predict_mr(n, mean, knn_metric, set_k, k_neighbors)\n",
    "        doku.loc[i,'RMSE'] = rmse\n",
    "        doku.loc[i,'Testsize'] = n\n",
    "        doku.loc[i,'Fold'] = str(i)\n",
    "        doku.loc[i,'mean'] = mean\n",
    "        doku.loc[i,'knn_metric'] = knn_metric\n",
    "        doku.loc[i,'set_k'] = set_k\n",
    "        doku.loc[i,'data'] = str(data.columns)\n",
    "        if set_k:\n",
    "            doku['k_neighbors'] = k_neighbors\n",
    "        \n",
    "        \n",
    "        if (float(rmse) < float(lower)):\n",
    "            lower = rmse\n",
    "\n",
    "        if (float(rmse) > float(upper)):\n",
    "            upper = rmse\n",
    "\n",
    "    print('RMSE upper Bound: '+str(upper))\n",
    "    print('RMSE lower Bound: '+str(lower))\n",
    "    \n",
    "    #build output csv\n",
    "    doku = doku.sort_values(by=['RMSE'], ascending=True)\n",
    "    doku = doku.dropna(how='all', axis=1)\n",
    "    doku.to_csv('../../data/tuning/ContentbasedTuning_'+str(round(lower,4))+'.csv') "
   ]
  },
  {
   "cell_type": "markdown",
   "metadata": {},
   "source": [
    "## Tuning for Mean() vs. distance-weighted rating"
   ]
  },
  {
   "cell_type": "code",
   "execution_count": 6,
   "metadata": {},
   "outputs": [
    {
     "name": "stdout",
     "output_type": "stream",
     "text": [
      "Testing for n= 100, Mean: False, Folds: 4\n",
      "RMSE: 0.8600161357792899\n",
      "RMSE: 0.7211986368173233\n",
      "RMSE: 0.8312425713259929\n",
      "RMSE: 0.834051301360322\n",
      "RMSE upper Bound: 0.8600161357792899\n",
      "RMSE lower Bound: 0.7211986368173233\n"
     ]
    }
   ],
   "source": [
    "n = 100\n",
    "folds = 4\n",
    "print(\"Testing for n= \"+str(n)+\", Mean: False\"+\", Folds: \"+str(folds))\n",
    "kreuzvalidiere(n, folds, mean=False)"
   ]
  },
  {
   "cell_type": "code",
   "execution_count": 4,
   "metadata": {},
   "outputs": [
    {
     "name": "stdout",
     "output_type": "stream",
     "text": [
      "Testing for n= 25000, Mean: False, Folds: 10\n",
      "RMSE: 0.7998149236829937\n",
      "RMSE: 0.8160378639300775\n",
      "RMSE: 0.8073930425258502\n",
      "RMSE: 0.8069565348965053\n",
      "RMSE: 0.810005601122022\n",
      "RMSE: 0.8112758113273519\n",
      "RMSE: 0.8099375545148093\n",
      "RMSE: 0.8048459046791226\n",
      "RMSE: 0.8032283724130602\n",
      "RMSE: 0.8078172426787046\n",
      "RMSE upper Bound: 0.8160378639300775\n",
      "RMSE lower Bound: 0.7998149236829937\n"
     ]
    }
   ],
   "source": [
    "n = 25000\n",
    "folds = 10\n",
    "print(\"Testing for n= \"+str(n)+\", Mean: False\"+\", Folds: \"+str(folds))\n",
    "kreuzvalidiere(n, folds, mean=False)"
   ]
  },
  {
   "cell_type": "code",
   "execution_count": 7,
   "metadata": {},
   "outputs": [
    {
     "name": "stdout",
     "output_type": "stream",
     "text": [
      "Testing for n= 25000, Mean: True, Folds: 10\n",
      "RMSE: 0.8112716543249315\n",
      "RMSE: 0.8138867705850326\n",
      "RMSE: 0.8151026948932399\n",
      "RMSE: 0.8112323118427778\n",
      "RMSE: 0.8072462801263179\n",
      "RMSE: 0.8242223840957272\n",
      "RMSE: 0.8072125771925124\n",
      "RMSE: 0.8099465640124388\n",
      "RMSE: 0.8160387040113014\n",
      "RMSE: 0.8126307130411561\n",
      "RMSE upper Bound: 0.8242223840957272\n",
      "RMSE lower Bound: 0.8072125771925124\n"
     ]
    }
   ],
   "source": [
    "n = 25000\n",
    "folds = 10\n",
    "print(\"Testing for n= \"+str(n)+\", Mean: True\"+\", Folds: \"+str(folds))\n",
    "kreuzvalidiere(n, folds, mean=True)"
   ]
  },
  {
   "cell_type": "markdown",
   "metadata": {},
   "source": [
    "## Tuning for knn_metric"
   ]
  },
  {
   "cell_type": "code",
   "execution_count": 5,
   "metadata": {},
   "outputs": [
    {
     "name": "stdout",
     "output_type": "stream",
     "text": [
      "Testing for n= 100, Metric: 'cosine', Folds: 4\n",
      "RMSE: 0.8004467547482733\n",
      "RMSE: 0.9800473258505924\n",
      "RMSE: 0.8859917601047976\n",
      "RMSE: 0.7667533899233383\n",
      "RMSE upper Bound: 0.9800473258505924\n",
      "RMSE lower Bound: 0.7667533899233383\n"
     ]
    }
   ],
   "source": [
    "n = 100\n",
    "folds = 4\n",
    "print(\"Testing for n= \"+str(n)+\", Metric: 'cosine'\"+\", Folds: \"+str(folds))\n",
    "kreuzvalidiere(n, folds, knn_metric = 'cosine')"
   ]
  },
  {
   "cell_type": "code",
   "execution_count": null,
   "metadata": {},
   "outputs": [],
   "source": [
    "n = 25000\n",
    "folds = 10\n",
    "print(\"Testing for n= \"+str(n)+\", Metric: 'cosine'\"+\", Folds: \"+str(folds))\n",
    "kreuzvalidiere(n, folds, knn_metric = 'cosine')"
   ]
  },
  {
   "cell_type": "code",
   "execution_count": null,
   "metadata": {},
   "outputs": [],
   "source": [
    "n = 25000\n",
    "folds = 10\n",
    "print(\"Testing for n= \"+str(n)+\", Metric: 'minkowski'\"+\", Folds: \"+str(folds))\n",
    "kreuzvalidiere(n, folds, knn_metric = 'minkowski')"
   ]
  },
  {
   "cell_type": "markdown",
   "metadata": {},
   "source": [
    "## Tuning for k_neighbors"
   ]
  },
  {
   "cell_type": "code",
   "execution_count": null,
   "metadata": {},
   "outputs": [],
   "source": [
    "n = 100\n",
    "folds = 4\n",
    "print(\"Testing for n= \"+str(n)+\", set_k: False\"+\", Folds: \"+str(folds))\n",
    "kreuzvalidiere(n, folds, set_k=False)"
   ]
  },
  {
   "cell_type": "code",
   "execution_count": null,
   "metadata": {},
   "outputs": [],
   "source": [
    "n = 25000\n",
    "folds = 10\n",
    "print(\"Testing for n= \"+str(n)+\", set_k: False\"+\", Folds: \"+str(folds))\n",
    "kreuzvalidiere(n, folds, set_k=False)"
   ]
  },
  {
   "cell_type": "code",
   "execution_count": null,
   "metadata": {},
   "outputs": [],
   "source": [
    "n = 25000\n",
    "folds = 10\n",
    "for i in range(4,10):\n",
    "    print(\"Testing for n= \"+str(n)+\", set_k: True,\"+\"k= \"+str(i)+ \"Folds: \"+str(folds))\n",
    "    kreuzvalidiere(n, folds, set_k=True, k_neighbors=i)"
   ]
  },
  {
   "cell_type": "code",
   "execution_count": null,
   "metadata": {},
   "outputs": [],
   "source": [
    "n = 25000\n",
    "folds = 10\n",
    "for i in range(10,20):\n",
    "    print(\"Testing for n= \"+str(n)+\", set_k: True,\"+\"k= \"+str(i)+ \"Folds: \"+str(folds))\n",
    "    kreuzvalidiere(n, folds, set_k=True, k_neighbors=i)"
   ]
  },
  {
   "cell_type": "code",
   "execution_count": null,
   "metadata": {},
   "outputs": [],
   "source": [
    "n = 25000\n",
    "folds = 10\n",
    "for i in range(20,30):\n",
    "    print(\"Testing for n= \"+str(n)+\", set_k: True,\"+\"k= \"+str(i)+ \"Folds: \"+str(folds))\n",
    "    kreuzvalidiere(n, folds, set_k=True, k_neighbors=i)"
   ]
  },
  {
   "cell_type": "code",
   "execution_count": 3,
   "metadata": {},
   "outputs": [
    {
     "name": "stdout",
     "output_type": "stream",
     "text": [
      "Testing for n= 25000, set_k: False, k= sqrt(n)Folds: 10\n",
      "RMSE: 0.8108819503594531\n",
      "RMSE: 0.8139425257633317\n",
      "RMSE: 0.8104578954533992\n",
      "RMSE: 0.8180258913592309\n",
      "RMSE: 0.8112767943430366\n",
      "RMSE: 0.8133678078371134\n",
      "RMSE: 0.8160648537251654\n",
      "RMSE: 0.8053924750845168\n",
      "RMSE: 0.8137311172247427\n",
      "RMSE: 0.813224486801822\n",
      "RMSE upper Bound: 0.8180258913592309\n",
      "RMSE lower Bound: 0.8053924750845168\n"
     ]
    }
   ],
   "source": [
    "#Testing for k = sqrt(n) ->changed function for test to int(sqrt())\n",
    "n = 25000\n",
    "folds = 10\n",
    "print(\"Testing for n= \"+str(n)+\", set_k: False, k= sqrt(n)\"+ \"Folds: \"+str(folds))\n",
    "kreuzvalidiere(n, folds, set_k=False)"
   ]
  },
  {
   "cell_type": "markdown",
   "metadata": {},
   "source": [
    "## Tuning for input features"
   ]
  },
  {
   "cell_type": "code",
   "execution_count": 3,
   "metadata": {},
   "outputs": [],
   "source": [
    "init_data = get_data()"
   ]
  },
  {
   "cell_type": "code",
   "execution_count": 5,
   "metadata": {},
   "outputs": [
    {
     "name": "stdout",
     "output_type": "stream",
     "text": [
      "Testing for n= 25000, Features: ['imdbRating','Metacritic','RottenTomatoes','Awards','imdbVotes','Runtime','Year'], Folds: 6\n",
      "RMSE: 0.8156907087952867\n",
      "RMSE: 0.8147850340424856\n",
      "RMSE: 0.8117248365242943\n",
      "RMSE: 0.8136016717943373\n",
      "RMSE: 0.8143924548155408\n",
      "RMSE: 0.8018403567997943\n",
      "RMSE upper Bound: 0.8156907087952867\n",
      "RMSE lower Bound: 0.8018403567997943\n"
     ]
    }
   ],
   "source": [
    "#Testing top 7 features of PCA without genres\n",
    "n = 25000\n",
    "folds = 6\n",
    "data = init_data[['user_id','imdbID','rating','imdbRating','Metacritic','RottenTomatoes','Awards','imdbVotes','Runtime','Year']]\n",
    "print(\"Testing for n= \"+str(n)+\", Features: ['imdbRating','Metacritic','RottenTomatoes','Awards','imdbVotes','Runtime','Year'],\"+ \" Folds: \"+str(folds))\n",
    "kreuzvalidiere(n, folds, set_k=False, data=data)"
   ]
  },
  {
   "cell_type": "code",
   "execution_count": 6,
   "metadata": {},
   "outputs": [
    {
     "name": "stdout",
     "output_type": "stream",
     "text": [
      "Testing for n= 25000, Features: ['imdbRating','Metacritic','RottenTomatoes','Awards','imdbVotes','Runtime'], Folds: 6\n",
      "RMSE: 0.8078299659164158\n",
      "RMSE: 0.8127006685318212\n",
      "RMSE: 0.8076608812985635\n",
      "RMSE: 0.8110006929519168\n",
      "RMSE: 0.808547387424126\n",
      "RMSE: 0.8134418866779114\n",
      "RMSE upper Bound: 0.8134418866779114\n",
      "RMSE lower Bound: 0.8076608812985635\n"
     ]
    }
   ],
   "source": [
    "#Testing top 6 features of PCA\n",
    "n = 25000\n",
    "folds = 6\n",
    "data = init_data[['user_id','imdbID','rating','imdbRating','Metacritic','RottenTomatoes','Awards','imdbVotes','Runtime']]\n",
    "print(\"Testing for n= \"+str(n)+\", Features: ['imdbRating','Metacritic','RottenTomatoes','Awards','imdbVotes','Runtime'],\"+ \" Folds: \"+str(folds))\n",
    "kreuzvalidiere(n, folds, set_k=False, data=data)"
   ]
  },
  {
   "cell_type": "code",
   "execution_count": 7,
   "metadata": {},
   "outputs": [
    {
     "name": "stdout",
     "output_type": "stream",
     "text": [
      "Testing for n= 25000, Features: ['imdbRating','Metacritic','RottenTomatoes','Awards','imdbVotes'], Folds: 6\n",
      "RMSE: 0.8126204306820846\n",
      "RMSE: 0.8124221823716061\n",
      "RMSE: 0.8136117042462693\n",
      "RMSE: 0.8143337476468395\n",
      "RMSE: 0.8065899737812474\n",
      "RMSE: 0.8109207028577036\n",
      "RMSE upper Bound: 0.8143337476468395\n",
      "RMSE lower Bound: 0.8065899737812474\n"
     ]
    }
   ],
   "source": [
    "#Testing top 5 features of PCA\n",
    "n = 25000\n",
    "folds = 6\n",
    "data = init_data[['user_id','imdbID','rating','imdbRating','Metacritic','RottenTomatoes','Awards','imdbVotes']]\n",
    "print(\"Testing for n= \"+str(n)+\", Features: ['imdbRating','Metacritic','RottenTomatoes','Awards','imdbVotes'],\"+ \" Folds: \"+str(folds))\n",
    "kreuzvalidiere(n, folds, set_k=False, data=data)"
   ]
  },
  {
   "cell_type": "code",
   "execution_count": 8,
   "metadata": {},
   "outputs": [
    {
     "name": "stdout",
     "output_type": "stream",
     "text": [
      "Testing for n= 25000, Features: ['imdbRating','Metacritic','RottenTomatoes','Awards'], Folds: 6\n",
      "RMSE: 0.8067276469596564\n",
      "RMSE: 0.8157612957334184\n",
      "RMSE: 0.8051272572311773\n",
      "RMSE: 0.8052960462359586\n",
      "RMSE: 0.8132469435857358\n",
      "RMSE: 0.8060394144318678\n",
      "RMSE upper Bound: 0.8157612957334184\n",
      "RMSE lower Bound: 0.8051272572311773\n"
     ]
    }
   ],
   "source": [
    "#Testing top 4 features of PCA #Overfitting?\n",
    "n = 25000\n",
    "folds = 6\n",
    "data = init_data[['user_id','imdbID','rating','imdbRating','Metacritic','RottenTomatoes','Awards']]\n",
    "print(\"Testing for n= \"+str(n)+\", Features: ['imdbRating','Metacritic','RottenTomatoes','Awards'],\"+ \" Folds: \"+str(folds))\n",
    "kreuzvalidiere(n, folds, set_k=False, data=data)"
   ]
  },
  {
   "cell_type": "code",
   "execution_count": 9,
   "metadata": {},
   "outputs": [
    {
     "name": "stdout",
     "output_type": "stream",
     "text": [
      "Testing for n= 25000, Features: ['imdbRating','Metacritic','RottenTomatoes'], Folds: 6\n",
      "RMSE: 0.8186969891387754\n",
      "RMSE: 0.8117342636926391\n",
      "RMSE: 0.813796849062147\n",
      "RMSE: 0.8114068295449239\n",
      "RMSE: 0.8099268368368102\n",
      "RMSE: 0.8080272028868583\n",
      "RMSE upper Bound: 0.8186969891387754\n",
      "RMSE lower Bound: 0.8080272028868583\n"
     ]
    }
   ],
   "source": [
    "#Testing top 3 features of PCA #Overfitting?\n",
    "n = 25000\n",
    "folds = 6\n",
    "data = init_data[['user_id','imdbID','rating','imdbRating','Metacritic','RottenTomatoes']]\n",
    "print(\"Testing for n= \"+str(n)+\", Features: ['imdbRating','Metacritic','RottenTomatoes'],\"+ \" Folds: \"+str(folds))\n",
    "kreuzvalidiere(n, folds, set_k=False, data=data)"
   ]
  },
  {
   "cell_type": "code",
   "execution_count": 10,
   "metadata": {},
   "outputs": [
    {
     "name": "stdout",
     "output_type": "stream",
     "text": [
      "Testing for n= 25000, Features: ['Genres'], Folds: 6\n",
      "RMSE: 0.8164999159709324\n",
      "RMSE: 0.8068043484836593\n",
      "RMSE: 0.8096442497202567\n",
      "RMSE: 0.8119043229662339\n",
      "RMSE: 0.8129717864334833\n",
      "RMSE: 0.8097118192083863\n",
      "RMSE upper Bound: 0.8164999159709324\n",
      "RMSE lower Bound: 0.8068043484836593\n"
     ]
    }
   ],
   "source": [
    "# Test only genres\n",
    "data = init_data.drop(columns={'imdbRating','Metacritic','RottenTomatoes','Awards','imdbVotes','Runtime','Year'})\n",
    "n = 25000\n",
    "folds = 6\n",
    "print(\"Testing for n= \"+str(n)+\", Features: ['Genres'],\"+ \" Folds: \"+str(folds))\n",
    "kreuzvalidiere(n, folds, set_k=False, data=data)"
   ]
  },
  {
   "cell_type": "code",
   "execution_count": 14,
   "metadata": {},
   "outputs": [
    {
     "name": "stdout",
     "output_type": "stream",
     "text": [
      "Testing for n= 25000, Features: ['All'], Folds: 10\n",
      "        user_id    imdbID  rating    Year  Runtime  imdbRating  imdbVotes  \\\n",
      "0        1264.0   47034.0     3.5  1954.0     96.0         7.6    27485.0   \n",
      "1         981.0   47034.0     3.5  1954.0     96.0         7.6    27485.0   \n",
      "2         481.0   47034.0     1.0  1954.0     96.0         7.6    27485.0   \n",
      "3          98.0   47034.0     2.5  1954.0     96.0         7.6    27485.0   \n",
      "4         249.0   47034.0     4.0  1954.0     96.0         7.6    27485.0   \n",
      "...         ...       ...     ...     ...      ...         ...        ...   \n",
      "787536    243.0   47376.0     3.0  1954.0    100.0         6.5     1813.0   \n",
      "787537    417.0   43132.0     4.0  1950.0     95.0         7.6     7217.0   \n",
      "787538    379.0   81433.0     3.0  1980.0    106.0         5.2     1048.0   \n",
      "787539    279.0  295480.0     1.0  2001.0     95.0         6.5      156.0   \n",
      "787540    312.0  298072.0     4.0  2001.0     70.0         7.0       70.0   \n",
      "\n",
      "        RottenTomatoes  Metacritic  Awards  ...  10  11  12  13  14  15  16  \\\n",
      "0             9.300000    7.800000     0.0  ...   1   0   0   0   0   1   0   \n",
      "1             9.300000    7.800000     0.0  ...   1   0   0   0   0   1   0   \n",
      "2             9.300000    7.800000     0.0  ...   1   0   0   0   0   1   0   \n",
      "3             9.300000    7.800000     0.0  ...   1   0   0   0   0   1   0   \n",
      "4             9.300000    7.800000     0.0  ...   1   0   0   0   0   1   0   \n",
      "...                ...         ...     ...  ...  ..  ..  ..  ..  ..  ..  ..   \n",
      "787536        6.203849    5.779918     0.0  ...   0   0   0   0   0   0   0   \n",
      "787537       10.000000    5.779918     0.0  ...   0   0   0   0   0   0   0   \n",
      "787538        1.400000    5.779918     0.0  ...   0   0   1   0   0   0   0   \n",
      "787539        5.500000    5.500000     0.0  ...   0   0   0   0   0   0   0   \n",
      "787540        6.600000    6.600000     0.0  ...   0   0   0   0   0   0   0   \n",
      "\n",
      "        17  18  19  \n",
      "0        0   0   0  \n",
      "1        0   0   0  \n",
      "2        0   0   0  \n",
      "3        0   0   0  \n",
      "4        0   0   0  \n",
      "...     ..  ..  ..  \n",
      "787536   0   1   0  \n",
      "787537   0   0   0  \n",
      "787538   0   0   0  \n",
      "787539   0   0   0  \n",
      "787540   0   0   0  \n",
      "\n",
      "[787541 rows x 30 columns]\n",
      "RMSE: 0.8134496005116092\n",
      "RMSE: 0.815444363979518\n",
      "RMSE: 0.8159067460891016\n",
      "RMSE: 0.8121988554786492\n",
      "RMSE: 0.8074583815867205\n",
      "RMSE: 0.8094581462955864\n",
      "RMSE: 0.8103728153795314\n",
      "RMSE: 0.8127108916708322\n",
      "RMSE: 0.8163647091708751\n",
      "RMSE: 0.8106503387624214\n",
      "RMSE upper Bound: 0.8163647091708751\n",
      "RMSE lower Bound: 0.8074583815867205\n"
     ]
    }
   ],
   "source": [
    "# Test all\n",
    "n = 25000\n",
    "folds = 10\n",
    "print(\"Testing for n= \"+str(n)+\", Features: ['All'],\"+ \" Folds: \"+str(folds))\n",
    "print(init_data)\n",
    "kreuzvalidiere(n, folds, set_k=False, data=init_data)"
   ]
  },
  {
   "cell_type": "code",
   "execution_count": null,
   "metadata": {},
   "outputs": [],
   "source": []
  }
 ],
 "metadata": {
  "kernelspec": {
   "display_name": "bda-analytics-challenge-ss2020",
   "language": "python",
   "name": "bda-analytics-challenge-ss2020"
  },
  "language_info": {
   "codemirror_mode": {
    "name": "ipython",
    "version": 3
   },
   "file_extension": ".py",
   "mimetype": "text/x-python",
   "name": "python",
   "nbconvert_exporter": "python",
   "pygments_lexer": "ipython3",
   "version": "3.8.3"
  }
 },
 "nbformat": 4,
 "nbformat_minor": 4
}
