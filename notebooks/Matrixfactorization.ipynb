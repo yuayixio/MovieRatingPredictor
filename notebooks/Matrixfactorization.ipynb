{
 "cells": [
  {
   "cell_type": "markdown",
   "metadata": {},
   "source": [
    "# Matrixfactorization"
   ]
  },
  {
   "cell_type": "code",
   "execution_count": null,
   "metadata": {},
   "outputs": [],
   "source": [
    "# Load Datasets\n",
    "movies = pd.read_csv('../data/raw/movies.csv', sep=',')\n",
    "actors = pd.read_csv('../data/raw/actors.csv', sep=',')\n",
    "countries = pd.read_csv('../data/raw/countries.csv', sep=',')\n",
    "directors = pd.read_csv('../data/raw/directors.csv', sep=',')\n",
    "genres = pd.read_csv('../data/raw/genres.csv', sep=',')\n",
    "locations = pd.read_csv('../data/raw/locations.csv', sep=',')\n",
    "movie_tags = pd.read_csv('../data/raw/movie_tags.csv', sep=',')\n",
    "ratings = pd.read_csv('../data/raw/ratings.csv', sep=',')\n",
    "tags =  pd.read_csv('../data/raw/tags.csv', sep=',')"
   ]
  },
  {
   "cell_type": "code",
   "execution_count": null,
   "metadata": {},
   "outputs": [],
   "source": []
  },
  {
   "cell_type": "code",
   "execution_count": null,
   "metadata": {},
   "outputs": [],
   "source": [
    "#getting user id and appending to list\n",
    "#getting item value and appending to list\n",
    "#getting rating value and appending to list\n",
    "\n",
    "user_data=[]\n",
    "item_data=[]\n",
    "ratings=[]\n",
    "for i in range(data.shape[0]):\n",
    "    user=(data['user_id'].iloc[i])                \n",
    "    item=(data['item_id'].iloc[i])               \n",
    "    rat=(data['rating'].iloc[i])                  \n",
    "    user_data.append(user)\n",
    "    item_data.append(item)\n",
    "    ratings.append(rat)"
   ]
  }
 ],
 "metadata": {
  "kernelspec": {
   "display_name": "bda-analytics-challenge-ss2020",
   "language": "python",
   "name": "bda-analytics-challenge-ss2020"
  },
  "language_info": {
   "codemirror_mode": {
    "name": "ipython",
    "version": 3
   },
   "file_extension": ".py",
   "mimetype": "text/x-python",
   "name": "python",
   "nbconvert_exporter": "python",
   "pygments_lexer": "ipython3",
   "version": "3.8.2"
  }
 },
 "nbformat": 4,
 "nbformat_minor": 4
}
