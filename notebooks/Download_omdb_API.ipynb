{
 "cells": [
  {
   "cell_type": "code",
   "execution_count": 1,
   "metadata": {},
   "outputs": [],
   "source": [
    "import pandas as pd\n",
    "import numpy as np\n",
    "import requests"
   ]
  },
  {
   "cell_type": "code",
   "execution_count": 2,
   "metadata": {},
   "outputs": [],
   "source": [
    "movies = pd.read_csv('../data/preprocessed/movies_id_updated.csv')"
   ]
  },
  {
   "cell_type": "code",
   "execution_count": 3,
   "metadata": {},
   "outputs": [
    {
     "data": {
      "text/html": [
       "<div>\n",
       "<style scoped>\n",
       "    .dataframe tbody tr th:only-of-type {\n",
       "        vertical-align: middle;\n",
       "    }\n",
       "\n",
       "    .dataframe tbody tr th {\n",
       "        vertical-align: top;\n",
       "    }\n",
       "\n",
       "    .dataframe thead th {\n",
       "        text-align: right;\n",
       "    }\n",
       "</style>\n",
       "<table border=\"1\" class=\"dataframe\">\n",
       "  <thead>\n",
       "    <tr style=\"text-align: right;\">\n",
       "      <th></th>\n",
       "      <th>id</th>\n",
       "      <th>title</th>\n",
       "      <th>imdbID</th>\n",
       "      <th>spanishTitle</th>\n",
       "      <th>imdbPictureURL</th>\n",
       "      <th>year</th>\n",
       "      <th>rtID</th>\n",
       "      <th>rtPictureURL</th>\n",
       "    </tr>\n",
       "  </thead>\n",
       "  <tbody>\n",
       "    <tr>\n",
       "      <th>0</th>\n",
       "      <td>1</td>\n",
       "      <td>Toy story</td>\n",
       "      <td>tt0114709</td>\n",
       "      <td>Toy story (juguetes)</td>\n",
       "      <td>http://ia.media-imdb.com/images/M/MV5BMTMwNDU0...</td>\n",
       "      <td>1995.0</td>\n",
       "      <td>toy_story</td>\n",
       "      <td>http://content7.flixster.com/movie/10/93/63/10...</td>\n",
       "    </tr>\n",
       "    <tr>\n",
       "      <th>1</th>\n",
       "      <td>2</td>\n",
       "      <td>Jumanji</td>\n",
       "      <td>tt0113497</td>\n",
       "      <td>Jumanji</td>\n",
       "      <td>http://ia.media-imdb.com/images/M/MV5BMzM5NjE1...</td>\n",
       "      <td>1995.0</td>\n",
       "      <td>1068044-jumanji</td>\n",
       "      <td>http://content8.flixster.com/movie/56/79/73/56...</td>\n",
       "    </tr>\n",
       "    <tr>\n",
       "      <th>2</th>\n",
       "      <td>3</td>\n",
       "      <td>Grumpy Old Men</td>\n",
       "      <td>tt0107050</td>\n",
       "      <td>Dos viejos gruñones</td>\n",
       "      <td>http://ia.media-imdb.com/images/M/MV5BMTI5MTgy...</td>\n",
       "      <td>1993.0</td>\n",
       "      <td>grumpy_old_men</td>\n",
       "      <td>http://content6.flixster.com/movie/25/60/25602...</td>\n",
       "    </tr>\n",
       "    <tr>\n",
       "      <th>3</th>\n",
       "      <td>4</td>\n",
       "      <td>Waiting to Exhale</td>\n",
       "      <td>tt0114885</td>\n",
       "      <td>Esperando un respiro</td>\n",
       "      <td>http://ia.media-imdb.com/images/M/MV5BMTczMTMy...</td>\n",
       "      <td>1995.0</td>\n",
       "      <td>waiting_to_exhale</td>\n",
       "      <td>http://content9.flixster.com/movie/10/94/17/10...</td>\n",
       "    </tr>\n",
       "    <tr>\n",
       "      <th>4</th>\n",
       "      <td>5</td>\n",
       "      <td>Father of the Bride Part II</td>\n",
       "      <td>tt0113041</td>\n",
       "      <td>Vuelve el padre de la novia (Ahora también abu...</td>\n",
       "      <td>http://ia.media-imdb.com/images/M/MV5BMTg1NDc2...</td>\n",
       "      <td>1995.0</td>\n",
       "      <td>father_of_the_bride_part_ii</td>\n",
       "      <td>http://content8.flixster.com/movie/25/54/25542...</td>\n",
       "    </tr>\n",
       "    <tr>\n",
       "      <th>...</th>\n",
       "      <td>...</td>\n",
       "      <td>...</td>\n",
       "      <td>...</td>\n",
       "      <td>...</td>\n",
       "      <td>...</td>\n",
       "      <td>...</td>\n",
       "      <td>...</td>\n",
       "      <td>...</td>\n",
       "    </tr>\n",
       "    <tr>\n",
       "      <th>10192</th>\n",
       "      <td>65088</td>\n",
       "      <td>Bedtime Stories</td>\n",
       "      <td>tt0960731</td>\n",
       "      <td>Más allá de los sueños</td>\n",
       "      <td>http://ia.media-imdb.com/images/M/MV5BMjA5Njk5...</td>\n",
       "      <td>2008.0</td>\n",
       "      <td>bedtime_stories</td>\n",
       "      <td>http://content6.flixster.com/movie/10/94/33/10...</td>\n",
       "    </tr>\n",
       "    <tr>\n",
       "      <th>10193</th>\n",
       "      <td>65091</td>\n",
       "      <td>Manhattan Melodrama</td>\n",
       "      <td>tt0025464</td>\n",
       "      <td>El enemigo público número 1</td>\n",
       "      <td>http://ia.media-imdb.com/images/M/MV5BMTUyODE3...</td>\n",
       "      <td>1934.0</td>\n",
       "      <td>manhattan_melodrama</td>\n",
       "      <td>http://content9.flixster.com/movie/66/44/64/66...</td>\n",
       "    </tr>\n",
       "    <tr>\n",
       "      <th>10194</th>\n",
       "      <td>65126</td>\n",
       "      <td>Choke</td>\n",
       "      <td>tt1024715</td>\n",
       "      <td>Choke</td>\n",
       "      <td>http://ia.media-imdb.com/images/M/MV5BMTMxMDI4...</td>\n",
       "      <td>2008.0</td>\n",
       "      <td>choke</td>\n",
       "      <td>http://content6.flixster.com/movie/10/85/09/10...</td>\n",
       "    </tr>\n",
       "    <tr>\n",
       "      <th>10195</th>\n",
       "      <td>65130</td>\n",
       "      <td>Revolutionary Road</td>\n",
       "      <td>tt0959337</td>\n",
       "      <td>Revolutionary Road</td>\n",
       "      <td>http://ia.media-imdb.com/images/M/MV5BMTI2MzY2...</td>\n",
       "      <td>2008.0</td>\n",
       "      <td>revolutionary_road</td>\n",
       "      <td>http://content8.flixster.com/movie/10/88/40/10...</td>\n",
       "    </tr>\n",
       "    <tr>\n",
       "      <th>10196</th>\n",
       "      <td>65133</td>\n",
       "      <td>Blackadder Back &amp; Forth</td>\n",
       "      <td>tt0212579</td>\n",
       "      <td>Blackadder Back &amp; Forth</td>\n",
       "      <td>http://ia.media-imdb.com/images/M/MV5BMjA5MjU4...</td>\n",
       "      <td>1999.0</td>\n",
       "      <td>blackadder-back-forth</td>\n",
       "      <td>http://content7.flixster.com/movie/34/10/69/34...</td>\n",
       "    </tr>\n",
       "  </tbody>\n",
       "</table>\n",
       "<p>10197 rows × 8 columns</p>\n",
       "</div>"
      ],
      "text/plain": [
       "          id                        title     imdbID  \\\n",
       "0          1                    Toy story  tt0114709   \n",
       "1          2                      Jumanji  tt0113497   \n",
       "2          3               Grumpy Old Men  tt0107050   \n",
       "3          4            Waiting to Exhale  tt0114885   \n",
       "4          5  Father of the Bride Part II  tt0113041   \n",
       "...      ...                          ...        ...   \n",
       "10192  65088              Bedtime Stories  tt0960731   \n",
       "10193  65091          Manhattan Melodrama  tt0025464   \n",
       "10194  65126                        Choke  tt1024715   \n",
       "10195  65130           Revolutionary Road  tt0959337   \n",
       "10196  65133      Blackadder Back & Forth  tt0212579   \n",
       "\n",
       "                                            spanishTitle  \\\n",
       "0                                   Toy story (juguetes)   \n",
       "1                                                Jumanji   \n",
       "2                                    Dos viejos gruñones   \n",
       "3                                   Esperando un respiro   \n",
       "4      Vuelve el padre de la novia (Ahora también abu...   \n",
       "...                                                  ...   \n",
       "10192                             Más allá de los sueños   \n",
       "10193                        El enemigo público número 1   \n",
       "10194                                              Choke   \n",
       "10195                                 Revolutionary Road   \n",
       "10196                            Blackadder Back & Forth   \n",
       "\n",
       "                                          imdbPictureURL    year  \\\n",
       "0      http://ia.media-imdb.com/images/M/MV5BMTMwNDU0...  1995.0   \n",
       "1      http://ia.media-imdb.com/images/M/MV5BMzM5NjE1...  1995.0   \n",
       "2      http://ia.media-imdb.com/images/M/MV5BMTI5MTgy...  1993.0   \n",
       "3      http://ia.media-imdb.com/images/M/MV5BMTczMTMy...  1995.0   \n",
       "4      http://ia.media-imdb.com/images/M/MV5BMTg1NDc2...  1995.0   \n",
       "...                                                  ...     ...   \n",
       "10192  http://ia.media-imdb.com/images/M/MV5BMjA5Njk5...  2008.0   \n",
       "10193  http://ia.media-imdb.com/images/M/MV5BMTUyODE3...  1934.0   \n",
       "10194  http://ia.media-imdb.com/images/M/MV5BMTMxMDI4...  2008.0   \n",
       "10195  http://ia.media-imdb.com/images/M/MV5BMTI2MzY2...  2008.0   \n",
       "10196  http://ia.media-imdb.com/images/M/MV5BMjA5MjU4...  1999.0   \n",
       "\n",
       "                              rtID  \\\n",
       "0                        toy_story   \n",
       "1                  1068044-jumanji   \n",
       "2                   grumpy_old_men   \n",
       "3                waiting_to_exhale   \n",
       "4      father_of_the_bride_part_ii   \n",
       "...                            ...   \n",
       "10192              bedtime_stories   \n",
       "10193          manhattan_melodrama   \n",
       "10194                        choke   \n",
       "10195           revolutionary_road   \n",
       "10196        blackadder-back-forth   \n",
       "\n",
       "                                            rtPictureURL  \n",
       "0      http://content7.flixster.com/movie/10/93/63/10...  \n",
       "1      http://content8.flixster.com/movie/56/79/73/56...  \n",
       "2      http://content6.flixster.com/movie/25/60/25602...  \n",
       "3      http://content9.flixster.com/movie/10/94/17/10...  \n",
       "4      http://content8.flixster.com/movie/25/54/25542...  \n",
       "...                                                  ...  \n",
       "10192  http://content6.flixster.com/movie/10/94/33/10...  \n",
       "10193  http://content9.flixster.com/movie/66/44/64/66...  \n",
       "10194  http://content6.flixster.com/movie/10/85/09/10...  \n",
       "10195  http://content8.flixster.com/movie/10/88/40/10...  \n",
       "10196  http://content7.flixster.com/movie/34/10/69/34...  \n",
       "\n",
       "[10197 rows x 8 columns]"
      ]
     },
     "execution_count": 3,
     "metadata": {},
     "output_type": "execute_result"
    }
   ],
   "source": [
    "movies"
   ]
  },
  {
   "cell_type": "code",
   "execution_count": 4,
   "metadata": {},
   "outputs": [],
   "source": [
    "def get_features(api_key, ID):\n",
    "    \"\"\"\n",
    "    api_key: key for accessing the API\n",
    "    ID: selects which slice of IDs to download\n",
    "    \"\"\"\n",
    "    omdb_features = pd.DataFrame()    \n",
    "    counter = 0\n",
    "    # iterate over each 900 imdb IDs, specified by param ID\n",
    "    for i in movies['imdbID'][ID*900:(ID+1)*900]:\n",
    "        try:\n",
    "            # make request to omdb API\n",
    "            #print(\"Request for: imdbID\" +str(i))\n",
    "            req = requests.get('http://www.omdbapi.com/?apikey='+api_key+'&i='+i)\n",
    "            # convert into json\n",
    "            data = req.json()\n",
    "            # convert into dataframe\n",
    "            feature = pd.DataFrame(data)\n",
    "            # Several ratings are available in column 'Ratings' (max 3) which creates a row for each rating: Select each rating, create individual column and add to feature dataframe \n",
    "            \n",
    "            if (len(feature['Ratings'])>0):\n",
    "                dummy = pd.DataFrame(feature['Ratings'][0], index=[0]).pivot(columns='Source', values='Value')\n",
    "                for k in range(1,feature.shape[0]):\n",
    "                    dummy = dummy.join(pd.DataFrame(feature['Ratings'][k], index=[0]).pivot(columns='Source', values='Value'))\n",
    "                feature = feature.head(1).join(dummy)\n",
    "            \n",
    "            # delete unnecessary column\n",
    "            del feature['Ratings']\n",
    "            # append to large df\n",
    "            omdb_features = omdb_features.append(feature)\n",
    "            counter+=1\n",
    "            if counter % 100 == 0 :\n",
    "                print('number of retrieved IDs: ', counter)\n",
    "        except ValueError:\n",
    "            print('No entry found for ID ',i)\n",
    "            print(data)\n",
    "            counter+=1\n",
    "\n",
    "    # rename columns\n",
    "    feature.rename(columns={'Internet Movie Database':'Rating_IMDB', 'Rotten Tomatoes': 'Rating_Rotten_Tomatoes', 'Metacritic':'Rating_Metacritic'})\n",
    "    # save to csv, according to which part of the IDs\n",
    "    omdb_features.to_csv('../data/raw/omdb_'+str(ID)+'.csv')"
   ]
  },
  {
   "cell_type": "markdown",
   "metadata": {},
   "source": [
    "Insert your api key and run one cell a day"
   ]
  },
  {
   "cell_type": "markdown",
   "metadata": {},
   "source": [
    "Max: ID 0-2"
   ]
  },
  {
   "cell_type": "code",
   "execution_count": 42,
   "metadata": {},
   "outputs": [
    {
     "name": "stdout",
     "output_type": "stream",
     "text": [
      "number of retrieved IDs:  100\n",
      "number of retrieved IDs:  200\n",
      "number of retrieved IDs:  300\n",
      "number of retrieved IDs:  400\n",
      "number of retrieved IDs:  500\n",
      "number of retrieved IDs:  600\n",
      "number of retrieved IDs:  700\n",
      "number of retrieved IDs:  800\n",
      "number of retrieved IDs:  900\n"
     ]
    }
   ],
   "source": [
    "get_features(api_key='57aa589f', ID=0)"
   ]
  },
  {
   "cell_type": "code",
   "execution_count": 5,
   "metadata": {},
   "outputs": [
    {
     "name": "stdout",
     "output_type": "stream",
     "text": [
      "number of retrieved IDs:  100\n",
      "number of retrieved IDs:  200\n",
      "number of retrieved IDs:  300\n",
      "number of retrieved IDs:  400\n",
      "number of retrieved IDs:  500\n",
      "number of retrieved IDs:  600\n",
      "number of retrieved IDs:  700\n",
      "number of retrieved IDs:  800\n",
      "number of retrieved IDs:  900\n"
     ]
    }
   ],
   "source": [
    "get_features(api_key = '57aa589f', ID=1)"
   ]
  },
  {
   "cell_type": "code",
   "execution_count": 10,
   "metadata": {},
   "outputs": [
    {
     "name": "stdout",
     "output_type": "stream",
     "text": [
      "number of retrieved IDs:  100\n",
      "number of retrieved IDs:  200\n",
      "number of retrieved IDs:  300\n",
      "No entry found for ID  tt0800175\n",
      "number of retrieved IDs:  400\n",
      "number of retrieved IDs:  500\n",
      "number of retrieved IDs:  600\n",
      "number of retrieved IDs:  700\n",
      "number of retrieved IDs:  800\n"
     ]
    }
   ],
   "source": [
    "get_features(api_key = '694aa939', ID=2)"
   ]
  },
  {
   "cell_type": "code",
   "execution_count": 6,
   "metadata": {},
   "outputs": [
    {
     "name": "stdout",
     "output_type": "stream",
     "text": [
      "number of retrieved IDs:  100\n",
      "number of retrieved IDs:  200\n",
      "number of retrieved IDs:  300\n",
      "number of retrieved IDs:  400\n",
      "number of retrieved IDs:  500\n",
      "number of retrieved IDs:  600\n",
      "number of retrieved IDs:  700\n",
      "number of retrieved IDs:  800\n",
      "number of retrieved IDs:  900\n"
     ]
    }
   ],
   "source": [
    "#troubleshooting\n",
    "get_features(api_key = 'ff8f29d6', ID=9)"
   ]
  },
  {
   "cell_type": "raw",
   "metadata": {
    "pycharm": {
     "name": "#%% raw\n"
    }
   },
   "source": [
    "Flo: ID 3-5"
   ]
  },
  {
   "cell_type": "code",
   "execution_count": 5,
   "metadata": {},
   "outputs": [
    {
     "name": "stderr",
     "output_type": "stream",
     "text": [
      "/Users/FlorianGrabe/opt/anaconda3/lib/python3.7/site-packages/pandas/core/frame.py:7123: FutureWarning: Sorting because non-concatenation axis is not aligned. A future version\n",
      "of pandas will change to not sort by default.\n",
      "\n",
      "To accept the future behavior, pass 'sort=False'.\n",
      "\n",
      "To retain the current behavior and silence the warning, pass 'sort=True'.\n",
      "\n",
      "  sort=sort,\n"
     ]
    },
    {
     "name": "stdout",
     "output_type": "stream",
     "text": [
      "number of retrieved IDs:  100\n",
      "number of retrieved IDs:  200\n",
      "number of retrieved IDs:  300\n",
      "number of retrieved IDs:  400\n",
      "number of retrieved IDs:  500\n",
      "number of retrieved IDs:  600\n",
      "number of retrieved IDs:  700\n",
      "number of retrieved IDs:  800\n",
      "number of retrieved IDs:  900\n"
     ]
    }
   ],
   "source": [
    "get_features(api_key = 'e1382141', ID=3, sort='True')"
   ]
  },
  {
   "cell_type": "code",
   "execution_count": 12,
   "metadata": {},
   "outputs": [
    {
     "name": "stdout",
     "output_type": "stream",
     "text": [
      "number of retrieved IDs:  100\n",
      "number of retrieved IDs:  200\n",
      "number of retrieved IDs:  300\n",
      "number of retrieved IDs:  400\n",
      "number of retrieved IDs:  500\n",
      "number of retrieved IDs:  600\n",
      "number of retrieved IDs:  700\n",
      "number of retrieved IDs:  800\n",
      "number of retrieved IDs:  900\n"
     ]
    }
   ],
   "source": [
    "get_features(api_key = 'e1382141', ID=4)"
   ]
  },
  {
   "cell_type": "code",
   "execution_count": 46,
   "metadata": {},
   "outputs": [
    {
     "name": "stdout",
     "output_type": "stream",
     "text": [
      "number of retrieved IDs:  100\n",
      "number of retrieved IDs:  200\n",
      "number of retrieved IDs:  300\n",
      "number of retrieved IDs:  400\n",
      "number of retrieved IDs:  500\n",
      "number of retrieved IDs:  600\n",
      "number of retrieved IDs:  700\n",
      "number of retrieved IDs:  800\n",
      "number of retrieved IDs:  900\n"
     ]
    }
   ],
   "source": [
    "get_features(api_key = 'e1382141', ID=5)"
   ]
  },
  {
   "cell_type": "markdown",
   "metadata": {},
   "source": [
    "Felix: ID 6-7"
   ]
  },
  {
   "cell_type": "code",
   "execution_count": 8,
   "metadata": {},
   "outputs": [
    {
     "name": "stdout",
     "output_type": "stream",
     "text": [
      "number of retrieved IDs:  100\n",
      "number of retrieved IDs:  200\n",
      "number of retrieved IDs:  300\n",
      "number of retrieved IDs:  400\n",
      "number of retrieved IDs:  500\n",
      "number of retrieved IDs:  600\n",
      "number of retrieved IDs:  700\n",
      "number of retrieved IDs:  800\n",
      "number of retrieved IDs:  900\n"
     ]
    }
   ],
   "source": [
    "get_features(api_key = '57aa589f', ID=6)"
   ]
  },
  {
   "cell_type": "code",
   "execution_count": 9,
   "metadata": {},
   "outputs": [
    {
     "name": "stdout",
     "output_type": "stream",
     "text": [
      "number of retrieved IDs:  100\n",
      "number of retrieved IDs:  200\n",
      "number of retrieved IDs:  300\n",
      "number of retrieved IDs:  400\n",
      "number of retrieved IDs:  500\n",
      "number of retrieved IDs:  600\n",
      "number of retrieved IDs:  700\n",
      "number of retrieved IDs:  800\n",
      "number of retrieved IDs:  900\n"
     ]
    }
   ],
   "source": [
    "get_features(api_key = '694aa939', ID=7)"
   ]
  },
  {
   "cell_type": "markdown",
   "metadata": {},
   "source": [
    "Christin: ID 8-9"
   ]
  },
  {
   "cell_type": "code",
   "execution_count": 6,
   "metadata": {},
   "outputs": [
    {
     "name": "stdout",
     "output_type": "stream",
     "text": [
      "number of retrieved IDs:  100\n",
      "No entry found for ID  tt0054462\n",
      "number of retrieved IDs:  200\n",
      "number of retrieved IDs:  300\n",
      "number of retrieved IDs:  400\n",
      "number of retrieved IDs:  500\n",
      "number of retrieved IDs:  600\n",
      "number of retrieved IDs:  700\n",
      "number of retrieved IDs:  800\n",
      "No entry found for ID  tt0439663\n",
      "number of retrieved IDs:  900\n"
     ]
    }
   ],
   "source": [
    "get_features(api_key = 'ff8f29d6', ID=8)"
   ]
  },
  {
   "cell_type": "code",
   "execution_count": 5,
   "metadata": {},
   "outputs": [
    {
     "name": "stdout",
     "output_type": "stream",
     "text": [
      "number of retrieved IDs:  100\n",
      "number of retrieved IDs:  200\n",
      "number of retrieved IDs:  300\n",
      "number of retrieved IDs:  400\n",
      "number of retrieved IDs:  500\n",
      "number of retrieved IDs:  600\n",
      "number of retrieved IDs:  700\n",
      "number of retrieved IDs:  800\n",
      "number of retrieved IDs:  900\n"
     ]
    }
   ],
   "source": [
    "get_features(api_key = 'ff8f29d6', ID=9)"
   ]
  },
  {
   "cell_type": "markdown",
   "metadata": {},
   "source": [
    "Carmen: ID 10-11"
   ]
  },
  {
   "cell_type": "code",
   "execution_count": 5,
   "metadata": {},
   "outputs": [
    {
     "name": "stdout",
     "output_type": "stream",
     "text": [
      "number of retrieved IDs:  100\n",
      "number of retrieved IDs:  200\n",
      "number of retrieved IDs:  300\n",
      "number of retrieved IDs:  400\n",
      "number of retrieved IDs:  500\n",
      "number of retrieved IDs:  600\n",
      "number of retrieved IDs:  700\n",
      "number of retrieved IDs:  800\n",
      "number of retrieved IDs:  900\n"
     ]
    }
   ],
   "source": [
    "get_features(api_key = '4c3b1f8c', ID=10)"
   ]
  },
  {
   "cell_type": "code",
   "execution_count": 7,
   "metadata": {},
   "outputs": [
    {
     "name": "stdout",
     "output_type": "stream",
     "text": [
      "number of retrieved IDs:  100\n",
      "number of retrieved IDs:  200\n"
     ]
    }
   ],
   "source": [
    "get_features(api_key = '4c3b1f8c', ID=11)"
   ]
  },
  {
   "cell_type": "markdown",
   "metadata": {},
   "source": [
    "Get three not available IDs"
   ]
  },
  {
   "cell_type": "code",
   "execution_count": 10,
   "metadata": {},
   "outputs": [
    {
     "name": "stdout",
     "output_type": "stream",
     "text": [
      "No entry found for ID  tt0800175\n",
      "{'Response': 'False', 'Error': 'Error getting data.'}\n",
      "No entry found for ID  tt0439663\n",
      "{'Response': 'False', 'Error': 'Error getting data.'}\n"
     ]
    }
   ],
   "source": [
    "omdb_features = pd.DataFrame()    \n",
    "counter = 0\n",
    "# iterate over the three not available movies\n",
    "for i in ['tt0800175', 'tt0054462', 'tt0439663']:\n",
    "    try:\n",
    "        # make request to omdb API\n",
    "        #print(\"Request for: imdbID\" +str(i))\n",
    "        req = requests.get('http://www.omdbapi.com/?apikey=e1382141&i='+i)\n",
    "        # convert into json\n",
    "        data = req.json()\n",
    "        # convert into dataframe\n",
    "        feature = pd.DataFrame(data)\n",
    "        # Several ratings are available in column 'Ratings' (max 3) which creates a row for each rating: Select each rating, create individual column and add to feature dataframe \n",
    "\n",
    "        if (len(feature['Ratings'])>0):\n",
    "            dummy = pd.DataFrame(feature['Ratings'][0], index=[0]).pivot(columns='Source', values='Value')\n",
    "            for k in range(1,feature.shape[0]):\n",
    "                dummy = dummy.join(pd.DataFrame(feature['Ratings'][k], index=[0]).pivot(columns='Source', values='Value'))\n",
    "            feature = feature.head(1).join(dummy)\n",
    "\n",
    "        # delete unnecessary column\n",
    "        del feature['Ratings']\n",
    "        # append to large df\n",
    "        omdb_features = omdb_features.append(feature)\n",
    "        counter+=1\n",
    "        if counter % 100 == 0 :\n",
    "            print('number of retrieved IDs: ', counter)\n",
    "    except ValueError:\n",
    "        print('No entry found for ID ',i)\n",
    "        print(data)\n",
    "        counter+=1\n",
    "\n",
    "# rename columns\n",
    "feature.rename(columns={'Internet Movie Database':'Rating_IMDB', 'Rotten Tomatoes': 'Rating_Rotten_Tomatoes', 'Metacritic':'Rating_Metacritic'})\n",
    "# save to csv, according to which part of the IDs\n",
    "omdb_features.to_csv('../data/raw/omdb_'+str(12)+'.csv')"
   ]
  },
  {
   "cell_type": "markdown",
   "metadata": {},
   "source": [
    "If all features downloaded, aggregated via:"
   ]
  },
  {
   "cell_type": "code",
   "execution_count": null,
   "metadata": {},
   "outputs": [],
   "source": [
    "all_omdb_features = pd.DataFrame()\n",
    "for i in range(0,12):\n",
    "    all_omdb_features = all_omdb_features.append(pd.read_csv('../data/raw/omdb_'+str(i)+'.csv'))\n",
    "all_omdb_features.to_csv('../data/raw/omdb_total.csv')"
   ]
  },
  {
   "cell_type": "code",
   "execution_count": null,
   "metadata": {},
   "outputs": [],
   "source": []
  },
  {
   "cell_type": "code",
   "execution_count": null,
   "metadata": {},
   "outputs": [],
   "source": []
  },
  {
   "cell_type": "code",
   "execution_count": null,
   "metadata": {},
   "outputs": [],
   "source": []
  }
 ],
 "metadata": {
  "kernelspec": {
   "display_name": "Python 3",
   "language": "python",
   "name": "python3"
  },
  "language_info": {
   "codemirror_mode": {
    "name": "ipython",
    "version": 3
   },
   "file_extension": ".py",
   "mimetype": "text/x-python",
   "name": "python",
   "nbconvert_exporter": "python",
   "pygments_lexer": "ipython3",
   "version": "3.7.4"
  },
  "pycharm": {
   "stem_cell": {
    "cell_type": "raw",
    "metadata": {
     "collapsed": false
    },
    "source": []
   }
  }
 },
 "nbformat": 4,
 "nbformat_minor": 4
}
