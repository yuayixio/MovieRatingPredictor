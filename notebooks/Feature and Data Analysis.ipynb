{
 "cells": [
  {
   "cell_type": "code",
   "execution_count": 2,
   "metadata": {},
   "outputs": [],
   "source": [
    "import pandas as pd\n",
    "import numpy as np\n",
    "import matplotlib.pyplot as plt"
   ]
  },
  {
   "cell_type": "code",
   "execution_count": 3,
   "metadata": {},
   "outputs": [],
   "source": [
    "ratings = pd.read_csv('../data/raw/ratings.csv', sep=',')\n",
    "movies = pd.read_csv('../data/preprocessed/movies_id_updated.csv')\n",
    "actors = pd.read_csv('../data/raw/actors.csv', sep=',')\n",
    "countries = pd.read_csv('../data/raw/countries.csv', sep=',')\n",
    "directors = pd.read_csv('../data/raw/directors.csv', sep=',')\n",
    "genres = pd.read_csv('../data/raw/genres.csv', sep=',')\n",
    "locations = pd.read_csv('../data/raw/locations.csv', sep=',')\n",
    "movie_tags = pd.read_csv('../data/raw/movie_tags.csv', sep=',')\n",
    "tags = pd.read_csv('../data/raw/tags.csv', sep=',')\n",
    "omdb = pd.read_csv('../data/raw/omdb_total.csv')"
   ]
  },
  {
   "cell_type": "markdown",
   "metadata": {},
   "source": [
    "# Ratings"
   ]
  },
  {
   "cell_type": "code",
   "execution_count": 9,
   "metadata": {},
   "outputs": [
    {
     "data": {
      "text/html": [
       "<div>\n",
       "<style scoped>\n",
       "    .dataframe tbody tr th:only-of-type {\n",
       "        vertical-align: middle;\n",
       "    }\n",
       "\n",
       "    .dataframe tbody tr th {\n",
       "        vertical-align: top;\n",
       "    }\n",
       "\n",
       "    .dataframe thead th {\n",
       "        text-align: right;\n",
       "    }\n",
       "</style>\n",
       "<table border=\"1\" class=\"dataframe\">\n",
       "  <thead>\n",
       "    <tr style=\"text-align: right;\">\n",
       "      <th></th>\n",
       "      <th>user_id</th>\n",
       "      <th>movieID</th>\n",
       "      <th>rating</th>\n",
       "    </tr>\n",
       "  </thead>\n",
       "  <tbody>\n",
       "    <tr>\n",
       "      <th>0</th>\n",
       "      <td>1264</td>\n",
       "      <td>2363</td>\n",
       "      <td>3.5</td>\n",
       "    </tr>\n",
       "    <tr>\n",
       "      <th>1</th>\n",
       "      <td>213</td>\n",
       "      <td>8368</td>\n",
       "      <td>2.5</td>\n",
       "    </tr>\n",
       "    <tr>\n",
       "      <th>2</th>\n",
       "      <td>593</td>\n",
       "      <td>64032</td>\n",
       "      <td>3.0</td>\n",
       "    </tr>\n",
       "    <tr>\n",
       "      <th>3</th>\n",
       "      <td>609</td>\n",
       "      <td>54995</td>\n",
       "      <td>4.0</td>\n",
       "    </tr>\n",
       "    <tr>\n",
       "      <th>4</th>\n",
       "      <td>1590</td>\n",
       "      <td>5005</td>\n",
       "      <td>4.0</td>\n",
       "    </tr>\n",
       "  </tbody>\n",
       "</table>\n",
       "</div>"
      ],
      "text/plain": [
       "   user_id  movieID  rating\n",
       "0     1264     2363     3.5\n",
       "1      213     8368     2.5\n",
       "2      593    64032     3.0\n",
       "3      609    54995     4.0\n",
       "4     1590     5005     4.0"
      ]
     },
     "execution_count": 9,
     "metadata": {},
     "output_type": "execute_result"
    }
   ],
   "source": [
    "ratings.head(5)"
   ]
  },
  {
   "cell_type": "code",
   "execution_count": 10,
   "metadata": {},
   "outputs": [
    {
     "data": {
      "text/plain": [
       "user_id    0\n",
       "movieID    0\n",
       "rating     0\n",
       "dtype: int64"
      ]
     },
     "execution_count": 10,
     "metadata": {},
     "output_type": "execute_result"
    }
   ],
   "source": [
    "# ratings without entry?\n",
    "ratings.isna().sum()"
   ]
  },
  {
   "cell_type": "code",
   "execution_count": 12,
   "metadata": {},
   "outputs": [
    {
     "data": {
      "text/plain": [
       "mean    3.437447\n",
       "std     1.002791\n",
       "min     0.500000\n",
       "25%     3.000000\n",
       "50%     3.500000\n",
       "75%     4.000000\n",
       "max     5.000000\n",
       "Name: rating, dtype: float64"
      ]
     },
     "execution_count": 12,
     "metadata": {},
     "output_type": "execute_result"
    }
   ],
   "source": [
    "# how are the given ratings distributed?\n",
    "ratings['rating'].describe()[1:]"
   ]
  },
  {
   "cell_type": "code",
   "execution_count": 14,
   "metadata": {},
   "outputs": [
    {
     "data": {
      "text/plain": [
       "count    2113.000000\n",
       "mean      384.674870\n",
       "std       399.343004\n",
       "min        18.000000\n",
       "25%       101.000000\n",
       "50%       258.000000\n",
       "75%       523.000000\n",
       "max      3269.000000\n",
       "Name: user_id, dtype: float64"
      ]
     },
     "execution_count": 14,
     "metadata": {},
     "output_type": "execute_result"
    }
   ],
   "source": [
    "# how many ratings are available for each user? - from 18 to 3269\n",
    "# how many different users? - 2113\n",
    "ratings['user_id'].value_counts().describe()"
   ]
  },
  {
   "cell_type": "code",
   "execution_count": 20,
   "metadata": {},
   "outputs": [
    {
     "data": {
      "text/html": [
       "<div>\n",
       "<style scoped>\n",
       "    .dataframe tbody tr th:only-of-type {\n",
       "        vertical-align: middle;\n",
       "    }\n",
       "\n",
       "    .dataframe tbody tr th {\n",
       "        vertical-align: top;\n",
       "    }\n",
       "\n",
       "    .dataframe thead th {\n",
       "        text-align: right;\n",
       "    }\n",
       "</style>\n",
       "<table border=\"1\" class=\"dataframe\">\n",
       "  <thead>\n",
       "    <tr style=\"text-align: right;\">\n",
       "      <th></th>\n",
       "      <th>count</th>\n",
       "      <th>mean</th>\n",
       "      <th>std</th>\n",
       "      <th>min</th>\n",
       "      <th>25%</th>\n",
       "      <th>50%</th>\n",
       "      <th>75%</th>\n",
       "      <th>max</th>\n",
       "    </tr>\n",
       "    <tr>\n",
       "      <th>user_id</th>\n",
       "      <th></th>\n",
       "      <th></th>\n",
       "      <th></th>\n",
       "      <th></th>\n",
       "      <th></th>\n",
       "      <th></th>\n",
       "      <th></th>\n",
       "      <th></th>\n",
       "    </tr>\n",
       "  </thead>\n",
       "  <tbody>\n",
       "    <tr>\n",
       "      <th>0</th>\n",
       "      <td>402.0</td>\n",
       "      <td>3.675373</td>\n",
       "      <td>1.249325</td>\n",
       "      <td>0.5</td>\n",
       "      <td>3.00</td>\n",
       "      <td>4.0</td>\n",
       "      <td>4.500</td>\n",
       "      <td>5.0</td>\n",
       "    </tr>\n",
       "    <tr>\n",
       "      <th>1</th>\n",
       "      <td>549.0</td>\n",
       "      <td>3.349727</td>\n",
       "      <td>0.881534</td>\n",
       "      <td>0.5</td>\n",
       "      <td>3.00</td>\n",
       "      <td>3.5</td>\n",
       "      <td>4.000</td>\n",
       "      <td>5.0</td>\n",
       "    </tr>\n",
       "    <tr>\n",
       "      <th>2</th>\n",
       "      <td>365.0</td>\n",
       "      <td>3.061644</td>\n",
       "      <td>1.148773</td>\n",
       "      <td>0.5</td>\n",
       "      <td>2.50</td>\n",
       "      <td>3.5</td>\n",
       "      <td>4.000</td>\n",
       "      <td>5.0</td>\n",
       "    </tr>\n",
       "    <tr>\n",
       "      <th>3</th>\n",
       "      <td>168.0</td>\n",
       "      <td>2.997024</td>\n",
       "      <td>1.180552</td>\n",
       "      <td>0.5</td>\n",
       "      <td>2.00</td>\n",
       "      <td>3.0</td>\n",
       "      <td>4.000</td>\n",
       "      <td>5.0</td>\n",
       "    </tr>\n",
       "    <tr>\n",
       "      <th>4</th>\n",
       "      <td>1936.0</td>\n",
       "      <td>3.844267</td>\n",
       "      <td>0.739193</td>\n",
       "      <td>0.5</td>\n",
       "      <td>3.50</td>\n",
       "      <td>4.0</td>\n",
       "      <td>4.500</td>\n",
       "      <td>5.0</td>\n",
       "    </tr>\n",
       "    <tr>\n",
       "      <th>...</th>\n",
       "      <td>...</td>\n",
       "      <td>...</td>\n",
       "      <td>...</td>\n",
       "      <td>...</td>\n",
       "      <td>...</td>\n",
       "      <td>...</td>\n",
       "      <td>...</td>\n",
       "      <td>...</td>\n",
       "    </tr>\n",
       "    <tr>\n",
       "      <th>2108</th>\n",
       "      <td>19.0</td>\n",
       "      <td>3.394737</td>\n",
       "      <td>0.875261</td>\n",
       "      <td>2.0</td>\n",
       "      <td>3.00</td>\n",
       "      <td>3.5</td>\n",
       "      <td>4.000</td>\n",
       "      <td>4.5</td>\n",
       "    </tr>\n",
       "    <tr>\n",
       "      <th>2109</th>\n",
       "      <td>23.0</td>\n",
       "      <td>4.108696</td>\n",
       "      <td>0.768063</td>\n",
       "      <td>2.5</td>\n",
       "      <td>3.75</td>\n",
       "      <td>4.0</td>\n",
       "      <td>4.750</td>\n",
       "      <td>5.0</td>\n",
       "    </tr>\n",
       "    <tr>\n",
       "      <th>2110</th>\n",
       "      <td>19.0</td>\n",
       "      <td>2.736842</td>\n",
       "      <td>1.548910</td>\n",
       "      <td>0.5</td>\n",
       "      <td>1.75</td>\n",
       "      <td>2.0</td>\n",
       "      <td>4.250</td>\n",
       "      <td>5.0</td>\n",
       "    </tr>\n",
       "    <tr>\n",
       "      <th>2111</th>\n",
       "      <td>24.0</td>\n",
       "      <td>3.229167</td>\n",
       "      <td>1.259565</td>\n",
       "      <td>0.5</td>\n",
       "      <td>2.50</td>\n",
       "      <td>3.5</td>\n",
       "      <td>4.000</td>\n",
       "      <td>4.5</td>\n",
       "    </tr>\n",
       "    <tr>\n",
       "      <th>2112</th>\n",
       "      <td>24.0</td>\n",
       "      <td>3.562500</td>\n",
       "      <td>0.970348</td>\n",
       "      <td>1.5</td>\n",
       "      <td>2.50</td>\n",
       "      <td>3.5</td>\n",
       "      <td>4.125</td>\n",
       "      <td>5.0</td>\n",
       "    </tr>\n",
       "  </tbody>\n",
       "</table>\n",
       "<p>2113 rows × 8 columns</p>\n",
       "</div>"
      ],
      "text/plain": [
       "          count      mean       std  min   25%  50%    75%  max\n",
       "user_id                                                        \n",
       "0         402.0  3.675373  1.249325  0.5  3.00  4.0  4.500  5.0\n",
       "1         549.0  3.349727  0.881534  0.5  3.00  3.5  4.000  5.0\n",
       "2         365.0  3.061644  1.148773  0.5  2.50  3.5  4.000  5.0\n",
       "3         168.0  2.997024  1.180552  0.5  2.00  3.0  4.000  5.0\n",
       "4        1936.0  3.844267  0.739193  0.5  3.50  4.0  4.500  5.0\n",
       "...         ...       ...       ...  ...   ...  ...    ...  ...\n",
       "2108       19.0  3.394737  0.875261  2.0  3.00  3.5  4.000  4.5\n",
       "2109       23.0  4.108696  0.768063  2.5  3.75  4.0  4.750  5.0\n",
       "2110       19.0  2.736842  1.548910  0.5  1.75  2.0  4.250  5.0\n",
       "2111       24.0  3.229167  1.259565  0.5  2.50  3.5  4.000  4.5\n",
       "2112       24.0  3.562500  0.970348  1.5  2.50  3.5  4.125  5.0\n",
       "\n",
       "[2113 rows x 8 columns]"
      ]
     },
     "execution_count": 20,
     "metadata": {},
     "output_type": "execute_result"
    }
   ],
   "source": [
    "# what kind of ratings does a user give?\n",
    "ratings.groupby('user_id')['rating'].describe()"
   ]
  },
  {
   "cell_type": "code",
   "execution_count": 25,
   "metadata": {},
   "outputs": [
    {
     "data": {
      "text/plain": [
       "<matplotlib.collections.PathCollection at 0x2849e1fabb0>"
      ]
     },
     "execution_count": 25,
     "metadata": {},
     "output_type": "execute_result"
    },
    {
     "data": {
      "image/png": "[encoded data removed]",
      "text/plain": [
       "<Figure size 432x288 with 1 Axes>"
      ]
     },
     "metadata": {
      "needs_background": "light"
     },
     "output_type": "display_data"
    }
   ],
   "source": [
    "# correlation between amount of available ratings and mean rating?\n",
    "plt.scatter(ratings.groupby('user_id')['rating'].describe()['count'], ratings.groupby('user_id')['rating'].describe()['mean'])"
   ]
  },
  {
   "cell_type": "code",
   "execution_count": 26,
   "metadata": {},
   "outputs": [
    {
     "data": {
      "text/plain": [
       "count    10069.000000\n",
       "mean        80.724799\n",
       "std        163.794386\n",
       "min          1.000000\n",
       "25%          6.000000\n",
       "50%         20.000000\n",
       "75%         72.000000\n",
       "max       1584.000000\n",
       "Name: movieID, dtype: float64"
      ]
     },
     "execution_count": 26,
     "metadata": {},
     "output_type": "execute_result"
    }
   ],
   "source": [
    "# how many ratings are available for each movie? - from 1 to 1584\n",
    "# how many different movies? - 10069\n",
    "ratings['movieID'].value_counts().describe()"
   ]
  },
  {
   "cell_type": "code",
   "execution_count": 39,
   "metadata": {},
   "outputs": [
    {
     "data": {
      "text/plain": [
       "2571    1584\n",
       "4993    1493\n",
       "356     1491\n",
       "5952    1459\n",
       "296     1457\n",
       "Name: movieID, dtype: int64"
      ]
     },
     "execution_count": 39,
     "metadata": {},
     "output_type": "execute_result"
    }
   ],
   "source": [
    "ratings['movieID'].value_counts()[:5]"
   ]
  },
  {
   "cell_type": "code",
   "execution_count": 42,
   "metadata": {},
   "outputs": [
    {
     "name": "stdout",
     "output_type": "stream",
     "text": [
      "2350    The Matrix\n",
      "Name: title, dtype: object\n",
      "4679    The Lord of the Rings: The Fellowship of the Ring\n",
      "Name: title, dtype: object\n",
      "343    Forrest Gump\n",
      "Name: title, dtype: object\n",
      "5606    The Lord of the Rings: The Two Towers\n",
      "Name: title, dtype: object\n",
      "285    Pulp Fiction\n",
      "Name: title, dtype: object\n"
     ]
    }
   ],
   "source": [
    "# most rated movies:\n",
    "for i in ratings['movieID'].value_counts()[:5].index:\n",
    "    print(movies[movies['id']==i]['title'])"
   ]
  },
  {
   "cell_type": "markdown",
   "metadata": {},
   "source": [
    "# Movies"
   ]
  },
  {
   "cell_type": "code",
   "execution_count": 47,
   "metadata": {},
   "outputs": [
    {
     "data": {
      "text/html": [
       "<div>\n",
       "<style scoped>\n",
       "    .dataframe tbody tr th:only-of-type {\n",
       "        vertical-align: middle;\n",
       "    }\n",
       "\n",
       "    .dataframe tbody tr th {\n",
       "        vertical-align: top;\n",
       "    }\n",
       "\n",
       "    .dataframe thead th {\n",
       "        text-align: right;\n",
       "    }\n",
       "</style>\n",
       "<table border=\"1\" class=\"dataframe\">\n",
       "  <thead>\n",
       "    <tr style=\"text-align: right;\">\n",
       "      <th></th>\n",
       "      <th>id</th>\n",
       "      <th>title</th>\n",
       "      <th>imdbID</th>\n",
       "      <th>spanishTitle</th>\n",
       "      <th>imdbPictureURL</th>\n",
       "      <th>year</th>\n",
       "      <th>rtID</th>\n",
       "      <th>rtPictureURL</th>\n",
       "    </tr>\n",
       "  </thead>\n",
       "  <tbody>\n",
       "    <tr>\n",
       "      <th>0</th>\n",
       "      <td>1</td>\n",
       "      <td>Toy story</td>\n",
       "      <td>tt0114709</td>\n",
       "      <td>Toy story (juguetes)</td>\n",
       "      <td>http://ia.media-imdb.com/images/M/MV5BMTMwNDU0...</td>\n",
       "      <td>1995.0</td>\n",
       "      <td>toy_story</td>\n",
       "      <td>http://content7.flixster.com/movie/10/93/63/10...</td>\n",
       "    </tr>\n",
       "  </tbody>\n",
       "</table>\n",
       "</div>"
      ],
      "text/plain": [
       "   id      title     imdbID          spanishTitle  \\\n",
       "0   1  Toy story  tt0114709  Toy story (juguetes)   \n",
       "\n",
       "                                      imdbPictureURL    year       rtID  \\\n",
       "0  http://ia.media-imdb.com/images/M/MV5BMTMwNDU0...  1995.0  toy_story   \n",
       "\n",
       "                                        rtPictureURL  \n",
       "0  http://content7.flixster.com/movie/10/93/63/10...  "
      ]
     },
     "execution_count": 47,
     "metadata": {},
     "output_type": "execute_result"
    }
   ],
   "source": [
    "movies.head(1)"
   ]
  },
  {
   "cell_type": "code",
   "execution_count": 64,
   "metadata": {},
   "outputs": [
    {
     "data": {
      "text/plain": [
       "Index(['id', 'title', 'imdbID', 'spanishTitle', 'imdbPictureURL', 'year',\n",
       "       'rtID', 'rtPictureURL'],\n",
       "      dtype='object')"
      ]
     },
     "execution_count": 64,
     "metadata": {},
     "output_type": "execute_result"
    }
   ],
   "source": [
    "movies.columns"
   ]
  },
  {
   "cell_type": "code",
   "execution_count": 68,
   "metadata": {},
   "outputs": [
    {
     "name": "stdout",
     "output_type": "stream",
     "text": [
      "duplicates:\n",
      "id 0\n",
      "id Series([], Name: id, dtype: int64)\n",
      "title 791\n",
      "title Hamlet                      5\n",
      "The Phantom of the Opera    5\n",
      "DOA: Dead or Alive          3\n",
      "The Three Musketeers        3\n",
      "Dracula                     3\n",
      "                           ..\n",
      "The Birds                   1\n",
      "Dan in Real Life            1\n",
      "Cookie's Fortune            1\n",
      "Titanic                     1\n",
      "Bandits                     1\n",
      "Name: title, Length: 701, dtype: int64\n",
      "imdbID 774\n",
      "imdbID tt0116477    5\n",
      "tt0293508    4\n",
      "tt0450314    3\n",
      "tt0163978    3\n",
      "tt0049366    3\n",
      "            ..\n",
      "tt0258463    1\n",
      "tt0049408    1\n",
      "tt0103644    1\n",
      "tt0091637    1\n",
      "tt0155267    1\n",
      "Name: imdbID, Length: 690, dtype: int64\n",
      "spanishTitle 840\n",
      "spanishTitle Hamlet                                                5\n",
      "El fantasma de la ópera de Andrew Lloyd Webber        4\n",
      "Los tres mosqueteros                                  3\n",
      "Drácula                                               3\n",
      "La invasión de los ladrones de cuerpos                3\n",
      "                                                     ..\n",
      "Fanático (The Fan)                                    1\n",
      "Enigma                                                1\n",
      "El crepúsculo de los dioses                           1\n",
      "French Kiss                                           1\n",
      "Indiana Jones y el reino de la calavera de cristal    1\n",
      "Name: spanishTitle, Length: 742, dtype: int64\n"
     ]
    }
   ],
   "source": [
    "#check for duplicates within the data\n",
    "print('duplicates:')\n",
    "for i in movies.columns[:4]:\n",
    "    print(i, movies[i].duplicated().sum())\n",
    "    print(i, movies[movies[i].duplicated()][i].value_counts())\n"
   ]
  },
  {
   "cell_type": "code",
   "execution_count": 69,
   "metadata": {},
   "outputs": [
    {
     "data": {
      "text/html": [
       "<div>\n",
       "<style scoped>\n",
       "    .dataframe tbody tr th:only-of-type {\n",
       "        vertical-align: middle;\n",
       "    }\n",
       "\n",
       "    .dataframe tbody tr th {\n",
       "        vertical-align: top;\n",
       "    }\n",
       "\n",
       "    .dataframe thead th {\n",
       "        text-align: right;\n",
       "    }\n",
       "</style>\n",
       "<table border=\"1\" class=\"dataframe\">\n",
       "  <thead>\n",
       "    <tr style=\"text-align: right;\">\n",
       "      <th></th>\n",
       "      <th>id</th>\n",
       "      <th>title</th>\n",
       "      <th>imdbID</th>\n",
       "      <th>spanishTitle</th>\n",
       "      <th>imdbPictureURL</th>\n",
       "      <th>year</th>\n",
       "      <th>rtID</th>\n",
       "      <th>rtPictureURL</th>\n",
       "    </tr>\n",
       "  </thead>\n",
       "  <tbody>\n",
       "    <tr>\n",
       "      <th>1284</th>\n",
       "      <td>1411</td>\n",
       "      <td>Hamlet</td>\n",
       "      <td>tt0116477</td>\n",
       "      <td>Hamlet</td>\n",
       "      <td>http://ia.media-imdb.com/images/M/MV5BMTM5NjMz...</td>\n",
       "      <td>1996.0</td>\n",
       "      <td>1075422-hamlet</td>\n",
       "      <td>http://content7.flixster.com/movie/10/94/26/10...</td>\n",
       "    </tr>\n",
       "    <tr>\n",
       "      <th>1735</th>\n",
       "      <td>1941</td>\n",
       "      <td>Hamlet</td>\n",
       "      <td>tt0116477</td>\n",
       "      <td>Hamlet</td>\n",
       "      <td>http://ia.media-imdb.com/images/M/MV5BMTM5NjMz...</td>\n",
       "      <td>1996.0</td>\n",
       "      <td>1075422-hamlet</td>\n",
       "      <td>http://content7.flixster.com/movie/10/94/26/10...</td>\n",
       "    </tr>\n",
       "    <tr>\n",
       "      <th>2589</th>\n",
       "      <td>2820</td>\n",
       "      <td>Hamlet</td>\n",
       "      <td>tt0116477</td>\n",
       "      <td>Hamlet</td>\n",
       "      <td>http://ia.media-imdb.com/images/M/MV5BMTM5NjMz...</td>\n",
       "      <td>1996.0</td>\n",
       "      <td>1075422-hamlet</td>\n",
       "      <td>http://content7.flixster.com/movie/10/94/26/10...</td>\n",
       "    </tr>\n",
       "    <tr>\n",
       "      <th>3319</th>\n",
       "      <td>3598</td>\n",
       "      <td>Hamlet</td>\n",
       "      <td>tt0116477</td>\n",
       "      <td>Hamlet</td>\n",
       "      <td>http://ia.media-imdb.com/images/M/MV5BMTM5NjMz...</td>\n",
       "      <td>1996.0</td>\n",
       "      <td>1075422-hamlet</td>\n",
       "      <td>http://content7.flixster.com/movie/10/94/26/10...</td>\n",
       "    </tr>\n",
       "    <tr>\n",
       "      <th>3441</th>\n",
       "      <td>3723</td>\n",
       "      <td>Hamlet</td>\n",
       "      <td>tt0116477</td>\n",
       "      <td>Hamlet</td>\n",
       "      <td>http://ia.media-imdb.com/images/M/MV5BMTM5NjMz...</td>\n",
       "      <td>1996.0</td>\n",
       "      <td>1075422-hamlet</td>\n",
       "      <td>http://content7.flixster.com/movie/10/94/26/10...</td>\n",
       "    </tr>\n",
       "    <tr>\n",
       "      <th>9986</th>\n",
       "      <td>61246</td>\n",
       "      <td>Hamlet</td>\n",
       "      <td>tt0116477</td>\n",
       "      <td>Hamlet</td>\n",
       "      <td>http://ia.media-imdb.com/images/M/MV5BMTM5NjMz...</td>\n",
       "      <td>1996.0</td>\n",
       "      <td>1075422-hamlet</td>\n",
       "      <td>http://content7.flixster.com/movie/10/94/26/10...</td>\n",
       "    </tr>\n",
       "  </tbody>\n",
       "</table>\n",
       "</div>"
      ],
      "text/plain": [
       "         id   title     imdbID spanishTitle  \\\n",
       "1284   1411  Hamlet  tt0116477       Hamlet   \n",
       "1735   1941  Hamlet  tt0116477       Hamlet   \n",
       "2589   2820  Hamlet  tt0116477       Hamlet   \n",
       "3319   3598  Hamlet  tt0116477       Hamlet   \n",
       "3441   3723  Hamlet  tt0116477       Hamlet   \n",
       "9986  61246  Hamlet  tt0116477       Hamlet   \n",
       "\n",
       "                                         imdbPictureURL    year  \\\n",
       "1284  http://ia.media-imdb.com/images/M/MV5BMTM5NjMz...  1996.0   \n",
       "1735  http://ia.media-imdb.com/images/M/MV5BMTM5NjMz...  1996.0   \n",
       "2589  http://ia.media-imdb.com/images/M/MV5BMTM5NjMz...  1996.0   \n",
       "3319  http://ia.media-imdb.com/images/M/MV5BMTM5NjMz...  1996.0   \n",
       "3441  http://ia.media-imdb.com/images/M/MV5BMTM5NjMz...  1996.0   \n",
       "9986  http://ia.media-imdb.com/images/M/MV5BMTM5NjMz...  1996.0   \n",
       "\n",
       "                rtID                                       rtPictureURL  \n",
       "1284  1075422-hamlet  http://content7.flixster.com/movie/10/94/26/10...  \n",
       "1735  1075422-hamlet  http://content7.flixster.com/movie/10/94/26/10...  \n",
       "2589  1075422-hamlet  http://content7.flixster.com/movie/10/94/26/10...  \n",
       "3319  1075422-hamlet  http://content7.flixster.com/movie/10/94/26/10...  \n",
       "3441  1075422-hamlet  http://content7.flixster.com/movie/10/94/26/10...  \n",
       "9986  1075422-hamlet  http://content7.flixster.com/movie/10/94/26/10...  "
      ]
     },
     "execution_count": 69,
     "metadata": {},
     "output_type": "execute_result"
    }
   ],
   "source": [
    "movies[movies['title']=='Hamlet']"
   ]
  },
  {
   "cell_type": "code",
   "execution_count": 94,
   "metadata": {},
   "outputs": [
    {
     "data": {
      "text/html": [
       "<div>\n",
       "<style scoped>\n",
       "    .dataframe tbody tr th:only-of-type {\n",
       "        vertical-align: middle;\n",
       "    }\n",
       "\n",
       "    .dataframe tbody tr th {\n",
       "        vertical-align: top;\n",
       "    }\n",
       "\n",
       "    .dataframe thead th {\n",
       "        text-align: right;\n",
       "    }\n",
       "</style>\n",
       "<table border=\"1\" class=\"dataframe\">\n",
       "  <thead>\n",
       "    <tr style=\"text-align: right;\">\n",
       "      <th></th>\n",
       "      <th>id</th>\n",
       "      <th>title</th>\n",
       "      <th>imdbID</th>\n",
       "      <th>spanishTitle</th>\n",
       "      <th>imdbPictureURL</th>\n",
       "      <th>year</th>\n",
       "      <th>rtID</th>\n",
       "      <th>rtPictureURL</th>\n",
       "    </tr>\n",
       "  </thead>\n",
       "  <tbody>\n",
       "    <tr>\n",
       "      <th>1489</th>\n",
       "      <td>1655</td>\n",
       "      <td>The Phantom of the Opera</td>\n",
       "      <td>tt0293508</td>\n",
       "      <td>El fantasma de la ópera de Andrew Lloyd Webber</td>\n",
       "      <td>http://ia.media-imdb.com/images/M/MV5BNDczNzg4...</td>\n",
       "      <td>2004.0</td>\n",
       "      <td>phantom_of_the_opera</td>\n",
       "      <td>http://content9.flixster.com/movie/35/84/18/35...</td>\n",
       "    </tr>\n",
       "    <tr>\n",
       "      <th>3644</th>\n",
       "      <td>3936</td>\n",
       "      <td>The Phantom of the Opera</td>\n",
       "      <td>tt0293508</td>\n",
       "      <td>El fantasma de la ópera de Andrew Lloyd Webber</td>\n",
       "      <td>http://ia.media-imdb.com/images/M/MV5BNDczNzg4...</td>\n",
       "      <td>2004.0</td>\n",
       "      <td>phantom_of_the_opera</td>\n",
       "      <td>http://content9.flixster.com/movie/35/84/18/35...</td>\n",
       "    </tr>\n",
       "    <tr>\n",
       "      <th>4485</th>\n",
       "      <td>4794</td>\n",
       "      <td>The Phantom of the Opera</td>\n",
       "      <td>tt0016220</td>\n",
       "      <td>El fantasma de la ópera</td>\n",
       "      <td>http://ia.media-imdb.com/images/M/MV5BMTQ3NDk2...</td>\n",
       "      <td>1925.0</td>\n",
       "      <td>1016240-phantom_of_the_opera</td>\n",
       "      <td>http://content6.flixster.com/movie/10/12/76/10...</td>\n",
       "    </tr>\n",
       "    <tr>\n",
       "      <th>7988</th>\n",
       "      <td>25755</td>\n",
       "      <td>The Phantom of the Opera</td>\n",
       "      <td>tt0293508</td>\n",
       "      <td>El fantasma de la ópera de Andrew Lloyd Webber</td>\n",
       "      <td>http://ia.media-imdb.com/images/M/MV5BNDczNzg4...</td>\n",
       "      <td>2004.0</td>\n",
       "      <td>phantom_of_the_opera</td>\n",
       "      <td>http://content9.flixster.com/movie/35/84/18/35...</td>\n",
       "    </tr>\n",
       "    <tr>\n",
       "      <th>8435</th>\n",
       "      <td>30816</td>\n",
       "      <td>The Phantom of the Opera</td>\n",
       "      <td>tt0293508</td>\n",
       "      <td>El fantasma de la ópera de Andrew Lloyd Webber</td>\n",
       "      <td>http://ia.media-imdb.com/images/M/MV5BNDczNzg4...</td>\n",
       "      <td>2004.0</td>\n",
       "      <td>phantom_of_the_opera</td>\n",
       "      <td>http://content9.flixster.com/movie/35/84/18/35...</td>\n",
       "    </tr>\n",
       "    <tr>\n",
       "      <th>8462</th>\n",
       "      <td>31026</td>\n",
       "      <td>The Phantom of the Opera</td>\n",
       "      <td>tt0293508</td>\n",
       "      <td>El fantasma de la ópera de Andrew Lloyd Webber</td>\n",
       "      <td>http://ia.media-imdb.com/images/M/MV5BNDczNzg4...</td>\n",
       "      <td>2004.0</td>\n",
       "      <td>phantom_of_the_opera</td>\n",
       "      <td>http://content9.flixster.com/movie/35/84/18/35...</td>\n",
       "    </tr>\n",
       "  </tbody>\n",
       "</table>\n",
       "</div>"
      ],
      "text/plain": [
       "         id                     title     imdbID  \\\n",
       "1489   1655  The Phantom of the Opera  tt0293508   \n",
       "3644   3936  The Phantom of the Opera  tt0293508   \n",
       "4485   4794  The Phantom of the Opera  tt0016220   \n",
       "7988  25755  The Phantom of the Opera  tt0293508   \n",
       "8435  30816  The Phantom of the Opera  tt0293508   \n",
       "8462  31026  The Phantom of the Opera  tt0293508   \n",
       "\n",
       "                                        spanishTitle  \\\n",
       "1489  El fantasma de la ópera de Andrew Lloyd Webber   \n",
       "3644  El fantasma de la ópera de Andrew Lloyd Webber   \n",
       "4485                         El fantasma de la ópera   \n",
       "7988  El fantasma de la ópera de Andrew Lloyd Webber   \n",
       "8435  El fantasma de la ópera de Andrew Lloyd Webber   \n",
       "8462  El fantasma de la ópera de Andrew Lloyd Webber   \n",
       "\n",
       "                                         imdbPictureURL    year  \\\n",
       "1489  http://ia.media-imdb.com/images/M/MV5BNDczNzg4...  2004.0   \n",
       "3644  http://ia.media-imdb.com/images/M/MV5BNDczNzg4...  2004.0   \n",
       "4485  http://ia.media-imdb.com/images/M/MV5BMTQ3NDk2...  1925.0   \n",
       "7988  http://ia.media-imdb.com/images/M/MV5BNDczNzg4...  2004.0   \n",
       "8435  http://ia.media-imdb.com/images/M/MV5BNDczNzg4...  2004.0   \n",
       "8462  http://ia.media-imdb.com/images/M/MV5BNDczNzg4...  2004.0   \n",
       "\n",
       "                              rtID  \\\n",
       "1489          phantom_of_the_opera   \n",
       "3644          phantom_of_the_opera   \n",
       "4485  1016240-phantom_of_the_opera   \n",
       "7988          phantom_of_the_opera   \n",
       "8435          phantom_of_the_opera   \n",
       "8462          phantom_of_the_opera   \n",
       "\n",
       "                                           rtPictureURL  \n",
       "1489  http://content9.flixster.com/movie/35/84/18/35...  \n",
       "3644  http://content9.flixster.com/movie/35/84/18/35...  \n",
       "4485  http://content6.flixster.com/movie/10/12/76/10...  \n",
       "7988  http://content9.flixster.com/movie/35/84/18/35...  \n",
       "8435  http://content9.flixster.com/movie/35/84/18/35...  \n",
       "8462  http://content9.flixster.com/movie/35/84/18/35...  "
      ]
     },
     "execution_count": 94,
     "metadata": {},
     "output_type": "execute_result"
    }
   ],
   "source": [
    "# be aware of new versions of movies\n",
    "movies[movies['title']=='The Phantom of the Opera']"
   ]
  },
  {
   "cell_type": "code",
   "execution_count": 71,
   "metadata": {},
   "outputs": [],
   "source": [
    "dummy = pd.DataFrame()\n",
    "for i in movies[movies['title']=='Hamlet']['id']:\n",
    "    dummy = dummy.append(ratings[ratings['movieID']==i])"
   ]
  },
  {
   "cell_type": "code",
   "execution_count": 90,
   "metadata": {},
   "outputs": [],
   "source": [
    "double_ratings_ids = dummy['user_id'].value_counts()[dummy['user_id'].value_counts()>1].index"
   ]
  },
  {
   "cell_type": "code",
   "execution_count": 91,
   "metadata": {},
   "outputs": [
    {
     "data": {
      "text/plain": [
       "98"
      ]
     },
     "execution_count": 91,
     "metadata": {},
     "output_type": "execute_result"
    }
   ],
   "source": [
    "# number of users with multiple ratings for Hamlet\n",
    "len(double_ratings_ids)"
   ]
  },
  {
   "cell_type": "code",
   "execution_count": 74,
   "metadata": {},
   "outputs": [
    {
     "data": {
      "text/html": [
       "<div>\n",
       "<style scoped>\n",
       "    .dataframe tbody tr th:only-of-type {\n",
       "        vertical-align: middle;\n",
       "    }\n",
       "\n",
       "    .dataframe tbody tr th {\n",
       "        vertical-align: top;\n",
       "    }\n",
       "\n",
       "    .dataframe thead th {\n",
       "        text-align: right;\n",
       "    }\n",
       "</style>\n",
       "<table border=\"1\" class=\"dataframe\">\n",
       "  <thead>\n",
       "    <tr style=\"text-align: right;\">\n",
       "      <th></th>\n",
       "      <th>user_id</th>\n",
       "      <th>movieID</th>\n",
       "      <th>rating</th>\n",
       "    </tr>\n",
       "  </thead>\n",
       "  <tbody>\n",
       "    <tr>\n",
       "      <th>430329</th>\n",
       "      <td>401</td>\n",
       "      <td>1411</td>\n",
       "      <td>3.5</td>\n",
       "    </tr>\n",
       "    <tr>\n",
       "      <th>550503</th>\n",
       "      <td>401</td>\n",
       "      <td>1941</td>\n",
       "      <td>3.0</td>\n",
       "    </tr>\n",
       "    <tr>\n",
       "      <th>382464</th>\n",
       "      <td>401</td>\n",
       "      <td>2820</td>\n",
       "      <td>2.5</td>\n",
       "    </tr>\n",
       "    <tr>\n",
       "      <th>133426</th>\n",
       "      <td>401</td>\n",
       "      <td>3598</td>\n",
       "      <td>1.0</td>\n",
       "    </tr>\n",
       "    <tr>\n",
       "      <th>105784</th>\n",
       "      <td>401</td>\n",
       "      <td>3723</td>\n",
       "      <td>4.0</td>\n",
       "    </tr>\n",
       "  </tbody>\n",
       "</table>\n",
       "</div>"
      ],
      "text/plain": [
       "        user_id  movieID  rating\n",
       "430329      401     1411     3.5\n",
       "550503      401     1941     3.0\n",
       "382464      401     2820     2.5\n",
       "133426      401     3598     1.0\n",
       "105784      401     3723     4.0"
      ]
     },
     "execution_count": 74,
     "metadata": {},
     "output_type": "execute_result"
    }
   ],
   "source": [
    "dummy[dummy['user_id']==401]"
   ]
  },
  {
   "cell_type": "code",
   "execution_count": 86,
   "metadata": {},
   "outputs": [
    {
     "data": {
      "text/html": [
       "<div>\n",
       "<style scoped>\n",
       "    .dataframe tbody tr th:only-of-type {\n",
       "        vertical-align: middle;\n",
       "    }\n",
       "\n",
       "    .dataframe tbody tr th {\n",
       "        vertical-align: top;\n",
       "    }\n",
       "\n",
       "    .dataframe thead th {\n",
       "        text-align: right;\n",
       "    }\n",
       "</style>\n",
       "<table border=\"1\" class=\"dataframe\">\n",
       "  <thead>\n",
       "    <tr style=\"text-align: right;\">\n",
       "      <th></th>\n",
       "      <th>user_id</th>\n",
       "      <th>movieID</th>\n",
       "      <th>rating</th>\n",
       "    </tr>\n",
       "  </thead>\n",
       "  <tbody>\n",
       "    <tr>\n",
       "      <th>549130</th>\n",
       "      <td>98</td>\n",
       "      <td>1411</td>\n",
       "      <td>5.0</td>\n",
       "    </tr>\n",
       "    <tr>\n",
       "      <th>215271</th>\n",
       "      <td>98</td>\n",
       "      <td>1941</td>\n",
       "      <td>5.0</td>\n",
       "    </tr>\n",
       "    <tr>\n",
       "      <th>791671</th>\n",
       "      <td>98</td>\n",
       "      <td>3598</td>\n",
       "      <td>1.5</td>\n",
       "    </tr>\n",
       "    <tr>\n",
       "      <th>453503</th>\n",
       "      <td>98</td>\n",
       "      <td>3723</td>\n",
       "      <td>3.5</td>\n",
       "    </tr>\n",
       "  </tbody>\n",
       "</table>\n",
       "</div>"
      ],
      "text/plain": [
       "        user_id  movieID  rating\n",
       "549130       98     1411     5.0\n",
       "215271       98     1941     5.0\n",
       "791671       98     3598     1.5\n",
       "453503       98     3723     3.5"
      ]
     },
     "execution_count": 86,
     "metadata": {},
     "output_type": "execute_result"
    }
   ],
   "source": [
    "dummy[dummy['user_id']==double_ratings_ids[1]]"
   ]
  },
  {
   "cell_type": "code",
   "execution_count": 87,
   "metadata": {},
   "outputs": [
    {
     "data": {
      "text/html": [
       "<div>\n",
       "<style scoped>\n",
       "    .dataframe tbody tr th:only-of-type {\n",
       "        vertical-align: middle;\n",
       "    }\n",
       "\n",
       "    .dataframe tbody tr th {\n",
       "        vertical-align: top;\n",
       "    }\n",
       "\n",
       "    .dataframe thead th {\n",
       "        text-align: right;\n",
       "    }\n",
       "</style>\n",
       "<table border=\"1\" class=\"dataframe\">\n",
       "  <thead>\n",
       "    <tr style=\"text-align: right;\">\n",
       "      <th></th>\n",
       "      <th>user_id</th>\n",
       "      <th>movieID</th>\n",
       "      <th>rating</th>\n",
       "    </tr>\n",
       "  </thead>\n",
       "  <tbody>\n",
       "    <tr>\n",
       "      <th>62255</th>\n",
       "      <td>1373</td>\n",
       "      <td>1411</td>\n",
       "      <td>2.5</td>\n",
       "    </tr>\n",
       "    <tr>\n",
       "      <th>196557</th>\n",
       "      <td>1373</td>\n",
       "      <td>1941</td>\n",
       "      <td>3.5</td>\n",
       "    </tr>\n",
       "    <tr>\n",
       "      <th>664182</th>\n",
       "      <td>1373</td>\n",
       "      <td>3598</td>\n",
       "      <td>3.5</td>\n",
       "    </tr>\n",
       "    <tr>\n",
       "      <th>472317</th>\n",
       "      <td>1373</td>\n",
       "      <td>3723</td>\n",
       "      <td>3.0</td>\n",
       "    </tr>\n",
       "  </tbody>\n",
       "</table>\n",
       "</div>"
      ],
      "text/plain": [
       "        user_id  movieID  rating\n",
       "62255      1373     1411     2.5\n",
       "196557     1373     1941     3.5\n",
       "664182     1373     3598     3.5\n",
       "472317     1373     3723     3.0"
      ]
     },
     "execution_count": 87,
     "metadata": {},
     "output_type": "execute_result"
    }
   ],
   "source": [
    "dummy[dummy['user_id']==double_ratings_ids[2]]"
   ]
  },
  {
   "cell_type": "code",
   "execution_count": 92,
   "metadata": {},
   "outputs": [
    {
     "data": {
      "text/html": [
       "<div>\n",
       "<style scoped>\n",
       "    .dataframe tbody tr th:only-of-type {\n",
       "        vertical-align: middle;\n",
       "    }\n",
       "\n",
       "    .dataframe tbody tr th {\n",
       "        vertical-align: top;\n",
       "    }\n",
       "\n",
       "    .dataframe thead th {\n",
       "        text-align: right;\n",
       "    }\n",
       "</style>\n",
       "<table border=\"1\" class=\"dataframe\">\n",
       "  <thead>\n",
       "    <tr style=\"text-align: right;\">\n",
       "      <th></th>\n",
       "      <th>id</th>\n",
       "      <th>title</th>\n",
       "      <th>imdbID</th>\n",
       "      <th>spanishTitle</th>\n",
       "      <th>imdbPictureURL</th>\n",
       "      <th>year</th>\n",
       "      <th>rtID</th>\n",
       "      <th>rtPictureURL</th>\n",
       "    </tr>\n",
       "  </thead>\n",
       "  <tbody>\n",
       "    <tr>\n",
       "      <th>1547</th>\n",
       "      <td>1721</td>\n",
       "      <td>Titanic</td>\n",
       "      <td>tt0120338</td>\n",
       "      <td>Titanic</td>\n",
       "      <td>http://ia.media-imdb.com/images/M/MV5BMTYwNTk5...</td>\n",
       "      <td>1997.0</td>\n",
       "      <td>titanic</td>\n",
       "      <td>http://content8.flixster.com/movie/16/90/53/16...</td>\n",
       "    </tr>\n",
       "    <tr>\n",
       "      <th>3137</th>\n",
       "      <td>3404</td>\n",
       "      <td>Titanic</td>\n",
       "      <td>tt0120338</td>\n",
       "      <td>Titanic</td>\n",
       "      <td>http://ia.media-imdb.com/images/M/MV5BMTYwNTk5...</td>\n",
       "      <td>1997.0</td>\n",
       "      <td>titanic</td>\n",
       "      <td>http://content8.flixster.com/movie/16/90/53/16...</td>\n",
       "    </tr>\n",
       "  </tbody>\n",
       "</table>\n",
       "</div>"
      ],
      "text/plain": [
       "        id    title     imdbID spanishTitle  \\\n",
       "1547  1721  Titanic  tt0120338      Titanic   \n",
       "3137  3404  Titanic  tt0120338      Titanic   \n",
       "\n",
       "                                         imdbPictureURL    year     rtID  \\\n",
       "1547  http://ia.media-imdb.com/images/M/MV5BMTYwNTk5...  1997.0  titanic   \n",
       "3137  http://ia.media-imdb.com/images/M/MV5BMTYwNTk5...  1997.0  titanic   \n",
       "\n",
       "                                           rtPictureURL  \n",
       "1547  http://content8.flixster.com/movie/16/90/53/16...  \n",
       "3137  http://content8.flixster.com/movie/16/90/53/16...  "
      ]
     },
     "execution_count": 92,
     "metadata": {},
     "output_type": "execute_result"
    }
   ],
   "source": [
    "movies[movies['title']=='Titanic']"
   ]
  },
  {
   "cell_type": "code",
   "execution_count": 98,
   "metadata": {},
   "outputs": [
    {
     "data": {
      "text/plain": [
       "mean    1988.244285\n",
       "std       18.688709\n",
       "min     1903.000000\n",
       "25%     1981.000000\n",
       "50%     1995.000000\n",
       "75%     2002.000000\n",
       "max     2011.000000\n",
       "Name: year, dtype: float64"
      ]
     },
     "execution_count": 98,
     "metadata": {},
     "output_type": "execute_result"
    }
   ],
   "source": [
    "# movie year entries?\n",
    "movies['year'].describe()[1:]"
   ]
  },
  {
   "cell_type": "code",
   "execution_count": 152,
   "metadata": {},
   "outputs": [
    {
     "data": {
      "text/plain": [
       "[<matplotlib.lines.Line2D at 0x2849d7b63d0>]"
      ]
     },
     "execution_count": 152,
     "metadata": {},
     "output_type": "execute_result"
    },
    {
     "data": {
      "image/png": "[encoded data removed]",
      "text/plain": [
       "<Figure size 432x288 with 1 Axes>"
      ]
     },
     "metadata": {
      "needs_background": "light"
     },
     "output_type": "display_data"
    }
   ],
   "source": [
    "# visualized\n",
    "plt.plot(movies['year'].value_counts().sort_index())"
   ]
  },
  {
   "cell_type": "code",
   "execution_count": 6,
   "metadata": {},
   "outputs": [
    {
     "data": {
      "text/plain": [
       "id                  0\n",
       "title               0\n",
       "imdbID              0\n",
       "spanishTitle        0\n",
       "imdbPictureURL    185\n",
       "year                4\n",
       "rtID              315\n",
       "rtPictureURL        4\n",
       "dtype: int64"
      ]
     },
     "execution_count": 6,
     "metadata": {},
     "output_type": "execute_result"
    }
   ],
   "source": [
    "# 4 movies without year\n",
    "movies.isna().sum()"
   ]
  },
  {
   "cell_type": "markdown",
   "metadata": {},
   "source": [
    "# Actors"
   ]
  },
  {
   "cell_type": "code",
   "execution_count": 107,
   "metadata": {},
   "outputs": [
    {
     "data": {
      "text/plain": [
       "movieID      0\n",
       "actorID      0\n",
       "actorName    5\n",
       "ranking      0\n",
       "dtype: int64"
      ]
     },
     "execution_count": 107,
     "metadata": {},
     "output_type": "execute_result"
    }
   ],
   "source": [
    "# add male or female actor?\n",
    "actors.isna().sum()"
   ]
  },
  {
   "cell_type": "code",
   "execution_count": 109,
   "metadata": {},
   "outputs": [
    {
     "data": {
      "text/html": [
       "<div>\n",
       "<style scoped>\n",
       "    .dataframe tbody tr th:only-of-type {\n",
       "        vertical-align: middle;\n",
       "    }\n",
       "\n",
       "    .dataframe tbody tr th {\n",
       "        vertical-align: top;\n",
       "    }\n",
       "\n",
       "    .dataframe thead th {\n",
       "        text-align: right;\n",
       "    }\n",
       "</style>\n",
       "<table border=\"1\" class=\"dataframe\">\n",
       "  <thead>\n",
       "    <tr style=\"text-align: right;\">\n",
       "      <th></th>\n",
       "      <th>movieID</th>\n",
       "      <th>actorID</th>\n",
       "      <th>actorName</th>\n",
       "      <th>ranking</th>\n",
       "    </tr>\n",
       "  </thead>\n",
       "  <tbody>\n",
       "    <tr>\n",
       "      <th>12722</th>\n",
       "      <td>532</td>\n",
       "      <td>not_applicable</td>\n",
       "      <td>NaN</td>\n",
       "      <td>26</td>\n",
       "    </tr>\n",
       "    <tr>\n",
       "      <th>113034</th>\n",
       "      <td>5218</td>\n",
       "      <td>not_applicable</td>\n",
       "      <td>NaN</td>\n",
       "      <td>15</td>\n",
       "    </tr>\n",
       "    <tr>\n",
       "      <th>123252</th>\n",
       "      <td>5710</td>\n",
       "      <td>not_applicable</td>\n",
       "      <td>NaN</td>\n",
       "      <td>7</td>\n",
       "    </tr>\n",
       "    <tr>\n",
       "      <th>168741</th>\n",
       "      <td>8202</td>\n",
       "      <td>not_applicable</td>\n",
       "      <td>NaN</td>\n",
       "      <td>19</td>\n",
       "    </tr>\n",
       "    <tr>\n",
       "      <th>184251</th>\n",
       "      <td>25941</td>\n",
       "      <td>not_applicable</td>\n",
       "      <td>NaN</td>\n",
       "      <td>6</td>\n",
       "    </tr>\n",
       "  </tbody>\n",
       "</table>\n",
       "</div>"
      ],
      "text/plain": [
       "        movieID         actorID actorName  ranking\n",
       "12722       532  not_applicable       NaN       26\n",
       "113034     5218  not_applicable       NaN       15\n",
       "123252     5710  not_applicable       NaN        7\n",
       "168741     8202  not_applicable       NaN       19\n",
       "184251    25941  not_applicable       NaN        6"
      ]
     },
     "execution_count": 109,
     "metadata": {},
     "output_type": "execute_result"
    }
   ],
   "source": [
    "actors[actors['actorName'].isna()]"
   ]
  },
  {
   "cell_type": "code",
   "execution_count": 108,
   "metadata": {},
   "outputs": [
    {
     "data": {
      "text/html": [
       "<div>\n",
       "<style scoped>\n",
       "    .dataframe tbody tr th:only-of-type {\n",
       "        vertical-align: middle;\n",
       "    }\n",
       "\n",
       "    .dataframe tbody tr th {\n",
       "        vertical-align: top;\n",
       "    }\n",
       "\n",
       "    .dataframe thead th {\n",
       "        text-align: right;\n",
       "    }\n",
       "</style>\n",
       "<table border=\"1\" class=\"dataframe\">\n",
       "  <thead>\n",
       "    <tr style=\"text-align: right;\">\n",
       "      <th></th>\n",
       "      <th>movieID</th>\n",
       "      <th>actorID</th>\n",
       "      <th>actorName</th>\n",
       "      <th>ranking</th>\n",
       "    </tr>\n",
       "  </thead>\n",
       "  <tbody>\n",
       "    <tr>\n",
       "      <th>114</th>\n",
       "      <td>6</td>\n",
       "      <td>dennis_haysbert</td>\n",
       "      <td>Dennis Haysbert</td>\n",
       "      <td>14</td>\n",
       "    </tr>\n",
       "    <tr>\n",
       "      <th>130</th>\n",
       "      <td>6</td>\n",
       "      <td>mykelti_williamson</td>\n",
       "      <td>Mykelti Williamson</td>\n",
       "      <td>9</td>\n",
       "    </tr>\n",
       "    <tr>\n",
       "      <th>374</th>\n",
       "      <td>12</td>\n",
       "      <td>maud_winchester</td>\n",
       "      <td>Maud Winchester</td>\n",
       "      <td>27</td>\n",
       "    </tr>\n",
       "    <tr>\n",
       "      <th>411</th>\n",
       "      <td>13</td>\n",
       "      <td>jack_angel</td>\n",
       "      <td>Jack Angel</td>\n",
       "      <td>8</td>\n",
       "    </tr>\n",
       "    <tr>\n",
       "      <th>428</th>\n",
       "      <td>14</td>\n",
       "      <td>bob_hoskins</td>\n",
       "      <td>Bob Hoskins</td>\n",
       "      <td>5</td>\n",
       "    </tr>\n",
       "    <tr>\n",
       "      <th>...</th>\n",
       "      <td>...</td>\n",
       "      <td>...</td>\n",
       "      <td>...</td>\n",
       "      <td>...</td>\n",
       "    </tr>\n",
       "    <tr>\n",
       "      <th>231736</th>\n",
       "      <td>65133</td>\n",
       "      <td>patsy_byrne</td>\n",
       "      <td>Patsy Byrne</td>\n",
       "      <td>5</td>\n",
       "    </tr>\n",
       "    <tr>\n",
       "      <th>231737</th>\n",
       "      <td>65133</td>\n",
       "      <td>rik_mayall</td>\n",
       "      <td>Rik Mayall</td>\n",
       "      <td>6</td>\n",
       "    </tr>\n",
       "    <tr>\n",
       "      <th>231738</th>\n",
       "      <td>65133</td>\n",
       "      <td>rowan_atkinson</td>\n",
       "      <td>Rowan Atkinson</td>\n",
       "      <td>7</td>\n",
       "    </tr>\n",
       "    <tr>\n",
       "      <th>231739</th>\n",
       "      <td>65133</td>\n",
       "      <td>stephen_fry</td>\n",
       "      <td>Stephen Fry</td>\n",
       "      <td>8</td>\n",
       "    </tr>\n",
       "    <tr>\n",
       "      <th>231740</th>\n",
       "      <td>65133</td>\n",
       "      <td>tim_mcinnerny</td>\n",
       "      <td>Tim McInnerny</td>\n",
       "      <td>9</td>\n",
       "    </tr>\n",
       "  </tbody>\n",
       "</table>\n",
       "<p>136421 rows × 4 columns</p>\n",
       "</div>"
      ],
      "text/plain": [
       "        movieID             actorID           actorName  ranking\n",
       "114           6     dennis_haysbert     Dennis Haysbert       14\n",
       "130           6  mykelti_williamson  Mykelti Williamson        9\n",
       "374          12     maud_winchester     Maud Winchester       27\n",
       "411          13          jack_angel          Jack Angel        8\n",
       "428          14         bob_hoskins         Bob Hoskins        5\n",
       "...         ...                 ...                 ...      ...\n",
       "231736    65133         patsy_byrne         Patsy Byrne        5\n",
       "231737    65133          rik_mayall          Rik Mayall        6\n",
       "231738    65133      rowan_atkinson      Rowan Atkinson        7\n",
       "231739    65133         stephen_fry         Stephen Fry        8\n",
       "231740    65133       tim_mcinnerny       Tim McInnerny        9\n",
       "\n",
       "[136421 rows x 4 columns]"
      ]
     },
     "execution_count": 108,
     "metadata": {},
     "output_type": "execute_result"
    }
   ],
   "source": [
    "actors[actors['actorID'].duplicated()]"
   ]
  },
  {
   "cell_type": "code",
   "execution_count": 111,
   "metadata": {},
   "outputs": [
    {
     "data": {
      "text/plain": [
       "robert_de_niro         69\n",
       "samuel_l_jackson       57\n",
       "robert_duvall          56\n",
       "harvey_keitel          55\n",
       "christopher_walken     55\n",
       "                       ..\n",
       "leigh_hamilton          1\n",
       "mapi_galan              1\n",
       "artel_kayaru            1\n",
       "annabella_piugattuk     1\n",
       "antonio_mayans          1\n",
       "Name: actorID, Length: 35008, dtype: int64"
      ]
     },
     "execution_count": 111,
     "metadata": {},
     "output_type": "execute_result"
    }
   ],
   "source": [
    "# only select top-ranked actors?\n",
    "actors[actors['ranking']<10]['actorID'].value_counts()"
   ]
  },
  {
   "cell_type": "code",
   "execution_count": 101,
   "metadata": {},
   "outputs": [
    {
     "data": {
      "text/plain": [
       "count    10174.000000\n",
       "mean        22.777865\n",
       "std         17.560943\n",
       "min          1.000000\n",
       "25%         11.000000\n",
       "50%         17.000000\n",
       "75%         30.000000\n",
       "max        220.000000\n",
       "Name: movieID, dtype: float64"
      ]
     },
     "execution_count": 101,
     "metadata": {},
     "output_type": "execute_result"
    }
   ],
   "source": [
    "actors['movieID'].value_counts().describe()"
   ]
  },
  {
   "cell_type": "code",
   "execution_count": 102,
   "metadata": {},
   "outputs": [
    {
     "data": {
      "text/plain": [
       "3246     220\n",
       "54190    190\n",
       "5686     188\n",
       "785      178\n",
       "7143     163\n",
       "        ... \n",
       "2373       1\n",
       "8908       1\n",
       "26242      1\n",
       "6284       1\n",
       "4458       1\n",
       "Name: movieID, Length: 10174, dtype: int64"
      ]
     },
     "execution_count": 102,
     "metadata": {},
     "output_type": "execute_result"
    }
   ],
   "source": [
    "actors['movieID'].value_counts()"
   ]
  },
  {
   "cell_type": "markdown",
   "metadata": {},
   "source": [
    "# countries"
   ]
  },
  {
   "cell_type": "code",
   "execution_count": 115,
   "metadata": {},
   "outputs": [
    {
     "data": {
      "text/plain": [
       "USA                               6831\n",
       "UK                                1015\n",
       "France                             577\n",
       "Canada                             233\n",
       "Italy                              205\n",
       "                                  ... \n",
       "Algeria                              1\n",
       "Senegal                              1\n",
       "Occupied Palestinian Territory       1\n",
       "Singapore                            1\n",
       "Venezuela                            1\n",
       "Name: country, Length: 71, dtype: int64"
      ]
     },
     "execution_count": 115,
     "metadata": {},
     "output_type": "execute_result"
    }
   ],
   "source": [
    "countries['country'].value_counts()"
   ]
  },
  {
   "cell_type": "code",
   "execution_count": 114,
   "metadata": {},
   "outputs": [
    {
     "data": {
      "text/html": [
       "<div>\n",
       "<style scoped>\n",
       "    .dataframe tbody tr th:only-of-type {\n",
       "        vertical-align: middle;\n",
       "    }\n",
       "\n",
       "    .dataframe tbody tr th {\n",
       "        vertical-align: top;\n",
       "    }\n",
       "\n",
       "    .dataframe thead th {\n",
       "        text-align: right;\n",
       "    }\n",
       "</style>\n",
       "<table border=\"1\" class=\"dataframe\">\n",
       "  <thead>\n",
       "    <tr style=\"text-align: right;\">\n",
       "      <th></th>\n",
       "      <th>movieID</th>\n",
       "      <th>country</th>\n",
       "    </tr>\n",
       "  </thead>\n",
       "  <tbody>\n",
       "    <tr>\n",
       "      <th>0</th>\n",
       "      <td>1</td>\n",
       "      <td>USA</td>\n",
       "    </tr>\n",
       "    <tr>\n",
       "      <th>1</th>\n",
       "      <td>2</td>\n",
       "      <td>USA</td>\n",
       "    </tr>\n",
       "    <tr>\n",
       "      <th>2</th>\n",
       "      <td>3</td>\n",
       "      <td>USA</td>\n",
       "    </tr>\n",
       "    <tr>\n",
       "      <th>3</th>\n",
       "      <td>4</td>\n",
       "      <td>USA</td>\n",
       "    </tr>\n",
       "    <tr>\n",
       "      <th>4</th>\n",
       "      <td>5</td>\n",
       "      <td>USA</td>\n",
       "    </tr>\n",
       "    <tr>\n",
       "      <th>...</th>\n",
       "      <td>...</td>\n",
       "      <td>...</td>\n",
       "    </tr>\n",
       "    <tr>\n",
       "      <th>10192</th>\n",
       "      <td>65088</td>\n",
       "      <td>USA</td>\n",
       "    </tr>\n",
       "    <tr>\n",
       "      <th>10193</th>\n",
       "      <td>65091</td>\n",
       "      <td>USA</td>\n",
       "    </tr>\n",
       "    <tr>\n",
       "      <th>10194</th>\n",
       "      <td>65126</td>\n",
       "      <td>USA</td>\n",
       "    </tr>\n",
       "    <tr>\n",
       "      <th>10195</th>\n",
       "      <td>65130</td>\n",
       "      <td>USA</td>\n",
       "    </tr>\n",
       "    <tr>\n",
       "      <th>10196</th>\n",
       "      <td>65133</td>\n",
       "      <td>UK</td>\n",
       "    </tr>\n",
       "  </tbody>\n",
       "</table>\n",
       "<p>10197 rows × 2 columns</p>\n",
       "</div>"
      ],
      "text/plain": [
       "       movieID country\n",
       "0            1     USA\n",
       "1            2     USA\n",
       "2            3     USA\n",
       "3            4     USA\n",
       "4            5     USA\n",
       "...        ...     ...\n",
       "10192    65088     USA\n",
       "10193    65091     USA\n",
       "10194    65126     USA\n",
       "10195    65130     USA\n",
       "10196    65133      UK\n",
       "\n",
       "[10197 rows x 2 columns]"
      ]
     },
     "execution_count": 114,
     "metadata": {},
     "output_type": "execute_result"
    }
   ],
   "source": []
  },
  {
   "cell_type": "markdown",
   "metadata": {},
   "source": [
    "# directors"
   ]
  },
  {
   "cell_type": "code",
   "execution_count": 117,
   "metadata": {},
   "outputs": [
    {
     "data": {
      "text/plain": [
       "movieID         0\n",
       "directorID      0\n",
       "directorName    0\n",
       "dtype: int64"
      ]
     },
     "execution_count": 117,
     "metadata": {},
     "output_type": "execute_result"
    }
   ],
   "source": [
    "directors.isna().sum()"
   ]
  },
  {
   "cell_type": "code",
   "execution_count": 119,
   "metadata": {},
   "outputs": [
    {
     "data": {
      "text/plain": [
       "alfred_hitchcock     48\n",
       "woody_allen          40\n",
       "clint_eastwood       32\n",
       "martin_scorsese      30\n",
       "akira_kurosawa       30\n",
       "                     ..\n",
       "stuart_burge          1\n",
       "yoshifumi_kondo       1\n",
       "steve_mcqueen_iii     1\n",
       "brian_goodman         1\n",
       "rolf-schubel          1\n",
       "Name: directorID, Length: 4060, dtype: int64"
      ]
     },
     "execution_count": 119,
     "metadata": {},
     "output_type": "execute_result"
    }
   ],
   "source": [
    "directors['directorID'].value_counts()"
   ]
  },
  {
   "cell_type": "markdown",
   "metadata": {},
   "source": [
    "# genres"
   ]
  },
  {
   "cell_type": "code",
   "execution_count": 123,
   "metadata": {},
   "outputs": [
    {
     "data": {
      "text/plain": [
       "Drama          5076\n",
       "Comedy         3566\n",
       "Thriller       1664\n",
       "Romance        1644\n",
       "Action         1445\n",
       "Crime          1086\n",
       "Adventure      1003\n",
       "Horror          978\n",
       "Sci-Fi          740\n",
       "Fantasy         535\n",
       "Children        519\n",
       "Mystery         497\n",
       "War             494\n",
       "Documentary     430\n",
       "Musical         421\n",
       "Animation       279\n",
       "Western         261\n",
       "Film-Noir       145\n",
       "IMAX             25\n",
       "Short             1\n",
       "Name: genre, dtype: int64"
      ]
     },
     "execution_count": 123,
     "metadata": {},
     "output_type": "execute_result"
    }
   ],
   "source": [
    "genres['genre'].value_counts()"
   ]
  },
  {
   "cell_type": "code",
   "execution_count": 122,
   "metadata": {},
   "outputs": [
    {
     "data": {
      "text/html": [
       "<div>\n",
       "<style scoped>\n",
       "    .dataframe tbody tr th:only-of-type {\n",
       "        vertical-align: middle;\n",
       "    }\n",
       "\n",
       "    .dataframe tbody tr th {\n",
       "        vertical-align: top;\n",
       "    }\n",
       "\n",
       "    .dataframe thead th {\n",
       "        text-align: right;\n",
       "    }\n",
       "</style>\n",
       "<table border=\"1\" class=\"dataframe\">\n",
       "  <thead>\n",
       "    <tr style=\"text-align: right;\">\n",
       "      <th></th>\n",
       "      <th>movieID</th>\n",
       "      <th>genre</th>\n",
       "    </tr>\n",
       "  </thead>\n",
       "  <tbody>\n",
       "    <tr>\n",
       "      <th>0</th>\n",
       "      <td>1</td>\n",
       "      <td>Adventure</td>\n",
       "    </tr>\n",
       "    <tr>\n",
       "      <th>1</th>\n",
       "      <td>1</td>\n",
       "      <td>Animation</td>\n",
       "    </tr>\n",
       "    <tr>\n",
       "      <th>2</th>\n",
       "      <td>1</td>\n",
       "      <td>Children</td>\n",
       "    </tr>\n",
       "    <tr>\n",
       "      <th>3</th>\n",
       "      <td>1</td>\n",
       "      <td>Comedy</td>\n",
       "    </tr>\n",
       "    <tr>\n",
       "      <th>4</th>\n",
       "      <td>1</td>\n",
       "      <td>Fantasy</td>\n",
       "    </tr>\n",
       "    <tr>\n",
       "      <th>...</th>\n",
       "      <td>...</td>\n",
       "      <td>...</td>\n",
       "    </tr>\n",
       "    <tr>\n",
       "      <th>20804</th>\n",
       "      <td>65126</td>\n",
       "      <td>Comedy</td>\n",
       "    </tr>\n",
       "    <tr>\n",
       "      <th>20805</th>\n",
       "      <td>65126</td>\n",
       "      <td>Drama</td>\n",
       "    </tr>\n",
       "    <tr>\n",
       "      <th>20806</th>\n",
       "      <td>65130</td>\n",
       "      <td>Drama</td>\n",
       "    </tr>\n",
       "    <tr>\n",
       "      <th>20807</th>\n",
       "      <td>65130</td>\n",
       "      <td>Romance</td>\n",
       "    </tr>\n",
       "    <tr>\n",
       "      <th>20808</th>\n",
       "      <td>65133</td>\n",
       "      <td>Comedy</td>\n",
       "    </tr>\n",
       "  </tbody>\n",
       "</table>\n",
       "<p>20809 rows × 2 columns</p>\n",
       "</div>"
      ],
      "text/plain": [
       "       movieID      genre\n",
       "0            1  Adventure\n",
       "1            1  Animation\n",
       "2            1   Children\n",
       "3            1     Comedy\n",
       "4            1    Fantasy\n",
       "...        ...        ...\n",
       "20804    65126     Comedy\n",
       "20805    65126      Drama\n",
       "20806    65130      Drama\n",
       "20807    65130    Romance\n",
       "20808    65133     Comedy\n",
       "\n",
       "[20809 rows x 2 columns]"
      ]
     },
     "execution_count": 122,
     "metadata": {},
     "output_type": "execute_result"
    }
   ],
   "source": [
    "genres"
   ]
  },
  {
   "cell_type": "markdown",
   "metadata": {},
   "source": [
    "# locations"
   ]
  },
  {
   "cell_type": "code",
   "execution_count": 124,
   "metadata": {},
   "outputs": [
    {
     "data": {
      "text/html": [
       "<div>\n",
       "<style scoped>\n",
       "    .dataframe tbody tr th:only-of-type {\n",
       "        vertical-align: middle;\n",
       "    }\n",
       "\n",
       "    .dataframe tbody tr th {\n",
       "        vertical-align: top;\n",
       "    }\n",
       "\n",
       "    .dataframe thead th {\n",
       "        text-align: right;\n",
       "    }\n",
       "</style>\n",
       "<table border=\"1\" class=\"dataframe\">\n",
       "  <thead>\n",
       "    <tr style=\"text-align: right;\">\n",
       "      <th></th>\n",
       "      <th>movieID</th>\n",
       "      <th>location1</th>\n",
       "      <th>location2</th>\n",
       "      <th>location3</th>\n",
       "      <th>location4</th>\n",
       "    </tr>\n",
       "  </thead>\n",
       "  <tbody>\n",
       "    <tr>\n",
       "      <th>0</th>\n",
       "      <td>1</td>\n",
       "      <td>NaN</td>\n",
       "      <td>NaN</td>\n",
       "      <td>NaN</td>\n",
       "      <td>NaN</td>\n",
       "    </tr>\n",
       "    <tr>\n",
       "      <th>1</th>\n",
       "      <td>2</td>\n",
       "      <td>Canada</td>\n",
       "      <td>British Columbia</td>\n",
       "      <td>NaN</td>\n",
       "      <td>NaN</td>\n",
       "    </tr>\n",
       "    <tr>\n",
       "      <th>2</th>\n",
       "      <td>2</td>\n",
       "      <td>Canada</td>\n",
       "      <td>British Columbia</td>\n",
       "      <td>Delta</td>\n",
       "      <td>NaN</td>\n",
       "    </tr>\n",
       "    <tr>\n",
       "      <th>3</th>\n",
       "      <td>2</td>\n",
       "      <td>Canada</td>\n",
       "      <td>British Columbia</td>\n",
       "      <td>Delta</td>\n",
       "      <td>Tsawwassen</td>\n",
       "    </tr>\n",
       "    <tr>\n",
       "      <th>4</th>\n",
       "      <td>2</td>\n",
       "      <td>Canada</td>\n",
       "      <td>British Columbia</td>\n",
       "      <td>Maple Ridge</td>\n",
       "      <td>NaN</td>\n",
       "    </tr>\n",
       "    <tr>\n",
       "      <th>...</th>\n",
       "      <td>...</td>\n",
       "      <td>...</td>\n",
       "      <td>...</td>\n",
       "      <td>...</td>\n",
       "      <td>...</td>\n",
       "    </tr>\n",
       "    <tr>\n",
       "      <th>49162</th>\n",
       "      <td>65130</td>\n",
       "      <td>USA</td>\n",
       "      <td>New York</td>\n",
       "      <td>New York City</td>\n",
       "      <td>Lower Manhattan, Manhattan</td>\n",
       "    </tr>\n",
       "    <tr>\n",
       "      <th>49163</th>\n",
       "      <td>65130</td>\n",
       "      <td>USA</td>\n",
       "      <td>New York</td>\n",
       "      <td>New York City</td>\n",
       "      <td>Tribeca, Manhattan</td>\n",
       "    </tr>\n",
       "    <tr>\n",
       "      <th>49164</th>\n",
       "      <td>65130</td>\n",
       "      <td>USA</td>\n",
       "      <td>New York</td>\n",
       "      <td>Westchester County</td>\n",
       "      <td>NaN</td>\n",
       "    </tr>\n",
       "    <tr>\n",
       "      <th>49165</th>\n",
       "      <td>65133</td>\n",
       "      <td>UK</td>\n",
       "      <td>England</td>\n",
       "      <td>Hertfordshire</td>\n",
       "      <td>Wrotham Park, Barnet</td>\n",
       "    </tr>\n",
       "    <tr>\n",
       "      <th>49166</th>\n",
       "      <td>65133</td>\n",
       "      <td>UK</td>\n",
       "      <td>England</td>\n",
       "      <td>Surrey</td>\n",
       "      <td>Shepperton Studios, Shepperton</td>\n",
       "    </tr>\n",
       "  </tbody>\n",
       "</table>\n",
       "<p>49167 rows × 5 columns</p>\n",
       "</div>"
      ],
      "text/plain": [
       "       movieID location1         location2           location3  \\\n",
       "0            1       NaN               NaN                 NaN   \n",
       "1            2    Canada  British Columbia                 NaN   \n",
       "2            2    Canada  British Columbia               Delta   \n",
       "3            2    Canada  British Columbia               Delta   \n",
       "4            2    Canada  British Columbia         Maple Ridge   \n",
       "...        ...       ...               ...                 ...   \n",
       "49162    65130       USA          New York       New York City   \n",
       "49163    65130       USA          New York       New York City   \n",
       "49164    65130       USA          New York  Westchester County   \n",
       "49165    65133        UK           England       Hertfordshire   \n",
       "49166    65133        UK           England              Surrey   \n",
       "\n",
       "                            location4  \n",
       "0                                 NaN  \n",
       "1                                 NaN  \n",
       "2                                 NaN  \n",
       "3                          Tsawwassen  \n",
       "4                                 NaN  \n",
       "...                               ...  \n",
       "49162      Lower Manhattan, Manhattan  \n",
       "49163              Tribeca, Manhattan  \n",
       "49164                             NaN  \n",
       "49165            Wrotham Park, Barnet  \n",
       "49166  Shepperton Studios, Shepperton  \n",
       "\n",
       "[49167 rows x 5 columns]"
      ]
     },
     "execution_count": 124,
     "metadata": {},
     "output_type": "execute_result"
    }
   ],
   "source": [
    "locations"
   ]
  },
  {
   "cell_type": "markdown",
   "metadata": {},
   "source": [
    "# movie_tags"
   ]
  },
  {
   "cell_type": "code",
   "execution_count": 132,
   "metadata": {},
   "outputs": [
    {
     "data": {
      "text/html": [
       "<div>\n",
       "<style scoped>\n",
       "    .dataframe tbody tr th:only-of-type {\n",
       "        vertical-align: middle;\n",
       "    }\n",
       "\n",
       "    .dataframe tbody tr th {\n",
       "        vertical-align: top;\n",
       "    }\n",
       "\n",
       "    .dataframe thead th {\n",
       "        text-align: right;\n",
       "    }\n",
       "</style>\n",
       "<table border=\"1\" class=\"dataframe\">\n",
       "  <thead>\n",
       "    <tr style=\"text-align: right;\">\n",
       "      <th></th>\n",
       "      <th>movieID</th>\n",
       "      <th>tagID</th>\n",
       "      <th>tagWeight</th>\n",
       "    </tr>\n",
       "  </thead>\n",
       "  <tbody>\n",
       "    <tr>\n",
       "      <th>0</th>\n",
       "      <td>1</td>\n",
       "      <td>7</td>\n",
       "      <td>1</td>\n",
       "    </tr>\n",
       "    <tr>\n",
       "      <th>1</th>\n",
       "      <td>1</td>\n",
       "      <td>13</td>\n",
       "      <td>3</td>\n",
       "    </tr>\n",
       "    <tr>\n",
       "      <th>2</th>\n",
       "      <td>1</td>\n",
       "      <td>25</td>\n",
       "      <td>3</td>\n",
       "    </tr>\n",
       "    <tr>\n",
       "      <th>3</th>\n",
       "      <td>1</td>\n",
       "      <td>55</td>\n",
       "      <td>3</td>\n",
       "    </tr>\n",
       "    <tr>\n",
       "      <th>4</th>\n",
       "      <td>1</td>\n",
       "      <td>60</td>\n",
       "      <td>1</td>\n",
       "    </tr>\n",
       "    <tr>\n",
       "      <th>...</th>\n",
       "      <td>...</td>\n",
       "      <td>...</td>\n",
       "      <td>...</td>\n",
       "    </tr>\n",
       "    <tr>\n",
       "      <th>51790</th>\n",
       "      <td>65037</td>\n",
       "      <td>792</td>\n",
       "      <td>1</td>\n",
       "    </tr>\n",
       "    <tr>\n",
       "      <th>51791</th>\n",
       "      <td>65037</td>\n",
       "      <td>2214</td>\n",
       "      <td>1</td>\n",
       "    </tr>\n",
       "    <tr>\n",
       "      <th>51792</th>\n",
       "      <td>65126</td>\n",
       "      <td>5281</td>\n",
       "      <td>1</td>\n",
       "    </tr>\n",
       "    <tr>\n",
       "      <th>51793</th>\n",
       "      <td>65126</td>\n",
       "      <td>13168</td>\n",
       "      <td>1</td>\n",
       "    </tr>\n",
       "    <tr>\n",
       "      <th>51794</th>\n",
       "      <td>65130</td>\n",
       "      <td>2924</td>\n",
       "      <td>1</td>\n",
       "    </tr>\n",
       "  </tbody>\n",
       "</table>\n",
       "<p>51795 rows × 3 columns</p>\n",
       "</div>"
      ],
      "text/plain": [
       "       movieID  tagID  tagWeight\n",
       "0            1      7          1\n",
       "1            1     13          3\n",
       "2            1     25          3\n",
       "3            1     55          3\n",
       "4            1     60          1\n",
       "...        ...    ...        ...\n",
       "51790    65037    792          1\n",
       "51791    65037   2214          1\n",
       "51792    65126   5281          1\n",
       "51793    65126  13168          1\n",
       "51794    65130   2924          1\n",
       "\n",
       "[51795 rows x 3 columns]"
      ]
     },
     "execution_count": 132,
     "metadata": {},
     "output_type": "execute_result"
    }
   ],
   "source": [
    "movie_tags"
   ]
  },
  {
   "cell_type": "code",
   "execution_count": 127,
   "metadata": {},
   "outputs": [
    {
     "data": {
      "text/plain": [
       "6800     640\n",
       "398      491\n",
       "1925     403\n",
       "887      370\n",
       "1061     369\n",
       "        ... \n",
       "14252      2\n",
       "12207      2\n",
       "12785      2\n",
       "8169       2\n",
       "2049       2\n",
       "Name: tagID, Length: 5297, dtype: int64"
      ]
     },
     "execution_count": 127,
     "metadata": {},
     "output_type": "execute_result"
    }
   ],
   "source": [
    "movie_tags['tagID'].value_counts()"
   ]
  },
  {
   "cell_type": "code",
   "execution_count": 128,
   "metadata": {},
   "outputs": [
    {
     "data": {
      "text/html": [
       "<div>\n",
       "<style scoped>\n",
       "    .dataframe tbody tr th:only-of-type {\n",
       "        vertical-align: middle;\n",
       "    }\n",
       "\n",
       "    .dataframe tbody tr th {\n",
       "        vertical-align: top;\n",
       "    }\n",
       "\n",
       "    .dataframe thead th {\n",
       "        text-align: right;\n",
       "    }\n",
       "</style>\n",
       "<table border=\"1\" class=\"dataframe\">\n",
       "  <thead>\n",
       "    <tr style=\"text-align: right;\">\n",
       "      <th></th>\n",
       "      <th>id</th>\n",
       "      <th>value</th>\n",
       "    </tr>\n",
       "  </thead>\n",
       "  <tbody>\n",
       "    <tr>\n",
       "      <th>5887</th>\n",
       "      <td>6800</td>\n",
       "      <td>tumeys dvds</td>\n",
       "    </tr>\n",
       "  </tbody>\n",
       "</table>\n",
       "</div>"
      ],
      "text/plain": [
       "        id        value\n",
       "5887  6800  tumeys dvds"
      ]
     },
     "execution_count": 128,
     "metadata": {},
     "output_type": "execute_result"
    }
   ],
   "source": [
    "# strange tags?\n",
    "tags[tags['id']==6800]"
   ]
  },
  {
   "cell_type": "code",
   "execution_count": 129,
   "metadata": {},
   "outputs": [
    {
     "data": {
      "text/html": [
       "<div>\n",
       "<style scoped>\n",
       "    .dataframe tbody tr th:only-of-type {\n",
       "        vertical-align: middle;\n",
       "    }\n",
       "\n",
       "    .dataframe tbody tr th {\n",
       "        vertical-align: top;\n",
       "    }\n",
       "\n",
       "    .dataframe thead th {\n",
       "        text-align: right;\n",
       "    }\n",
       "</style>\n",
       "<table border=\"1\" class=\"dataframe\">\n",
       "  <thead>\n",
       "    <tr style=\"text-align: right;\">\n",
       "      <th></th>\n",
       "      <th>id</th>\n",
       "      <th>value</th>\n",
       "    </tr>\n",
       "  </thead>\n",
       "  <tbody>\n",
       "    <tr>\n",
       "      <th>379</th>\n",
       "      <td>398</td>\n",
       "      <td>less than 300 ratings</td>\n",
       "    </tr>\n",
       "  </tbody>\n",
       "</table>\n",
       "</div>"
      ],
      "text/plain": [
       "      id                  value\n",
       "379  398  less than 300 ratings"
      ]
     },
     "execution_count": 129,
     "metadata": {},
     "output_type": "execute_result"
    }
   ],
   "source": [
    "tags[tags['id']==398]"
   ]
  },
  {
   "cell_type": "code",
   "execution_count": 130,
   "metadata": {},
   "outputs": [
    {
     "data": {
      "text/html": [
       "<div>\n",
       "<style scoped>\n",
       "    .dataframe tbody tr th:only-of-type {\n",
       "        vertical-align: middle;\n",
       "    }\n",
       "\n",
       "    .dataframe tbody tr th {\n",
       "        vertical-align: top;\n",
       "    }\n",
       "\n",
       "    .dataframe thead th {\n",
       "        text-align: right;\n",
       "    }\n",
       "</style>\n",
       "<table border=\"1\" class=\"dataframe\">\n",
       "  <thead>\n",
       "    <tr style=\"text-align: right;\">\n",
       "      <th></th>\n",
       "      <th>id</th>\n",
       "      <th>value</th>\n",
       "    </tr>\n",
       "  </thead>\n",
       "  <tbody>\n",
       "    <tr>\n",
       "      <th>1717</th>\n",
       "      <td>1925</td>\n",
       "      <td>erlends dvds</td>\n",
       "    </tr>\n",
       "  </tbody>\n",
       "</table>\n",
       "</div>"
      ],
      "text/plain": [
       "        id         value\n",
       "1717  1925  erlends dvds"
      ]
     },
     "execution_count": 130,
     "metadata": {},
     "output_type": "execute_result"
    }
   ],
   "source": [
    "tags[tags['id']==1925]"
   ]
  },
  {
   "cell_type": "code",
   "execution_count": 131,
   "metadata": {},
   "outputs": [
    {
     "data": {
      "text/html": [
       "<div>\n",
       "<style scoped>\n",
       "    .dataframe tbody tr th:only-of-type {\n",
       "        vertical-align: middle;\n",
       "    }\n",
       "\n",
       "    .dataframe tbody tr th {\n",
       "        vertical-align: top;\n",
       "    }\n",
       "\n",
       "    .dataframe thead th {\n",
       "        text-align: right;\n",
       "    }\n",
       "</style>\n",
       "<table border=\"1\" class=\"dataframe\">\n",
       "  <thead>\n",
       "    <tr style=\"text-align: right;\">\n",
       "      <th></th>\n",
       "      <th>id</th>\n",
       "      <th>value</th>\n",
       "    </tr>\n",
       "  </thead>\n",
       "  <tbody>\n",
       "    <tr>\n",
       "      <th>799</th>\n",
       "      <td>887</td>\n",
       "      <td>70mm</td>\n",
       "    </tr>\n",
       "  </tbody>\n",
       "</table>\n",
       "</div>"
      ],
      "text/plain": [
       "      id value\n",
       "799  887  70mm"
      ]
     },
     "execution_count": 131,
     "metadata": {},
     "output_type": "execute_result"
    }
   ],
   "source": [
    "tags[tags['id']==887]"
   ]
  },
  {
   "cell_type": "markdown",
   "metadata": {},
   "source": [
    "# omdb"
   ]
  },
  {
   "cell_type": "code",
   "execution_count": 134,
   "metadata": {},
   "outputs": [],
   "source": [
    "del omdb['Unnamed: 0']"
   ]
  },
  {
   "cell_type": "code",
   "execution_count": 136,
   "metadata": {},
   "outputs": [
    {
     "data": {
      "text/plain": [
       "Index(['Title', 'Year', 'Rated', 'Released', 'Runtime', 'Genre', 'Director',\n",
       "       'Writer', 'Actors', 'Plot', 'Language', 'Country', 'Awards', 'Poster',\n",
       "       'Metascore', 'imdbRating', 'imdbVotes', 'imdbID', 'Type', 'DVD',\n",
       "       'BoxOffice', 'Production', 'Website', 'Response',\n",
       "       'Internet Movie Database', 'Rotten Tomatoes', 'Metacritic',\n",
       "       'totalSeasons', 'Season', 'Episode', 'seriesID'],\n",
       "      dtype='object')"
      ]
     },
     "execution_count": 136,
     "metadata": {},
     "output_type": "execute_result"
    }
   ],
   "source": [
    "omdb.columns"
   ]
  },
  {
   "cell_type": "code",
   "execution_count": 139,
   "metadata": {},
   "outputs": [
    {
     "data": {
      "text/plain": [
       "Title                          0\n",
       "Year                           0\n",
       "Rated                        447\n",
       "Released                      58\n",
       "Runtime                        9\n",
       "Genre                          6\n",
       "Director                      75\n",
       "Writer                       221\n",
       "Actors                        11\n",
       "Plot                          19\n",
       "Language                      27\n",
       "Country                        5\n",
       "Awards                      2187\n",
       "Poster                        12\n",
       "Metascore                   4179\n",
       "imdbRating                     4\n",
       "imdbVotes                      7\n",
       "imdbID                         0\n",
       "Type                           0\n",
       "DVD                         8562\n",
       "BoxOffice                  10015\n",
       "Production                  8605\n",
       "Website                    10182\n",
       "Response                       0\n",
       "Internet Movie Database        4\n",
       "Rotten Tomatoes             1297\n",
       "Metacritic                  4177\n",
       "totalSeasons               10124\n",
       "Season                     10184\n",
       "Episode                    10184\n",
       "seriesID                   10184\n",
       "dtype: int64"
      ]
     },
     "execution_count": 139,
     "metadata": {},
     "output_type": "execute_result"
    }
   ],
   "source": [
    "omdb.isna().sum()"
   ]
  },
  {
   "cell_type": "code",
   "execution_count": null,
   "metadata": {},
   "outputs": [],
   "source": []
  }
 ],
 "metadata": {
  "kernelspec": {
   "display_name": "Python 3",
   "language": "python",
   "name": "python3"
  },
  "language_info": {
   "codemirror_mode": {
    "name": "ipython",
    "version": 3
   },
   "file_extension": ".py",
   "mimetype": "text/x-python",
   "name": "python",
   "nbconvert_exporter": "python",
   "pygments_lexer": "ipython3",
   "version": "3.8.3"
  }
 },
 "nbformat": 4,
 "nbformat_minor": 4
}
