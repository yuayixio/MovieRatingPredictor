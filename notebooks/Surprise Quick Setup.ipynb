{
 "cells": [
  {
   "cell_type": "code",
   "execution_count": 12,
   "metadata": {},
   "outputs": [],
   "source": [
    "import pan das as pd\n",
    "\n",
    "from surprise import NormalPredictor\n",
    "from surprise import SVD\n",
    "from surprise import KNNBasic\n",
    "from surprise import Dataset\n",
    "from surprise import Reader\n",
    "from surprise.model_selection import cross_validate"
   ]
  },
  {
   "cell_type": "code",
   "execution_count": 2,
   "metadata": {},
   "outputs": [],
   "source": [
    "ratings = pd.read_csv('../data/raw/ratings.csv', sep=',')"
   ]
  },
  {
   "cell_type": "code",
   "execution_count": 3,
   "metadata": {},
   "outputs": [
    {
     "data": {
      "text/html": [
       "<div>\n",
       "<style scoped>\n",
       "    .dataframe tbody tr th:only-of-type {\n",
       "        vertical-align: middle;\n",
       "    }\n",
       "\n",
       "    .dataframe tbody tr th {\n",
       "        vertical-align: top;\n",
       "    }\n",
       "\n",
       "    .dataframe thead th {\n",
       "        text-align: right;\n",
       "    }\n",
       "</style>\n",
       "<table border=\"1\" class=\"dataframe\">\n",
       "  <thead>\n",
       "    <tr style=\"text-align: right;\">\n",
       "      <th></th>\n",
       "      <th>user_id</th>\n",
       "      <th>movieID</th>\n",
       "      <th>rating</th>\n",
       "    </tr>\n",
       "  </thead>\n",
       "  <tbody>\n",
       "    <tr>\n",
       "      <th>count</th>\n",
       "      <td>812818.000000</td>\n",
       "      <td>812818.000000</td>\n",
       "      <td>812818.000000</td>\n",
       "    </tr>\n",
       "    <tr>\n",
       "      <th>mean</th>\n",
       "      <td>689.692353</td>\n",
       "      <td>8706.134093</td>\n",
       "      <td>3.437447</td>\n",
       "    </tr>\n",
       "    <tr>\n",
       "      <th>std</th>\n",
       "      <td>498.190021</td>\n",
       "      <td>14439.659629</td>\n",
       "      <td>1.002791</td>\n",
       "    </tr>\n",
       "    <tr>\n",
       "      <th>min</th>\n",
       "      <td>0.000000</td>\n",
       "      <td>1.000000</td>\n",
       "      <td>0.500000</td>\n",
       "    </tr>\n",
       "    <tr>\n",
       "      <th>25%</th>\n",
       "      <td>273.000000</td>\n",
       "      <td>1367.000000</td>\n",
       "      <td>3.000000</td>\n",
       "    </tr>\n",
       "    <tr>\n",
       "      <th>50%</th>\n",
       "      <td>593.000000</td>\n",
       "      <td>3249.000000</td>\n",
       "      <td>3.500000</td>\n",
       "    </tr>\n",
       "    <tr>\n",
       "      <th>75%</th>\n",
       "      <td>1040.000000</td>\n",
       "      <td>6534.000000</td>\n",
       "      <td>4.000000</td>\n",
       "    </tr>\n",
       "    <tr>\n",
       "      <th>max</th>\n",
       "      <td>2112.000000</td>\n",
       "      <td>65133.000000</td>\n",
       "      <td>5.000000</td>\n",
       "    </tr>\n",
       "  </tbody>\n",
       "</table>\n",
       "</div>"
      ],
      "text/plain": [
       "             user_id        movieID         rating\n",
       "count  812818.000000  812818.000000  812818.000000\n",
       "mean      689.692353    8706.134093       3.437447\n",
       "std       498.190021   14439.659629       1.002791\n",
       "min         0.000000       1.000000       0.500000\n",
       "25%       273.000000    1367.000000       3.000000\n",
       "50%       593.000000    3249.000000       3.500000\n",
       "75%      1040.000000    6534.000000       4.000000\n",
       "max      2112.000000   65133.000000       5.000000"
      ]
     },
     "execution_count": 3,
     "metadata": {},
     "output_type": "execute_result"
    }
   ],
   "source": [
    "ratings.describe()"
   ]
  },
  {
   "cell_type": "code",
   "execution_count": 5,
   "metadata": {},
   "outputs": [],
   "source": [
    "# build a reader, define the rating scale (minimum and maximum value)\n",
    "reader = Reader(rating_scale=(0.5, 5))\n",
    "\n",
    "# The columns must be in the order of user id, item id and ratings \n",
    "data = Dataset.load_from_df(ratings[['user_id', 'movieID', 'rating']], reader)"
   ]
  },
  {
   "cell_type": "code",
   "execution_count": 13,
   "metadata": {},
   "outputs": [
    {
     "data": {
      "text/plain": [
       "{'test_rmse': array([1.37887753, 1.3822837 , 1.38455046, 1.37976877, 1.37834124]),\n",
       " 'test_mae': array([1.09888479, 1.10241847, 1.10189494, 1.09934343, 1.09819222]),\n",
       " 'fit_time': (0.9818909168243408,\n",
       "  1.1790714263916016,\n",
       "  1.1470410823822021,\n",
       "  1.1470415592193604,\n",
       "  1.1520462036132812),\n",
       " 'test_time': (1.2611455917358398,\n",
       "  1.4423105716705322,\n",
       "  1.3882603645324707,\n",
       "  1.5403988361358643,\n",
       "  1.4052760601043701)}"
      ]
     },
     "execution_count": 13,
     "metadata": {},
     "output_type": "execute_result"
    }
   ],
   "source": [
    "# We can now use this dataset as we please, e.g. calling cross_validate\n",
    "cross_validate(NormalPredictor(), data, cv=5)"
   ]
  },
  {
   "cell_type": "code",
   "execution_count": 14,
   "metadata": {},
   "outputs": [
    {
     "data": {
      "text/plain": [
       "{'test_rmse': array([0.77295206, 0.77452598, 0.77456965, 0.77336247, 0.77383235]),\n",
       " 'test_mae': array([0.58639007, 0.58638703, 0.58594585, 0.58580674, 0.58629899]),\n",
       " 'fit_time': (35.7544732093811,\n",
       "  37.15017008781433,\n",
       "  35.74535894393921,\n",
       "  36.005547285079956,\n",
       "  35.5472846031189),\n",
       " 'test_time': (1.4603257179260254,\n",
       "  1.4353036880493164,\n",
       "  1.421290636062622,\n",
       "  1.5964505672454834,\n",
       "  1.429297924041748)}"
      ]
     },
     "execution_count": 14,
     "metadata": {},
     "output_type": "execute_result"
    }
   ],
   "source": [
    "cross_validate(SVD(), data, cv=5)"
   ]
  },
  {
   "cell_type": "code",
   "execution_count": 15,
   "metadata": {},
   "outputs": [
    {
     "name": "stdout",
     "output_type": "stream",
     "text": [
      "Computing the msd similarity matrix...\n",
      "Done computing similarity matrix.\n",
      "Computing the msd similarity matrix...\n",
      "Done computing similarity matrix.\n",
      "Computing the msd similarity matrix...\n",
      "Done computing similarity matrix.\n",
      "Computing the msd similarity matrix...\n",
      "Done computing similarity matrix.\n",
      "Computing the msd similarity matrix...\n",
      "Done computing similarity matrix.\n"
     ]
    },
    {
     "data": {
      "text/plain": [
       "{'test_rmse': array([0.82025873, 0.82042603, 0.82259845, 0.81998164, 0.82060395]),\n",
       " 'test_mae': array([0.61968453, 0.61950368, 0.62178122, 0.61977187, 0.62085926]),\n",
       " 'fit_time': (13.00881552696228,\n",
       "  13.048851490020752,\n",
       "  13.144938945770264,\n",
       "  13.609359979629517,\n",
       "  13.314763307571411),\n",
       " 'test_time': (48.62015676498413,\n",
       "  48.607144832611084,\n",
       "  50.255642890930176,\n",
       "  49.795599699020386,\n",
       "  49.35782718658447)}"
      ]
     },
     "execution_count": 15,
     "metadata": {},
     "output_type": "execute_result"
    }
   ],
   "source": [
    "cross_validate(KNNBasic(), data, cv=5)"
   ]
  },
  {
   "cell_type": "code",
   "execution_count": null,
   "metadata": {},
   "outputs": [],
   "source": []
  }
 ],
 "metadata": {
  "kernelspec": {
   "display_name": "Python 3",
   "language": "python",
   "name": "python3"
  },
  "language_info": {
   "codemirror_mode": {
    "name": "ipython",
    "version": 3
   },
   "file_extension": ".py",
   "mimetype": "text/x-python",
   "name": "python",
   "nbconvert_exporter": "python",
   "pygments_lexer": "ipython3",
   "version": "3.8.3"
  }
 },
 "nbformat": 4,
 "nbformat_minor": 4
}
