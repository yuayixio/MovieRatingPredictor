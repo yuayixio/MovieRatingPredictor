{
 "cells": [
  {
   "cell_type": "markdown",
   "metadata": {},
   "source": [
    "# Surprise is a library for collaborative filtering"
   ]
  },
  {
   "cell_type": "markdown",
   "metadata": {},
   "source": [
    "## Input data for each algorithm (in this order:) #user_id #item_id #rating\n",
    "#### https://towardsdatascience.com/building-and-testing-recommender-systems-with-surprise-step-by-step-d4ba702ef80b\n",
    "#### https://nbviewer.jupyter.org/github/NicolasHug/Surprise/blob/master/examples/notebooks/KNNBasic_analysis.ipynb\n",
    "#### https://blog.cambridgespark.com/tutorial-practical-introduction-to-recommender-systems-dbe22848392b"
   ]
  },
  {
   "cell_type": "code",
   "execution_count": 33,
   "metadata": {},
   "outputs": [],
   "source": [
    "import pandas as pd\n",
    "\n",
    "from surprise import NormalPredictor\n",
    "from surprise import SVD\n",
    "from surprise import SlopeOne\n",
    "from surprise import Dataset\n",
    "from surprise import Reader\n",
    "from surprise.model_selection import cross_validate, GridSearchCV\n",
    "from surprise import KNNBasic, KNNWithMeans, KNNWithZScore, KNNBaseline, BaselineOnly, CoClustering, SVDpp\n",
    "from surprise.accuracy import rmse\n",
    "from surprise.model_selection import train_test_split as surprise_train_test_split\n",
    "\n",
    "# set random state for reproducibility\n",
    "kwargs = dict(random_state=42)"
   ]
  },
  {
   "cell_type": "code",
   "execution_count": 2,
   "metadata": {},
   "outputs": [],
   "source": [
    "ratings = pd.read_csv('../data/raw/ratings.csv', sep=',')"
   ]
  },
  {
   "cell_type": "code",
   "execution_count": 3,
   "metadata": {},
   "outputs": [
    {
     "data": {
      "text/html": [
       "<div>\n",
       "<style scoped>\n",
       "    .dataframe tbody tr th:only-of-type {\n",
       "        vertical-align: middle;\n",
       "    }\n",
       "\n",
       "    .dataframe tbody tr th {\n",
       "        vertical-align: top;\n",
       "    }\n",
       "\n",
       "    .dataframe thead th {\n",
       "        text-align: right;\n",
       "    }\n",
       "</style>\n",
       "<table border=\"1\" class=\"dataframe\">\n",
       "  <thead>\n",
       "    <tr style=\"text-align: right;\">\n",
       "      <th></th>\n",
       "      <th>user_id</th>\n",
       "      <th>movieID</th>\n",
       "      <th>rating</th>\n",
       "    </tr>\n",
       "  </thead>\n",
       "  <tbody>\n",
       "    <tr>\n",
       "      <th>count</th>\n",
       "      <td>812818.000000</td>\n",
       "      <td>812818.000000</td>\n",
       "      <td>812818.000000</td>\n",
       "    </tr>\n",
       "    <tr>\n",
       "      <th>mean</th>\n",
       "      <td>689.692353</td>\n",
       "      <td>8706.134093</td>\n",
       "      <td>3.437447</td>\n",
       "    </tr>\n",
       "    <tr>\n",
       "      <th>std</th>\n",
       "      <td>498.190021</td>\n",
       "      <td>14439.659629</td>\n",
       "      <td>1.002791</td>\n",
       "    </tr>\n",
       "    <tr>\n",
       "      <th>min</th>\n",
       "      <td>0.000000</td>\n",
       "      <td>1.000000</td>\n",
       "      <td>0.500000</td>\n",
       "    </tr>\n",
       "    <tr>\n",
       "      <th>25%</th>\n",
       "      <td>273.000000</td>\n",
       "      <td>1367.000000</td>\n",
       "      <td>3.000000</td>\n",
       "    </tr>\n",
       "    <tr>\n",
       "      <th>50%</th>\n",
       "      <td>593.000000</td>\n",
       "      <td>3249.000000</td>\n",
       "      <td>3.500000</td>\n",
       "    </tr>\n",
       "    <tr>\n",
       "      <th>75%</th>\n",
       "      <td>1040.000000</td>\n",
       "      <td>6534.000000</td>\n",
       "      <td>4.000000</td>\n",
       "    </tr>\n",
       "    <tr>\n",
       "      <th>max</th>\n",
       "      <td>2112.000000</td>\n",
       "      <td>65133.000000</td>\n",
       "      <td>5.000000</td>\n",
       "    </tr>\n",
       "  </tbody>\n",
       "</table>\n",
       "</div>"
      ],
      "text/plain": [
       "             user_id        movieID         rating\n",
       "count  812818.000000  812818.000000  812818.000000\n",
       "mean      689.692353    8706.134093       3.437447\n",
       "std       498.190021   14439.659629       1.002791\n",
       "min         0.000000       1.000000       0.500000\n",
       "25%       273.000000    1367.000000       3.000000\n",
       "50%       593.000000    3249.000000       3.500000\n",
       "75%      1040.000000    6534.000000       4.000000\n",
       "max      2112.000000   65133.000000       5.000000"
      ]
     },
     "execution_count": 3,
     "metadata": {},
     "output_type": "execute_result"
    }
   ],
   "source": [
    "ratings.describe()"
   ]
  },
  {
   "cell_type": "code",
   "execution_count": 4,
   "metadata": {},
   "outputs": [],
   "source": [
    "# build a reader, define the rating scale (minimum and maximum value)\n",
    "reader = Reader(rating_scale=(0.5, 5))\n",
    "\n",
    "# The columns must be in the order of user id, item id and ratings \n",
    "data = Dataset.load_from_df(ratings[['user_id', 'movieID', 'rating']], reader)"
   ]
  },
  {
   "cell_type": "markdown",
   "metadata": {},
   "source": [
    "Cross-validate different collaborative-filtering algorithms"
   ]
  },
  {
   "cell_type": "code",
   "execution_count": 5,
   "metadata": {},
   "outputs": [],
   "source": [
    "# Basic prediction algorithms"
   ]
  },
  {
   "cell_type": "code",
   "execution_count": 6,
   "metadata": {},
   "outputs": [
    {
     "data": {
      "text/plain": [
       "{'test_rmse': array([1.38293621, 1.37909338, 1.38348484, 1.38148618, 1.38095311]),\n",
       " 'test_mae': array([1.10207133, 1.09935957, 1.10195359, 1.10153856, 1.09985882]),\n",
       " 'fit_time': (1.1751799583435059,\n",
       "  1.5376050472259521,\n",
       "  1.6252198219299316,\n",
       "  1.4448628425598145,\n",
       "  1.628993034362793),\n",
       " 'test_time': (2.0391452312469482,\n",
       "  1.6880578994750977,\n",
       "  1.6698150634765625,\n",
       "  1.581482172012329,\n",
       "  1.6205618381500244)}"
      ]
     },
     "execution_count": 6,
     "metadata": {},
     "output_type": "execute_result"
    }
   ],
   "source": [
    "# Normal Predictor predicting a random rating based on the distribution of the training set \n",
    "# distribution is assumed to be normal\n",
    "cross_validate(NormalPredictor(), data, cv=5)"
   ]
  },
  {
   "cell_type": "code",
   "execution_count": 7,
   "metadata": {},
   "outputs": [
    {
     "data": {
      "text/plain": [
       "{'test_rmse': array([0.77433474, 0.77338096, 0.7749435 , 0.77210478, 0.77261608]),\n",
       " 'test_mae': array([0.58586467, 0.58530208, 0.58636314, 0.58458287, 0.58564174]),\n",
       " 'fit_time': (38.377469062805176,\n",
       "  37.70374917984009,\n",
       "  38.74200391769409,\n",
       "  38.26911783218384,\n",
       "  36.012696981430054),\n",
       " 'test_time': (1.667863130569458,\n",
       "  1.607652187347412,\n",
       "  2.136852979660034,\n",
       "  1.7461907863616943,\n",
       "  1.5753850936889648)}"
      ]
     },
     "execution_count": 7,
     "metadata": {},
     "output_type": "execute_result"
    }
   ],
   "source": [
    "# Singular Value Decomposition\n",
    "cross_validate(SVD(), data, cv=5)"
   ]
  },
  {
   "cell_type": "code",
   "execution_count": 8,
   "metadata": {},
   "outputs": [
    {
     "name": "stdout",
     "output_type": "stream",
     "text": [
      "Computing the msd similarity matrix...\n",
      "Done computing similarity matrix.\n",
      "Computing the msd similarity matrix...\n",
      "Done computing similarity matrix.\n",
      "Computing the msd similarity matrix...\n",
      "Done computing similarity matrix.\n",
      "Computing the msd similarity matrix...\n",
      "Done computing similarity matrix.\n",
      "Computing the msd similarity matrix...\n",
      "Done computing similarity matrix.\n"
     ]
    },
    {
     "data": {
      "text/plain": [
       "{'test_rmse': array([0.82068863, 0.82049977, 0.81970893, 0.82205131, 0.82250005]),\n",
       " 'test_mae': array([0.61990558, 0.61952323, 0.6197012 , 0.62223963, 0.62119363]),\n",
       " 'fit_time': (7.732069969177246,\n",
       "  8.274495124816895,\n",
       "  8.068937301635742,\n",
       "  10.549314975738525,\n",
       "  8.069509983062744),\n",
       " 'test_time': (54.254112005233765,\n",
       "  52.63852906227112,\n",
       "  54.59881520271301,\n",
       "  51.43642210960388,\n",
       "  55.17534112930298)}"
      ]
     },
     "execution_count": 8,
     "metadata": {},
     "output_type": "execute_result"
    }
   ],
   "source": [
    "# Simple K-Nearest-Neighbor (KNN) Algorithm\n",
    "cross_validate(KNNBasic(), data, cv=5)"
   ]
  },
  {
   "cell_type": "code",
   "execution_count": 9,
   "metadata": {},
   "outputs": [
    {
     "name": "stdout",
     "output_type": "stream",
     "text": [
      "Computing the msd similarity matrix...\n",
      "Done computing similarity matrix.\n",
      "Computing the msd similarity matrix...\n",
      "Done computing similarity matrix.\n",
      "Computing the msd similarity matrix...\n",
      "Done computing similarity matrix.\n",
      "Computing the msd similarity matrix...\n",
      "Done computing similarity matrix.\n",
      "Computing the msd similarity matrix...\n",
      "Done computing similarity matrix.\n"
     ]
    },
    {
     "data": {
      "text/plain": [
       "{'test_rmse': array([0.80539733, 0.80865978, 0.80628723, 0.80802487, 0.80712037]),\n",
       " 'test_mae': array([0.61110584, 0.6128266 , 0.61228491, 0.61254773, 0.61334773]),\n",
       " 'fit_time': (9.30230188369751,\n",
       "  9.643959045410156,\n",
       "  8.63787293434143,\n",
       "  9.81911587715149,\n",
       "  9.302175998687744),\n",
       " 'test_time': (62.991698026657104,\n",
       "  56.422497034072876,\n",
       "  55.804354190826416,\n",
       "  57.11968803405762,\n",
       "  54.328469038009644)}"
      ]
     },
     "execution_count": 9,
     "metadata": {},
     "output_type": "execute_result"
    }
   ],
   "source": [
    "# KNN, taking into account the z-score normalization of each user.\n",
    "cross_validate(KNNWithZScore(), data, cv=5)"
   ]
  },
  {
   "cell_type": "code",
   "execution_count": null,
   "metadata": {},
   "outputs": [],
   "source": [
    "# SlopeOne is a straightforward implementation of the SlopeOne algorithm.\n",
    "cross_validate(SlopeOne(), data, cv=3)"
   ]
  },
  {
   "cell_type": "code",
   "execution_count": 12,
   "metadata": {},
   "outputs": [
    {
     "name": "stdout",
     "output_type": "stream",
     "text": [
      "Estimating biases using als...\n",
      "Computing the msd similarity matrix...\n",
      "Done computing similarity matrix.\n",
      "Estimating biases using als...\n",
      "Computing the msd similarity matrix...\n",
      "Done computing similarity matrix.\n",
      "Estimating biases using als...\n",
      "Computing the msd similarity matrix...\n",
      "Done computing similarity matrix.\n",
      "Estimating biases using als...\n",
      "Computing the msd similarity matrix...\n",
      "Done computing similarity matrix.\n",
      "Estimating biases using als...\n",
      "Computing the msd similarity matrix...\n",
      "Done computing similarity matrix.\n"
     ]
    },
    {
     "data": {
      "text/plain": [
       "{'test_rmse': array([0.7907402 , 0.79252282, 0.79127624, 0.79440177, 0.79364287]),\n",
       " 'test_mae': array([0.59920897, 0.60156972, 0.60022048, 0.60243432, 0.6019286 ]),\n",
       " 'fit_time': (12.045432090759277,\n",
       "  11.182394027709961,\n",
       "  11.519973039627075,\n",
       "  11.812057971954346,\n",
       "  11.283203840255737),\n",
       " 'test_time': (58.60267186164856,\n",
       "  57.21177077293396,\n",
       "  60.355955839157104,\n",
       "  57.6170608997345,\n",
       "  57.28627610206604)}"
      ]
     },
     "execution_count": 12,
     "metadata": {},
     "output_type": "execute_result"
    }
   ],
   "source": [
    "# KNNBaseline is a basic collaborative filtering algorithm taking into account a baseline rating.\n",
    "cross_validate(KNNBaseline(), data, cv=5)"
   ]
  },
  {
   "cell_type": "code",
   "execution_count": 16,
   "metadata": {},
   "outputs": [
    {
     "name": "stdout",
     "output_type": "stream",
     "text": [
      "Estimating biases using als...\n",
      "Estimating biases using als...\n",
      "Estimating biases using als...\n",
      "Estimating biases using als...\n",
      "Estimating biases using als...\n"
     ]
    },
    {
     "data": {
      "text/plain": [
       "{'test_rmse': array([0.81001586, 0.80904531, 0.81305484, 0.81356832, 0.80727184]),\n",
       " 'test_mae': array([0.61666153, 0.61523479, 0.61869101, 0.61837147, 0.61487407]),\n",
       " 'fit_time': (3.4693751335144043,\n",
       "  3.6895430088043213,\n",
       "  3.604027271270752,\n",
       "  3.622332811355591,\n",
       "  3.591384172439575),\n",
       " 'test_time': (1.95843505859375,\n",
       "  1.3004589080810547,\n",
       "  1.163538932800293,\n",
       "  1.1517188549041748,\n",
       "  1.162735939025879)}"
      ]
     },
     "execution_count": 16,
     "metadata": {},
     "output_type": "execute_result"
    }
   ],
   "source": [
    "# BaselineOnly algorithm predicts the baseline estimate for given user and item\n",
    "cross_validate(BaselineOnly(), data, cv=5)"
   ]
  },
  {
   "cell_type": "code",
   "execution_count": 17,
   "metadata": {},
   "outputs": [
    {
     "data": {
      "text/plain": [
       "{'test_rmse': array([0.83921567, 0.84548405, 0.84056895, 0.84266923, 0.84621581]),\n",
       " 'test_mae': array([0.65359291, 0.65859025, 0.65428987, 0.65673432, 0.65862049]),\n",
       " 'fit_time': (16.482234001159668,\n",
       "  16.66210412979126,\n",
       "  16.770533800125122,\n",
       "  16.69052505493164,\n",
       "  16.774842262268066),\n",
       " 'test_time': (1.4695608615875244,\n",
       "  1.2712979316711426,\n",
       "  1.24924898147583,\n",
       "  1.2563130855560303,\n",
       "  1.4417059421539307)}"
      ]
     },
     "execution_count": 17,
     "metadata": {},
     "output_type": "execute_result"
    }
   ],
   "source": [
    "# CoClustering is a collaborative filtering algorithm based on co-clustering.\n",
    "cross_validate(CoClustering(), data, cv=5)"
   ]
  },
  {
   "cell_type": "code",
   "execution_count": null,
   "metadata": {},
   "outputs": [],
   "source": [
    "# The SVDpp algorithm is an extension of SVD that takes into account implicit ratings.\n",
    "cross_validate(SVDpp(), data, cv=5)"
   ]
  },
  {
   "cell_type": "code",
   "execution_count": 19,
   "metadata": {},
   "outputs": [],
   "source": [
    "trainset, testset = surprise_train_test_split(data, test_size=0.2, shuffle=True, **kwargs)"
   ]
  },
  {
   "cell_type": "code",
   "execution_count": 20,
   "metadata": {},
   "outputs": [],
   "source": [
    "svd = SVD(**kwargs)"
   ]
  },
  {
   "cell_type": "code",
   "execution_count": 21,
   "metadata": {},
   "outputs": [
    {
     "data": {
      "text/plain": [
       "<surprise.prediction_algorithms.matrix_factorization.SVD at 0x10e5ca190>"
      ]
     },
     "execution_count": 21,
     "metadata": {},
     "output_type": "execute_result"
    }
   ],
   "source": [
    "svd.fit(trainset)"
   ]
  },
  {
   "cell_type": "code",
   "execution_count": 22,
   "metadata": {},
   "outputs": [
    {
     "data": {
      "text/plain": [
       "array([[-0.07550305,  0.19653254,  0.00471276, ..., -0.28346341,\n",
       "         0.23844732, -0.12534409],\n",
       "       [-0.07150064, -0.19183905, -0.06341324, ..., -0.10770481,\n",
       "        -0.00287729, -0.06020949],\n",
       "       [-0.05673481,  0.11206512,  0.0986272 , ...,  0.17376617,\n",
       "         0.15469672,  0.23185501],\n",
       "       ...,\n",
       "       [-0.23490498, -0.07949418, -0.01095694, ...,  0.0006677 ,\n",
       "         0.03078363,  0.0474292 ],\n",
       "       [ 0.04696989,  0.13926831,  0.01537944, ..., -0.04143001,\n",
       "         0.02971297,  0.05937526],\n",
       "       [ 0.12462804, -0.05820714, -0.07581964, ..., -0.00284997,\n",
       "        -0.06214073, -0.03067043]])"
      ]
     },
     "execution_count": 22,
     "metadata": {},
     "output_type": "execute_result"
    }
   ],
   "source": [
    "# user factors\n",
    "svd.pu"
   ]
  },
  {
   "cell_type": "code",
   "execution_count": 23,
   "metadata": {},
   "outputs": [
    {
     "data": {
      "text/plain": [
       "array([[-0.03509496, -0.12382632,  0.03998815, ..., -0.11375698,\n",
       "        -0.00573124,  0.01972498],\n",
       "       [-0.1034999 ,  0.13044891,  0.24004721, ...,  0.26433661,\n",
       "         0.19439505, -0.10171066],\n",
       "       [-0.07827134,  0.15405811, -0.13564332, ..., -0.02430594,\n",
       "        -0.11488402,  0.0640317 ],\n",
       "       ...,\n",
       "       [ 0.04413867,  0.09839711, -0.08025985, ..., -0.1002068 ,\n",
       "         0.01406884, -0.18818064],\n",
       "       [-0.09074666, -0.01419026,  0.03995792, ...,  0.13409375,\n",
       "        -0.07822657, -0.23921678],\n",
       "       [-0.01613894,  0.09141754, -0.00869151, ..., -0.17679153,\n",
       "        -0.01110383,  0.16239869]])"
      ]
     },
     "execution_count": 23,
     "metadata": {},
     "output_type": "execute_result"
    }
   ],
   "source": [
    "# item factors\n",
    "svd.qi"
   ]
  },
  {
   "cell_type": "code",
   "execution_count": 24,
   "metadata": {},
   "outputs": [
    {
     "data": {
      "text/plain": [
       "(2113,)"
      ]
     },
     "execution_count": 24,
     "metadata": {},
     "output_type": "execute_result"
    }
   ],
   "source": [
    "# user biases\n",
    "svd.bu.shape"
   ]
  },
  {
   "cell_type": "code",
   "execution_count": 25,
   "metadata": {},
   "outputs": [
    {
     "data": {
      "text/plain": [
       "(9901,)"
      ]
     },
     "execution_count": 25,
     "metadata": {},
     "output_type": "execute_result"
    }
   ],
   "source": [
    "# item biases\n",
    "svd.bi.shape"
   ]
  },
  {
   "cell_type": "code",
   "execution_count": 26,
   "metadata": {},
   "outputs": [],
   "source": [
    "preds = svd.test(testset)"
   ]
  },
  {
   "cell_type": "code",
   "execution_count": 29,
   "metadata": {},
   "outputs": [
    {
     "name": "stdout",
     "output_type": "stream",
     "text": [
      "user: 364        item: 2542       r_ui = 3.00   est = 4.00   {'was_impossible': False}\n",
      "user: 204        item: 49822      r_ui = 3.50   est = 3.28   {'was_impossible': False}\n",
      "user: 692        item: 1407       r_ui = 2.50   est = 2.21   {'was_impossible': False}\n",
      "user: 387        item: 34         r_ui = 4.00   est = 3.59   {'was_impossible': False}\n",
      "user: 1254       item: 550        r_ui = 3.50   est = 2.99   {'was_impossible': False}\n",
      "user: 227        item: 7154       r_ui = 3.50   est = 2.74   {'was_impossible': False}\n",
      "user: 515        item: 527        r_ui = 4.00   est = 4.30   {'was_impossible': False}\n",
      "user: 433        item: 923        r_ui = 4.00   est = 3.78   {'was_impossible': False}\n",
      "user: 656        item: 6264       r_ui = 2.00   est = 1.85   {'was_impossible': False}\n",
      "user: 1465       item: 367        r_ui = 4.50   est = 3.30   {'was_impossible': False}\n",
      "user: 975        item: 6662       r_ui = 3.50   est = 3.75   {'was_impossible': False}\n",
      "user: 1057       item: 33493      r_ui = 4.50   est = 4.36   {'was_impossible': False}\n",
      "user: 726        item: 1587       r_ui = 3.00   est = 2.99   {'was_impossible': False}\n",
      "user: 44         item: 6881       r_ui = 3.00   est = 3.36   {'was_impossible': False}\n",
      "user: 904        item: 2142       r_ui = 3.50   est = 2.92   {'was_impossible': False}\n",
      "user: 1026       item: 6565       r_ui = 3.50   est = 3.15   {'was_impossible': False}\n",
      "user: 789        item: 3538       r_ui = 4.50   est = 4.72   {'was_impossible': False}\n",
      "user: 2031       item: 1101       r_ui = 3.00   est = 3.56   {'was_impossible': False}\n",
      "user: 300        item: 2763       r_ui = 3.00   est = 3.13   {'was_impossible': False}\n",
      "user: 194        item: 44         r_ui = 3.00   est = 2.48   {'was_impossible': False}\n",
      "user: 1489       item: 47         r_ui = 4.50   est = 3.92   {'was_impossible': False}\n",
      "user: 1509       item: 2716       r_ui = 4.00   est = 3.68   {'was_impossible': False}\n",
      "user: 605        item: 595        r_ui = 3.00   est = 2.81   {'was_impossible': False}\n",
      "user: 443        item: 4973       r_ui = 5.00   est = 4.41   {'was_impossible': False}\n",
      "user: 1059       item: 745        r_ui = 5.00   est = 4.60   {'was_impossible': False}\n",
      "user: 541        item: 342        r_ui = 4.00   est = 3.22   {'was_impossible': False}\n",
      "user: 78         item: 5055       r_ui = 3.50   est = 3.39   {'was_impossible': False}\n",
      "user: 1417       item: 2687       r_ui = 3.50   est = 3.28   {'was_impossible': False}\n",
      "user: 1078       item: 46965      r_ui = 3.00   est = 2.33   {'was_impossible': False}\n",
      "user: 316        item: 6953       r_ui = 3.50   est = 2.77   {'was_impossible': False}\n",
      "user: 720        item: 2607       r_ui = 5.00   est = 4.60   {'was_impossible': False}\n",
      "user: 1414       item: 2048       r_ui = 4.00   est = 2.99   {'was_impossible': False}\n",
      "user: 264        item: 1975       r_ui = 3.00   est = 2.11   {'was_impossible': False}\n",
      "user: 1397       item: 5022       r_ui = 3.50   est = 3.69   {'was_impossible': False}\n",
      "user: 360        item: 33880      r_ui = 3.50   est = 3.13   {'was_impossible': False}\n",
      "user: 562        item: 922        r_ui = 4.00   est = 3.76   {'was_impossible': False}\n",
      "user: 729        item: 8464       r_ui = 3.50   est = 3.61   {'was_impossible': False}\n",
      "user: 827        item: 5377       r_ui = 3.00   est = 3.45   {'was_impossible': False}\n",
      "user: 394        item: 6774       r_ui = 3.50   est = 3.52   {'was_impossible': False}\n",
      "user: 1284       item: 4638       r_ui = 4.00   est = 3.11   {'was_impossible': False}\n",
      "user: 878        item: 8494       r_ui = 3.50   est = 3.57   {'was_impossible': False}\n",
      "user: 151        item: 5785       r_ui = 5.00   est = 3.74   {'was_impossible': False}\n",
      "user: 178        item: 8961       r_ui = 4.00   est = 3.54   {'was_impossible': False}\n",
      "user: 1677       item: 6          r_ui = 4.00   est = 3.98   {'was_impossible': False}\n",
      "user: 767        item: 45722      r_ui = 3.00   est = 2.98   {'was_impossible': False}\n",
      "user: 580        item: 5879       r_ui = 2.50   est = 2.23   {'was_impossible': False}\n",
      "user: 81         item: 5071       r_ui = 3.00   est = 3.25   {'was_impossible': False}\n",
      "user: 320        item: 34319      r_ui = 4.00   est = 2.86   {'was_impossible': False}\n",
      "user: 186        item: 5732       r_ui = 3.50   est = 3.68   {'was_impossible': False}\n",
      "user: 94         item: 6979       r_ui = 3.50   est = 3.66   {'was_impossible': False}\n"
     ]
    }
   ],
   "source": [
    "# Printing first 50 predicitons for overview\n",
    "for i in range (0,50):\n",
    "    print(preds[i])"
   ]
  },
  {
   "cell_type": "markdown",
   "metadata": {},
   "source": [
    "## Now finding optimal Parameters"
   ]
  },
  {
   "cell_type": "code",
   "execution_count": 40,
   "metadata": {},
   "outputs": [
    {
     "name": "stdout",
     "output_type": "stream",
     "text": [
      "Starting GridSearch\n",
      "0.7996727216489399\n",
      "{'lr_all': 0.01, 'reg_all': 0.1, 'n_epochs': 10}\n"
     ]
    }
   ],
   "source": [
    "# Using GridSearch to find optimal Params\n",
    "param_grid = {'lr_all' : [.001, .01], 'reg_all' : [.1,.5], 'n_epochs' : [5,20]}\n",
    "print(\"Starting GridSearch\")\n",
    "gs = GridSearchCV(SVD, param_grid, measures=['rmse','mae'], cv=5)\n",
    "gs.fit(data)\n",
    "\n",
    "#Print best param combination\n",
    "print(gs.best_score['rmse'])\n",
    "print(gs.best_params['rmse'])"
   ]
  },
  {
   "cell_type": "code",
   "execution_count": null,
   "metadata": {},
   "outputs": [],
   "source": [
    "trainset, testset = surprise_train_test_split(data, test_size=0.2, shuffle=True, **kwargs)"
   ]
  },
  {
   "cell_type": "code",
   "execution_count": null,
   "metadata": {},
   "outputs": [],
   "source": [
    "svd = SVD(lr_all= , reg_all= , n_epochs= ,random_state = **kwargs)"
   ]
  },
  {
   "cell_type": "code",
   "execution_count": null,
   "metadata": {},
   "outputs": [],
   "source": [
    "svd.fit(trainset)"
   ]
  },
  {
   "cell_type": "code",
   "execution_count": null,
   "metadata": {},
   "outputs": [],
   "source": [
    "preds = svd.test(testset)"
   ]
  }
 ],
 "metadata": {
  "kernelspec": {
   "display_name": "bda-analytics-challenge-ss2020",
   "language": "python",
   "name": "bda-analytics-challenge-ss2020"
  },
  "language_info": {
   "codemirror_mode": {
    "name": "ipython",
    "version": 3
   },
   "file_extension": ".py",
   "mimetype": "text/x-python",
   "name": "python",
   "nbconvert_exporter": "python",
   "pygments_lexer": "ipython3",
   "version": "3.8.2"
  }
 },
 "nbformat": 4,
 "nbformat_minor": 4
}
