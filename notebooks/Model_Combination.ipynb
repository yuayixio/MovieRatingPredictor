{
 "cells": [
  {
   "cell_type": "code",
   "execution_count": 28,
   "metadata": {},
   "outputs": [],
   "source": [
    "import pandas as pd\n",
    "import numpy as np\n",
    "\n",
    "import surprise\n",
    "from surprise import NormalPredictor\n",
    "from surprise import SVD\n",
    "from surprise import SlopeOne\n",
    "from surprise import Dataset\n",
    "#from surprise import DatasetAutoFolds\n",
    "from surprise import Reader\n",
    "from surprise import KNNBasic, KNNWithMeans, KNNWithZScore, KNNBaseline, BaselineOnly, CoClustering, SVD, SVDpp\n",
    "\n",
    "from sklearn.model_selection import KFold\n",
    "from sklearn.metrics import mean_squared_error as rmse\n",
    "from sklearn import pipeline\n",
    "\n",
    "import knn_features\n",
    "import nltk\n",
    "\n",
    "from sklearn.neighbors import NearestNeighbors\n",
    "from sklearn.metrics import mean_squared_error\n",
    "\n",
    "import matplotlib.pyplot as plt\n",
    "\n",
    "# set random state for reproducibility\n",
    "kwargs = dict(random_state=42)"
   ]
  },
  {
   "cell_type": "markdown",
   "metadata": {},
   "source": [
    "Documentary of scikit-suprise can be found under https://surprise.readthedocs.io/en/stable/"
   ]
  },
  {
   "cell_type": "code",
   "execution_count": 29,
   "metadata": {
    "pycharm": {
     "name": "#%%\n"
    }
   },
   "outputs": [],
   "source": [
    "ratings = pd.read_csv('../data/preprocessed/ratings_clean_std_0.csv', sep=',').drop(columns={'Unnamed: 0'})\n",
    "omdb = pd.read_csv('../data/preprocessed/omdb_cleaned.csv')"
   ]
  },
  {
   "cell_type": "code",
   "execution_count": 30,
   "metadata": {
    "collapsed": false,
    "jupyter": {
     "outputs_hidden": false
    },
    "pycharm": {
     "name": "#%%\n"
    }
   },
   "outputs": [],
   "source": [
    "#delete ratings of movie \"nomads\" until last model\n",
    "ratings = ratings[ratings['imdbID']!='tt0720339']"
   ]
  },
  {
   "cell_type": "code",
   "execution_count": 31,
   "metadata": {},
   "outputs": [],
   "source": [
    "ratings.reset_index(inplace=True, drop=True)"
   ]
  },
  {
   "cell_type": "code",
   "execution_count": 32,
   "metadata": {
    "collapsed": false,
    "jupyter": {
     "outputs_hidden": false
    },
    "pycharm": {
     "name": "#%%\n"
    }
   },
   "outputs": [],
   "source": [
    "# build a reader, define the rating scale (minimum and maximum value)\n",
    "reader = Reader(rating_scale=(0.5, 5))"
   ]
  },
  {
   "cell_type": "code",
   "execution_count": 33,
   "metadata": {},
   "outputs": [],
   "source": [
    "#Use optimal k based on # rated movies\n",
    "def adjust_k(ratings_k):\n",
    "    adjusted_k = 10\n",
    "    r_size = len(ratings_k)\n",
    "  \n",
    "    if 40 < r_size < 100:\n",
    "        adjusted_k = 15\n",
    "    elif 100 < r_size < 500:\n",
    "        adjusted_k = 20\n",
    "    elif 500 < r_size < 1500:\n",
    "        adjusted_k = 25\n",
    "    elif r_size  > 1500:\n",
    "        adjusted_k = 30\n",
    "\n",
    "    return adjusted_k"
   ]
  },
  {
   "cell_type": "code",
   "execution_count": 34,
   "metadata": {
    "collapsed": false,
    "jupyter": {
     "outputs_hidden": false
    },
    "pycharm": {
     "name": "#%%\n"
    }
   },
   "outputs": [],
   "source": [
    "# function that computes a rating based on the neighbors\n",
    "def compute_rating(neighbors, distances, mean):\n",
    "    if mean:\n",
    "        # Mittelwert der k-nächsten Nachbarn\n",
    "        pred = neighbors.mean()\n",
    "    else:\n",
    "        # Gewichtung der Bewertung der Nachbarn je nach Distanz\n",
    "        pred = sum(neighbors*((1/(distances[0]+0.000001)**1)/(sum((1/(distances[0]+0.000001)**1)))))\n",
    "\n",
    "    return float(pred)"
   ]
  },
  {
   "cell_type": "code",
   "execution_count": 35,
   "metadata": {
    "collapsed": false,
    "jupyter": {
     "outputs_hidden": false
    },
    "pycharm": {
     "name": "#%%\n"
    }
   },
   "outputs": [],
   "source": [
    "## function that predicts the rating of a movie from its imdbID and its nearest neighbors\n",
    "def predict_movie_rating(imdbID, ratings, feature_data, mean, knn_metric, set_k, k_neighbors=10):\n",
    "    \n",
    "    #If no explicit number of neighbors is passed -> use variable neighbors function\n",
    "    if set_k:\n",
    "        k_neighbors = k_neighbors\n",
    "    else:    \n",
    "        k_neighbors = adjust_k(ratings)\n",
    "\n",
    "  \n",
    "    # Get real rating -> remove this in the end -> currently done for validation\n",
    "    #real_ratings = ratings.loc[(ratings['imdbID'] == imdbID)]\n",
    "    real_idx = ratings.loc[(ratings['imdbID'] == imdbID)].index\n",
    "    \n",
    "    #remove real rating for training\n",
    "    ratings = ratings[ratings['imdbID'] != imdbID] \n",
    "    \n",
    "    # Set algorithm and params\n",
    "    knn = NearestNeighbors(metric=knn_metric, algorithm='brute', n_neighbors=k_neighbors, n_jobs=-1)\n",
    "    \n",
    "    #Select features rated by user for training\n",
    "    feat = feature_data[ratings['imdbID'].index]\n",
    "\n",
    "    ratings.reset_index(inplace=True, drop=False)\n",
    "    \n",
    "    #train algorithm\n",
    "    knn.fit(feat)\n",
    "\n",
    "    #generate input data\n",
    "    input_data = feature_data[real_idx]\n",
    "    input_data = input_data.reshape(1, -1)\n",
    "\n",
    "    #Prediction -> get x nearest neighbors of imdbID\n",
    "    distances, indices = knn.kneighbors(input_data, n_neighbors=k_neighbors)\n",
    "\n",
    "    # Zieht indices und ratings der neighbors\n",
    "    neighbor_ratings = ratings['rating'].loc[indices[0]]\n",
    "\n",
    "    #Calculate rating\n",
    "    pred = compute_rating(neighbor_ratings, distances, mean)\n",
    "\n",
    "    return pred"
   ]
  },
  {
   "cell_type": "code",
   "execution_count": 48,
   "metadata": {},
   "outputs": [],
   "source": [
    "# function that finds optimal fixed weights for several models\n",
    "def compare_weights(algos, params_features, params_knn):\n",
    "    i=0\n",
    "    rmses = []\n",
    "    for train, test in KFold(n_splits=1000, **kwargs, shuffle=True).split(ratings):\n",
    "        preds = []\n",
    "        # split data\n",
    "        trainset = ratings.loc[train]\n",
    "        testset = ratings.loc[test]\n",
    "        print(trainset.shape[0])\n",
    "        print(testset.shape[0])\n",
    "        # convert data to surprise format\n",
    "        train_surprise = Dataset.load_from_df(trainset, reader).build_full_trainset()\n",
    "        test_surprise = Dataset.load_from_df(testset, reader).build_full_trainset().build_testset()       \n",
    "        \n",
    "        # Collaborative Filtering Models\n",
    "        for algo in algos:\n",
    "            algo.fit(train_surprise)\n",
    "            preds.append([algo.predict(uid, iid).est for uid, iid,_ in test_surprise])\n",
    "\n",
    "        # Content-Based Models\n",
    "        # load features\n",
    "        features, names = knn_features.features(**params_features)\n",
    "        # add imdbID and set as index\n",
    "        features = omdb[['imdbID']].join(pd.DataFrame(features)).set_index('imdbID')\n",
    "        \n",
    "        # predict ratings\n",
    "        pred_content = []\n",
    "        number_of_ratings = []\n",
    "        for row in testset.itertuples():\n",
    "            # select user and movie\n",
    "            imdbID = row.imdbID\n",
    "            userID = row.user_id\n",
    "            # select ratings of the user\n",
    "            ratings_user = ratings.loc[ratings['user_id'] == userID]\n",
    "            ratings_user.reset_index(inplace=True, drop=True)\n",
    "\n",
    "            # select features of corresponding movies and convert to array\n",
    "            features_user = np.array(features.loc[ratings_user['imdbID']])\n",
    "\n",
    "            # compute predictions\n",
    "            pred_content.append(predict_movie_rating(imdbID, ratings_user, features_user, **params_knn))\n",
    "            # store the number of predictions of a user:\n",
    "            number_of_ratings.append(ratings_user.shape[0])\n",
    "            \n",
    "        predictions = [preds[0], preds[1], pred_content]\n",
    "        # store predictions and real ratings\n",
    "        predictions = np.asarray(predictions)\n",
    "        actuals = np.asarray(testset['rating'])\n",
    "        # calculate rmses\n",
    "        rmses.append([rmse(actuals, (predictions[0]*(w1/100)+predictions[1]*(w2/100)+predictions[2]*(1-w1/100-w2/100)), squared=False) for w1 in range(0,101) for w2 in range(0, 101-w1)])\n",
    "        i+=1\n",
    "        print('Iteration finished: ',i)\n",
    "        # Early stopping to allow for fast testing\n",
    "        if i == 5:\n",
    "            return rmses, predictions, actuals, number_of_ratings            "
   ]
  },
  {
   "cell_type": "code",
   "execution_count": 49,
   "metadata": {},
   "outputs": [],
   "source": [
    "# define collaborative filtering models: KNN and SVD\n",
    "algos = (KNNWithMeans(k=115, min_k=5, sim_options={'name':'msd', 'user_based': False}, **kwargs), SVD(lr_all=0.01, reg_all=0.05, n_epochs=23, **kwargs))"
   ]
  },
  {
   "cell_type": "code",
   "execution_count": 50,
   "metadata": {},
   "outputs": [],
   "source": [
    "# define features for content-based models\n",
    "params_f = {'threshold_actors': 0, 'ts_languages': 0 , 'year': True, 'runtime': True, 'imdbVotes': True, 'series': False, 'awards': False,'genres': True, 'imdb_rating': True, 'roto_rating': False, 'pg_rating':True, 'threshold_newkeywords': 0, 'threshold_plots': 0, 'threshold_directors': 200}"
   ]
  },
  {
   "cell_type": "code",
   "execution_count": 51,
   "metadata": {},
   "outputs": [],
   "source": [
    "# set the possible parameters for the kNN\n",
    "params_k = {'mean':False, 'knn_metric':'cosine', 'set_k':False}"
   ]
  },
  {
   "cell_type": "code",
   "execution_count": 52,
   "metadata": {},
   "outputs": [
    {
     "name": "stdout",
     "output_type": "stream",
     "text": [
      "786748\n",
      "788\n",
      "Computing the msd similarity matrix...\n",
      "Done computing similarity matrix.\n",
      "Iteration finished:  1\n",
      "786748\n",
      "788\n",
      "Computing the msd similarity matrix...\n",
      "Done computing similarity matrix.\n",
      "Iteration finished:  2\n",
      "786748\n",
      "788\n",
      "Computing the msd similarity matrix...\n",
      "Done computing similarity matrix.\n",
      "Iteration finished:  3\n",
      "786748\n",
      "788\n",
      "Computing the msd similarity matrix...\n",
      "Done computing similarity matrix.\n",
      "Iteration finished:  4\n",
      "786748\n",
      "788\n",
      "Computing the msd similarity matrix...\n",
      "Done computing similarity matrix.\n",
      "Iteration finished:  5\n"
     ]
    }
   ],
   "source": [
    "# get information on the prediction models\n",
    "res, preds, ratings, numbers = compare_weights(algos, params_f, params_k)"
   ]
  },
  {
   "cell_type": "code",
   "execution_count": 41,
   "metadata": {},
   "outputs": [],
   "source": [
    "weights = []\n",
    "weights.append([(w1/100, w2/100, 1-w1/100-w2/100) for w1 in range(0,101) for w2 in range(0, 101-w1)])\n",
    "results = pd.DataFrame(np.asarray(weights)[0])\n",
    "results['rmse'] = res[0]"
   ]
  },
  {
   "cell_type": "code",
   "execution_count": 55,
   "metadata": {},
   "outputs": [
    {
     "data": {
      "text/plain": [
       "array([5. , 3. , 1. , 5. , 2. , 3.5, 4. , 1.5, 4. , 5. , 3.5, 3.5, 2.5,\n",
       "       3. , 2. , 0.5, 4.5, 4. , 4.5, 4. , 3.5, 3. , 1. , 5. , 4. , 4. ,\n",
       "       4. , 3.5, 3. , 4. , 4.5, 5. , 4. , 4. , 2. , 3.5, 0.5, 2.5, 2. ,\n",
       "       2. , 4. , 5. , 1. , 5. , 3.5, 3.5, 3. , 3. , 4. , 4.5, 4. , 4. ,\n",
       "       3. , 2.5, 4. , 4.5, 4. , 3.5, 4.5, 4. , 4. , 4. , 4. , 3. , 2.5,\n",
       "       4. , 3.5, 4. , 4. , 4.5, 2. , 3. , 4. , 4. , 4.5, 4.5, 3. , 4. ,\n",
       "       2.5, 5. , 3.5, 3.5, 5. , 3. , 5. , 2.5, 3.5, 4. , 4. , 3. , 4. ,\n",
       "       3.5, 3. , 3. , 3. , 4. , 3.5, 3.5, 3.5, 2. , 4.5, 3.5, 2. , 4. ,\n",
       "       5. , 5. , 4. , 4. , 1.5, 5. , 4. , 4.5, 4. , 5. , 4.5, 4. , 2. ,\n",
       "       4. , 3.5, 3. , 4. , 3. , 3. , 3.5, 3. , 4. , 1. , 1.5, 4. , 3. ,\n",
       "       4. , 1.5, 4.5, 2. , 3.5, 4. , 3.5, 3. , 4.5, 3. , 3. , 4.5, 2. ,\n",
       "       3. , 4. , 5. , 3.5, 1. , 4.5, 4. , 3.5, 3.5, 4. , 4. , 3. , 1. ,\n",
       "       1. , 4. , 4. , 3. , 3. , 2.5, 4. , 4.5, 3. , 3.5, 4. , 2.5, 4. ,\n",
       "       4. , 2. , 3.5, 3. , 2.5, 4. , 2. , 4.5, 2. , 4. , 4.5, 3. , 4. ,\n",
       "       3. , 4.5, 4. , 3.5, 3.5, 2.5, 3. , 2. , 2.5, 4. , 3. , 4.5, 3. ,\n",
       "       3. , 3. , 3.5, 3.5, 4. , 4. , 3. , 2. , 4. , 4.5, 3. , 3. , 0.5,\n",
       "       3. , 2. , 2.5, 2. , 4. , 3.5, 5. , 4. , 3.5, 3.5, 3. , 4. , 3. ,\n",
       "       3.5, 4.5, 3. , 2. , 3. , 3. , 5. , 3. , 3.5, 5. , 2.5, 4. , 4. ,\n",
       "       3.5, 4. , 1. , 4. , 3.5, 3.5, 4. , 4.5, 2.5, 4. , 4.5, 4. , 3.5,\n",
       "       4. , 4. , 4. , 4.5, 2. , 4. , 2.5, 4.5, 2. , 3. , 3. , 5. , 2. ,\n",
       "       5. , 4. , 4.5, 5. , 3.5, 1.5, 3.5, 3. , 4.5, 3.5, 5. , 4. , 3.5,\n",
       "       0.5, 4.5, 4. , 4.5, 2. , 3.5, 4. , 1. , 3. , 4. , 2.5, 3.5, 4. ,\n",
       "       3.5, 4. , 3. , 4. , 3. , 1.5, 3. , 3.5, 3.5, 3. , 4.5, 4. , 4.5,\n",
       "       3. , 3. , 4. , 5. , 4. , 3. , 4. , 4. , 1.5, 4. , 1.5, 4.5, 5. ,\n",
       "       4. , 1. , 4. , 3. , 4. , 3. , 5. , 2. , 4. , 3. , 4.5, 5. , 2. ,\n",
       "       5. , 4. , 3.5, 4.5, 3. , 3. , 5. , 3.5, 3.5, 4.5, 3. , 3.5, 2. ,\n",
       "       4.5, 4. , 2.5, 4. , 2.5, 0.5, 3.5, 2.5, 4. , 5. , 2.5, 4. , 4.5,\n",
       "       4. , 4. , 2.5, 5. , 3.5, 2. , 0.5, 5. , 3. , 4. , 3.5, 3.5, 4. ,\n",
       "       4. , 2.5, 4.5, 4.5, 5. , 4.5, 2. , 2. , 1.5, 2. , 2. , 4. , 4. ,\n",
       "       1. , 5. , 2.5, 5. , 4. , 4. , 3. , 3. , 4.5, 4. , 2. , 4. , 4. ,\n",
       "       5. , 4. , 4. , 4. , 5. , 4.5, 4. , 3.5, 4.5, 5. , 5. , 4. , 3. ,\n",
       "       3. , 3.5, 3.5, 3.5, 3.5, 4. , 3.5, 4. , 2. , 3. , 0.5, 4.5, 0.5,\n",
       "       0.5, 4. , 3.5, 3. , 2.5, 4.5, 3.5, 5. , 3.5, 3. , 3. , 2.5, 2.5,\n",
       "       4. , 5. , 3. , 3.5, 3. , 5. , 3. , 3.5, 3. , 4. , 3.5, 4. , 1. ,\n",
       "       1.5, 4. , 4. , 3. , 3.5, 4. , 3.5, 4. , 2.5, 2. , 3. , 2. , 3.5,\n",
       "       3.5, 3.5, 3. , 3. , 1. , 5. , 3. , 3. , 2. , 3.5, 4. , 1.5, 3.5,\n",
       "       1.5, 5. , 4. , 5. , 4.5, 3. , 4. , 3. , 3. , 4. , 0.5, 4. , 3.5,\n",
       "       3. , 3. , 2. , 4. , 3. , 4. , 3.5, 4.5, 0.5, 4. , 3. , 3.5, 4.5,\n",
       "       4. , 4.5, 5. , 3. , 3.5, 4. , 4. , 5. , 0.5, 3.5, 5. , 2.5, 2. ,\n",
       "       2. , 4. , 4.5, 3.5, 4. , 3.5, 4. , 3. , 4. , 4. , 3. , 3.5, 3.5,\n",
       "       3. , 4. , 3. , 5. , 4. , 4.5, 1. , 1. , 4. , 4. , 4. , 4. , 4. ,\n",
       "       3. , 4. , 4.5, 0.5, 4. , 4. , 2.5, 1.5, 3.5, 4. , 4. , 5. , 3.5,\n",
       "       5. , 4. , 3. , 1. , 4. , 5. , 4. , 3.5, 1. , 5. , 2.5, 4. , 4. ,\n",
       "       5. , 2. , 4. , 0.5, 4. , 3. , 4. , 3. , 3.5, 4. , 1.5, 2. , 4. ,\n",
       "       4. , 3.5, 0.5, 5. , 4. , 4.5, 4. , 5. , 2. , 4. , 5. , 2.5, 1.5,\n",
       "       4. , 4. , 1. , 1.5, 4.5, 3. , 4. , 4. , 2. , 3.5, 4. , 3. , 3.5,\n",
       "       2. , 4. , 3. , 3. , 3.5, 3. , 3.5, 0.5, 4.5, 4. , 2.5, 4.5, 3. ,\n",
       "       5. , 3. , 2.5, 4. , 3.5, 5. , 1.5, 3.5, 4.5, 4. , 4. , 4. , 4.5,\n",
       "       3. , 4. , 3.5, 2.5, 5. , 2. , 3.5, 1.5, 2.5, 4. , 3. , 3.5, 3.5,\n",
       "       1. , 5. , 4. , 3. , 4. , 4. , 3.5, 3.5, 5. , 3.5, 3.5, 3. , 4. ,\n",
       "       3. , 2. , 4.5, 3.5, 3. , 4. , 5. , 3.5, 3.5, 4. , 2. , 2.5, 4. ,\n",
       "       3. , 4.5, 3.5, 4. , 3.5, 3. , 5. , 3.5, 5. , 4. , 3.5, 5. , 3.5,\n",
       "       4. , 4. , 4. , 2.5, 4. , 4. , 2.5, 4. , 4. , 1. , 3. , 4. , 5. ,\n",
       "       5. , 3. , 4. , 3.5, 4. , 3. , 3. , 2.5, 4. , 4. , 4. , 3. , 3.5,\n",
       "       4.5, 4. , 4.5, 4. , 5. , 4. , 3.5, 3. , 2. , 5. , 2.5, 3. , 4. ,\n",
       "       2.5, 2.5, 3. , 4. , 1. , 4. , 1.5, 2. , 2. , 4.5, 3. , 3. , 3.5,\n",
       "       4. , 1. , 3.5, 3. , 2. , 5. , 3.5, 4. , 3.5, 1. , 3.5, 4. , 2. ,\n",
       "       4. , 4. , 3. , 4.5, 3.5, 4. , 3.5, 4. , 4. , 4.5, 3. , 2. , 2.5,\n",
       "       5. , 5. , 2. , 1.5, 4. , 5. , 4. , 2.5, 5. , 4.5, 4.5, 3.5, 4.5,\n",
       "       3.5, 2. , 3. , 4.5, 3.5, 5. , 3.5, 3. , 4. , 2.5, 4.5, 2. , 4. ,\n",
       "       3.5, 3. , 3. , 3.5, 3.5, 4. , 4.5, 4. ])"
      ]
     },
     "execution_count": 55,
     "metadata": {},
     "output_type": "execute_result"
    }
   ],
   "source": [
    "ratings"
   ]
  },
  {
   "cell_type": "code",
   "execution_count": 56,
   "metadata": {},
   "outputs": [
    {
     "data": {
      "text/plain": [
       "array([[3.65989919, 3.6227825 , 2.77673348, ..., 3.7183326 , 3.48635338,\n",
       "        4.25606444],\n",
       "       [3.55802162, 3.64592692, 2.67616079, ..., 3.59739985, 3.35588398,\n",
       "        4.2091984 ],\n",
       "       [4.53261792, 3.7880021 , 3.12604327, ..., 3.5492948 , 4.00214338,\n",
       "        3.89170986]])"
      ]
     },
     "execution_count": 56,
     "metadata": {},
     "output_type": "execute_result"
    }
   ],
   "source": [
    "preds"
   ]
  },
  {
   "cell_type": "code",
   "execution_count": 42,
   "metadata": {},
   "outputs": [
    {
     "data": {
      "text/html": [
       "<div>\n",
       "<style scoped>\n",
       "    .dataframe tbody tr th:only-of-type {\n",
       "        vertical-align: middle;\n",
       "    }\n",
       "\n",
       "    .dataframe tbody tr th {\n",
       "        vertical-align: top;\n",
       "    }\n",
       "\n",
       "    .dataframe thead th {\n",
       "        text-align: right;\n",
       "    }\n",
       "</style>\n",
       "<table border=\"1\" class=\"dataframe\">\n",
       "  <thead>\n",
       "    <tr style=\"text-align: right;\">\n",
       "      <th></th>\n",
       "      <th>0</th>\n",
       "      <th>1</th>\n",
       "      <th>2</th>\n",
       "      <th>rmse</th>\n",
       "    </tr>\n",
       "  </thead>\n",
       "  <tbody>\n",
       "    <tr>\n",
       "      <th>0</th>\n",
       "      <td>0.00</td>\n",
       "      <td>0.00</td>\n",
       "      <td>1.000000e+00</td>\n",
       "      <td>0.838533</td>\n",
       "    </tr>\n",
       "    <tr>\n",
       "      <th>1</th>\n",
       "      <td>0.00</td>\n",
       "      <td>0.01</td>\n",
       "      <td>9.900000e-01</td>\n",
       "      <td>0.838294</td>\n",
       "    </tr>\n",
       "    <tr>\n",
       "      <th>2</th>\n",
       "      <td>0.00</td>\n",
       "      <td>0.02</td>\n",
       "      <td>9.800000e-01</td>\n",
       "      <td>0.838142</td>\n",
       "    </tr>\n",
       "    <tr>\n",
       "      <th>3</th>\n",
       "      <td>0.00</td>\n",
       "      <td>0.03</td>\n",
       "      <td>9.700000e-01</td>\n",
       "      <td>0.838080</td>\n",
       "    </tr>\n",
       "    <tr>\n",
       "      <th>4</th>\n",
       "      <td>0.00</td>\n",
       "      <td>0.04</td>\n",
       "      <td>9.600000e-01</td>\n",
       "      <td>0.838106</td>\n",
       "    </tr>\n",
       "    <tr>\n",
       "      <th>...</th>\n",
       "      <td>...</td>\n",
       "      <td>...</td>\n",
       "      <td>...</td>\n",
       "      <td>...</td>\n",
       "    </tr>\n",
       "    <tr>\n",
       "      <th>5146</th>\n",
       "      <td>0.98</td>\n",
       "      <td>0.01</td>\n",
       "      <td>1.000000e-02</td>\n",
       "      <td>1.195532</td>\n",
       "    </tr>\n",
       "    <tr>\n",
       "      <th>5147</th>\n",
       "      <td>0.98</td>\n",
       "      <td>0.02</td>\n",
       "      <td>1.734723e-17</td>\n",
       "      <td>1.201435</td>\n",
       "    </tr>\n",
       "    <tr>\n",
       "      <th>5148</th>\n",
       "      <td>0.99</td>\n",
       "      <td>0.00</td>\n",
       "      <td>1.000000e-02</td>\n",
       "      <td>1.195923</td>\n",
       "    </tr>\n",
       "    <tr>\n",
       "      <th>5149</th>\n",
       "      <td>0.99</td>\n",
       "      <td>0.01</td>\n",
       "      <td>8.673617e-18</td>\n",
       "      <td>1.201823</td>\n",
       "    </tr>\n",
       "    <tr>\n",
       "      <th>5150</th>\n",
       "      <td>1.00</td>\n",
       "      <td>0.00</td>\n",
       "      <td>0.000000e+00</td>\n",
       "      <td>1.202216</td>\n",
       "    </tr>\n",
       "  </tbody>\n",
       "</table>\n",
       "<p>5151 rows × 4 columns</p>\n",
       "</div>"
      ],
      "text/plain": [
       "         0     1             2      rmse\n",
       "0     0.00  0.00  1.000000e+00  0.838533\n",
       "1     0.00  0.01  9.900000e-01  0.838294\n",
       "2     0.00  0.02  9.800000e-01  0.838142\n",
       "3     0.00  0.03  9.700000e-01  0.838080\n",
       "4     0.00  0.04  9.600000e-01  0.838106\n",
       "...    ...   ...           ...       ...\n",
       "5146  0.98  0.01  1.000000e-02  1.195532\n",
       "5147  0.98  0.02  1.734723e-17  1.201435\n",
       "5148  0.99  0.00  1.000000e-02  1.195923\n",
       "5149  0.99  0.01  8.673617e-18  1.201823\n",
       "5150  1.00  0.00  0.000000e+00  1.202216\n",
       "\n",
       "[5151 rows x 4 columns]"
      ]
     },
     "execution_count": 42,
     "metadata": {},
     "output_type": "execute_result"
    }
   ],
   "source": [
    "results"
   ]
  },
  {
   "cell_type": "code",
   "execution_count": 54,
   "metadata": {},
   "outputs": [
    {
     "data": {
      "text/html": [
       "<div>\n",
       "<style scoped>\n",
       "    .dataframe tbody tr th:only-of-type {\n",
       "        vertical-align: middle;\n",
       "    }\n",
       "\n",
       "    .dataframe tbody tr th {\n",
       "        vertical-align: top;\n",
       "    }\n",
       "\n",
       "    .dataframe thead th {\n",
       "        text-align: right;\n",
       "    }\n",
       "</style>\n",
       "<table border=\"1\" class=\"dataframe\">\n",
       "  <thead>\n",
       "    <tr style=\"text-align: right;\">\n",
       "      <th></th>\n",
       "      <th>0</th>\n",
       "      <th>1</th>\n",
       "      <th>2</th>\n",
       "      <th>rmse</th>\n",
       "    </tr>\n",
       "  </thead>\n",
       "  <tbody>\n",
       "    <tr>\n",
       "      <th>0</th>\n",
       "      <td>0.00</td>\n",
       "      <td>0.00</td>\n",
       "      <td>1.00</td>\n",
       "      <td>0.838533</td>\n",
       "    </tr>\n",
       "    <tr>\n",
       "      <th>2450</th>\n",
       "      <td>0.28</td>\n",
       "      <td>0.00</td>\n",
       "      <td>0.72</td>\n",
       "      <td>0.868785</td>\n",
       "    </tr>\n",
       "    <tr>\n",
       "      <th>2523</th>\n",
       "      <td>0.29</td>\n",
       "      <td>0.00</td>\n",
       "      <td>0.71</td>\n",
       "      <td>0.871137</td>\n",
       "    </tr>\n",
       "    <tr>\n",
       "      <th>2595</th>\n",
       "      <td>0.30</td>\n",
       "      <td>0.00</td>\n",
       "      <td>0.70</td>\n",
       "      <td>0.873570</td>\n",
       "    </tr>\n",
       "    <tr>\n",
       "      <th>2666</th>\n",
       "      <td>0.31</td>\n",
       "      <td>0.00</td>\n",
       "      <td>0.69</td>\n",
       "      <td>0.876085</td>\n",
       "    </tr>\n",
       "    <tr>\n",
       "      <th>...</th>\n",
       "      <td>...</td>\n",
       "      <td>...</td>\n",
       "      <td>...</td>\n",
       "      <td>...</td>\n",
       "    </tr>\n",
       "    <tr>\n",
       "      <th>98</th>\n",
       "      <td>0.00</td>\n",
       "      <td>0.98</td>\n",
       "      <td>0.02</td>\n",
       "      <td>1.170142</td>\n",
       "    </tr>\n",
       "    <tr>\n",
       "      <th>299</th>\n",
       "      <td>0.02</td>\n",
       "      <td>0.98</td>\n",
       "      <td>0.00</td>\n",
       "      <td>1.182243</td>\n",
       "    </tr>\n",
       "    <tr>\n",
       "      <th>200</th>\n",
       "      <td>0.01</td>\n",
       "      <td>0.99</td>\n",
       "      <td>0.00</td>\n",
       "      <td>1.182234</td>\n",
       "    </tr>\n",
       "    <tr>\n",
       "      <th>99</th>\n",
       "      <td>0.00</td>\n",
       "      <td>0.99</td>\n",
       "      <td>0.01</td>\n",
       "      <td>1.176170</td>\n",
       "    </tr>\n",
       "    <tr>\n",
       "      <th>100</th>\n",
       "      <td>0.00</td>\n",
       "      <td>1.00</td>\n",
       "      <td>0.00</td>\n",
       "      <td>1.182230</td>\n",
       "    </tr>\n",
       "  </tbody>\n",
       "</table>\n",
       "<p>5151 rows × 4 columns</p>\n",
       "</div>"
      ],
      "text/plain": [
       "         0     1     2      rmse\n",
       "0     0.00  0.00  1.00  0.838533\n",
       "2450  0.28  0.00  0.72  0.868785\n",
       "2523  0.29  0.00  0.71  0.871137\n",
       "2595  0.30  0.00  0.70  0.873570\n",
       "2666  0.31  0.00  0.69  0.876085\n",
       "...    ...   ...   ...       ...\n",
       "98    0.00  0.98  0.02  1.170142\n",
       "299   0.02  0.98  0.00  1.182243\n",
       "200   0.01  0.99  0.00  1.182234\n",
       "99    0.00  0.99  0.01  1.176170\n",
       "100   0.00  1.00  0.00  1.182230\n",
       "\n",
       "[5151 rows x 4 columns]"
      ]
     },
     "execution_count": 54,
     "metadata": {},
     "output_type": "execute_result"
    }
   ],
   "source": [
    "results.sort_values(1)"
   ]
  },
  {
   "cell_type": "code",
   "execution_count": null,
   "metadata": {},
   "outputs": [],
   "source": []
  }
 ],
 "metadata": {
  "kernelspec": {
   "display_name": "Python 3",
   "language": "python",
   "name": "python3"
  },
  "language_info": {
   "codemirror_mode": {
    "name": "ipython",
    "version": 3
   },
   "file_extension": ".py",
   "mimetype": "text/x-python",
   "name": "python",
   "nbconvert_exporter": "python",
   "pygments_lexer": "ipython3",
   "version": "3.8.3"
  }
 },
 "nbformat": 4,
 "nbformat_minor": 4
}
