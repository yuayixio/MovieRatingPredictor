{
 "cells": [
  {
   "cell_type": "code",
   "execution_count": 4,
   "metadata": {},
   "outputs": [],
   "source": [
    "import pandas as pd\n",
    "import numpy as np"
   ]
  },
  {
   "cell_type": "code",
   "execution_count": 5,
   "metadata": {},
   "outputs": [],
   "source": [
    "omdb = pd.read_csv('../data/raw/omdb_0.csv')"
   ]
  },
  {
   "cell_type": "code",
   "execution_count": 8,
   "metadata": {},
   "outputs": [
    {
     "data": {
      "text/plain": [
       "Unnamed: 0                   0\n",
       "Title                        0\n",
       "Year                         0\n",
       "Rated                       42\n",
       "Released                     2\n",
       "Runtime                      0\n",
       "Genre                        0\n",
       "Director                     6\n",
       "Writer                       9\n",
       "Actors                       1\n",
       "Plot                         1\n",
       "Language                     0\n",
       "Country                      0\n",
       "Awards                     171\n",
       "Poster                       1\n",
       "Metascore                  462\n",
       "imdbRating                   0\n",
       "imdbVotes                    1\n",
       "imdbID                       0\n",
       "Type                         0\n",
       "DVD                        755\n",
       "BoxOffice                  900\n",
       "Production                 769\n",
       "Website                    899\n",
       "Response                     0\n",
       "Internet Movie Database      0\n",
       "Rotten Tomatoes             95\n",
       "Metacritic                 462\n",
       "totalSeasons               894\n",
       "Season                     898\n",
       "Episode                    898\n",
       "seriesID                   898\n",
       "dtype: int64"
      ]
     },
     "execution_count": 8,
     "metadata": {},
     "output_type": "execute_result"
    }
   ],
   "source": [
    "omdb.isna().sum()"
   ]
  },
  {
   "cell_type": "code",
   "execution_count": 9,
   "metadata": {},
   "outputs": [
    {
     "data": {
      "text/plain": [
       "(900, 32)"
      ]
     },
     "execution_count": 9,
     "metadata": {},
     "output_type": "execute_result"
    }
   ],
   "source": [
    "omdb.shape"
   ]
  },
  {
   "cell_type": "code",
   "execution_count": null,
   "metadata": {},
   "outputs": [],
   "source": []
  }
 ],
 "metadata": {
  "kernelspec": {
   "display_name": "Python 3",
   "language": "python",
   "name": "python3"
  },
  "language_info": {
   "codemirror_mode": {
    "name": "ipython",
    "version": 3
   },
   "file_extension": ".py",
   "mimetype": "text/x-python",
   "name": "python",
   "nbconvert_exporter": "python",
   "pygments_lexer": "ipython3",
   "version": "3.8.3"
  }
 },
 "nbformat": 4,
 "nbformat_minor": 4
}
